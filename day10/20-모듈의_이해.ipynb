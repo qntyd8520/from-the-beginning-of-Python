{
 "cells": [
  {
   "cell_type": "markdown",
   "metadata": {},
   "source": [
    "#### 모듈의 이해\n",
    "모듈 참조 기본"
   ]
  },
  {
   "cell_type": "code",
   "execution_count": 1,
   "metadata": {},
   "outputs": [
    {
     "name": "stdout",
     "output_type": "stream",
     "text": [
      "Hello Python\n",
      "7\n",
      "-1\n"
     ]
    }
   ],
   "source": [
    "import my_mod1\n",
    "\n",
    "# 참조한 파일에 정의된 변수,함수는 `파일이름.기능명` 형식으로 접근\n",
    "print(my_mod1.message)\n",
    "print(my_mod1.plus(3, 4))\n",
    "print(my_mod1.minus(3, 4))"
   ]
  },
  {
   "cell_type": "markdown",
   "metadata": {},
   "source": [
    "#### 참조하는모듈에 별칭 적용하기"
   ]
  },
  {
   "cell_type": "code",
   "execution_count": 2,
   "metadata": {},
   "outputs": [
    {
     "name": "stdout",
     "output_type": "stream",
     "text": [
      "Hello Python\n",
      "7\n",
      "-1\n"
     ]
    }
   ],
   "source": [
    "import my_mod1 as hello\n",
    "\n",
    "# 모듈에 포함된 기능들은 `별칭이름.기능명`형식으로 접근\n",
    "print(hello.message)\n",
    "print(hello.plus(3, 4))\n",
    "print(hello.minus(3, 4))"
   ]
  },
  {
   "cell_type": "markdown",
   "metadata": {},
   "source": [
    "#### 특정 기능만 지정하여 참조하기"
   ]
  },
  {
   "cell_type": "code",
   "execution_count": 3,
   "metadata": {},
   "outputs": [
    {
     "name": "stdout",
     "output_type": "stream",
     "text": [
      "Hello Python\n",
      "7\n"
     ]
    }
   ],
   "source": [
    "from my_mod1 import message\n",
    "from my_mod1 import plus\n",
    "\n",
    "# 골라서 가져온 기능들은 앞에 모듈이름을 적용하지 않고,\n",
    "# 직접 접근 가능하다.\n",
    "print(message)\n",
    "\n",
    "print(plus(3, 4))\n",
    "\n",
    "# minus 함수는 import 하지 않았으므로 사용 불가\n",
    "# print(minus(3, 4))"
   ]
  },
  {
   "cell_type": "markdown",
   "metadata": {},
   "source": [
    "#### 클래스 형태의 모듈 참조하기"
   ]
  },
  {
   "cell_type": "code",
   "execution_count": 4,
   "metadata": {},
   "outputs": [
    {
     "name": "stdout",
     "output_type": "stream",
     "text": [
      "------- 생성자가 실행되었습니다. --------\n",
      "이름: 파이썬학생 / 이메일: leekh4232@gmail.com\n"
     ]
    }
   ],
   "source": [
    "import my_mod2\n",
    "\n",
    "# my_mod2에 정의된 Member라는 클래스에 \"모듈이름.클래스이름\" 형식으로 접근\n",
    "# -> import된 클래스는 정의된 기능을 다른 변수에 부여해야 사용 가능. = 객체\n",
    "# -> 클래스에 생성자가 포함되어 있고 생성자가 파라미터를 갖는 경우\n",
    "#    객체 생성시에 생성자 파라미터를 전달해야 함.\n",
    "mem = my_mod2.Member('파이썬학생', 'leekh4232@gmail.com')\n",
    "mem.view_info()"
   ]
  },
  {
   "cell_type": "markdown",
   "metadata": {},
   "source": [
    "#### 모듈에 별칭 적용하기"
   ]
  },
  {
   "cell_type": "code",
   "execution_count": 5,
   "metadata": {},
   "outputs": [
    {
     "name": "stdout",
     "output_type": "stream",
     "text": [
      "------- 생성자가 실행되었습니다. --------\n",
      "이름: 파이썬학생 / 이메일: leekh4232@gmail.com\n"
     ]
    }
   ],
   "source": [
    "# my_mod2모듈에 user라는 별칭을 적용하여 import\n",
    "import my_mod2 as user\n",
    "\n",
    "mem = user.Member('파이썬학생', 'leekh4232@gmail.com')\n",
    "mem.view_info()"
   ]
  },
  {
   "cell_type": "markdown",
   "metadata": {},
   "source": [
    "#### 특정 기능만 참조하기"
   ]
  },
  {
   "cell_type": "code",
   "execution_count": 6,
   "metadata": {},
   "outputs": [
    {
     "name": "stdout",
     "output_type": "stream",
     "text": [
      "------- 생성자가 실행되었습니다. --------\n",
      "이름: 파이썬학생 / 이메일: leekh4232@gmail.com\n"
     ]
    }
   ],
   "source": [
    "# my_mod2 모듈에서 Member라는 이름의 기능만 지정해서 참조\n",
    "from my_mod2 import Member\n",
    "\n",
    "# from절로 특정 기능만 골라서 참조한 경우 파일이름이나 별칭 없이 적접 접근.\n",
    "# 참조된 기능이 클래스므로, 객체로 생성해야만 사용가능.\n",
    "mem = Member('파이썬학생', 'leekh4232@gmail.com')\n",
    "mem.view_info()"
   ]
  },
  {
   "cell_type": "markdown",
   "metadata": {},
   "source": [
    "#### 객체가 정의된 모듈 참조하기"
   ]
  },
  {
   "cell_type": "code",
   "execution_count": 7,
   "metadata": {},
   "outputs": [
    {
     "name": "stdout",
     "output_type": "stream",
     "text": [
      "45\n",
      "15\n"
     ]
    }
   ],
   "source": [
    "import my_mod3\n",
    "\n",
    "# 모듈안의 객체를 통해서 기능에 접근.\n",
    "print(my_mod3.my_calc.plus(30, 15))\n",
    "print(my_mod3.my_calc.minus(30, 15))"
   ]
  },
  {
   "cell_type": "markdown",
   "metadata": {},
   "source": [
    "#### 모듈에 별칭 적용하기"
   ]
  },
  {
   "cell_type": "code",
   "execution_count": 8,
   "metadata": {},
   "outputs": [
    {
     "name": "stdout",
     "output_type": "stream",
     "text": [
      "45\n",
      "15\n"
     ]
    }
   ],
   "source": [
    "import my_mod3 as helloworld\n",
    "\n",
    "print(helloworld.my_calc.plus(30, 15))\n",
    "print(helloworld.my_calc.minus(30, 15))"
   ]
  },
  {
   "cell_type": "markdown",
   "metadata": {},
   "source": [
    "#### 특정 기능만 지정하여 참조하기"
   ]
  },
  {
   "cell_type": "code",
   "execution_count": 9,
   "metadata": {},
   "outputs": [
    {
     "name": "stdout",
     "output_type": "stream",
     "text": [
      "45\n",
      "15\n"
     ]
    }
   ],
   "source": [
    "# 모듈에 정의된 특정 기능(여기서는 객체)만 골라서 참조\n",
    "from my_mod3 import my_calc\n",
    "\n",
    "print(my_calc.plus(30, 15))\n",
    "print(my_calc.minus(30, 15))"
   ]
  },
  {
   "cell_type": "markdown",
   "metadata": {},
   "source": [
    "#### 객체만 참조하고 별칭 부여하기"
   ]
  },
  {
   "cell_type": "code",
   "execution_count": 10,
   "metadata": {},
   "outputs": [
    {
     "name": "stdout",
     "output_type": "stream",
     "text": [
      "45\n",
      "15\n"
     ]
    }
   ],
   "source": [
    "from my_mod3 import my_calc as cl\n",
    "\n",
    "print(cl.plus(30, 15))\n",
    "print(cl.minus(30, 15))"
   ]
  },
  {
   "cell_type": "code",
   "execution_count": null,
   "metadata": {},
   "outputs": [],
   "source": []
  }
 ],
 "metadata": {
  "kernelspec": {
   "display_name": "Python 3 (ipykernel)",
   "language": "python",
   "name": "python3"
  },
  "language_info": {
   "codemirror_mode": {
    "name": "ipython",
    "version": 3
   },
   "file_extension": ".py",
   "mimetype": "text/x-python",
   "name": "python",
   "nbconvert_exporter": "python",
   "pygments_lexer": "ipython3",
   "version": "3.9.5"
  }
 },
 "nbformat": 4,
 "nbformat_minor": 4
}
