{
 "cells": [
  {
   "cell_type": "markdown",
   "metadata": {},
   "source": [
    "#### 내장모듈\n",
    "시스템 관련 모듈 참조하기"
   ]
  },
  {
   "cell_type": "code",
   "execution_count": 1,
   "metadata": {},
   "outputs": [],
   "source": [
    "# 모듈 참조\n",
    "import sys      # 현재 시스템의 정보를 제공하는 모듈\n",
    "import os       # 운영체제의 기능에 접근할 수 있는 모듈"
   ]
  },
  {
   "cell_type": "markdown",
   "metadata": {},
   "source": [
    "#### 현재 운영체제 이름 얻기\n",
    "\n",
    "윈도우=`win32`, Mac=`darwin`, Linux=`linux1 혹은 linux2`로 표시된다."
   ]
  },
  {
   "cell_type": "code",
   "execution_count": 2,
   "metadata": {},
   "outputs": [
    {
     "data": {
      "text/plain": [
       "'win32'"
      ]
     },
     "execution_count": 2,
     "metadata": {},
     "output_type": "execute_result"
    }
   ],
   "source": [
    "sys.platform"
   ]
  },
  {
   "cell_type": "markdown",
   "metadata": {},
   "source": [
    "#### 현재 작업중인 폴더(Current Wording Directory) 위치 확인"
   ]
  },
  {
   "cell_type": "code",
   "execution_count": 3,
   "metadata": {},
   "outputs": [
    {
     "data": {
      "text/plain": [
       "'D:\\\\EZEN08\\\\Python\\\\from-the-beginning-of-Python\\\\day10'"
      ]
     },
     "execution_count": 3,
     "metadata": {},
     "output_type": "execute_result"
    }
   ],
   "source": [
    "# 소스파일이 위치한 폴더.\n",
    "os.getcwd()"
   ]
  },
  {
   "cell_type": "markdown",
   "metadata": {},
   "source": [
    "#### 터미널 명령어 실행하기\n",
    "\n",
    "`os.system(명령어)` 는 터미널 명령어를 파이썬을 통해서 실행할 수 있다.\n",
    "\n",
    "- 윈도우에서 `explorer 폴더경로`는 해당 경로에 대한 폴더창을 여는 명령어이다.\n",
    "\n",
    "- 맥이나 리눅스의 경우 `open 폴더경로` 명령어가 같은 역할을 수행한다."
   ]
  },
  {
   "cell_type": "code",
   "execution_count": 4,
   "metadata": {},
   "outputs": [
    {
     "data": {
      "text/plain": [
       "1"
      ]
     },
     "execution_count": 4,
     "metadata": {},
     "output_type": "execute_result"
    }
   ],
   "source": [
    "# 현재 폴더 위치\n",
    "path = os.getcwd()\n",
    "\n",
    "# 운영체제 종류에 따른 분기\n",
    "if sys.platform == 'win32':\n",
    "    command = 'explorer %s' % path\n",
    "else:\n",
    "    command = 'open %s' % path\n",
    "\n",
    "# 지정된 경로의 폴더가 열림\n",
    "os.system(command)"
   ]
  },
  {
   "cell_type": "markdown",
   "metadata": {},
   "source": [
    "#### 지정된 경로의 하위 항목 조회"
   ]
  },
  {
   "cell_type": "code",
   "execution_count": 5,
   "metadata": {},
   "outputs": [
    {
     "name": "stdout",
     "output_type": "stream",
     "text": [
      "['.ipynb_checkpoints', '20-모듈의_이해.ipynb', '21-내장모듈.ipynb', '22-날짜처리.ipynb', 'my_mod1.py', 'my_mod2.py', 'my_mod3.py', '__pycache__']\n"
     ]
    }
   ],
   "source": [
    "# 현재 폴더 내의 하위 항목들의 이름을 리스트로 리턴받음\n",
    "# -> \"./\" 혹은 \".\" 은 현재 폴더라는 의미\n",
    "# -> \"../ 는 상위 폴더라는 의미\"\n",
    "ls = os.listdir('./')\n",
    "print(ls)"
   ]
  },
  {
   "cell_type": "markdown",
   "metadata": {},
   "source": [
    "#### 경로 문자열 관련 기능"
   ]
  },
  {
   "cell_type": "code",
   "execution_count": 6,
   "metadata": {},
   "outputs": [
    {
     "name": "stdout",
     "output_type": "stream",
     "text": [
      "False\n"
     ]
    }
   ],
   "source": [
    "# 특정 폴더나 파일이 존재하는지 확인 -> 상대경로일 경우 현재 소스파일 기준\n",
    "k = os.path.exists('./hello')\n",
    "print(k)"
   ]
  },
  {
   "cell_type": "code",
   "execution_count": 7,
   "metadata": {},
   "outputs": [
    {
     "name": "stdout",
     "output_type": "stream",
     "text": [
      "D:\\EZEN08\\Python\\from-the-beginning-of-Python\\day10\\hello\n"
     ]
    }
   ],
   "source": [
    "# 절대경로 확인 -> 존재하지 않더라도 경로값은 확인 가능.\n",
    "print( os.path.abspath('./hello') )"
   ]
  },
  {
   "cell_type": "markdown",
   "metadata": {},
   "source": [
    "#### 폴더의 생성과 삭제"
   ]
  },
  {
   "cell_type": "code",
   "execution_count": 8,
   "metadata": {},
   "outputs": [
    {
     "name": "stdout",
     "output_type": "stream",
     "text": [
      "hello 폴더를 생성했습니다.\n"
     ]
    }
   ],
   "source": [
    "if os.path.exists('./hello') == False:\n",
    "    # 없다면 생성\n",
    "    os.mkdir('./hello')\n",
    "    print('hello 폴더를 생성했습니다.')\n",
    "else:\n",
    "    # 있다면 삭제 --> 빈 폴더만 삭제가능\n",
    "    os.rmdir('./hello')\n",
    "    print('hello 폴더를 삭제했습니다.')"
   ]
  },
  {
   "cell_type": "markdown",
   "metadata": {},
   "source": [
    "#### 파일이나 폴더 목록을 검색하기 위한 모듈 참조"
   ]
  },
  {
   "cell_type": "code",
   "execution_count": 9,
   "metadata": {},
   "outputs": [],
   "source": [
    "# 모듈 참조하기\n",
    "import glob as gl"
   ]
  },
  {
   "cell_type": "markdown",
   "metadata": {},
   "source": [
    "#### 현재 폴더의 모든 하위 요소들 조회"
   ]
  },
  {
   "cell_type": "code",
   "execution_count": 10,
   "metadata": {},
   "outputs": [
    {
     "name": "stdout",
     "output_type": "stream",
     "text": [
      "['20-모듈의_이해.ipynb', '21-내장모듈.ipynb', '22-날짜처리.ipynb', 'hello', 'my_mod1.py', 'my_mod2.py', 'my_mod3.py', '__pycache__']\n"
     ]
    }
   ],
   "source": [
    "ls = gl.glob('*')\n",
    "print(ls)"
   ]
  },
  {
   "cell_type": "markdown",
   "metadata": {},
   "source": [
    "#### 현재 폴더에서 \".py\" 로 끝나는 모든 요소들 조회"
   ]
  },
  {
   "cell_type": "code",
   "execution_count": 11,
   "metadata": {},
   "outputs": [
    {
     "name": "stdout",
     "output_type": "stream",
     "text": [
      "['my_mod1.py', 'my_mod2.py', 'my_mod3.py']\n"
     ]
    }
   ],
   "source": [
    "ls = gl.glob('*.py')\n",
    "print(ls)"
   ]
  },
  {
   "cell_type": "markdown",
   "metadata": {},
   "source": [
    "#### 현재 폴더에서 \"5\"를 포함하는 파일 조회"
   ]
  },
  {
   "cell_type": "code",
   "execution_count": 12,
   "metadata": {},
   "outputs": [
    {
     "name": "stdout",
     "output_type": "stream",
     "text": [
      "[]\n"
     ]
    }
   ],
   "source": [
    "ls = gl.glob('*5*')\n",
    "print(ls)"
   ]
  },
  {
   "cell_type": "markdown",
   "metadata": {},
   "source": [
    "#### 폴더 복사, 삭제 작업"
   ]
  },
  {
   "cell_type": "code",
   "execution_count": 13,
   "metadata": {},
   "outputs": [
    {
     "name": "stdout",
     "output_type": "stream",
     "text": [
      "python 폴더와 하위 폴더들을 생성 했습니다.\n",
      "python 폴더를 python1로 이동 했습니다.\n",
      "python1 폴더를 python2로 복사 했습니다.\n"
     ]
    }
   ],
   "source": [
    "import shutil   # 파일, 폴더 관련 작업에 확장된 기능을 제공\n",
    "\n",
    "# 현재 작업 위치에서 \"python1\" 이라는 이름의 폴더와 \"python2\"라는 폴더가 없다면?\n",
    "if os.path.exists('python1') == False and os.path.exists('python2') == False:\n",
    "    # 순환적으로 폴더를 생성함\n",
    "    # -> exist_ok=True 옵션은 이미 존재하더라도 에러 발생 안함\n",
    "    os.makedirs('python/test/hello/world', exist_ok=True)\n",
    "    print('python 폴더와 하위 폴더들을 생성 했습니다.')\n",
    "\n",
    "    # 파일의 이동 (같은 위치에서 이름만 변경하는 기능도 겸함)\n",
    "    # -> 이미 대상이 존재할 경우 에러이므로 사전에 존재여부 검사 필요함\n",
    "    if os.path.exists('python1') == False:\n",
    "        shutil.move('python', 'python1')\n",
    "        print('python 폴더를 python1로 이동 했습니다.')\n",
    "\n",
    "    # 폴더 복사\n",
    "    # -> 이미 대상이 존재할 경우 에러이므로 사전에 존재여부 검사 필요함\n",
    "    if os.path.exists('python2') == False:\n",
    "        shutil.copytree('python1', 'python2')\n",
    "        print('python1 폴더를 python2로 복사 했습니다.')\n",
    "\n",
    "# 그렇지 않다면?\n",
    "else:\n",
    "    # 비어있지 않은 폴더도 강제 삭제 -> 존재하지 않는 폴더인 경우 에러\n",
    "    shutil.rmtree('python1')\n",
    "    shutil.rmtree('python2')\n",
    "    print('python1, python2 폴더가 삭제되었습니다.')"
   ]
  },
  {
   "cell_type": "markdown",
   "metadata": {},
   "source": [
    "#### 파일 복사, 삭제 작업"
   ]
  },
  {
   "cell_type": "code",
   "execution_count": 14,
   "metadata": {},
   "outputs": [
    {
     "name": "stdout",
     "output_type": "stream",
     "text": [
      "hello.txt 파일을 생성했습니다.\n",
      "hello.txt가 world.txt로 복사되었습니다.\n"
     ]
    }
   ],
   "source": [
    "# os모듈 내의 path 객체가 갖는 exsits() 함수를 사용.\n",
    "# -> \"hello.txt\"라는 파일이 존재하지 않는다면?\n",
    "if os.path.exists('hello.txt') == False:\n",
    "    # 테스트용 파일 생성\n",
    "    with open(\"hello.txt\", \"w\", encoding=\"utf-8\") as f:\n",
    "        f.write(\"Life is too short, you need python\")\n",
    "        print('hello.txt 파일을 생성했습니다.')\n",
    "\n",
    "    # 생성한 파일을 복사함 -> 이미 존재할 경우 덮어씀\n",
    "    shutil.copy('hello.txt', 'world.txt')\n",
    "    print('hello.txt가 world.txt로 복사되었습니다.')\n",
    "\n",
    "# 그렇지 않다면?\n",
    "# -> \"hello.txt\"라는 파일이 존재 한다면?\n",
    "else:\n",
    "    os.remove('hello.txt')\n",
    "    print('hello.txt가 삭제되었습니다.')\n",
    "    os.remove('world.txt')\n",
    "    print('world.txt가 삭제되었습니다.')"
   ]
  },
  {
   "cell_type": "code",
   "execution_count": null,
   "metadata": {},
   "outputs": [],
   "source": []
  }
 ],
 "metadata": {
  "kernelspec": {
   "display_name": "Python 3 (ipykernel)",
   "language": "python",
   "name": "python3"
  },
  "language_info": {
   "codemirror_mode": {
    "name": "ipython",
    "version": 3
   },
   "file_extension": ".py",
   "mimetype": "text/x-python",
   "name": "python",
   "nbconvert_exporter": "python",
   "pygments_lexer": "ipython3",
   "version": "3.9.5"
  }
 },
 "nbformat": 4,
 "nbformat_minor": 4
}
