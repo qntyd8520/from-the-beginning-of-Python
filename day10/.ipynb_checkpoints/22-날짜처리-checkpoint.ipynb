{
 "cells": [
  {
   "cell_type": "markdown",
   "metadata": {},
   "source": [
    "#### 날짜 처리\n",
    "날짜 처리 모듈 참조"
   ]
  },
  {
   "cell_type": "code",
   "execution_count": 1,
   "metadata": {},
   "outputs": [],
   "source": [
    "# 날짜 처리 모듈(datetime)에 dt라는 별칭 적용\n",
    "import datetime as dt"
   ]
  },
  {
   "cell_type": "markdown",
   "metadata": {},
   "source": [
    "#### 현재 시각을 표현하는 객체 생성"
   ]
  },
  {
   "cell_type": "code",
   "execution_count": 2,
   "metadata": {},
   "outputs": [
    {
     "name": "stdout",
     "output_type": "stream",
     "text": [
      "2021-07-14 09:11:05.977721\n"
     ]
    }
   ],
   "source": [
    "# 현재시각을 갖는 객체 가져오기\n",
    "now_time = dt.datetime.now()\n",
    "print(now_time)"
   ]
  },
  {
   "cell_type": "markdown",
   "metadata": {},
   "source": [
    "#### 현재시각 객체에서 원하는 값만 추출하기"
   ]
  },
  {
   "cell_type": "code",
   "execution_count": 3,
   "metadata": {},
   "outputs": [
    {
     "name": "stdout",
     "output_type": "stream",
     "text": [
      "오늘은 2021년 7월 14일 입니다.\n"
     ]
    }
   ],
   "source": [
    "msg = \"오늘은 %d년 %d월 %d일 입니다.\"\n",
    "print(msg % (now_time.year, now_time.month, now_time.day))"
   ]
  },
  {
   "cell_type": "code",
   "execution_count": 4,
   "metadata": {},
   "outputs": [
    {
     "name": "stdout",
     "output_type": "stream",
     "text": [
      "지금은 9시 11분 5초 입니다.\n"
     ]
    }
   ],
   "source": [
    "msg = \"지금은 %d시 %d분 %d초 입니다.\"\n",
    "print(msg % (now_time.hour, now_time.minute, now_time.second))"
   ]
  },
  {
   "cell_type": "markdown",
   "metadata": {},
   "source": [
    "#### 현재시각 객체에서 요일 반환\n",
    "\n",
    "0:월, 1:화, 2:수, 3:목, 4:금, 5:토, 6:일"
   ]
  },
  {
   "cell_type": "code",
   "execution_count": 5,
   "metadata": {},
   "outputs": [
    {
     "name": "stdout",
     "output_type": "stream",
     "text": [
      "2\n"
     ]
    }
   ],
   "source": [
    "d = now_time.weekday()\n",
    "print(d)"
   ]
  },
  {
   "cell_type": "markdown",
   "metadata": {},
   "source": [
    "#### 리턴된 요일 값을 튜플의 인덱스로 활용하여 요일이름 출력"
   ]
  },
  {
   "cell_type": "code",
   "execution_count": 6,
   "metadata": {},
   "outputs": [
    {
     "name": "stdout",
     "output_type": "stream",
     "text": [
      "수\n"
     ]
    }
   ],
   "source": [
    "days = (\"월\", \"화\", \"수\", \"목\", \"금\", \"토\", \"일\")\n",
    "print(days[d])"
   ]
  },
  {
   "cell_type": "markdown",
   "metadata": {},
   "source": [
    "#### 출력형식 만들기\n",
    "\n",
    "- %Y : 앞의 빈자리를 0으로 채우는 4자리 연도 숫자\n",
    "- %y : 앞의 빈자리를 0으로 채우는 2자리 연도 숫자\n",
    "- %m : 앞의 빈자리를 0으로 채우는 2자리 월 숫자\n",
    "- %d : 앞의 빈자리를 0으로 채우는 2자리 일 숫자\n",
    "- %H : 앞의 빈자리를 0으로 채우는 24시간 형식 2자리 시간 숫자\n",
    "- %M : 앞의 빈자리를 0으로 채우는 2자리 분 숫자\n",
    "- %S : 앞의 빈자리를 0으로 채우는 2자리 초 숫자"
   ]
  },
  {
   "cell_type": "code",
   "execution_count": 7,
   "metadata": {},
   "outputs": [
    {
     "name": "stdout",
     "output_type": "stream",
     "text": [
      "21/07/14 09:11:05\n"
     ]
    }
   ],
   "source": [
    "print(now_time.strftime(\"%y/%m/%d %H:%M:%S\"))"
   ]
  },
  {
   "cell_type": "markdown",
   "metadata": {},
   "source": [
    "#### 현재 시각이 아닌 특정 시각을 저장하는 날짜객체 생성하기\n",
    "\n",
    "시간 지정시 24시간제로 지정해야 함\n",
    "\n",
    "존재하지 않는 월,날짜,시간 값들을 지정할 경우 에러 발생"
   ]
  },
  {
   "cell_type": "code",
   "execution_count": 8,
   "metadata": {},
   "outputs": [
    {
     "name": "stdout",
     "output_type": "stream",
     "text": [
      "18/08/30 13:26:55\n"
     ]
    }
   ],
   "source": [
    "someday = dt.datetime(2018, 8, 30, 13, 26, 55)\n",
    "day_str = someday.strftime(\"%y/%m/%d %H:%M:%S\")\n",
    "print(day_str)"
   ]
  },
  {
   "cell_type": "markdown",
   "metadata": {},
   "source": [
    "#### 날짜 형식의 문자열을 날자객체로 변환하기"
   ]
  },
  {
   "cell_type": "code",
   "execution_count": 9,
   "metadata": {},
   "outputs": [
    {
     "name": "stdout",
     "output_type": "stream",
     "text": [
      "17/01/02 14:44:00\n"
     ]
    }
   ],
   "source": [
    "date_str = \"2017년 01월 02일 14시 44분\"\n",
    "# 문자열에 대한 날짜 형식을 지정하면 문자열에서 날짜 성분을 추출하여 객체를 생성한다.\n",
    "oldday = dt.datetime.strptime(date_str, \"%Y년 %m월 %d일 %H시 %M분\")\n",
    "print(oldday.strftime(\"%y/%m/%d %H:%M:%S\"))"
   ]
  },
  {
   "cell_type": "markdown",
   "metadata": {},
   "source": [
    "#### 날짜객체에서 특정 값 변경하기\n",
    "\n",
    "`단위=값` 형식으로 원하는 만큼 지정 가능함."
   ]
  },
  {
   "cell_type": "code",
   "execution_count": 10,
   "metadata": {},
   "outputs": [
    {
     "name": "stdout",
     "output_type": "stream",
     "text": [
      "18/01/16 15:44:00\n"
     ]
    }
   ],
   "source": [
    "change_date = oldday.replace(year=2018, day=16, hour=15)\n",
    "print(change_date.strftime(\"%y/%m/%d %H:%M:%S\"))"
   ]
  },
  {
   "cell_type": "markdown",
   "metadata": {},
   "source": [
    "#### 두 날짜 객체 사이의 간격 계산"
   ]
  },
  {
   "cell_type": "code",
   "execution_count": 11,
   "metadata": {},
   "outputs": [
    {
     "name": "stdout",
     "output_type": "stream",
     "text": [
      "170 days, 14:48:53.842267\n"
     ]
    }
   ],
   "source": [
    "# 두 날짜 만들기\n",
    "# -> 오늘날짜\n",
    "dt1 = dt.datetime.now()\n",
    "# -> 내년 1월1일 자정\n",
    "dt2 = dt.datetime(dt1.year+1, 1, 1, 0, 0, 0)\n",
    "\n",
    "# 두 날짜의 차를 구한 결과는 timedelta 객체형식이 된다.\n",
    "# -> datetime 모듈에 정의되어 있는 객체형식임.\n",
    "td = dt2 - dt1\n",
    "# -> ex) 25 days, 21:04:12.386733\n",
    "print(td)"
   ]
  },
  {
   "cell_type": "markdown",
   "metadata": {},
   "source": [
    "#### timedelta 객체에 내장된 변수(=속성)"
   ]
  },
  {
   "cell_type": "code",
   "execution_count": 12,
   "metadata": {},
   "outputs": [
    {
     "name": "stdout",
     "output_type": "stream",
     "text": [
      "170\n",
      "53333\n",
      "올해는 170일 남았습니다.\n"
     ]
    }
   ],
   "source": [
    "# 날짜만 추출\n",
    "print(td.days)      # ex) 245일\n",
    "# 날짜를 제외하고 시간,분,초 단위를 모두 초로 합산한 값.\n",
    "print(td.seconds)   # ex) 9800초\n",
    "print(\"올해는 %d일 남았습니다.\" % td.days)"
   ]
  },
  {
   "cell_type": "markdown",
   "metadata": {},
   "source": [
    "#### 모든 속성을 초단위로 모아서 반환\n",
    "\n",
    "245일에 해당하는 초를 구한 후 9800초를 더한 결과를 반환"
   ]
  },
  {
   "cell_type": "code",
   "execution_count": 13,
   "metadata": {},
   "outputs": [
    {
     "name": "stdout",
     "output_type": "stream",
     "text": [
      "14741333.842267\n"
     ]
    }
   ],
   "source": [
    "result = td.total_seconds()\n",
    "print(result)"
   ]
  },
  {
   "cell_type": "markdown",
   "metadata": {},
   "source": [
    "#### 100일하고 1시간 후의 날짜 계산하기\n",
    "\n",
    "계산할 단위 날짜를 의미하는 타임델타 객체를 직접 생성하여 사용한다."
   ]
  },
  {
   "cell_type": "code",
   "execution_count": 14,
   "metadata": {},
   "outputs": [
    {
     "name": "stdout",
     "output_type": "stream",
     "text": [
      "2021-10-22 10:11:06\n"
     ]
    }
   ],
   "source": [
    "# timedelta 객체 만들기(더하거나 뺄 값) --> 100일+3600초\n",
    "d = dt.timedelta(days=100, seconds=3600)\n",
    "\n",
    "# 특정시각(혹은 현재시각)에 timedelta 객체를 더해 연산결과를 얻을 수 있다.\n",
    "now_time = dt.datetime.now()\n",
    "\n",
    "# 연산 결과는 datetime 객체가 된다.\n",
    "after_time = now_time + d\n",
    "\n",
    "print(after_time.strftime(\"%Y-%m-%d %H:%M:%S\"))"
   ]
  },
  {
   "cell_type": "code",
   "execution_count": null,
   "metadata": {},
   "outputs": [],
   "source": []
  }
 ],
 "metadata": {
  "kernelspec": {
   "display_name": "Python 3 (ipykernel)",
   "language": "python",
   "name": "python3"
  },
  "language_info": {
   "codemirror_mode": {
    "name": "ipython",
    "version": 3
   },
   "file_extension": ".py",
   "mimetype": "text/x-python",
   "name": "python",
   "nbconvert_exporter": "python",
   "pygments_lexer": "ipython3",
   "version": "3.9.5"
  }
 },
 "nbformat": 4,
 "nbformat_minor": 4
}
