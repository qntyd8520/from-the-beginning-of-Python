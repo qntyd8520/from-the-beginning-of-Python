{
 "cells": [
  {
   "cell_type": "markdown",
   "metadata": {},
   "source": [
    "#### 함수의 정의\n",
    "\n",
    "자주 사용하는 명령어들을 그룹화 하여 코드를 재사용하는 기법\n",
    "\n",
    "함수를 정의하는 것 만으로는 아무런 동작도 하지 않는다."
   ]
  },
  {
   "cell_type": "code",
   "execution_count": 1,
   "metadata": {},
   "outputs": [],
   "source": [
    "def say_hello():\n",
    "    print(\"Hello Python\")\n",
    "    print(\"안녕 파이썬\")"
   ]
  },
  {
   "cell_type": "markdown",
   "metadata": {},
   "source": [
    "#### 정의한 함수 호출하기\n",
    "\n",
    "say_hello()라는 명령에 그룹화 된 두 개의 출력문을 실행한다."
   ]
  },
  {
   "cell_type": "code",
   "execution_count": 2,
   "metadata": {},
   "outputs": [
    {
     "name": "stdout",
     "output_type": "stream",
     "text": [
      "Hello Python\n",
      "안녕 파이썬\n",
      "Hello Python\n",
      "안녕 파이썬\n"
     ]
    }
   ],
   "source": [
    "say_hello()\n",
    "say_hello()"
   ]
  },
  {
   "cell_type": "markdown",
   "metadata": {},
   "source": [
    "#### 파라미터(매개변수)를 갖는 함수 정의\n",
    "\n",
    "함수가 실행되는데 필요한 조건값."
   ]
  },
  {
   "cell_type": "code",
   "execution_count": 3,
   "metadata": {},
   "outputs": [],
   "source": [
    "def f(x):\n",
    "    y = x + 1\n",
    "    tpl = \"f({0}) => {0} + 1 = {1}\"\n",
    "    print(tpl.format(x, y))"
   ]
  },
  {
   "cell_type": "markdown",
   "metadata": {},
   "source": [
    "#### 파라미터를 갖는 함수 호출하기\n",
    "\n",
    "매개변수가 정의된 함수를 호출할 경우 해당 값을 전달해야 한다.\n",
    "\n",
    "전달하지 않을 경우 에러발생."
   ]
  },
  {
   "cell_type": "code",
   "execution_count": 4,
   "metadata": {},
   "outputs": [
    {
     "name": "stdout",
     "output_type": "stream",
     "text": [
      "f(2) => 2 + 1 = 3\n"
     ]
    }
   ],
   "source": [
    "f(2)"
   ]
  },
  {
   "cell_type": "code",
   "execution_count": 5,
   "metadata": {},
   "outputs": [
    {
     "name": "stdout",
     "output_type": "stream",
     "text": [
      "f(5) => 5 + 1 = 6\n"
     ]
    }
   ],
   "source": [
    "f(5)"
   ]
  },
  {
   "cell_type": "markdown",
   "metadata": {},
   "source": [
    "#### 여러 개의 파라미터를 갖는 함수 정의\n",
    "\n",
    "파라미터는 필요한 만큼 콤마로 구분하여 정의할 수 있다.\n",
    "\n",
    "다른 함수와 동일한 이름의 함수를 정의할 경우 앞서 정의된 함수가 무시된다."
   ]
  },
  {
   "cell_type": "code",
   "execution_count": 6,
   "metadata": {},
   "outputs": [],
   "source": [
    "def hello(x, y):\n",
    "    z = x + y\n",
    "    tpl = \"hello({0},{1}) => {0} + {1} = {2}\"\n",
    "    print(tpl.format(x, y, z))"
   ]
  },
  {
   "cell_type": "markdown",
   "metadata": {},
   "source": [
    "#### 다중 파라미터를 갖는 함수 호출"
   ]
  },
  {
   "cell_type": "code",
   "execution_count": 7,
   "metadata": {},
   "outputs": [
    {
     "name": "stdout",
     "output_type": "stream",
     "text": [
      "hello(2,1) => 2 + 1 = 3\n"
     ]
    }
   ],
   "source": [
    "hello(2, 1)"
   ]
  },
  {
   "cell_type": "code",
   "execution_count": 8,
   "metadata": {},
   "outputs": [
    {
     "name": "stdout",
     "output_type": "stream",
     "text": [
      "hello(5,3) => 5 + 3 = 8\n"
     ]
    }
   ],
   "source": [
    "hello(5, 3)"
   ]
  },
  {
   "cell_type": "markdown",
   "metadata": {},
   "source": [
    "#### 파라미터에 기본값 설정하기\n",
    "\n",
    "뒤에서부터 설정 가능함.\n",
    "\n",
    "기본값이 설정된 파라미터는 호출시에 값의 전달을 생략할 수 있다."
   ]
  },
  {
   "cell_type": "code",
   "execution_count": 9,
   "metadata": {},
   "outputs": [],
   "source": [
    "def sum1(x, y, z=0):\n",
    "    tpl = \"sum({0} + {1} + {2}) -> {0} + {1} + {2} = {3}\"\n",
    "    print(tpl.format(x, y, z, x+y+z))"
   ]
  },
  {
   "cell_type": "markdown",
   "metadata": {},
   "source": [
    "#### 기본값을 갖는 파라미터가 정의된 함수의 호출"
   ]
  },
  {
   "cell_type": "code",
   "execution_count": 10,
   "metadata": {},
   "outputs": [
    {
     "name": "stdout",
     "output_type": "stream",
     "text": [
      "sum(1 + 2 + 3) -> 1 + 2 + 3 = 6\n"
     ]
    }
   ],
   "source": [
    "# 모든 파라미터값을 전달하며 함수 호출\n",
    "sum1(1, 2, 3)"
   ]
  },
  {
   "cell_type": "code",
   "execution_count": 11,
   "metadata": {},
   "outputs": [
    {
     "name": "stdout",
     "output_type": "stream",
     "text": [
      "sum(10 + 20 + 0) -> 10 + 20 + 0 = 30\n"
     ]
    }
   ],
   "source": [
    "# 초기값이 설정된 파라미터는 호출시에 생략 가능함.\n",
    "# -> 생략된 파라미터는 초기값으로 설정된다.\n",
    "sum1(10, 20)"
   ]
  },
  {
   "cell_type": "code",
   "execution_count": 12,
   "metadata": {},
   "outputs": [
    {
     "name": "stdout",
     "output_type": "stream",
     "text": [
      "sum(30 + 20 + 10) -> 30 + 20 + 10 = 60\n"
     ]
    }
   ],
   "source": [
    "# 파라미터 이름을 지정한 호출\n",
    "# -> 파라미터 전달 순서가 무시된다.\n",
    "sum1(z=10, y=20, x=30)"
   ]
  },
  {
   "cell_type": "code",
   "execution_count": 13,
   "metadata": {},
   "outputs": [
    {
     "name": "stdout",
     "output_type": "stream",
     "text": [
      "sum(30 + 20 + 0) -> 30 + 20 + 0 = 50\n"
     ]
    }
   ],
   "source": [
    "# -> 기본값이 없는 파라미터는 생략할 수 없다.\n",
    "sum1(y=20, x=30)"
   ]
  },
  {
   "cell_type": "markdown",
   "metadata": {},
   "source": [
    "#### 리턴값을 갖는 함수 정의"
   ]
  },
  {
   "cell_type": "code",
   "execution_count": 14,
   "metadata": {},
   "outputs": [],
   "source": [
    "def plus(x, y):\n",
    "    z = x + y\n",
    "    # 자신이 호출된 위치로 값을 되돌려준다.\n",
    "    return z"
   ]
  },
  {
   "cell_type": "markdown",
   "metadata": {},
   "source": [
    "#### 함수의 리턴값 활용하기"
   ]
  },
  {
   "cell_type": "code",
   "execution_count": 15,
   "metadata": {},
   "outputs": [
    {
     "name": "stdout",
     "output_type": "stream",
     "text": [
      "30\n"
     ]
    }
   ],
   "source": [
    "# 리턴값을 다른 변수에 할당하기\n",
    "a = plus(10, 20)\n",
    "print(a)"
   ]
  },
  {
   "cell_type": "code",
   "execution_count": 16,
   "metadata": {},
   "outputs": [
    {
     "name": "stdout",
     "output_type": "stream",
     "text": [
      "300\n"
     ]
    }
   ],
   "source": [
    "# 리턴값을 갖는 함수는 그 결과를 직접 출력할 수 있다.\n",
    "print( plus(100, 200) )"
   ]
  },
  {
   "cell_type": "code",
   "execution_count": 17,
   "metadata": {},
   "outputs": [
    {
     "name": "stdout",
     "output_type": "stream",
     "text": [
      "112\n"
     ]
    }
   ],
   "source": [
    "# 리턴값을 갖는 함수는 그 결과를 다른 연산에 활용할 수 있다.\n",
    "b = plus(5, 7) + 100\n",
    "print(b)"
   ]
  },
  {
   "cell_type": "markdown",
   "metadata": {},
   "source": [
    "#### 리턴문의 특성"
   ]
  },
  {
   "cell_type": "code",
   "execution_count": 18,
   "metadata": {},
   "outputs": [],
   "source": [
    "# return문을 중간에 만나는 경우 그 즉시 수행을 종료한다.\n",
    "def foo(x, y):\n",
    "    if x < 10 or y < 10:\n",
    "        return 0\n",
    "\n",
    "    z = x + y\n",
    "    return z"
   ]
  },
  {
   "cell_type": "code",
   "execution_count": 19,
   "metadata": {},
   "outputs": [
    {
     "name": "stdout",
     "output_type": "stream",
     "text": [
      "300\n"
     ]
    }
   ],
   "source": [
    "# 26라인의 조건이 거짓이 되므로 27라인은 수행되지 않는다.\n",
    "print( foo(100, 200) )"
   ]
  },
  {
   "cell_type": "code",
   "execution_count": 20,
   "metadata": {},
   "outputs": [
    {
     "name": "stdout",
     "output_type": "stream",
     "text": [
      "0\n"
     ]
    }
   ],
   "source": [
    "# 26라인이 참이 되므로 27라인이 수행된다.\n",
    "# 27라인의 return문에 의해 함수가 종료되므로 \n",
    "# 29,30라인은 수행되지 않는다.\n",
    "print( foo(1, 2) )"
   ]
  },
  {
   "cell_type": "markdown",
   "metadata": {},
   "source": [
    "#### 함수의 활용 예시"
   ]
  },
  {
   "cell_type": "code",
   "execution_count": 21,
   "metadata": {},
   "outputs": [],
   "source": [
    "# 단순히 실행을 종료할 목적이라면 return키워드만 사용 가능\n",
    "def id_check(user_id):\n",
    "    # 기존에 가입되어 있는 회원들의 아이디.\n",
    "    member_list = ['user1', 'user2', 'user3']\n",
    "\n",
    "    # 만약 user_id가 값이 없다면 처리중단.\n",
    "    if not user_id:\n",
    "        return\n",
    "\n",
    "    # 만약 user_id의 값이 member_list에 속해 있다면?\n",
    "    if user_id in member_list:\n",
    "        print(\"사용할 수 없는 아이디 입니다.\")\n",
    "    else:\n",
    "        print(\"사용 가능한 아이디 입니다.\")"
   ]
  },
  {
   "cell_type": "code",
   "execution_count": 22,
   "metadata": {},
   "outputs": [],
   "source": [
    "id_check(\"\")        # 아무것도 출력안됨"
   ]
  },
  {
   "cell_type": "code",
   "execution_count": 23,
   "metadata": {},
   "outputs": [
    {
     "name": "stdout",
     "output_type": "stream",
     "text": [
      "사용할 수 없는 아이디 입니다.\n"
     ]
    }
   ],
   "source": [
    "id_check(\"user1\")"
   ]
  },
  {
   "cell_type": "code",
   "execution_count": 24,
   "metadata": {},
   "outputs": [
    {
     "name": "stdout",
     "output_type": "stream",
     "text": [
      "사용 가능한 아이디 입니다.\n"
     ]
    }
   ],
   "source": [
    "id_check(\"python\")"
   ]
  },
  {
   "cell_type": "markdown",
   "metadata": {},
   "source": [
    "#### 튜플을 리턴하는 함수"
   ]
  },
  {
   "cell_type": "code",
   "execution_count": 25,
   "metadata": {},
   "outputs": [],
   "source": [
    "# 두 개의 값을 튜플이나 리스트로 묶어서 한번에 리턴\n",
    "def bar():\n",
    "    x = 1\n",
    "    y = 2\n",
    "    return (x, y)"
   ]
  },
  {
   "cell_type": "markdown",
   "metadata": {},
   "source": [
    "#### 함수가 리턴하는 튜플을 하나의 객체에 할당한 경우"
   ]
  },
  {
   "cell_type": "code",
   "execution_count": 26,
   "metadata": {},
   "outputs": [
    {
     "name": "stdout",
     "output_type": "stream",
     "text": [
      "(1, 2)\n",
      "1\n",
      "2\n"
     ]
    }
   ],
   "source": [
    "# 함수의 리턴값이 튜플이므로 인덱스 번호를 통해 원소에 접근한다.\n",
    "a = bar()\n",
    "print(a)\n",
    "print(a[0])\n",
    "print(a[1])"
   ]
  },
  {
   "cell_type": "markdown",
   "metadata": {},
   "source": [
    "#### 함수가 리턴하는 튜플의 각 원소를 분할해서 반환받는 경우"
   ]
  },
  {
   "cell_type": "code",
   "execution_count": 27,
   "metadata": {},
   "outputs": [
    {
     "name": "stdout",
     "output_type": "stream",
     "text": [
      "1\n",
      "2\n"
     ]
    }
   ],
   "source": [
    "# `a, b = (1, 2)`의 변수 일괄 생성 규칙을 활용하면\n",
    "# 아래와 같이 튜플이나 리스트 형식의 파라미터를 \n",
    "# 개별변수로 저장 가능함\n",
    "m, n = bar()\n",
    "print(m)\n",
    "print(n)"
   ]
  },
  {
   "cell_type": "markdown",
   "metadata": {},
   "source": [
    "#### 함수에 대한 변수의 유효성 범위"
   ]
  },
  {
   "cell_type": "code",
   "execution_count": 28,
   "metadata": {},
   "outputs": [],
   "source": [
    "a = 100\n",
    "b = 200\n",
    "\n",
    "def foo():\n",
    "    # 함수 안에서는 함수 밖의 변수 식별 가능\n",
    "    # -> 함수 안에서는 가급적 바깥의 변수를 사용하지 않는 것이 좋다.\n",
    "    # -> 함수 안에서 사용할 변수는 파라미터로 전달하는 것이 바람직.\n",
    "    c = a + b\n",
    "    print(c)"
   ]
  },
  {
   "cell_type": "code",
   "execution_count": 29,
   "metadata": {},
   "outputs": [
    {
     "name": "stdout",
     "output_type": "stream",
     "text": [
      "300\n"
     ]
    }
   ],
   "source": [
    "foo()"
   ]
  },
  {
   "cell_type": "code",
   "execution_count": 30,
   "metadata": {},
   "outputs": [
    {
     "ename": "NameError",
     "evalue": "name 'c' is not defined",
     "output_type": "error",
     "traceback": [
      "\u001b[1;31m---------------------------------------------------------------------------\u001b[0m",
      "\u001b[1;31mNameError\u001b[0m                                 Traceback (most recent call last)",
      "\u001b[1;32mC:\\Users\\Public\\Documents\\ESTsoft\\CreatorTemp/ipykernel_11552/2441820528.py\u001b[0m in \u001b[0;36m<module>\u001b[1;34m\u001b[0m\n\u001b[0;32m      1\u001b[0m \u001b[1;31m# 함수 밖에서는 함수 내부에서 생성된 변수 식별 불가\u001b[0m\u001b[1;33m\u001b[0m\u001b[1;33m\u001b[0m\u001b[1;33m\u001b[0m\u001b[0m\n\u001b[1;32m----> 2\u001b[1;33m \u001b[0mprint\u001b[0m\u001b[1;33m(\u001b[0m\u001b[0mc\u001b[0m\u001b[1;33m)\u001b[0m\u001b[1;33m\u001b[0m\u001b[1;33m\u001b[0m\u001b[0m\n\u001b[0m",
      "\u001b[1;31mNameError\u001b[0m: name 'c' is not defined"
     ]
    }
   ],
   "source": [
    "# 함수 밖에서는 함수 내부에서 생성된 변수 식별 불가\n",
    "print(c)"
   ]
  }
 ],
 "metadata": {
  "kernelspec": {
   "display_name": "Python 3 (ipykernel)",
   "language": "python",
   "name": "python3"
  },
  "language_info": {
   "codemirror_mode": {
    "name": "ipython",
    "version": 3
   },
   "file_extension": ".py",
   "mimetype": "text/x-python",
   "name": "python",
   "nbconvert_exporter": "python",
   "pygments_lexer": "ipython3",
   "version": "3.9.5"
  }
 },
 "nbformat": 4,
 "nbformat_minor": 4
}
