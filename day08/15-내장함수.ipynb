{
 "cells": [
  {
   "cell_type": "markdown",
   "metadata": {},
   "source": [
    "### 내장함수\n",
    "\n",
    "print() 함수의 다양한 사용방법 (1)"
   ]
  },
  {
   "cell_type": "code",
   "execution_count": 1,
   "metadata": {},
   "outputs": [
    {
     "name": "stdout",
     "output_type": "stream",
     "text": [
      "Hello World\n"
     ]
    }
   ],
   "source": [
    "# 기본형.\n",
    "print(\"Hello World\")"
   ]
  },
  {
   "cell_type": "code",
   "execution_count": 2,
   "metadata": {},
   "outputs": [
    {
     "name": "stdout",
     "output_type": "stream",
     "text": [
      "Lifeisshort\n",
      "Lifeisshort\n"
     ]
    }
   ],
   "source": [
    "# 문장 여러개를 공백으로 구분하여 지정할 경우 \"+\"연산과 동일하다.\n",
    "# -> 단순한 문자열 연결\n",
    "print(\"Life\" + \"is\" + \"short\")\n",
    "print(\"Life\"  \"is\"  \"short\")"
   ]
  },
  {
   "cell_type": "code",
   "execution_count": 3,
   "metadata": {},
   "outputs": [
    {
     "name": "stdout",
     "output_type": "stream",
     "text": [
      "Life is short 100\n"
     ]
    }
   ],
   "source": [
    "# 문장을 콤마로 구분하면 띄어쓰기가 수행된다.\n",
    "# -> 문자열 이외의 다른 타입의 변수도 사용 가능함\n",
    "a = 100\n",
    "print(\"Life\", \"is\", \"short\", a)"
   ]
  },
  {
   "cell_type": "markdown",
   "metadata": {},
   "source": [
    "#### print() 함수의 다양한 사용방법(2)"
   ]
  },
  {
   "cell_type": "code",
   "execution_count": 4,
   "metadata": {},
   "outputs": [
    {
     "name": "stdout",
     "output_type": "stream",
     "text": [
      "Life is short "
     ]
    }
   ],
   "source": [
    "# 출력할 내용을 구성하고 마지막에 `end=\"\"`라고 지정하면 줄바꿈을 수행하지 않는다.\n",
    "print(\"Life \", end=\"\")\n",
    "print(\"is \", end=\"\")\n",
    "print(\"short \", end=\"\")"
   ]
  },
  {
   "cell_type": "code",
   "execution_count": 5,
   "metadata": {},
   "outputs": [
    {
     "name": "stdout",
     "output_type": "stream",
     "text": [
      "You need Python~~^^)/"
     ]
    }
   ],
   "source": [
    "# end는 출력후 마무리를 어떻게 할지 지정하는 기능.\n",
    "# -> 기본값은 (줄바꿈문자)\"\\n\"으로 지정되어 있다.\n",
    "print(\"You\", \"need\", \"Python\", end=\"~~^^)/\")"
   ]
  },
  {
   "cell_type": "markdown",
   "metadata": {},
   "source": [
    "#### 변수의 자료형 조회"
   ]
  },
  {
   "cell_type": "code",
   "execution_count": 6,
   "metadata": {},
   "outputs": [
    {
     "name": "stdout",
     "output_type": "stream",
     "text": [
      "<class 'int'>\n"
     ]
    }
   ],
   "source": [
    "a = 123\n",
    "print( type(a) )"
   ]
  },
  {
   "cell_type": "code",
   "execution_count": 7,
   "metadata": {},
   "outputs": [
    {
     "name": "stdout",
     "output_type": "stream",
     "text": [
      "<class 'float'>\n"
     ]
    }
   ],
   "source": [
    "b = 123.45\n",
    "print( type(b) )"
   ]
  },
  {
   "cell_type": "code",
   "execution_count": 8,
   "metadata": {},
   "outputs": [
    {
     "name": "stdout",
     "output_type": "stream",
     "text": [
      "<class 'str'>\n",
      "<class 'bool'>\n",
      "<class 'list'>\n",
      "<class 'tuple'>\n",
      "<class 'dict'>\n"
     ]
    }
   ],
   "source": [
    "# 변수에 저장하지 않고 값을 직접 전달하여 자료형 조회\n",
    "print( type( \"hello\" ) )\n",
    "print( type( True ) )\n",
    "print( type( [1, 2] ) )\n",
    "print( type( (1, 2) ) )\n",
    "print( type( {\"name\": \"python\"} ) )"
   ]
  },
  {
   "cell_type": "markdown",
   "metadata": {},
   "source": [
    "#### 변수의 자료형 검사"
   ]
  },
  {
   "cell_type": "code",
   "execution_count": 9,
   "metadata": {},
   "outputs": [
    {
     "name": "stdout",
     "output_type": "stream",
     "text": [
      "True\n"
     ]
    }
   ],
   "source": [
    "#   첫 번째 파라미터는 검사하고자 하는 변수\n",
    "#   두 번째 파라미터는 type()함수에서 표시하는 자료형(클래스) 이름\n",
    "i = {\"name\": \"python\"}\n",
    "k = isinstance(i, dict)\n",
    "print(k)"
   ]
  },
  {
   "cell_type": "code",
   "execution_count": 10,
   "metadata": {},
   "outputs": [
    {
     "name": "stdout",
     "output_type": "stream",
     "text": [
      "a는 정수 타입 입니다.\n"
     ]
    }
   ],
   "source": [
    "a = 100\n",
    "if isinstance(a, int):\n",
    "    print(\"a는 정수 타입 입니다.\")\n",
    "else:\n",
    "    print(\"a는 정수 타입이 아닙니다.\")"
   ]
  },
  {
   "cell_type": "markdown",
   "metadata": {},
   "source": [
    "#### 문자열과 숫자의 상호 변환"
   ]
  },
  {
   "cell_type": "code",
   "execution_count": 11,
   "metadata": {},
   "outputs": [
    {
     "name": "stdout",
     "output_type": "stream",
     "text": [
      "12345\n",
      "168\n"
     ]
    }
   ],
   "source": [
    "# 문자열을 숫자로 변환하기\n",
    "x = \"123\"\n",
    "y = \"45\"\n",
    "\n",
    "# -> 문자열끼리 연결 : 12345\n",
    "print(x+y)\n",
    "\n",
    "# -> 문자열을 정수로 변환\n",
    "x1 = int(x) # 123\n",
    "y1 = int(y) # 45\n",
    "print(x1 + y1)"
   ]
  },
  {
   "cell_type": "code",
   "execution_count": 12,
   "metadata": {},
   "outputs": [
    {
     "name": "stdout",
     "output_type": "stream",
     "text": [
      "168.0\n"
     ]
    }
   ],
   "source": [
    "# -> 문자열이나 정수형을 실수형태로 변환\n",
    "x2 = float(x)   # -> 문자열을 실수로 변환 = 123.0\n",
    "y2 = float(y1)  # -> 정수형을 실수로 변환 = 45.0\n",
    "print(x2 + y2)"
   ]
  },
  {
   "cell_type": "markdown",
   "metadata": {},
   "source": [
    "#### 간단한 연산 기능 함수"
   ]
  },
  {
   "cell_type": "code",
   "execution_count": 13,
   "metadata": {},
   "outputs": [
    {
     "name": "stdout",
     "output_type": "stream",
     "text": [
      "256\n"
     ]
    }
   ],
   "source": [
    "# 제곱 구하기 -> `2**8` 연산과 동일한 결과.\n",
    "a = pow(2, 8)\n",
    "print(a)"
   ]
  },
  {
   "cell_type": "code",
   "execution_count": 14,
   "metadata": {},
   "outputs": [
    {
     "name": "stdout",
     "output_type": "stream",
     "text": [
      "100\n",
      "100\n",
      "12.345\n"
     ]
    }
   ],
   "source": [
    "# 절대값 구하기\n",
    "a = abs(100)\n",
    "print(a)\n",
    "\n",
    "b = abs(-100)\n",
    "print(b)\n",
    "\n",
    "c = abs(-12.345)\n",
    "print(c)"
   ]
  },
  {
   "cell_type": "markdown",
   "metadata": {},
   "source": [
    "#### 나눗셈의 몫과 나머지 구하기"
   ]
  },
  {
   "cell_type": "code",
   "execution_count": 15,
   "metadata": {},
   "outputs": [
    {
     "name": "stdout",
     "output_type": "stream",
     "text": [
      "(2, 1)\n"
     ]
    }
   ],
   "source": [
    "# 나눗셈의 연산 결과를 정수 부분의 몫과 나머지로 계산하여 튜플로 리턴\n",
    "c = divmod(7, 3)\n",
    "print(c)"
   ]
  },
  {
   "cell_type": "code",
   "execution_count": 16,
   "metadata": {},
   "outputs": [
    {
     "name": "stdout",
     "output_type": "stream",
     "text": [
      "33일 8시간\n"
     ]
    }
   ],
   "source": [
    "hours = 800\n",
    "k = divmod(800, 24)\n",
    "tpl = \"{0}일 {1}시간\"\n",
    "print( tpl.format(k[0], k[1]) )"
   ]
  },
  {
   "cell_type": "code",
   "execution_count": 17,
   "metadata": {},
   "outputs": [
    {
     "name": "stdout",
     "output_type": "stream",
     "text": [
      "37일 12시간\n"
     ]
    }
   ],
   "source": [
    "# 결과가 튜플로 리턴되므로 값을 서로 다른 변수에 나누어 저장할 수 있다.\n",
    "days, hours = divmod(900, 24)\n",
    "tpl = \"{0}일 {1}시간\"\n",
    "tpl = \"{0}일 {1}시간\"\n",
    "print( tpl.format(days, hours) )"
   ]
  },
  {
   "cell_type": "markdown",
   "metadata": {},
   "source": [
    "#### 연속성 자료형의 길이 구하기"
   ]
  },
  {
   "cell_type": "code",
   "execution_count": 18,
   "metadata": {},
   "outputs": [
    {
     "name": "stdout",
     "output_type": "stream",
     "text": [
      "3\n"
     ]
    }
   ],
   "source": [
    "# 반복가능한 자료형(리스트,튜플,문자열,딕셔너리)의 길이 구하기\n",
    "# -> 문자열인 경우 각 글자를 리스트의 원소로 변환함.\n",
    "a = [ 1, 2, 3 ]\n",
    "size = len(a)\n",
    "print(size)"
   ]
  },
  {
   "cell_type": "markdown",
   "metadata": {},
   "source": [
    "#### 최대값, 최소값, 합계 구하기"
   ]
  },
  {
   "cell_type": "code",
   "execution_count": 19,
   "metadata": {},
   "outputs": [
    {
     "name": "stdout",
     "output_type": "stream",
     "text": [
      "3\n",
      "1\n",
      "6\n"
     ]
    }
   ],
   "source": [
    "# 리스트,튜플 중에서\n",
    "# 최대값, 최소값, 합계 구하기 -> 문자열은 계산 불가.\n",
    "a = [ 1, 2, 3 ]\n",
    "print( max(a) )\n",
    "print( min(a) )\n",
    "print( sum(a) )"
   ]
  },
  {
   "cell_type": "code",
   "execution_count": 20,
   "metadata": {},
   "outputs": [
    {
     "name": "stdout",
     "output_type": "stream",
     "text": [
      "2.0\n"
     ]
    }
   ],
   "source": [
    "# 평균을 구하는 기능은 없기 때문에 직접 계산해야 함\n",
    "avg = sum(a) / len(a)\n",
    "print(avg)"
   ]
  },
  {
   "cell_type": "markdown",
   "metadata": {},
   "source": [
    "#### 리스트, 튜플 상호 변환"
   ]
  },
  {
   "cell_type": "code",
   "execution_count": 21,
   "metadata": {},
   "outputs": [
    {
     "name": "stdout",
     "output_type": "stream",
     "text": [
      "['P', 'y', 't', 'h', 'o', 'n']\n"
     ]
    }
   ],
   "source": [
    "# 반복 가능한 자료형을 리스트로 변환\n",
    "# 문자열의 경우 글자들의 모음으로 변환함.\n",
    "a = \"Python\"\n",
    "b = list(a)\n",
    "#b = tuple(a)\n",
    "print(b)"
   ]
  },
  {
   "cell_type": "code",
   "execution_count": 22,
   "metadata": {},
   "outputs": [
    {
     "name": "stdout",
     "output_type": "stream",
     "text": [
      "[1, 2, 3]\n"
     ]
    }
   ],
   "source": [
    "# 튜플을 리스트 혹은 튜플로 변환함\n",
    "c = (1, 2, 3)\n",
    "d = list(c)\n",
    "#d = tuple(c)\n",
    "print(d)"
   ]
  },
  {
   "cell_type": "code",
   "execution_count": 23,
   "metadata": {},
   "outputs": [
    {
     "name": "stdout",
     "output_type": "stream",
     "text": [
      "[10, 20, 30]\n"
     ]
    }
   ],
   "source": [
    "# 리스트를 리스트 혹은 튜플로 변환함\n",
    "e = [10, 20, 30]\n",
    "f = list(e)\n",
    "#f = tuple(e)\n",
    "print(f)"
   ]
  },
  {
   "cell_type": "markdown",
   "metadata": {},
   "source": [
    "#### 딕셔너리의 key와 value 분리"
   ]
  },
  {
   "cell_type": "code",
   "execution_count": 24,
   "metadata": {},
   "outputs": [
    {
     "name": "stdout",
     "output_type": "stream",
     "text": [
      "['a', 'b']\n"
     ]
    }
   ],
   "source": [
    "# 딕셔너리일 경우 key만 추려서 리스트 혹은 튜플로 변환하기\n",
    "g = {\"a\": 100, \"b\": 200}\n",
    "h = list(g.keys())\n",
    "#h = tuple(g.keys())\n",
    "print(h)"
   ]
  },
  {
   "cell_type": "code",
   "execution_count": 25,
   "metadata": {},
   "outputs": [
    {
     "name": "stdout",
     "output_type": "stream",
     "text": [
      "[100, 200]\n"
     ]
    }
   ],
   "source": [
    "# 딕셔너리일 경우 value만 추려서 리스트 혹은 튜플로 변환하기\n",
    "i = list(g.values())\n",
    "#i = tuple(g.values())\n",
    "print(i)"
   ]
  },
  {
   "cell_type": "markdown",
   "metadata": {},
   "source": [
    "#### 수열 만들기"
   ]
  },
  {
   "cell_type": "code",
   "execution_count": 26,
   "metadata": {},
   "outputs": [
    {
     "name": "stdout",
     "output_type": "stream",
     "text": [
      "<class 'range'>\n",
      "range(1, 10)\n"
     ]
    }
   ],
   "source": [
    "# 1부터 10전까지 1씩 증가하는 range 객체 생성\n",
    "k = range(1, 10)\n",
    "print(type(k))\n",
    "print(k)"
   ]
  },
  {
   "cell_type": "code",
   "execution_count": 27,
   "metadata": {},
   "outputs": [
    {
     "name": "stdout",
     "output_type": "stream",
     "text": [
      "[1, 2, 3, 4, 5, 6, 7, 8, 9]\n"
     ]
    }
   ],
   "source": [
    "# 생성된 수열 객체를 리스트로 변환\n",
    "z = list(k)\n",
    "print(z)"
   ]
  },
  {
   "cell_type": "code",
   "execution_count": 28,
   "metadata": {},
   "outputs": [
    {
     "name": "stdout",
     "output_type": "stream",
     "text": [
      "[1, 4, 7]\n"
     ]
    }
   ],
   "source": [
    "# 1부터 10 전까지 3씩 증가하는 range 객체를 list로 변환\n",
    "k = list(range(1, 10, 3))\n",
    "print(k)"
   ]
  },
  {
   "cell_type": "markdown",
   "metadata": {},
   "source": [
    "#### 리스트의 정렬"
   ]
  },
  {
   "cell_type": "code",
   "execution_count": 29,
   "metadata": {},
   "outputs": [
    {
     "name": "stdout",
     "output_type": "stream",
     "text": [
      "[1, 2, 3, 4, 5]\n"
     ]
    }
   ],
   "source": [
    "# 리스트 자체를 정렬하기\n",
    "data = [1, 4, 2, 3, 5]\n",
    "data.sort()\n",
    "print(data) # 원본 리스트 자체가 정렬됨, 리턴값은 없음"
   ]
  },
  {
   "cell_type": "code",
   "execution_count": 30,
   "metadata": {},
   "outputs": [
    {
     "name": "stdout",
     "output_type": "stream",
     "text": [
      "[1, 4, 2, 3, 5]\n",
      "[1, 2, 3, 4, 5]\n"
     ]
    }
   ],
   "source": [
    "data = [1, 4, 2, 3, 5]\n",
    "k = sorted(data)\n",
    "print(data) # 원본은 변화 없음\n",
    "print(k)    # 정렬된 결과가 리턴됨"
   ]
  },
  {
   "cell_type": "code",
   "execution_count": null,
   "metadata": {},
   "outputs": [],
   "source": []
  }
 ],
 "metadata": {
  "kernelspec": {
   "display_name": "Python 3 (ipykernel)",
   "language": "python",
   "name": "python3"
  },
  "language_info": {
   "codemirror_mode": {
    "name": "ipython",
    "version": 3
   },
   "file_extension": ".py",
   "mimetype": "text/x-python",
   "name": "python",
   "nbconvert_exporter": "python",
   "pygments_lexer": "ipython3",
   "version": "3.9.5"
  }
 },
 "nbformat": 4,
 "nbformat_minor": 4
}
