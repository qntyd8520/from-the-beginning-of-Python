{
 "cells": [
  {
   "cell_type": "markdown",
   "metadata": {},
   "source": [
    "# 메일링 리스트\n",
    "\n",
    "## 필요한 모듈 참조"
   ]
  },
  {
   "cell_type": "code",
   "execution_count": 1,
   "metadata": {},
   "outputs": [],
   "source": [
    "# 직접 만든 모듈에 정의된 함수 참조\n",
    "from SendMail import send_mail\n",
    "# 날짜 처리 모듈\n",
    "import datetime as dt"
   ]
  },
  {
   "cell_type": "markdown",
   "metadata": {},
   "source": [
    "## 이번년도와 월 조회"
   ]
  },
  {
   "cell_type": "code",
   "execution_count": 2,
   "metadata": {},
   "outputs": [
    {
     "name": "stdout",
     "output_type": "stream",
     "text": [
      "2021 7\n"
     ]
    }
   ],
   "source": [
    "# 이번년도와 월 얻기\n",
    "now_time = dt.datetime.now()\n",
    "now_year = now_time.year\n",
    "now_month = now_time.month\n",
    "print(now_year, now_month)"
   ]
  },
  {
   "cell_type": "markdown",
   "metadata": {},
   "source": [
    "## 발송자 메일 주소와 메일 제목"
   ]
  },
  {
   "cell_type": "code",
   "execution_count": 3,
   "metadata": {},
   "outputs": [],
   "source": [
    "from_addr = \"dududada0717@gmail.com\"\n",
    "subject_tpl = '{name}님의 {yy}년 {mm}월 급여명세서 입니다.'"
   ]
  },
  {
   "cell_type": "markdown",
   "metadata": {},
   "source": [
    "## 메일 본문 HTML파일 읽기"
   ]
  },
  {
   "cell_type": "code",
   "execution_count": 4,
   "metadata": {},
   "outputs": [],
   "source": [
    "with open(\"mail/content.html\", \"r\", encoding='utf-8') as f:\n",
    "    content_tpl = f.read()"
   ]
  },
  {
   "cell_type": "markdown",
   "metadata": {},
   "source": [
    "## 수신자 목록에 대한 CSV파일 읽기"
   ]
  },
  {
   "cell_type": "code",
   "execution_count": 5,
   "metadata": {},
   "outputs": [
    {
     "name": "stdout",
     "output_type": "stream",
     "text": [
      "1/28 >> 주영아(j.purplerose@gmail.com)님께 메일을 발송했습니다.\n",
      "2/28 >> 김도운(dududada0717@gmail.com)님께 메일을 발송했습니다.\n",
      "3/28 >> 김민경(minkyoung0531@gmail.com)님께 메일을 발송했습니다.\n",
      "4/28 >> 김바른이(straight999999@gmail.com)님께 메일을 발송했습니다.\n",
      "5/28 >> 김준형(elia85328472@gmail.com)님께 메일을 발송했습니다.\n",
      "6/28 >> 김태현(taehyeon3657@gmail.com)님께 메일을 발송했습니다.\n",
      "7/28 >> 노상철(shtkdcjf@gmail.com)님께 메일을 발송했습니다.\n",
      "8/28 >> 류호수(hosu020600@gmail.com)님께 메일을 발송했습니다.\n",
      "9/28 >> 문현지(mhg0906@gmail.com)님께 메일을 발송했습니다.\n",
      "10/28 >> 박보연(bo3893@gmail.com)님께 메일을 발송했습니다.\n",
      "11/28 >> 박수인(psooin3356@gmail.com)님께 메일을 발송했습니다.\n",
      "12/28 >> 박인호(ebusinho@gmail.com)님께 메일을 발송했습니다.\n",
      "13/28 >> 박준영(vkfksdl9707@gmail.com)님께 메일을 발송했습니다.\n",
      "14/28 >> 박찬희(cksgml7774@gmail.com)님께 메일을 발송했습니다.\n",
      "15/28 >> 백수빈(bsb989824@gmail.com)님께 메일을 발송했습니다.\n",
      "16/28 >> 안다솜(dkfish0604@gmail.com)님께 메일을 발송했습니다.\n",
      "17/28 >> 오도건(krea1992@gmail.com)님께 메일을 발송했습니다.\n",
      "18/28 >> 이상화(sanghwa318@gmail.com)님께 메일을 발송했습니다.\n",
      "19/28 >> 이솔(leeeesoul@gmail.com)님께 메일을 발송했습니다.\n",
      "20/28 >> 이수진(sweetlovesue@gmail.com)님께 메일을 발송했습니다.\n",
      "21/28 >> 이정호(imtessadar@gmail.com)님께 메일을 발송했습니다.\n",
      "22/28 >> 이준복(bock1104@gmail.com)님께 메일을 발송했습니다.\n",
      "23/28 >> 정채원(chaewonjeong0703@gmail.com)님께 메일을 발송했습니다.\n",
      "24/28 >> 정희선(gmltjs9923@gmail.com)님께 메일을 발송했습니다.\n",
      "25/28 >> 조윤원(chotazza@gmail.com)님께 메일을 발송했습니다.\n",
      "26/28 >> 조현우(joy961208@gmail.com)님께 메일을 발송했습니다.\n",
      "27/28 >> 최윤지(hanaa1116@gmail.com)님께 메일을 발송했습니다.\n",
      "28/28 >> 한남규(guileful666@gmail.com)님께 메일을 발송했습니다.\n"
     ]
    }
   ],
   "source": [
    "with open(\"mail/mail_list.csv\", \"r\", encoding='euc-kr') as f:\n",
    "    csv_data = f.readlines()        # 전체 내용을 리스트로 읽어옴\n",
    "    count = len(csv_data)           # 전체 행 수\n",
    "\n",
    "    # 결과 출력을 위한 문자열 템플릿\n",
    "    result_tpl = \"{0}/{1} >> {2}({3})님께 메일을 발송했습니다.\"\n",
    "\n",
    "    # 리스트 행 수 만큼 반복 -> i에는 인덱스, line은 한 행의 문자열이 저장됨\n",
    "    # line = \"학생,hello@gmail.com,mail/document.pptx,mail/pay1.xlsx\"\n",
    "    for i, line in  enumerate(csv_data):\n",
    "        item = line.strip().split(\",\")\n",
    "        to_name = item[0].strip()\n",
    "        to_addr = item[1].strip()\n",
    "        file1 = item[2].strip()\n",
    "        file2 = item[3].strip()\n",
    "\n",
    "        # 제목과 내용에 포함된 {이름} 형식의 치환자에 변수값 적용\n",
    "        subject = subject_tpl.format(name=to_name, yy=now_year, mm=now_month)\n",
    "        content = content_tpl.format(name=to_name, yy=now_year, mm=now_month)\n",
    "\n",
    "        # 메일을 발송한다.\n",
    "        send_mail(from_addr, to_addr, subject, content, [file1, file2])\n",
    "\n",
    "        # 결과 출력\n",
    "        print(result_tpl.format(i+1, count, to_name, to_addr))"
   ]
  },
  {
   "cell_type": "code",
   "execution_count": null,
   "metadata": {},
   "outputs": [],
   "source": []
  }
 ],
 "metadata": {
  "kernelspec": {
   "display_name": "Python 3 (ipykernel)",
   "language": "python",
   "name": "python3"
  },
  "language_info": {
   "codemirror_mode": {
    "name": "ipython",
    "version": 3
   },
   "file_extension": ".py",
   "mimetype": "text/x-python",
   "name": "python",
   "nbconvert_exporter": "python",
   "pygments_lexer": "ipython3",
   "version": "3.9.5"
  }
 },
 "nbformat": 4,
 "nbformat_minor": 4
}
