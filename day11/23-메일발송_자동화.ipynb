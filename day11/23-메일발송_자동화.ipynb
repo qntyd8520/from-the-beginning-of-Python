{
 "cells": [
  {
   "cell_type": "markdown",
   "metadata": {},
   "source": [
    "#### 메일발송 자동화\n",
    "메일 발송에 필요한 내장모듈 참조"
   ]
  },
  {
   "cell_type": "code",
   "execution_count": 1,
   "metadata": {},
   "outputs": [],
   "source": [
    "# -> 경로 정보를 취득하기 위한 모듈\n",
    "import os.path\n",
    "# -> 발송서버와 연동하기 위한 모듈\n",
    "from smtplib import SMTP\n",
    "# -> 본문 구성 기능\n",
    "from email.mime.text import MIMEText\n",
    "# -> 파일을 Multipart 형식으로 변환\n",
    "from email.mime.application import MIMEApplication\n",
    "# -> 파일을 본문에 추가하는 기능 제공\n",
    "from email.mime.multipart import MIMEMultipart"
   ]
  },
  {
   "cell_type": "markdown",
   "metadata": {},
   "source": [
    "#### 발송에 필요한 정보 설정하기\n",
    "\n",
    "구글이나 네이버와 연동할 경우 username의 계정명과 from_addr의 메일주소가 같은 계정에 대한 정보여야 한다.\n",
    "\n",
    "smtp, port 값은 각 메일 서비스마다 공개되어 있으며, 회사 메일을 사용할 경우 메일 관리자에게 문의하면 알 수 있다."
   ]
  },
  {
   "cell_type": "code",
   "execution_count": 2,
   "metadata": {},
   "outputs": [],
   "source": [
    "content_type = \"html\"              # 컨텐츠 형식 (text or html)\n",
    "username = 'dududada0717@gmail.com'        # 구글 메일 주소\n",
    "password = 'ygizzswbaydqwqtu'        # 구글 비밀번호\n",
    "smtp = 'smtp.gmail.com'            # 구글 발송 서버 주소 (고정값)\n",
    "port = 587                         # 구글 발송 서버 포트 (고정값)\n",
    "from_addr = \"dududada0717@gmail.com\"       # 보내는 사람 주소\n",
    "to_addr = \"tjrry0717@naver.com\"         # 받는 사람 주소\n",
    "subject = '테스트 12345'           # 메일제목"
   ]
  },
  {
   "cell_type": "markdown",
   "metadata": {},
   "source": [
    "#### 첨부파일 목록 설정\n",
    "\n",
    "첨부파일이 필요하지 않은 경우 원소가 포함되지 않은 빈 리스트로 설정한다."
   ]
  },
  {
   "cell_type": "code",
   "execution_count": 3,
   "metadata": {},
   "outputs": [],
   "source": [
    "# 첨부파일이 필요 없는 경우\n",
    "# files = []\n",
    "\n",
    "# 첨부파일이 필요한 경우 (파일이 실제로 존재해야 함)\n",
    "files = [\"mail/hello.txt\", \"mail/world.txt\"]"
   ]
  },
  {
   "cell_type": "markdown",
   "metadata": {},
   "source": [
    "#### 메일 본문 설정 -> HTML코드 형식"
   ]
  },
  {
   "cell_type": "code",
   "execution_count": 4,
   "metadata": {},
   "outputs": [],
   "source": [
    "content = \"\"\"<html>\n",
    "  <head></head>\n",
    "  <body>\n",
    "    <h1>Hi!</h1>\n",
    "    <h2>How are you?</h2>\n",
    "    <p>\n",
    "        Here is the \n",
    "        <a href=\"http://www.python.org\">link</a> \n",
    "        you wanted.\n",
    "    </p>\n",
    "  </body>\n",
    "</html>\"\"\""
   ]
  },
  {
   "cell_type": "markdown",
   "metadata": {},
   "source": [
    "#### 메일 객체 생성하기\n",
    "제목, 보내는주소, 받는주소, 본문을 메일객체에 추가한다."
   ]
  },
  {
   "cell_type": "code",
   "execution_count": 5,
   "metadata": {},
   "outputs": [],
   "source": [
    "# 메일 발송 구성\n",
    "msg = MIMEMultipart()\n",
    "\n",
    "msg['Subject'] = subject  # 메일 제목\n",
    "msg['From'] = from_addr   # 보내는 사람\n",
    "msg['To'] = to_addr       # 받는사람\n",
    "\n",
    "# 본문 설정 -> 메일의 내용과 형식 지정\n",
    "msg.attach(MIMEText(content, content_type))"
   ]
  },
  {
   "cell_type": "markdown",
   "metadata": {},
   "source": [
    "#### 메일 객체에 첨부파일 추가하기\n",
    "\n",
    "수신 주소가 \"네이버\"인 경우 파일 이름이 한글로 지정되면 네이버에서 인식하지 못하므로 주의해야 한다."
   ]
  },
  {
   "cell_type": "code",
   "execution_count": 6,
   "metadata": {},
   "outputs": [],
   "source": [
    "# 리스트 변수의 원소가 하나라도 존재할 경우 True\n",
    "if files:\n",
    "    for f in files:\n",
    "        # 바이너리(b) 형식으로 읽기(r)\n",
    "        with open(f, 'rb') as a_file:\n",
    "            # 전체 경로에서 파일의 이름만 추출\n",
    "            basename = os.path.basename(f)\n",
    "            # 파일의 내용과 파일이름을 메일에 첨부할 형식으로 변환\n",
    "            part = MIMEApplication(a_file.read(), Name=basename)\n",
    "\n",
    "            # 파일첨부\n",
    "            part['Content-Disposition'] = 'attachment; filename=\"%s\"' % basename\n",
    "            msg.attach(part)"
   ]
  },
  {
   "cell_type": "markdown",
   "metadata": {},
   "source": [
    "#### 메일 발송 처리"
   ]
  },
  {
   "cell_type": "code",
   "execution_count": 7,
   "metadata": {},
   "outputs": [
    {
     "data": {
      "text/plain": [
       "(221, b'2.0.0 closing connection h20sm4112311pfn.173 - gsmtp')"
      ]
     },
     "execution_count": 7,
     "metadata": {},
     "output_type": "execute_result"
    }
   ],
   "source": [
    "mail = SMTP(smtp)\n",
    "# 메일 서버 접속\n",
    "mail.ehlo()\n",
    "# 메일 서버 연동 설정\n",
    "mail.starttls()\n",
    "# 메일 서버 로그인\n",
    "mail.login(username, password)\n",
    "# 메일 보내기\n",
    "mail.sendmail(from_addr, to_addr, msg.as_string())\n",
    "# 메일 서버 접속 종료\n",
    "mail.quit()"
   ]
  },
  {
   "cell_type": "code",
   "execution_count": null,
   "metadata": {},
   "outputs": [],
   "source": []
  }
 ],
 "metadata": {
  "kernelspec": {
   "display_name": "Python 3 (ipykernel)",
   "language": "python",
   "name": "python3"
  },
  "language_info": {
   "codemirror_mode": {
    "name": "ipython",
    "version": 3
   },
   "file_extension": ".py",
   "mimetype": "text/x-python",
   "name": "python",
   "nbconvert_exporter": "python",
   "pygments_lexer": "ipython3",
   "version": "3.9.5"
  }
 },
 "nbformat": 4,
 "nbformat_minor": 4
}
