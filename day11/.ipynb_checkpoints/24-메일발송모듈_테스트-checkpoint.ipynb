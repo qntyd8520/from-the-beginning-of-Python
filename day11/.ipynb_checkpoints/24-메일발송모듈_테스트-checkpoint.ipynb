{
 "cells": [
  {
   "cell_type": "markdown",
   "metadata": {},
   "source": [
    "# 메일 발송 모듈 테스트\n",
    "\n",
    "## 모듈참조 + 발송정보 + 본문 + 첨부파일"
   ]
  },
  {
   "cell_type": "code",
   "execution_count": 1,
   "metadata": {},
   "outputs": [],
   "source": [
    "from SendMail import send_mail\n",
    "\n",
    "from_addr = \"dududada0717@gmail.com\"       # 보내는 사람 주소\n",
    "to_addr = \"tjrry0717@naver.com\"         # 받는 사람 주소\n",
    "subject = '테스트 12345'           # 메일제목\n",
    "\n",
    "content = \"\"\"<html>\n",
    "  <head></head>\n",
    "  <body>\n",
    "    <h1>Hi!</h1>\n",
    "    <h2>How are you?</h2>\n",
    "    <p>\n",
    "        Here is the \n",
    "        <a href=\"http://www.python.org\">link</a> \n",
    "        you wanted.\n",
    "    </p>\n",
    "  </body>\n",
    "</html>\"\"\"\n",
    "\n",
    "# 첨부파일이 필요 없는 경우\n",
    "# files = []\n",
    "\n",
    "# 첨부파일이 필요한 경우 (파일이 실제로 존재해야 함)\n",
    "files = [\"mail/hello.txt\", \"mail/world.txt\"]"
   ]
  },
  {
   "cell_type": "markdown",
   "metadata": {},
   "source": [
    "## 메일 보내기 (모듈내의 함수 호출)"
   ]
  },
  {
   "cell_type": "code",
   "execution_count": 5,
   "metadata": {},
   "outputs": [],
   "source": [
    "send_mail(from_addr, to_addr, subject, content, files)"
   ]
  }
 ],
 "metadata": {
  "kernelspec": {
   "display_name": "Python 3 (ipykernel)",
   "language": "python",
   "name": "python3"
  },
  "language_info": {
   "codemirror_mode": {
    "name": "ipython",
    "version": 3
   },
   "file_extension": ".py",
   "mimetype": "text/x-python",
   "name": "python",
   "nbconvert_exporter": "python",
   "pygments_lexer": "ipython3",
   "version": "3.9.5"
  }
 },
 "nbformat": 4,
 "nbformat_minor": 4
}
