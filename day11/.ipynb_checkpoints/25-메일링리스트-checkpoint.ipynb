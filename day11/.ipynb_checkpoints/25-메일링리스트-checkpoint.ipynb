{
 "cells": [
  {
   "cell_type": "markdown",
   "metadata": {},
   "source": [
    "# 메일링 리스트\n",
    "\n",
    "## 필요한 모듈 참조"
   ]
  },
  {
   "cell_type": "code",
   "execution_count": 14,
   "metadata": {},
   "outputs": [],
   "source": [
    "# 직접 만든 모듈에 정의된 함수 참조\n",
    "from SendMail import send_mail\n",
    "# 날짜 처리 모듈\n",
    "import datetime as dt"
   ]
  },
  {
   "cell_type": "markdown",
   "metadata": {},
   "source": [
    "## 이번년도와 월 조회"
   ]
  },
  {
   "cell_type": "code",
   "execution_count": 15,
   "metadata": {},
   "outputs": [
    {
     "name": "stdout",
     "output_type": "stream",
     "text": [
      "2021 5\n"
     ]
    }
   ],
   "source": [
    "# 이번년도와 월 얻기\n",
    "now_time = dt.datetime.now()\n",
    "now_year = now_time.year\n",
    "now_month = now_time.month\n",
    "print(now_year, now_month)"
   ]
  },
  {
   "cell_type": "markdown",
   "metadata": {},
   "source": [
    "## 발송자 메일 주소와 메일 제목"
   ]
  },
  {
   "cell_type": "code",
   "execution_count": 16,
   "metadata": {},
   "outputs": [],
   "source": [
    "from_addr = \"dududada0717@gmail.com\"\n",
    "subject_tpl = '{name}님의 {yy}년 {mm}월 급여명세서 입니다.'"
   ]
  },
  {
   "cell_type": "markdown",
   "metadata": {},
   "source": [
    "## 메일 본문 HTML파일 읽기"
   ]
  },
  {
   "cell_type": "code",
   "execution_count": 17,
   "metadata": {},
   "outputs": [],
   "source": [
    "with open(\"mail/content.html\", \"r\", encoding='utf-8') as f:\n",
    "    content_tpl = f.read()"
   ]
  },
  {
   "cell_type": "markdown",
   "metadata": {},
   "source": [
    "## 수신자 목록에 대한 CSV파일 읽기"
   ]
  },
  {
   "cell_type": "code",
   "execution_count": 18,
   "metadata": {},
   "outputs": [
    {
     "name": "stdout",
     "output_type": "stream",
     "text": [
      "1/5 >> Python학생1(totory3217@naver.com)님께 메일을 발송했습니다.\n",
      "2/5 >> Python학생2(totory3217@naver.com)님께 메일을 발송했습니다.\n",
      "3/5 >> Python학생3(totory3217@naver.com)님께 메일을 발송했습니다.\n",
      "4/5 >> Python학생4(totory3217@naver.com)님께 메일을 발송했습니다.\n",
      "5/5 >> Python학생5(totory3217@naver.com)님께 메일을 발송했습니다.\n"
     ]
    }
   ],
   "source": [
    "with open(\"mail/mail_list.csv\", \"r\", encoding='euc-kr') as f:\n",
    "    csv_data = f.readlines()        # 전체 내용을 리스트로 읽어옴\n",
    "    count = len(csv_data)           # 전체 행 수\n",
    "\n",
    "    # 결과 출력을 위한 문자열 템플릿\n",
    "    result_tpl = \"{0}/{1} >> {2}({3})님께 메일을 발송했습니다.\"\n",
    "\n",
    "    # 리스트 행 수 만큼 반복 -> i에는 인덱스, line은 한 행의 문자열이 저장됨\n",
    "    # line = \"학생,hello@gmail.com,mail/document.pptx,mail/pay1.xlsx\"\n",
    "    for i, line in  enumerate(csv_data):\n",
    "        item = line.strip().split(\",\")\n",
    "        to_name = item[0].strip()\n",
    "        to_addr = item[1].strip()\n",
    "        file1 = item[2].strip()\n",
    "        file2 = item[3].strip()\n",
    "\n",
    "        # 제목과 내용에 포함된 {이름} 형식의 치환자에 변수값 적용\n",
    "        subject = subject_tpl.format(name=to_name, yy=now_year, mm=now_month)\n",
    "        content = content_tpl.format(name=to_name, yy=now_year, mm=now_month)\n",
    "\n",
    "        # 메일을 발송한다.\n",
    "        send_mail(from_addr, to_addr, subject, content, [file1, file2])\n",
    "\n",
    "        # 결과 출력\n",
    "        print(result_tpl.format(i+1, count, to_name, to_addr))"
   ]
  },
  {
   "cell_type": "code",
   "execution_count": null,
   "metadata": {},
   "outputs": [],
   "source": []
  }
 ],
 "metadata": {
  "kernelspec": {
   "display_name": "Python 3 (ipykernel)",
   "language": "python",
   "name": "python3"
  },
  "language_info": {
   "codemirror_mode": {
    "name": "ipython",
    "version": 3
   },
   "file_extension": ".py",
   "mimetype": "text/x-python",
   "name": "python",
   "nbconvert_exporter": "python",
   "pygments_lexer": "ipython3",
   "version": "3.9.5"
  }
 },
 "nbformat": 4,
 "nbformat_minor": 4
}
