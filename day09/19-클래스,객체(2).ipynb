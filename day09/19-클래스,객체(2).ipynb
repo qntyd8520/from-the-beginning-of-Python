{
 "cells": [
  {
   "cell_type": "markdown",
   "metadata": {},
   "source": [
    "#### 클래스와 객체 (2)\n",
    "\n",
    "변수와 함수를 모두 내장하는 클래스 정의"
   ]
  },
  {
   "cell_type": "code",
   "execution_count": 1,
   "metadata": {},
   "outputs": [],
   "source": [
    "class Member:\n",
    "    # 클래스 레벨에서 정의된 변수는 내장되어 있는 함수들끼리 공유한다.\n",
    "    # -> `전역변수` 혹은 `멤버변수` 라고 부름\n",
    "    username = \"\"\n",
    "    email = \"\"\n",
    "\n",
    "    def join(self, username, email):\n",
    "        # 파라미터로 전달된 값들을 멤버변수에 복사 --> 데이터 입력\n",
    "        # 파라미터나 메서드 안에서 정의된 변수들은\n",
    "        # 그 함수 밖에서는 식별할 수 없으므로 `지역변수`라고 부름\n",
    "        self.username = username\n",
    "        self.email = email\n",
    "\n",
    "    def view_info(self):\n",
    "        # join()에 의해서 설정된 값들을 활용 --> 데이터 출력\n",
    "        print( self.username )\n",
    "        print( self.email )"
   ]
  },
  {
   "cell_type": "markdown",
   "metadata": {},
   "source": [
    "#### 클래스의 기능을 객체에 부여하기"
   ]
  },
  {
   "cell_type": "code",
   "execution_count": 2,
   "metadata": {},
   "outputs": [
    {
     "name": "stdout",
     "output_type": "stream",
     "text": [
      "Python\n",
      "python@gmail.com\n"
     ]
    }
   ],
   "source": [
    "mem1 = Member()\n",
    "mem1.join(\"Python\", \"python@gmail.com\")\n",
    "mem1.view_info()"
   ]
  },
  {
   "cell_type": "markdown",
   "metadata": {},
   "source": [
    "#### 생성자를 갖는 클래스 정의하기"
   ]
  },
  {
   "cell_type": "code",
   "execution_count": 3,
   "metadata": {},
   "outputs": [],
   "source": [
    "class UserAccount:\n",
    "    # 변수의 값을 비워두기 위해 None을 할당함\n",
    "    username = None\n",
    "    email = None\n",
    "\n",
    "    # 생성자 - 객체가 생성될 때 자동으로 실행되는 특수 함수.\n",
    "    #          이름이 고정되어 있다. (앞뒤로 언더바 두 개)\n",
    "    #          주로 클래스에 속한 변수값을 초기화 하는 용도로 사용\n",
    "    def __init__(self):\n",
    "        print(\"------- 생성자가 실행되었습니다. --------\")\n",
    "        self.username = \"야옹이\"\n",
    "        self.email = \"yaong@gmail.com\"\n",
    "\n",
    "    def say_hello(self):\n",
    "        tpl = \"안녕하세요, 저는 {0}이고, 이메일은 {1} 입니다.\"\n",
    "        print( tpl.format(self.username, self.email ) )"
   ]
  },
  {
   "cell_type": "markdown",
   "metadata": {},
   "source": [
    "#### 객체 생성\n",
    "\n",
    "생성자가 자동으로 실행됨을 알 수 있다."
   ]
  },
  {
   "cell_type": "code",
   "execution_count": 4,
   "metadata": {},
   "outputs": [
    {
     "name": "stdout",
     "output_type": "stream",
     "text": [
      "------- 생성자가 실행되었습니다. --------\n"
     ]
    }
   ],
   "source": [
    "ua = UserAccount()"
   ]
  },
  {
   "cell_type": "markdown",
   "metadata": {},
   "source": [
    "#### 메서드 호출하기\n",
    "\n",
    "생성자에 의해 멤버변수에 할당된 값이 출력된다."
   ]
  },
  {
   "cell_type": "code",
   "execution_count": 5,
   "metadata": {},
   "outputs": [
    {
     "name": "stdout",
     "output_type": "stream",
     "text": [
      "안녕하세요, 저는 야옹이이고, 이메일은 yaong@gmail.com 입니다.\n"
     ]
    }
   ],
   "source": [
    "ua.say_hello()"
   ]
  },
  {
   "cell_type": "markdown",
   "metadata": {},
   "source": [
    "#### 파라미터를 갖는 생성자 정의\n",
    "\n",
    "생성자도 함수의 일종이므로 필요한만큼 파라미터를 정의할 수 있다.\n",
    "\n",
    "주로 외부에서 전달되는 값을 클래스변수에 할당하는 용도로 사용한다."
   ]
  },
  {
   "cell_type": "code",
   "execution_count": 6,
   "metadata": {},
   "outputs": [],
   "source": [
    "class UserInfo:\n",
    "    username = None\n",
    "    email = None\n",
    "\n",
    "    def __init__(self, username, email):\n",
    "        print(\"------- 생성자가 실행되었습니다. --------\")\n",
    "        self.username = username\n",
    "        self.email = email\n",
    "\n",
    "    def view_info(self):\n",
    "        tpl = \"이름: {0} / 이메일: {1}\"\n",
    "        print( tpl.format(self.username, self.email) )"
   ]
  },
  {
   "cell_type": "markdown",
   "metadata": {},
   "source": [
    "#### 객체 생성하기\n",
    "\n",
    "생성자가 파라미터를 갖는 클래스에 대한 객체를 생성할 경우\n",
    "\n",
    "생성자가 정의하는 파라미터를 전달해야 한다."
   ]
  },
  {
   "cell_type": "code",
   "execution_count": 7,
   "metadata": {},
   "outputs": [
    {
     "name": "stdout",
     "output_type": "stream",
     "text": [
      "------- 생성자가 실행되었습니다. --------\n",
      "이름: 야옹이 / 이메일: yaong@gmail.com\n"
     ]
    }
   ],
   "source": [
    "uinfo = UserInfo(\"야옹이\", \"yaong@gmail.com\")\n",
    "uinfo.view_info()"
   ]
  },
  {
   "cell_type": "markdown",
   "metadata": {},
   "source": [
    "#### 멤버변수, 생성자, 메서드를 포함하는 클래스 정의하기"
   ]
  },
  {
   "cell_type": "code",
   "execution_count": 8,
   "metadata": {},
   "outputs": [],
   "source": [
    "class Unit:\n",
    "    # 객체가 갖는 명사적 특성들을 멤버변수로 정의\n",
    "    name = None     # 이름\n",
    "    hp = None       # 체력(health point)\n",
    "    dps = None      # 초당공격력(damage per Second)\n",
    "\n",
    "    # 객체의 특성을 초기화 하기 위한 생성자 정의\n",
    "    def __init__(self, name, hp, dps):\n",
    "        self.name = name\n",
    "        self.hp = hp\n",
    "        self.dps = dps\n",
    "        print(\"[%s] 체력: %d, 공격력: %d\" % (name, hp, dps))\n",
    "\n",
    "    # 객체가 수행해야 하는 동작들을 함수 형태로 정의\n",
    "    def move(self, position):\n",
    "        print(\"%s(이)가 %s까지 이동합니다.\" % (self.name, position))\n",
    "\n",
    "    def attack(self, target):\n",
    "        print(\"%s(이)가 %s(을)를 공격합니다. 데미지: %d\" % (self.name, target, self.dps))"
   ]
  },
  {
   "cell_type": "markdown",
   "metadata": {},
   "source": [
    "#### 객체 생성하기"
   ]
  },
  {
   "cell_type": "code",
   "execution_count": 9,
   "metadata": {},
   "outputs": [
    {
     "name": "stdout",
     "output_type": "stream",
     "text": [
      "[질럿1호] 체력: 100, 공격력: 10\n",
      "[질럿2호] 체력: 100, 공격력: 12\n",
      "[드라군1호] 체력: 120, 공격력: 20\n",
      "[드라군2호] 체력: 150, 공격력: 35\n"
     ]
    }
   ],
   "source": [
    "# 객체를 생성하면서 생성자를 통해 각 객체의 특성을 정의한다.\n",
    "u1 = Unit(\"질럿1호\", 100, 10)\n",
    "u2 = Unit(\"질럿2호\", 100, 12)\n",
    "u3 = Unit(\"드라군1호\", 120, 20)\n",
    "u4 = Unit(\"드라군2호\", 150, 35)"
   ]
  },
  {
   "cell_type": "markdown",
   "metadata": {},
   "source": [
    "#### 객체 동작시키기"
   ]
  },
  {
   "cell_type": "code",
   "execution_count": 10,
   "metadata": {},
   "outputs": [
    {
     "name": "stdout",
     "output_type": "stream",
     "text": [
      "질럿1호(이)가 적 본진까지 이동합니다.\n",
      "드라군1호(이)가 적 본진까지 이동합니다.\n",
      "질럿1호(이)가 적 본진(을)를 공격합니다. 데미지: 10\n",
      "드라군1호(이)가 적 본진(을)를 공격합니다. 데미지: 20\n"
     ]
    }
   ],
   "source": [
    "# 객체를 동작시킨다.\n",
    "u1.move('적 본진')\n",
    "u3.move('적 본진')\n",
    "u1.attack('적 본진')\n",
    "u3.attack('적 본진')"
   ]
  },
  {
   "cell_type": "code",
   "execution_count": 11,
   "metadata": {},
   "outputs": [
    {
     "name": "stdout",
     "output_type": "stream",
     "text": [
      "질럿2호(이)가 적 멀티까지 이동합니다.\n",
      "드라군2호(이)가 적 멀티까지 이동합니다.\n",
      "질럿2호(이)가 적 멀티(을)를 공격합니다. 데미지: 12\n",
      "드라군2호(이)가 적 멀티(을)를 공격합니다. 데미지: 35\n"
     ]
    }
   ],
   "source": [
    "u2.move('적 멀티')\n",
    "u4.move('적 멀티')\n",
    "u2.attack('적 멀티')\n",
    "u4.attack('적 멀티')"
   ]
  },
  {
   "cell_type": "code",
   "execution_count": null,
   "metadata": {},
   "outputs": [],
   "source": []
  }
 ],
 "metadata": {
  "kernelspec": {
   "display_name": "Python 3 (ipykernel)",
   "language": "python",
   "name": "python3"
  },
  "language_info": {
   "codemirror_mode": {
    "name": "ipython",
    "version": 3
   },
   "file_extension": ".py",
   "mimetype": "text/x-python",
   "name": "python",
   "nbconvert_exporter": "python",
   "pygments_lexer": "ipython3",
   "version": "3.9.5"
  }
 },
 "nbformat": 4,
 "nbformat_minor": 4
}
