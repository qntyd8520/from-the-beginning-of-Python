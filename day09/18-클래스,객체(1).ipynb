{
 "cells": [
  {
   "cell_type": "markdown",
   "metadata": {},
   "source": [
    "#### 클래스와 객체 (1)\n",
    "\n",
    "변수를 그룹화 하는 클래스 정의하기\n",
    "\n",
    "객체의 원래 목적은 하나의 변수에 여러 개의 하위 변수들을 내장하는 것이고 클래스는 그러한 구조를 정의하는 것이다.\n",
    "\n",
    "- 객체: 변수를 그룹화한 단위\n",
    "- 클래스: 객체를 구성하는 자료구조"
   ]
  },
  {
   "cell_type": "code",
   "execution_count": 1,
   "metadata": {},
   "outputs": [],
   "source": [
    "# 변수들을 그룹화 한 클래스 정의\n",
    "class Member:\n",
    "    userid = \"python\"\n",
    "    email = \"python@gmail.com\"\n",
    "    phone = \"01012345678\""
   ]
  },
  {
   "cell_type": "markdown",
   "metadata": {},
   "source": [
    "#### 클래스를 기반으로 객체 생성하기\n",
    "\n",
    "객체 - 클래스에서 정의한 구조를 부여받은 특수한 변수\n",
    "\n",
    "객체 안에는 클래스 단위의 구조를 갖는 변수들이 내장된다."
   ]
  },
  {
   "cell_type": "code",
   "execution_count": 2,
   "metadata": {},
   "outputs": [
    {
     "name": "stdout",
     "output_type": "stream",
     "text": [
      "python\n",
      "python@gmail.com\n",
      "01012345678\n"
     ]
    }
   ],
   "source": [
    "# 객체 생성하기 -> 변수이름 = 클래스이름()\n",
    "mem1 = Member()\n",
    "\n",
    "# 객체에게 부여된 멤버변수 출력하기\n",
    "print(mem1.userid)\n",
    "print(mem1.email)\n",
    "print(mem1.phone)"
   ]
  },
  {
   "cell_type": "markdown",
   "metadata": {},
   "source": [
    "#### 객체안에 포함된 값 변경하기"
   ]
  },
  {
   "cell_type": "code",
   "execution_count": 3,
   "metadata": {},
   "outputs": [
    {
     "name": "stdout",
     "output_type": "stream",
     "text": [
      "life\n",
      "life@naver.com\n",
      "01098765432\n"
     ]
    }
   ],
   "source": [
    "# 객체 안에 내장된 변수는 일반 변수와 동일하게 사용 가능.\n",
    "# -> 값을 변경하는 것도 가능.\n",
    "mem1.userid = \"life\"\n",
    "mem1.email = \"life@naver.com\"\n",
    "mem1.phone = \"01098765432\"\n",
    "print(mem1.userid)\n",
    "print(mem1.email)\n",
    "print(mem1.phone)"
   ]
  },
  {
   "cell_type": "markdown",
   "metadata": {},
   "source": [
    "#### 클래스의 재사용\n",
    "\n",
    "정의된 클래스는 몇번이고 재사용 할 수 있다.\n",
    "\n",
    "같은 자료구조를 갖는 객체를 여러개 생성할 수 있다.\n",
    "\n",
    "클래스 = 붕어빵 틀, 객체 = 붕어빵"
   ]
  },
  {
   "cell_type": "code",
   "execution_count": 5,
   "metadata": {},
   "outputs": [
    {
     "name": "stdout",
     "output_type": "stream",
     "text": [
      "hello\n",
      "hello@daum.com\n",
      "01087682342\n"
     ]
    }
   ],
   "source": [
    "mem2 = Member()\n",
    "mem2.userid = \"hello\"\n",
    "mem2.email = \"hello@daum.com\"\n",
    "mem2.phone = \"01087682342\"\n",
    "print(mem2.userid)\n",
    "print(mem2.email)\n",
    "print(mem2.phone)"
   ]
  },
  {
   "cell_type": "markdown",
   "metadata": {},
   "source": [
    "#### 함수를 그룹화 하는 클래스 정의하기"
   ]
  },
  {
   "cell_type": "code",
   "execution_count": 6,
   "metadata": {},
   "outputs": [],
   "source": [
    "class Calc:\n",
    "    # 클래스에 포함되는 함수들은 반드시 첫 번째 파라미터 self를 정의해야 한다.\n",
    "    def plus(self, x, y):\n",
    "        return x+y\n",
    "\n",
    "    def minus(self, x, y):\n",
    "        return x-y\n",
    "\n",
    "    def all(self, x, y):\n",
    "        # 같은 클래스에 소속된 함수들끼리 호출할 경우\n",
    "        # self.함수이름() 형식으로 접근 가능.\n",
    "        a = self.plus(x, y)\n",
    "        b = self.minus(x, y)\n",
    "\n",
    "        # 튜플로 묶어서 여러개의 값을 한번에 리턴\n",
    "        return (a, b)"
   ]
  },
  {
   "cell_type": "markdown",
   "metadata": {},
   "source": [
    "#### 클래스를 통한 객체 생성"
   ]
  },
  {
   "cell_type": "code",
   "execution_count": 7,
   "metadata": {},
   "outputs": [],
   "source": [
    "# 생성되는 객체는 클래스에 정의된 모든 함수를 부여받는다.\n",
    "my = Calc()"
   ]
  },
  {
   "cell_type": "markdown",
   "metadata": {},
   "source": [
    "#### 객체를 통한 함수의 호출\n",
    "\n",
    "메서드(=함수)에 정의된 self는 호출시에 값을 전달하지 않는다."
   ]
  },
  {
   "cell_type": "code",
   "execution_count": 8,
   "metadata": {},
   "outputs": [
    {
     "name": "stdout",
     "output_type": "stream",
     "text": [
      "30\n",
      "50\n"
     ]
    }
   ],
   "source": [
    "print( my.plus(10, 20) )\n",
    "print( my.minus(100, 50) )"
   ]
  },
  {
   "cell_type": "markdown",
   "metadata": {},
   "source": [
    "#### 튜플을 리턴하는 메서드 사용하기"
   ]
  },
  {
   "cell_type": "code",
   "execution_count": 9,
   "metadata": {},
   "outputs": [
    {
     "name": "stdout",
     "output_type": "stream",
     "text": [
      "30\n",
      "-10\n"
     ]
    }
   ],
   "source": [
    "# all() 함수는 튜플을 리턴한다.\n",
    "a = my.all(10, 20)\n",
    "# -> 튜플의 각 원소 확인\n",
    "print( a[0] )\n",
    "print( a[1] )"
   ]
  },
  {
   "cell_type": "code",
   "execution_count": 11,
   "metadata": {},
   "outputs": [
    {
     "name": "stdout",
     "output_type": "stream",
     "text": [
      "300\n",
      "-100\n"
     ]
    }
   ],
   "source": [
    "# 튜플로 묶여서 리턴되는 경우 튜플의 각 원소를\n",
    "# 콤마로 구분하여 각각 반환받을 수 있다.\n",
    "p,m = my.all(100, 200)\n",
    "print(p)\n",
    "print(m)"
   ]
  },
  {
   "cell_type": "code",
   "execution_count": null,
   "metadata": {},
   "outputs": [],
   "source": []
  }
 ],
 "metadata": {
  "kernelspec": {
   "display_name": "Python 3 (ipykernel)",
   "language": "python",
   "name": "python3"
  },
  "language_info": {
   "codemirror_mode": {
    "name": "ipython",
    "version": 3
   },
   "file_extension": ".py",
   "mimetype": "text/x-python",
   "name": "python",
   "nbconvert_exporter": "python",
   "pygments_lexer": "ipython3",
   "version": "3.9.5"
  }
 },
 "nbformat": 4,
 "nbformat_minor": 4
}
