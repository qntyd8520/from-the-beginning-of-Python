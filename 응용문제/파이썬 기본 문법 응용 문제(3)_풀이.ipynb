{
 "cells": [
  {
   "cell_type": "markdown",
   "metadata": {},
   "source": [
    "# 파이썬 기본 문법 응용 문제 (3)\n",
    "\n",
    "---\n",
    "\n",
    "### 문제 1\n",
    "\n",
    "다음의 리스트는 어느 학급의 중간고사 성적을 나타낸다\n",
    "\n",
    "```python\n",
    "exam = {\n",
    "    \"철수\": [89, 82, 79, 91],\n",
    "    \"민영\": [91, 95, 94, 89],\n",
    "    \"남철\": [65, 57, 71, 64],\n",
    "    \"혜진\": [82, 76, 81, 83]\n",
    "}\n",
    "```\n",
    "\n",
    "위 데이터에서 학생별 총점과 평균을 구하시오.\n",
    "\n",
    "##### 출력결과\n",
    "\n",
    "```\n",
    "철수의 총점은 341점 이고 평균은 85점 입니다.\n",
    "민영의 총점은 369점 이고 평균은 92점 입니다.\n",
    "남철의 총점은 257점 이고 평균은 64점 입니다.\n",
    "혜진의 총점은 322점 이고 평균은 80점 입니다.\n",
    "```"
   ]
  },
  {
   "cell_type": "code",
   "execution_count": 1,
   "metadata": {},
   "outputs": [
    {
     "name": "stdout",
     "output_type": "stream",
     "text": [
      "['철수', '민영', '남철', '혜진']\n",
      "철수의 총점은 341점 이고 평균은 85점 입니다.\n",
      "민영의 총점은 369점 이고 평균은 92점 입니다.\n",
      "남철의 총점은 257점 이고 평균은 64점 입니다.\n",
      "혜진의 총점은 322점 이고 평균은 80점 입니다.\n"
     ]
    }
   ],
   "source": [
    "exam = {\n",
    "    \"철수\": [89, 82, 79, 91],\n",
    "    \"민영\": [91, 95, 94, 89],\n",
    "    \"남철\": [65, 57, 71, 64],\n",
    "    \"혜진\": [82, 76, 81, 83]\n",
    "}\n",
    "\n",
    "student = list(exam.keys())\n",
    "print(student)\n",
    "for i in student:\n",
    "    item = exam[i]\n",
    "    \n",
    "    total = 0\n",
    "    \n",
    "    for j in item:\n",
    "        total += j\n",
    "    \n",
    "    avg = total / len(item)\n",
    "    \n",
    "    print(\"%s의 총점은 %d점 이고 평균은 %d점 입니다.\" % (i, total, avg))"
   ]
  },
  {
   "cell_type": "markdown",
   "metadata": {},
   "source": [
    "---\n",
    "\n",
    "### 문제2\n",
    "\n",
    "위 1번 문제의 점수가 순서대로 국어, 영어, 수학, 과학일 경우 수학에 대한 모든 학생의 총점과 평균을 구하시오."
   ]
  },
  {
   "cell_type": "code",
   "execution_count": 2,
   "metadata": {},
   "outputs": [
    {
     "name": "stdout",
     "output_type": "stream",
     "text": [
      "['철수', '민영', '남철', '혜진']\n",
      "모든 학생의 수학 총점은 325점 이고 평균은 81점 입니다.\n"
     ]
    }
   ],
   "source": [
    "exam = {\n",
    "    \"철수\": [89, 82, 79, 91],\n",
    "    \"민영\": [91, 95, 94, 89],\n",
    "    \"남철\": [65, 57, 71, 64],\n",
    "    \"혜진\": [82, 76, 81, 83]\n",
    "}\n",
    "\n",
    "student = list(exam.keys())\n",
    "print(student)\n",
    "\n",
    "math = 0\n",
    "\n",
    "for i in student:\n",
    "    item = exam[i]\n",
    "    math += item[2]\n",
    "    \n",
    "avg = math / len(student)\n",
    "\n",
    "print(\"모든 학생의 수학 총점은 %d점 이고 평균은 %d점 입니다.\" % (math, avg))"
   ]
  },
  {
   "cell_type": "markdown",
   "metadata": {},
   "source": [
    "---\n",
    "\n",
    "### 문제3\n",
    "\n",
    "구구단 프로그램을 만들고자 한다.\n",
    "\n",
    "전체를 출력하는 구구단이 아니라 1번을 입력하면 홀수 단(3, 5, 7, 9) 2번을 입력하면 짝수 단(2, 4, 6, 8)을 출력하는 프로그램을 완성하시오."
   ]
  },
  {
   "cell_type": "code",
   "execution_count": 4,
   "metadata": {
    "tags": []
   },
   "outputs": [
    {
     "name": "stdin",
     "output_type": "stream",
     "text": [
      "숫자를 입력하세요 :  2\n"
     ]
    },
    {
     "name": "stdout",
     "output_type": "stream",
     "text": [
      "2 x 1 = 2\n",
      "2 x 2 = 4\n",
      "2 x 3 = 6\n",
      "2 x 4 = 8\n",
      "2 x 5 = 10\n",
      "2 x 6 = 12\n",
      "2 x 7 = 14\n",
      "2 x 8 = 16\n",
      "2 x 9 = 18\n",
      "4 x 1 = 4\n",
      "4 x 2 = 8\n",
      "4 x 3 = 12\n",
      "4 x 4 = 16\n",
      "4 x 5 = 20\n",
      "4 x 6 = 24\n",
      "4 x 7 = 28\n",
      "4 x 8 = 32\n",
      "4 x 9 = 36\n",
      "6 x 1 = 6\n",
      "6 x 2 = 12\n",
      "6 x 3 = 18\n",
      "6 x 4 = 24\n",
      "6 x 5 = 30\n",
      "6 x 6 = 36\n",
      "6 x 7 = 42\n",
      "6 x 8 = 48\n",
      "6 x 9 = 54\n",
      "8 x 1 = 8\n",
      "8 x 2 = 16\n",
      "8 x 3 = 24\n",
      "8 x 4 = 32\n",
      "8 x 5 = 40\n",
      "8 x 6 = 48\n",
      "8 x 7 = 56\n",
      "8 x 8 = 64\n",
      "8 x 9 = 72\n"
     ]
    }
   ],
   "source": [
    "number = int(input(\"숫자를 입력하세요 : \"))\n",
    "\n",
    "x = None\n",
    "y = None\n",
    "\n",
    "if number == 1:\n",
    "    x = 3\n",
    "    y = 10\n",
    "elif number == 2:\n",
    "    x = 2\n",
    "    y = 9\n",
    "else:\n",
    "    print(\"1과 2가 아닌숫자를 입력하였습니다.\")\n",
    "        \n",
    "for i in range(x, y, 2):\n",
    "    for j in range(1, 10):\n",
    "        print(\"%d x %d = %d\" % (i, j, i*j))"
   ]
  },
  {
   "cell_type": "markdown",
   "metadata": {},
   "source": [
    "---\n",
    "\n",
    "### 문제4\n",
    "\n",
    "아래와 같은 출력 결과가 나타나도록 중첩 반복문을 for 문 형식으로 구현하시오.\n",
    "\n",
    "```\n",
    "1\n",
    "12\n",
    "123\n",
    "1234\n",
    "12345\n",
    "123456\n",
    "1234567\n",
    "```"
   ]
  },
  {
   "cell_type": "code",
   "execution_count": 5,
   "metadata": {},
   "outputs": [
    {
     "name": "stdout",
     "output_type": "stream",
     "text": [
      " 1\n",
      " 12\n",
      " 123\n",
      " 1234\n",
      " 12345\n",
      " 123456\n",
      " 1234567\n"
     ]
    }
   ],
   "source": [
    "for i in range(0, 7):\n",
    "    s = \" \"\n",
    "    for j in range(0, i+1):\n",
    "        s += str(j+1)\n",
    "        \n",
    "    print(s)"
   ]
  },
  {
   "cell_type": "markdown",
   "metadata": {},
   "source": [
    "---\n",
    "\n",
    "## 문제 5.\n",
    "\n",
    "유효한 주민등록번호인지 아닌지를 판별하는 코드를 짜보자. 판별 방법은 아래와 같다.\n",
    "\n",
    "- 기본 주민등록코드에는 각 숫자에 대응하는 가중치가 있다. 가중치는 주민등록번호의 순서에 따라 `2 3 4 5 6 7 8 9 2 3 4 5` 이다.\n",
    "- 먼저 마지막 숫자는 제외하고, 기본코드의 각 12자리와 가중치를 모두 곱하여 합한다.\n",
    "- 합한 값을 11로 나눈 나머지 값을 구한다.\n",
    "- 11에서 그 나머지 값을 뺀 후, 이를 10을 나눈 나머지를 구한다.\n",
    "- 나머지의 1의 자리 값과 주민등록번호 마지막 자리 값이 맞아야 유효한 주민등록번호이다."
   ]
  },
  {
   "cell_type": "code",
   "execution_count": 6,
   "metadata": {},
   "outputs": [
    {
     "name": "stdout",
     "output_type": "stream",
     "text": [
      "유효하지 않습니다.\n"
     ]
    }
   ],
   "source": [
    "num = \"9607171411111\"\n",
    "\n",
    "lennum = len(num)\n",
    "total = 0\n",
    "x = 2\n",
    "\n",
    "for i in range(0, lennum-1):\n",
    "    total += int(num[i]) * x\n",
    "    \n",
    "    x += 1\n",
    "    if x > 9:\n",
    "        x = 2\n",
    "        \n",
    "y = total % 11\n",
    "z = (11 - y) % 10\n",
    "\n",
    "if z == int(num[-1]):\n",
    "    print(\"유효합니다.\")\n",
    "else:\n",
    "    print(\"유효하지 않습니다.\")"
   ]
  },
  {
   "cell_type": "code",
   "execution_count": null,
   "metadata": {},
   "outputs": [],
   "source": []
  }
 ],
 "metadata": {
  "kernelspec": {
   "display_name": "Python 3 (ipykernel)",
   "language": "python",
   "name": "python3"
  },
  "language_info": {
   "codemirror_mode": {
    "name": "ipython",
    "version": 3
   },
   "file_extension": ".py",
   "mimetype": "text/x-python",
   "name": "python",
   "nbconvert_exporter": "python",
   "pygments_lexer": "ipython3",
   "version": "3.9.5"
  }
 },
 "nbformat": 4,
 "nbformat_minor": 4
}
