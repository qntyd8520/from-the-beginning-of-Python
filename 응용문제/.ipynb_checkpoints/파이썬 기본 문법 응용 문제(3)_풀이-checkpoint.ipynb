{
 "cells": [
  {
   "cell_type": "markdown",
   "metadata": {},
   "source": [
    "# 파이썬 기본 문법 응용 문제 (3)\n",
    "\n",
    "---\n",
    "\n",
    "### 문제 1\n",
    "\n",
    "다음의 리스트는 어느 학급의 중간고사 성적을 나타낸다\n",
    "\n",
    "```python\n",
    "exam = {\n",
    "    \"철수\": [89, 82, 79, 91],\n",
    "    \"민영\": [91, 95, 94, 89],\n",
    "    \"남철\": [65, 57, 71, 64],\n",
    "    \"혜진\": [82, 76, 81, 83]\n",
    "}\n",
    "```\n",
    "\n",
    "위 데이터에서 학생별 총점과 평균을 구하시오.\n",
    "\n",
    "##### 출력결과\n",
    "\n",
    "```\n",
    "철수의 총점은 341점 이고 평균은 85점 입니다.\n",
    "민영의 총점은 369점 이고 평균은 92점 입니다.\n",
    "남철의 총점은 257점 이고 평균은 64점 입니다.\n",
    "혜진의 총점은 322점 이고 평균은 80점 입니다.\n",
    "```"
   ]
  },
  {
   "cell_type": "code",
   "execution_count": 7,
   "metadata": {},
   "outputs": [
    {
     "name": "stdout",
     "output_type": "stream",
     "text": [
      "['철수', '민영', '남철', '혜진']\n",
      "철수의 총점은 341점 이고 평균은 85점 입니다.\n",
      "민영의 총점은 369점 이고 평균은 92점 입니다.\n",
      "남철의 총점은 257점 이고 평균은 64점 입니다.\n",
      "혜진의 총점은 322점 이고 평균은 80점 입니다.\n"
     ]
    }
   ],
   "source": [
    "exam = {\n",
    "    \"철수\": [89, 82, 79, 91],\n",
    "    \"민영\": [91, 95, 94, 89],\n",
    "    \"남철\": [65, 57, 71, 64],\n",
    "    \"혜진\": [82, 76, 81, 83]\n",
    "}\n",
    "\n",
    "# 학생 이름만 리스트로 추출\n",
    "students = list(exam.keys())\n",
    "print(students)\n",
    "\n",
    "# 학생 이름만큼 반복\n",
    "for i in students:\n",
    "    # 딕셔너리에서 학생 이름에 해당하는 값 추출 --> 점수 리스트\n",
    "    item = exam[i]\n",
    "    \n",
    "    # 학생별 총점이므로 학생 한 명에 해당하는 반복문 안에서 변수가 초기화 되어야 한다.\n",
    "    total = 0\n",
    "    \n",
    "    for j in item:\n",
    "        total += j\n",
    "    \n",
    "    avg = total / len(item)\n",
    "    \n",
    "    print(\"%s의 총점은 %d점 이고 평균은 %d점 입니다.\" % (i, total, avg))"
   ]
  },
  {
   "cell_type": "markdown",
   "metadata": {},
   "source": [
    "---\n",
    "\n",
    "### 문제2\n",
    "\n",
    "위 1번 문제의 점수가 순서대로 국어, 영어, 수학, 과학일 경우 수학에 대한 모든 학생의 총점과 평균을 구하시오."
   ]
  },
  {
   "cell_type": "code",
   "execution_count": 8,
   "metadata": {},
   "outputs": [
    {
     "name": "stdout",
     "output_type": "stream",
     "text": [
      "['철수', '민영', '남철', '혜진']\n",
      "모든 학생의 수학 총점은 325점 이고 평균은 81점 입니다.\n"
     ]
    }
   ],
   "source": [
    "exam = {\n",
    "    \"철수\": [89, 82, 79, 91],\n",
    "    \"민영\": [91, 95, 94, 89],\n",
    "    \"남철\": [65, 57, 71, 64],\n",
    "    \"혜진\": [82, 76, 81, 83]\n",
    "}\n",
    "\n",
    "# 학생 이름만 리스트로 추출\n",
    "students = list(exam.keys())\n",
    "print(students)\n",
    "\n",
    "# 모든 학생의 수학총점\n",
    "math_sum = 0\n",
    "\n",
    "# 학생 이름만큼 반복\n",
    "for i in students:\n",
    "    # 딕셔너리에서 학생 이름에 해당하는 값 추출 --> 점수 리스트\n",
    "    item = exam[i]\n",
    "    # 수학에 해당하는 항목만 더한다.\n",
    "    math_sum += item[2]\n",
    "    \n",
    "# 모든 학생의 수학 총점을 학생수 만큼 나눈다.\n",
    "math_avg = math_sum / len(students)\n",
    "\n",
    "print(\"모든 학생의 수학 총점은 %d점 이고 평균은 %d점 입니다.\" % (math_sum, math_avg))"
   ]
  },
  {
   "cell_type": "markdown",
   "metadata": {},
   "source": [
    "---\n",
    "\n",
    "### 문제3\n",
    "\n",
    "구구단 프로그램을 만들고자 한다.\n",
    "\n",
    "전체를 출력하는 구구단이 아니라 1번을 입력하면 홀수 단(3, 5, 7, 9) 2번을 입력하면 짝수 단(2, 4, 6, 8)을 출력하는 프로그램을 완성하시오."
   ]
  },
  {
   "cell_type": "code",
   "execution_count": 2,
   "metadata": {
    "collapsed": true,
    "jupyter": {
     "outputs_hidden": true
    },
    "tags": []
   },
   "outputs": [
    {
     "name": "stdin",
     "output_type": "stream",
     "text": [
      "숫자를 입력하세요:  1\n"
     ]
    },
    {
     "name": "stdout",
     "output_type": "stream",
     "text": [
      "3 x 1 = 3\n",
      "3 x 2 = 6\n",
      "3 x 3 = 9\n",
      "3 x 4 = 12\n",
      "3 x 5 = 15\n",
      "3 x 6 = 18\n",
      "3 x 7 = 21\n",
      "3 x 8 = 24\n",
      "3 x 9 = 27\n",
      "5 x 1 = 5\n",
      "5 x 2 = 10\n",
      "5 x 3 = 15\n",
      "5 x 4 = 20\n",
      "5 x 5 = 25\n",
      "5 x 6 = 30\n",
      "5 x 7 = 35\n",
      "5 x 8 = 40\n",
      "5 x 9 = 45\n",
      "7 x 1 = 7\n",
      "7 x 2 = 14\n",
      "7 x 3 = 21\n",
      "7 x 4 = 28\n",
      "7 x 5 = 35\n",
      "7 x 6 = 42\n",
      "7 x 7 = 49\n",
      "7 x 8 = 56\n",
      "7 x 9 = 63\n",
      "9 x 1 = 9\n",
      "9 x 2 = 18\n",
      "9 x 3 = 27\n",
      "9 x 4 = 36\n",
      "9 x 5 = 45\n",
      "9 x 6 = 54\n",
      "9 x 7 = 63\n",
      "9 x 8 = 72\n",
      "9 x 9 = 81\n"
     ]
    }
   ],
   "source": [
    "number = int(input(\"숫자를 입력하세요: \"))\n",
    "\n",
    "start = None\n",
    "end = None\n",
    "\n",
    "if number == 1:\n",
    "    start = 3\n",
    "    end = 10\n",
    "elif number == 2:\n",
    "    start = 2\n",
    "    end = 9\n",
    "        \n",
    "for i in range(start, end, 2):\n",
    "    for j in range(1, 10):\n",
    "        print(\"%d x %d = %d\" % (i, j, i*j))"
   ]
  },
  {
   "cell_type": "code",
   "execution_count": null,
   "metadata": {},
   "outputs": [],
   "source": [
    "number = int(input(\"숫자를 입력하세요: \"))\n",
    "\n",
    "# f(x) = 4-x라는 방정식을 세워서 적용한 경우.\n",
    "for i in range(4-number, 10, 2):\n",
    "    for j in range(1, 10):\n",
    "        print(\"%d x %d = %d\" % (i, j, i*j))"
   ]
  },
  {
   "cell_type": "markdown",
   "metadata": {},
   "source": [
    "---\n",
    "\n",
    "### 문제4\n",
    "\n",
    "아래와 같은 출력 결과가 나타나도록 중첩 반복문을 for 문 형식으로 구현하시오.\n",
    "\n",
    "```\n",
    "1\n",
    "12\n",
    "123\n",
    "1234\n",
    "12345\n",
    "123456\n",
    "1234567\n",
    "```"
   ]
  },
  {
   "cell_type": "code",
   "execution_count": 5,
   "metadata": {},
   "outputs": [
    {
     "name": "stdout",
     "output_type": "stream",
     "text": [
      "1\n",
      "12\n",
      "123\n",
      "1234\n",
      "12345\n",
      "123456\n",
      "1234567\n"
     ]
    }
   ],
   "source": [
    "for i in range(0, 7):\n",
    "    s = \"\"\n",
    "    for j in range(0, i+1):\n",
    "        s += str(j+1)\n",
    "        \n",
    "    print(s)"
   ]
  },
  {
   "cell_type": "markdown",
   "metadata": {},
   "source": [
    "---\n",
    "\n",
    "## 문제 5.\n",
    "\n",
    "유효한 주민등록번호인지 아닌지를 판별하는 코드를 짜보자. 판별 방법은 아래와 같다.\n",
    "\n",
    "- 기본 주민등록코드에는 각 숫자에 대응하는 가중치가 있다. 가중치는 주민등록번호의 순서에 따라 `2 3 4 5 6 7 8 9 2 3 4 5` 이다.\n",
    "- 먼저 마지막 숫자는 제외하고, 기본코드의 각 12자리와 가중치를 모두 곱하여 합한다.\n",
    "- 합한 값을 11로 나눈 나머지 값을 구한다.\n",
    "- 11에서 그 나머지 값을 뺀 후, 이를 10을 나눈 나머지를 구한다.\n",
    "- 나머지의 1의 자리 값과 주민등록번호 마지막 자리 값이 맞아야 유효한 주민등록번호이다."
   ]
  },
  {
   "cell_type": "code",
   "execution_count": 1,
   "metadata": {},
   "outputs": [
    {
     "name": "stdout",
     "output_type": "stream",
     "text": [
      "유효하지 않습니다.\n"
     ]
    }
   ],
   "source": [
    "ssn = \"0112131000123\"\n",
    "\n",
    "# 주민번호의 글자수 \n",
    "ssnlen = len(ssn)\n",
    "\n",
    "# 가중치*각자리수의 총합\n",
    "total = 0\n",
    "\n",
    "# 가중치 \n",
    "k = 2\n",
    "\n",
    "# 마지막 글자를 제외하고 인덱싱\n",
    "for i in range(0, ssnlen-1):\n",
    "    # 문자열 인덱싱의 결과는 문자열이므로 정수로 변환후 가중치를 곱해야 한다.\n",
    "    total += int(ssn[i]) * k\n",
    "    \n",
    "    # 가중치 규칙 적용\n",
    "    k += 1\n",
    "    if k > 9:\n",
    "        k = 2\n",
    "        \n",
    "s = total % 11\n",
    "t = (11 - s) % 10\n",
    "\n",
    "if t == int(ssn[-1]):\n",
    "    print(\"유효합니다.\")\n",
    "else:\n",
    "    print(\"유효하지 않습니다.\")"
   ]
  },
  {
   "cell_type": "code",
   "execution_count": null,
   "metadata": {},
   "outputs": [],
   "source": []
  }
 ],
 "metadata": {
  "kernelspec": {
   "display_name": "Python 3",
   "language": "python",
   "name": "python3"
  },
  "language_info": {
   "codemirror_mode": {
    "name": "ipython",
    "version": 3
   },
   "file_extension": ".py",
   "mimetype": "text/x-python",
   "name": "python",
   "nbconvert_exporter": "python",
   "pygments_lexer": "ipython3",
   "version": "3.8.6"
  }
 },
 "nbformat": 4,
 "nbformat_minor": 4
}
