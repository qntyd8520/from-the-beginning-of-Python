{
 "cells": [
  {
   "cell_type": "markdown",
   "metadata": {},
   "source": [
    "# 파이썬 기본 문법 응용 문제 (1)"
   ]
  },
  {
   "cell_type": "markdown",
   "metadata": {},
   "source": [
    "----\n",
    "\n",
    "## 문제1\n",
    "\n",
    "2~10 사이의 숫자 x, y를 입력받은 후 1부터 100까지의 자연수 중에서 x와 y의 공배수를 모두 출력하고 총 합이 얼마인지 출력하시오."
   ]
  },
  {
   "cell_type": "code",
   "execution_count": 3,
   "metadata": {},
   "outputs": [
    {
     "name": "stdin",
     "output_type": "stream",
     "text": [
      "x를 입력하세요 :  2\n",
      "y를 입력하세요 :  9\n"
     ]
    },
    {
     "name": "stdout",
     "output_type": "stream",
     "text": [
      "18\n",
      "36\n",
      "54\n",
      "72\n",
      "90\n",
      "2와 9의 공배수의 합 : 270\n"
     ]
    }
   ],
   "source": [
    "x = int(input(\"x를 입력하세요 : \"))\n",
    "y = int(input(\"y를 입력하세요 : \"))\n",
    "\n",
    "sum_x = 0\n",
    "\n",
    "for i in range(1, 101):\n",
    "    if i % x == 0 and i % y == 0:\n",
    "        print(i)\n",
    "        sum_x += i\n",
    "        \n",
    "print(\"%d와 %d의 공배수의 합 : %d\" % (x, y, sum_x))"
   ]
  },
  {
   "cell_type": "markdown",
   "metadata": {},
   "source": [
    "---\n",
    "\n",
    "## 문제2\n",
    "\n",
    "하나의 정수 x를 입력받아 x개의 행을 출력하는 별찍기 프로그램을 작성하시오.\n",
    "\n",
    "- 첫 번째 행은 1개의 별을 출력하고, \n",
    "- 두 번재 행은 2개의 별을 출력하고,\n",
    "- x 번째 행은 x개의 별을 출력합니다."
   ]
  },
  {
   "cell_type": "code",
   "execution_count": 4,
   "metadata": {},
   "outputs": [
    {
     "name": "stdin",
     "output_type": "stream",
     "text": [
      "숫자를 입력하세요 :  7\n"
     ]
    },
    {
     "name": "stdout",
     "output_type": "stream",
     "text": [
      "*\n",
      "**\n",
      "***\n",
      "****\n",
      "*****\n",
      "******\n",
      "*******\n"
     ]
    }
   ],
   "source": [
    "x = int(input(\"숫자를 입력하세요 : \"))\n",
    "\n",
    "for i in range(0, x):\n",
    "    y = \"\"\n",
    "    for j in range(0, i+1):\n",
    "        y += \"*\"\n",
    "    \n",
    "    print(y)"
   ]
  },
  {
   "cell_type": "markdown",
   "metadata": {},
   "source": [
    "----\n",
    "\n",
    "## 문제3\n",
    "\n",
    "n개의 과목에 대한 점수를 입력하는 프로그램을 만들고자 한다.\n",
    "\n",
    "숫자 n을 입력 받아 n번 반복을 수행하면서 숫자를 입력받는다.\n",
    "\n",
    "반복문 안에서 입력받은 숫자는 data라는 리스트의 원소로 추가된다.\n",
    "\n",
    "이 리스트의 모든 원소에 대한 총합과 평균을 구하시오.\n",
    "\n",
    "(평균은 소수점 둘째 자리까지만 표시한다.)"
   ]
  },
  {
   "cell_type": "code",
   "execution_count": 5,
   "metadata": {},
   "outputs": [
    {
     "name": "stdin",
     "output_type": "stream",
     "text": [
      "숫자를 입력하세요 :  3\n",
      "1번째 점수를 입력하세요 :  33\n",
      "2번째 점수를 입력하세요 :  66\n",
      "3번째 점수를 입력하세요 :  99\n"
     ]
    },
    {
     "name": "stdout",
     "output_type": "stream",
     "text": [
      "총합: 198, 평균: 66.00\n"
     ]
    }
   ],
   "source": [
    "n = int(input(\"숫자를 입력하세요 : \"))\n",
    "\n",
    "data = []\n",
    "sum_x = 0\n",
    "\n",
    "for i in range(0, n):\n",
    "    x = int(input(\"%d번째 점수를 입력하세요 : \" % (i+1)))\n",
    "    data.append(x)\n",
    "    sum_x += x\n",
    "    \n",
    "avg = sum_x / len(data)\n",
    "\n",
    "print(\"총합: %d, 평균: %0.2f\" % (sum_x, avg))"
   ]
  },
  {
   "cell_type": "markdown",
   "metadata": {},
   "source": [
    "---\n",
    "\n",
    "## 문제4\n",
    "\n",
    "`n`개의 숫자를 입력받아서 리스트에 원소로 추가한 후 그 숫자들 중에서 가장 큰 값을 구하는 프로그램을 작성하시오.\n",
    "\n",
    "단, 최대값은 `max()`함수를 사용하지 않고 반복문을 통해 직접 구해야 합니다."
   ]
  },
  {
   "cell_type": "code",
   "execution_count": 6,
   "metadata": {},
   "outputs": [
    {
     "name": "stdin",
     "output_type": "stream",
     "text": [
      "숫자를 입력하세요: 5\n",
      "1번째 숫자를 입력하세요: 1\n",
      "2번째 숫자를 입력하세요: 9\n",
      "3번째 숫자를 입력하세요: 5\n",
      "4번째 숫자를 입력하세요: 7\n",
      "5번째 숫자를 입력하세요: 3\n"
     ]
    },
    {
     "data": {
      "text/plain": [
       "9"
      ]
     },
     "execution_count": 6,
     "metadata": {},
     "output_type": "execute_result"
    }
   ],
   "source": [
    "n = int(input(\"숫자를 입력하세요:\"))\n",
    "\n",
    "data = []\n",
    "\n",
    "for i in range(0, n):\n",
    "    x = int(input(\"%d번째 숫자를 입력하세요:\" % (i+1)))\n",
    "    data.append(x)\n",
    "    \n",
    "max = 0\n",
    "\n",
    "for i in data:\n",
    "    if max < i:\n",
    "        max = i\n",
    "        \n",
    "max"
   ]
  },
  {
   "cell_type": "markdown",
   "metadata": {},
   "source": [
    "---\n",
    "\n",
    "## 문제5\n",
    "\n",
    "`n`개의 숫자를 입력받아서 리스트에 원소로 추가한 후 그 숫자를 오름차순으로 정렬한 결과를 출력하는 프로그램을 작성하시오.\n",
    "\n",
    "단, 정렬은 `sort()`함수를 사용하지 않고 반복문을 통해 직접 처리해야 합니다."
   ]
  },
  {
   "cell_type": "code",
   "execution_count": 7,
   "metadata": {},
   "outputs": [
    {
     "name": "stdin",
     "output_type": "stream",
     "text": [
      "숫자를 입력하세요: 5\n",
      "1번째 숫자를 입력하세요: 1\n",
      "2번째 숫자를 입력하세요: 9\n",
      "3번째 숫자를 입력하세요: 5\n",
      "4번째 숫자를 입력하세요: 7\n",
      "5번째 숫자를 입력하세요: 3\n"
     ]
    },
    {
     "data": {
      "text/plain": [
       "[1, 3, 5, 7, 9]"
      ]
     },
     "execution_count": 7,
     "metadata": {},
     "output_type": "execute_result"
    }
   ],
   "source": [
    "n = int(input(\"숫자를 입력하세요:\"))\n",
    "\n",
    "data = []\n",
    "\n",
    "for i in range(0, n):\n",
    "    x = int(input(\"%d번째 숫자를 입력하세요:\" % (i+1)))\n",
    "    data.append(x)\n",
    "\n",
    "for i in range(0, n-1):\n",
    "    for j in range(i+1, n):\n",
    "        if data[i] > data[j]:\n",
    "            data[i], data[j] = data[j], data[i]\n",
    "            \n",
    "data"
   ]
  },
  {
   "cell_type": "code",
   "execution_count": null,
   "metadata": {},
   "outputs": [],
   "source": []
  }
 ],
 "metadata": {
  "kernelspec": {
   "display_name": "Python 3 (ipykernel)",
   "language": "python",
   "name": "python3"
  },
  "language_info": {
   "codemirror_mode": {
    "name": "ipython",
    "version": 3
   },
   "file_extension": ".py",
   "mimetype": "text/x-python",
   "name": "python",
   "nbconvert_exporter": "python",
   "pygments_lexer": "ipython3",
   "version": "3.9.5"
  }
 },
 "nbformat": 4,
 "nbformat_minor": 4
}
