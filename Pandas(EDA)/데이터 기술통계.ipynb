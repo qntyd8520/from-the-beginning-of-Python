{
 "cells": [
  {
   "cell_type": "code",
   "execution_count": 1,
   "id": "66f8e215-7b15-4476-a094-05d17a342b93",
   "metadata": {},
   "outputs": [],
   "source": [
    "import pandas as pd\n",
    "import matplotlib.pyplot as plt\n",
    "import seaborn as sns"
   ]
  },
  {
   "cell_type": "code",
   "execution_count": 2,
   "id": "edd070bc-060f-47bc-bb12-71ffe20dfc2a",
   "metadata": {},
   "outputs": [
    {
     "data": {
      "text/html": [
       "<div>\n",
       "<style scoped>\n",
       "    .dataframe tbody tr th:only-of-type {\n",
       "        vertical-align: middle;\n",
       "    }\n",
       "\n",
       "    .dataframe tbody tr th {\n",
       "        vertical-align: top;\n",
       "    }\n",
       "\n",
       "    .dataframe thead th {\n",
       "        text-align: right;\n",
       "    }\n",
       "</style>\n",
       "<table border=\"1\" class=\"dataframe\">\n",
       "  <thead>\n",
       "    <tr style=\"text-align: right;\">\n",
       "      <th></th>\n",
       "      <th>이름</th>\n",
       "      <th>학년</th>\n",
       "      <th>성별</th>\n",
       "      <th>국어</th>\n",
       "      <th>영어</th>\n",
       "      <th>수학</th>\n",
       "      <th>과학</th>\n",
       "    </tr>\n",
       "  </thead>\n",
       "  <tbody>\n",
       "    <tr>\n",
       "      <th>0</th>\n",
       "      <td>철수</td>\n",
       "      <td>1</td>\n",
       "      <td>남자</td>\n",
       "      <td>98</td>\n",
       "      <td>NaN</td>\n",
       "      <td>88.0</td>\n",
       "      <td>64.0</td>\n",
       "    </tr>\n",
       "    <tr>\n",
       "      <th>1</th>\n",
       "      <td>영희</td>\n",
       "      <td>2</td>\n",
       "      <td>여자</td>\n",
       "      <td>88</td>\n",
       "      <td>90.0</td>\n",
       "      <td>62.0</td>\n",
       "      <td>72.0</td>\n",
       "    </tr>\n",
       "    <tr>\n",
       "      <th>2</th>\n",
       "      <td>민수</td>\n",
       "      <td>1</td>\n",
       "      <td>남자</td>\n",
       "      <td>92</td>\n",
       "      <td>70.0</td>\n",
       "      <td>NaN</td>\n",
       "      <td>NaN</td>\n",
       "    </tr>\n",
       "    <tr>\n",
       "      <th>3</th>\n",
       "      <td>수현</td>\n",
       "      <td>3</td>\n",
       "      <td>여자</td>\n",
       "      <td>63</td>\n",
       "      <td>60.0</td>\n",
       "      <td>31.0</td>\n",
       "      <td>70.0</td>\n",
       "    </tr>\n",
       "    <tr>\n",
       "      <th>4</th>\n",
       "      <td>호영</td>\n",
       "      <td>4</td>\n",
       "      <td>남자</td>\n",
       "      <td>120</td>\n",
       "      <td>50.0</td>\n",
       "      <td>NaN</td>\n",
       "      <td>88.0</td>\n",
       "    </tr>\n",
       "  </tbody>\n",
       "</table>\n",
       "</div>"
      ],
      "text/plain": [
       "   이름  학년  성별   국어    영어    수학    과학\n",
       "0  철수   1  남자   98   NaN  88.0  64.0\n",
       "1  영희   2  여자   88  90.0  62.0  72.0\n",
       "2  민수   1  남자   92  70.0   NaN   NaN\n",
       "3  수현   3  여자   63  60.0  31.0  70.0\n",
       "4  호영   4  남자  120  50.0   NaN  88.0"
      ]
     },
     "execution_count": 2,
     "metadata": {},
     "output_type": "execute_result"
    }
   ],
   "source": [
    "# 샘플 데이터 준비\n",
    "\n",
    "성적표 = pd.read_excel(\"http://itpaper.co.kr/data/grade_card.xlsx\", engine='openpyxl')\n",
    "성적표"
   ]
  },
  {
   "cell_type": "code",
   "execution_count": 3,
   "id": "9fc715a0-a9db-460b-9236-beee06f3dc93",
   "metadata": {},
   "outputs": [
    {
     "data": {
      "text/plain": [
       "이름    category\n",
       "학년    category\n",
       "성별    category\n",
       "국어       int64\n",
       "영어     float64\n",
       "수학     float64\n",
       "과학     float64\n",
       "dtype: object"
      ]
     },
     "execution_count": 3,
     "metadata": {},
     "output_type": "execute_result"
    }
   ],
   "source": [
    "# 이름, 학년, 성별 데이터를 명목척도로 변환\n",
    "\n",
    "성적표['이름'] = 성적표['이름'].astype('category')\n",
    "성적표['학년'] = 성적표['학년'].astype('category')\n",
    "성적표['성별'] = 성적표['성별'].astype('category')\n",
    "성적표.dtypes"
   ]
  },
  {
   "cell_type": "markdown",
   "id": "55fa6a18-41ae-4919-9dfb-fa5efaf8d051",
   "metadata": {},
   "source": [
    "#### 기초 통계량 확인"
   ]
  },
  {
   "cell_type": "code",
   "execution_count": 4,
   "id": "3bf4659a-ca18-4e42-b3bc-21b927ca069a",
   "metadata": {},
   "outputs": [
    {
     "data": {
      "text/html": [
       "<div>\n",
       "<style scoped>\n",
       "    .dataframe tbody tr th:only-of-type {\n",
       "        vertical-align: middle;\n",
       "    }\n",
       "\n",
       "    .dataframe tbody tr th {\n",
       "        vertical-align: top;\n",
       "    }\n",
       "\n",
       "    .dataframe thead th {\n",
       "        text-align: right;\n",
       "    }\n",
       "</style>\n",
       "<table border=\"1\" class=\"dataframe\">\n",
       "  <thead>\n",
       "    <tr style=\"text-align: right;\">\n",
       "      <th></th>\n",
       "      <th>국어</th>\n",
       "      <th>영어</th>\n",
       "      <th>수학</th>\n",
       "      <th>과학</th>\n",
       "    </tr>\n",
       "  </thead>\n",
       "  <tbody>\n",
       "    <tr>\n",
       "      <th>count</th>\n",
       "      <td>5.000000</td>\n",
       "      <td>4.000000</td>\n",
       "      <td>3.000000</td>\n",
       "      <td>4.000000</td>\n",
       "    </tr>\n",
       "    <tr>\n",
       "      <th>mean</th>\n",
       "      <td>92.200000</td>\n",
       "      <td>67.500000</td>\n",
       "      <td>60.333333</td>\n",
       "      <td>73.500000</td>\n",
       "    </tr>\n",
       "    <tr>\n",
       "      <th>std</th>\n",
       "      <td>20.474374</td>\n",
       "      <td>17.078251</td>\n",
       "      <td>28.536526</td>\n",
       "      <td>10.246951</td>\n",
       "    </tr>\n",
       "    <tr>\n",
       "      <th>min</th>\n",
       "      <td>63.000000</td>\n",
       "      <td>50.000000</td>\n",
       "      <td>31.000000</td>\n",
       "      <td>64.000000</td>\n",
       "    </tr>\n",
       "    <tr>\n",
       "      <th>25%</th>\n",
       "      <td>88.000000</td>\n",
       "      <td>57.500000</td>\n",
       "      <td>46.500000</td>\n",
       "      <td>68.500000</td>\n",
       "    </tr>\n",
       "    <tr>\n",
       "      <th>50%</th>\n",
       "      <td>92.000000</td>\n",
       "      <td>65.000000</td>\n",
       "      <td>62.000000</td>\n",
       "      <td>71.000000</td>\n",
       "    </tr>\n",
       "    <tr>\n",
       "      <th>75%</th>\n",
       "      <td>98.000000</td>\n",
       "      <td>75.000000</td>\n",
       "      <td>75.000000</td>\n",
       "      <td>76.000000</td>\n",
       "    </tr>\n",
       "    <tr>\n",
       "      <th>max</th>\n",
       "      <td>120.000000</td>\n",
       "      <td>90.000000</td>\n",
       "      <td>88.000000</td>\n",
       "      <td>88.000000</td>\n",
       "    </tr>\n",
       "  </tbody>\n",
       "</table>\n",
       "</div>"
      ],
      "text/plain": [
       "               국어         영어         수학         과학\n",
       "count    5.000000   4.000000   3.000000   4.000000\n",
       "mean    92.200000  67.500000  60.333333  73.500000\n",
       "std     20.474374  17.078251  28.536526  10.246951\n",
       "min     63.000000  50.000000  31.000000  64.000000\n",
       "25%     88.000000  57.500000  46.500000  68.500000\n",
       "50%     92.000000  65.000000  62.000000  71.000000\n",
       "75%     98.000000  75.000000  75.000000  76.000000\n",
       "max    120.000000  90.000000  88.000000  88.000000"
      ]
     },
     "execution_count": 4,
     "metadata": {},
     "output_type": "execute_result"
    }
   ],
   "source": [
    "# 데이터 프레임 전체에 대한 확인\n",
    "\n",
    "des = 성적표.describe()\n",
    "des"
   ]
  },
  {
   "cell_type": "code",
   "execution_count": 5,
   "id": "e9dcb6e6-7ec4-48dc-8f4a-8bb8a3926975",
   "metadata": {},
   "outputs": [
    {
     "data": {
      "text/html": [
       "<div>\n",
       "<style scoped>\n",
       "    .dataframe tbody tr th:only-of-type {\n",
       "        vertical-align: middle;\n",
       "    }\n",
       "\n",
       "    .dataframe tbody tr th {\n",
       "        vertical-align: top;\n",
       "    }\n",
       "\n",
       "    .dataframe thead th {\n",
       "        text-align: right;\n",
       "    }\n",
       "</style>\n",
       "<table border=\"1\" class=\"dataframe\">\n",
       "  <thead>\n",
       "    <tr style=\"text-align: right;\">\n",
       "      <th></th>\n",
       "      <th>국어</th>\n",
       "      <th>영어</th>\n",
       "      <th>수학</th>\n",
       "      <th>과학</th>\n",
       "    </tr>\n",
       "  </thead>\n",
       "  <tbody>\n",
       "    <tr>\n",
       "      <th>count</th>\n",
       "      <td>5.000000</td>\n",
       "      <td>4.000000</td>\n",
       "      <td>3.000000</td>\n",
       "      <td>4.000000</td>\n",
       "    </tr>\n",
       "    <tr>\n",
       "      <th>mean</th>\n",
       "      <td>92.200000</td>\n",
       "      <td>67.500000</td>\n",
       "      <td>60.333333</td>\n",
       "      <td>73.500000</td>\n",
       "    </tr>\n",
       "    <tr>\n",
       "      <th>std</th>\n",
       "      <td>20.474374</td>\n",
       "      <td>17.078251</td>\n",
       "      <td>28.536526</td>\n",
       "      <td>10.246951</td>\n",
       "    </tr>\n",
       "    <tr>\n",
       "      <th>min</th>\n",
       "      <td>63.000000</td>\n",
       "      <td>50.000000</td>\n",
       "      <td>31.000000</td>\n",
       "      <td>64.000000</td>\n",
       "    </tr>\n",
       "    <tr>\n",
       "      <th>25%</th>\n",
       "      <td>88.000000</td>\n",
       "      <td>57.500000</td>\n",
       "      <td>46.500000</td>\n",
       "      <td>68.500000</td>\n",
       "    </tr>\n",
       "    <tr>\n",
       "      <th>50%</th>\n",
       "      <td>92.000000</td>\n",
       "      <td>65.000000</td>\n",
       "      <td>62.000000</td>\n",
       "      <td>71.000000</td>\n",
       "    </tr>\n",
       "    <tr>\n",
       "      <th>75%</th>\n",
       "      <td>98.000000</td>\n",
       "      <td>75.000000</td>\n",
       "      <td>75.000000</td>\n",
       "      <td>76.000000</td>\n",
       "    </tr>\n",
       "    <tr>\n",
       "      <th>max</th>\n",
       "      <td>120.000000</td>\n",
       "      <td>90.000000</td>\n",
       "      <td>88.000000</td>\n",
       "      <td>88.000000</td>\n",
       "    </tr>\n",
       "  </tbody>\n",
       "</table>\n",
       "</div>"
      ],
      "text/plain": [
       "               국어         영어         수학         과학\n",
       "count    5.000000   4.000000   3.000000   4.000000\n",
       "mean    92.200000  67.500000  60.333333  73.500000\n",
       "std     20.474374  17.078251  28.536526  10.246951\n",
       "min     63.000000  50.000000  31.000000  64.000000\n",
       "25%     88.000000  57.500000  46.500000  68.500000\n",
       "50%     92.000000  65.000000  62.000000  71.000000\n",
       "75%     98.000000  75.000000  75.000000  76.000000\n",
       "max    120.000000  90.000000  88.000000  88.000000"
      ]
     },
     "execution_count": 5,
     "metadata": {},
     "output_type": "execute_result"
    }
   ],
   "source": [
    "# 특정 컬럼에 대한 확인\n",
    "\n",
    "des = 성적표.describe()\n",
    "des"
   ]
  },
  {
   "cell_type": "code",
   "execution_count": 6,
   "id": "bfceeab1-4a9b-4bf0-aa85-09c704c20d6a",
   "metadata": {},
   "outputs": [
    {
     "name": "stdout",
     "output_type": "stream",
     "text": [
      "데이터 수\n",
      "이름    5\n",
      "학년    5\n",
      "성별    5\n",
      "국어    5\n",
      "영어    4\n",
      "수학    3\n",
      "과학    4\n",
      "dtype: int64\n",
      "\n",
      "최대값\n",
      "국어    120.0\n",
      "영어     90.0\n",
      "수학     88.0\n",
      "과학     88.0\n",
      "dtype: float64\n",
      "\n",
      "표준편차\n",
      "국어    20.474374\n",
      "영어    17.078251\n",
      "수학    28.536526\n",
      "과학    10.246951\n",
      "dtype: float64\n",
      "\n",
      "1사분위 수 하위 25%위치의 값\n",
      "국어    88.0\n",
      "영어    57.5\n",
      "수학    46.5\n",
      "과학    68.5\n",
      "Name: 0.25, dtype: float64\n",
      "\n",
      "2사분위 수, 중앙값(미디안)\n",
      "국어    92.0\n",
      "영어    65.0\n",
      "수학    62.0\n",
      "과학    71.0\n",
      "Name: 0.5, dtype: float64\n",
      "\n",
      "3사분위 수 75%위치의 값\n",
      "국어    98.0\n",
      "영어    75.0\n",
      "수학    75.0\n",
      "과학    76.0\n",
      "Name: 0.75, dtype: float64\n",
      "\n",
      "평균\n",
      "국어    92.200000\n",
      "영어    67.500000\n",
      "수학    60.333333\n",
      "과학    73.500000\n",
      "dtype: float64\n",
      "\n",
      "최소값\n",
      "국어    63.0\n",
      "영어    50.0\n",
      "수학    31.0\n",
      "과학    64.0\n",
      "dtype: float64\n",
      "\n",
      "중앙값\n",
      "국어    92.0\n",
      "영어    65.0\n",
      "수학    62.0\n",
      "과학    71.0\n",
      "dtype: float64\n",
      "\n",
      "응용 - 상위 10%에 들기위한 점수\n",
      "국어    111.2\n",
      "영어     84.0\n",
      "수학     82.8\n",
      "과학     83.2\n",
      "Name: 0.9, dtype: float64\n",
      "\n"
     ]
    },
    {
     "name": "stderr",
     "output_type": "stream",
     "text": [
      "C:\\Users\\Public\\Documents\\ESTsoft\\CreatorTemp/ipykernel_8748/3986708811.py:7: FutureWarning: Dropping of nuisance columns in DataFrame reductions (with 'numeric_only=None') is deprecated; in a future version this will raise TypeError.  Select only valid columns before calling the reduction.\n",
      "  print(성적표.max())\n",
      "C:\\Users\\Public\\Documents\\ESTsoft\\CreatorTemp/ipykernel_8748/3986708811.py:11: FutureWarning: Dropping of nuisance columns in DataFrame reductions (with 'numeric_only=None') is deprecated; in a future version this will raise TypeError.  Select only valid columns before calling the reduction.\n",
      "  print(성적표.std())\n",
      "C:\\Users\\Public\\Documents\\ESTsoft\\CreatorTemp/ipykernel_8748/3986708811.py:27: FutureWarning: Dropping of nuisance columns in DataFrame reductions (with 'numeric_only=None') is deprecated; in a future version this will raise TypeError.  Select only valid columns before calling the reduction.\n",
      "  print(성적표.mean())\n",
      "C:\\Users\\Public\\Documents\\ESTsoft\\CreatorTemp/ipykernel_8748/3986708811.py:31: FutureWarning: Dropping of nuisance columns in DataFrame reductions (with 'numeric_only=None') is deprecated; in a future version this will raise TypeError.  Select only valid columns before calling the reduction.\n",
      "  print(성적표.min())\n",
      "C:\\Users\\Public\\Documents\\ESTsoft\\CreatorTemp/ipykernel_8748/3986708811.py:35: FutureWarning: Dropping of nuisance columns in DataFrame reductions (with 'numeric_only=None') is deprecated; in a future version this will raise TypeError.  Select only valid columns before calling the reduction.\n",
      "  print(성적표.median())\n"
     ]
    }
   ],
   "source": [
    "# 데이터 수\n",
    "print(\"데이터 수\")\n",
    "print(성적표.count())\n",
    "print()\n",
    "# 최대값\n",
    "print(\"최대값\")\n",
    "print(성적표.max())\n",
    "print()\n",
    "# 표준편차\n",
    "print(\"표준편차\")\n",
    "print(성적표.std())\n",
    "print()\n",
    "# 1사분위 수\n",
    "print('1사분위 수 하위 25%위치의 값')\n",
    "print(성적표.quantile(q=0.25))\n",
    "print()\n",
    "# 2사분위 수\n",
    "print('2사분위 수, 중앙값(미디안)')\n",
    "print(성적표.quantile(q=0.5))\n",
    "print()\n",
    "# 3사분위 수\n",
    "print('3사분위 수 75%위치의 값')\n",
    "print(성적표.quantile(q=0.75))\n",
    "print()\n",
    "# 평균\n",
    "print('평균')\n",
    "print(성적표.mean())\n",
    "print()\n",
    "# 최소값\n",
    "print('최소값')\n",
    "print(성적표.min())\n",
    "print()\n",
    "# 중앙값\n",
    "print('중앙값')\n",
    "print(성적표.median())\n",
    "print()\n",
    "# 사분위 수 응용\n",
    "print('응용 - 상위 10%에 들기위한 점수')\n",
    "print(성적표.quantile(q=0.9))\n",
    "print()"
   ]
  },
  {
   "cell_type": "markdown",
   "id": "49081064-1590-4134-a441-e082fb3faf7d",
   "metadata": {},
   "source": [
    "### 상자그림\n",
    "데이터의 요약 정보를 시각화 해 놓은 그래프로 데이터의 범위, 사분위 수 등을 확인할 수 있는 시각화 자료이다.\n",
    "\n",
    "내부적으로 matplotlib 패키지의 pyplot 객체를 사용한다."
   ]
  },
  {
   "cell_type": "code",
   "execution_count": 7,
   "id": "cec2fec3-4264-42fe-8067-8d54fc86f59c",
   "metadata": {},
   "outputs": [],
   "source": [
    "plt.rcParams[\"font.family\"] = 'Malgun Gothic'  # 사용할 폰트이름 지정 (맑은고딕)\n",
    "plt.rcParams[\"font.size\"] = 14                 # 글자크기\n",
    "plt.rcParams[\"figure.figsize\"] = (12, 6)       # 그래프의 가로,세로 크기 (inch단위)"
   ]
  },
  {
   "cell_type": "code",
   "execution_count": 8,
   "id": "d94dadaa-5012-47ae-8bc2-0ab72e985e26",
   "metadata": {},
   "outputs": [
    {
     "data": {
      "image/png": "[encoded data removed]",
      "text/plain": [
       "<Figure size 864x432 with 1 Axes>"
      ]
     },
     "metadata": {
      "needs_background": "light"
     },
     "output_type": "display_data"
    }
   ],
   "source": [
    "# 상자그림 생성\n",
    "성적표.boxplot()\n",
    "\n",
    "# 생성된 그래프 화면 표시\n",
    "plt.show()"
   ]
  },
  {
   "cell_type": "markdown",
   "id": "6e9af440-6141-4246-9913-8e2344aeb86b",
   "metadata": {},
   "source": [
    "#### 학년에 대한 빈도수 구하기"
   ]
  },
  {
   "cell_type": "code",
   "execution_count": 9,
   "id": "2cd1af50-3ce1-4d9f-990a-b1dda37231a1",
   "metadata": {},
   "outputs": [
    {
     "data": {
      "text/plain": [
       "1    2\n",
       "2    1\n",
       "3    1\n",
       "4    1\n",
       "Name: 학년, dtype: int64"
      ]
     },
     "execution_count": 9,
     "metadata": {},
     "output_type": "execute_result"
    }
   ],
   "source": [
    "학년빈도수 = 성적표['학년'].value_counts()\n",
    "학년빈도수"
   ]
  },
  {
   "cell_type": "markdown",
   "id": "0b315253-cd3c-485b-915d-bbbd6dd1a297",
   "metadata": {},
   "source": [
    "#### 성별에 대한 빈도수 구하기"
   ]
  },
  {
   "cell_type": "code",
   "execution_count": 10,
   "id": "0abb5839-4bb3-47ba-aea1-59f34ecf8943",
   "metadata": {},
   "outputs": [
    {
     "data": {
      "text/plain": [
       "남자    3\n",
       "여자    2\n",
       "Name: 성별, dtype: int64"
      ]
     },
     "execution_count": 10,
     "metadata": {},
     "output_type": "execute_result"
    }
   ],
   "source": [
    "성별빈도수 = 성적표['성별'].value_counts()\n",
    "성별빈도수"
   ]
  },
  {
   "cell_type": "markdown",
   "id": "32285e45-db46-49d7-bade-35ecab24ec10",
   "metadata": {},
   "source": [
    "#### 교차표"
   ]
  },
  {
   "cell_type": "code",
   "execution_count": 11,
   "id": "7a2cd983-706c-4845-a8a2-096022947416",
   "metadata": {},
   "outputs": [
    {
     "data": {
      "text/html": [
       "<div>\n",
       "<style scoped>\n",
       "    .dataframe tbody tr th:only-of-type {\n",
       "        vertical-align: middle;\n",
       "    }\n",
       "\n",
       "    .dataframe tbody tr th {\n",
       "        vertical-align: top;\n",
       "    }\n",
       "\n",
       "    .dataframe thead th {\n",
       "        text-align: right;\n",
       "    }\n",
       "</style>\n",
       "<table border=\"1\" class=\"dataframe\">\n",
       "  <thead>\n",
       "    <tr style=\"text-align: right;\">\n",
       "      <th>학년</th>\n",
       "      <th>1</th>\n",
       "      <th>2</th>\n",
       "      <th>3</th>\n",
       "      <th>4</th>\n",
       "    </tr>\n",
       "    <tr>\n",
       "      <th>성별</th>\n",
       "      <th></th>\n",
       "      <th></th>\n",
       "      <th></th>\n",
       "      <th></th>\n",
       "    </tr>\n",
       "  </thead>\n",
       "  <tbody>\n",
       "    <tr>\n",
       "      <th>남자</th>\n",
       "      <td>2</td>\n",
       "      <td>0</td>\n",
       "      <td>0</td>\n",
       "      <td>1</td>\n",
       "    </tr>\n",
       "    <tr>\n",
       "      <th>여자</th>\n",
       "      <td>0</td>\n",
       "      <td>1</td>\n",
       "      <td>1</td>\n",
       "      <td>0</td>\n",
       "    </tr>\n",
       "  </tbody>\n",
       "</table>\n",
       "</div>"
      ],
      "text/plain": [
       "학년  1  2  3  4\n",
       "성별            \n",
       "남자  2  0  0  1\n",
       "여자  0  1  1  0"
      ]
     },
     "execution_count": 11,
     "metadata": {},
     "output_type": "execute_result"
    }
   ],
   "source": [
    "my_tab = pd.crosstab(index = 성적표[\"성별\"], columns=성적표[\"학년\"])\n",
    "my_tab"
   ]
  },
  {
   "cell_type": "markdown",
   "id": "41425760-3490-4970-b420-550244ae4815",
   "metadata": {},
   "source": [
    "### 히스토그램"
   ]
  },
  {
   "cell_type": "markdown",
   "id": "c3f86b67-4bae-40b2-88ea-7bd762c25284",
   "metadata": {},
   "source": [
    "#### 영어 점수에 대한 히스토르갬 그리기"
   ]
  },
  {
   "cell_type": "code",
   "execution_count": 12,
   "id": "3aeadd33-c8ef-4e07-b53d-9cbb9116105c",
   "metadata": {},
   "outputs": [
    {
     "data": {
      "text/html": [
       "<div>\n",
       "<style scoped>\n",
       "    .dataframe tbody tr th:only-of-type {\n",
       "        vertical-align: middle;\n",
       "    }\n",
       "\n",
       "    .dataframe tbody tr th {\n",
       "        vertical-align: top;\n",
       "    }\n",
       "\n",
       "    .dataframe thead th {\n",
       "        text-align: right;\n",
       "    }\n",
       "</style>\n",
       "<table border=\"1\" class=\"dataframe\">\n",
       "  <thead>\n",
       "    <tr style=\"text-align: right;\">\n",
       "      <th></th>\n",
       "      <th>이름</th>\n",
       "      <th>국어</th>\n",
       "      <th>영어</th>\n",
       "      <th>수학</th>\n",
       "      <th>과학</th>\n",
       "    </tr>\n",
       "  </thead>\n",
       "  <tbody>\n",
       "    <tr>\n",
       "      <th>0</th>\n",
       "      <td>철수</td>\n",
       "      <td>98.0</td>\n",
       "      <td>NaN</td>\n",
       "      <td>88.0</td>\n",
       "      <td>64.0</td>\n",
       "    </tr>\n",
       "    <tr>\n",
       "      <th>1</th>\n",
       "      <td>영희</td>\n",
       "      <td>88.0</td>\n",
       "      <td>90.0</td>\n",
       "      <td>62.0</td>\n",
       "      <td>72.0</td>\n",
       "    </tr>\n",
       "    <tr>\n",
       "      <th>2</th>\n",
       "      <td>민철</td>\n",
       "      <td>92.0</td>\n",
       "      <td>70.0</td>\n",
       "      <td>NaN</td>\n",
       "      <td>NaN</td>\n",
       "    </tr>\n",
       "    <tr>\n",
       "      <th>3</th>\n",
       "      <td>호영</td>\n",
       "      <td>63.0</td>\n",
       "      <td>60.0</td>\n",
       "      <td>31.0</td>\n",
       "      <td>70.0</td>\n",
       "    </tr>\n",
       "    <tr>\n",
       "      <th>4</th>\n",
       "      <td>수현</td>\n",
       "      <td>120.0</td>\n",
       "      <td>50.0</td>\n",
       "      <td>NaN</td>\n",
       "      <td>88.0</td>\n",
       "    </tr>\n",
       "    <tr>\n",
       "      <th>...</th>\n",
       "      <td>...</td>\n",
       "      <td>...</td>\n",
       "      <td>...</td>\n",
       "      <td>...</td>\n",
       "      <td>...</td>\n",
       "    </tr>\n",
       "    <tr>\n",
       "      <th>500</th>\n",
       "      <td>학생496</td>\n",
       "      <td>54.0</td>\n",
       "      <td>50.0</td>\n",
       "      <td>23.0</td>\n",
       "      <td>88.0</td>\n",
       "    </tr>\n",
       "    <tr>\n",
       "      <th>501</th>\n",
       "      <td>학생497</td>\n",
       "      <td>64.0</td>\n",
       "      <td>54.0</td>\n",
       "      <td>73.0</td>\n",
       "      <td>83.0</td>\n",
       "    </tr>\n",
       "    <tr>\n",
       "      <th>502</th>\n",
       "      <td>학생498</td>\n",
       "      <td>89.0</td>\n",
       "      <td>36.0</td>\n",
       "      <td>63.0</td>\n",
       "      <td>14.0</td>\n",
       "    </tr>\n",
       "    <tr>\n",
       "      <th>503</th>\n",
       "      <td>학생499</td>\n",
       "      <td>83.0</td>\n",
       "      <td>26.0</td>\n",
       "      <td>81.0</td>\n",
       "      <td>98.0</td>\n",
       "    </tr>\n",
       "    <tr>\n",
       "      <th>504</th>\n",
       "      <td>학생500</td>\n",
       "      <td>18.0</td>\n",
       "      <td>51.0</td>\n",
       "      <td>17.0</td>\n",
       "      <td>6.0</td>\n",
       "    </tr>\n",
       "  </tbody>\n",
       "</table>\n",
       "<p>505 rows × 5 columns</p>\n",
       "</div>"
      ],
      "text/plain": [
       "        이름     국어    영어    수학    과학\n",
       "0       철수   98.0   NaN  88.0  64.0\n",
       "1       영희   88.0  90.0  62.0  72.0\n",
       "2       민철   92.0  70.0   NaN   NaN\n",
       "3       호영   63.0  60.0  31.0  70.0\n",
       "4       수현  120.0  50.0   NaN  88.0\n",
       "..     ...    ...   ...   ...   ...\n",
       "500  학생496   54.0  50.0  23.0  88.0\n",
       "501  학생497   64.0  54.0  73.0  83.0\n",
       "502  학생498   89.0  36.0  63.0  14.0\n",
       "503  학생499   83.0  26.0  81.0  98.0\n",
       "504  학생500   18.0  51.0  17.0   6.0\n",
       "\n",
       "[505 rows x 5 columns]"
      ]
     },
     "execution_count": 12,
     "metadata": {},
     "output_type": "execute_result"
    }
   ],
   "source": [
    "# 샘플 데이터 가져오기\n",
    "\n",
    "# 성적표 데이터\n",
    "성적표500건 = pd.read_excel(\"http://itpaper.co.kr/data/grade500.xlsx\", engine='openpyxl')\n",
    "성적표500건"
   ]
  },
  {
   "cell_type": "code",
   "execution_count": 13,
   "id": "7f9855d6-8a64-444e-b85a-be5901d546b2",
   "metadata": {},
   "outputs": [
    {
     "data": {
      "text/html": [
       "<div>\n",
       "<style scoped>\n",
       "    .dataframe tbody tr th:only-of-type {\n",
       "        vertical-align: middle;\n",
       "    }\n",
       "\n",
       "    .dataframe tbody tr th {\n",
       "        vertical-align: top;\n",
       "    }\n",
       "\n",
       "    .dataframe thead th {\n",
       "        text-align: right;\n",
       "    }\n",
       "</style>\n",
       "<table border=\"1\" class=\"dataframe\">\n",
       "  <thead>\n",
       "    <tr style=\"text-align: right;\">\n",
       "      <th></th>\n",
       "      <th>국어</th>\n",
       "      <th>영어</th>\n",
       "      <th>수학</th>\n",
       "      <th>과학</th>\n",
       "    </tr>\n",
       "    <tr>\n",
       "      <th>이름</th>\n",
       "      <th></th>\n",
       "      <th></th>\n",
       "      <th></th>\n",
       "      <th></th>\n",
       "    </tr>\n",
       "  </thead>\n",
       "  <tbody>\n",
       "    <tr>\n",
       "      <th>철수</th>\n",
       "      <td>98.0</td>\n",
       "      <td>NaN</td>\n",
       "      <td>88.0</td>\n",
       "      <td>64.0</td>\n",
       "    </tr>\n",
       "    <tr>\n",
       "      <th>영희</th>\n",
       "      <td>88.0</td>\n",
       "      <td>90.0</td>\n",
       "      <td>62.0</td>\n",
       "      <td>72.0</td>\n",
       "    </tr>\n",
       "    <tr>\n",
       "      <th>민철</th>\n",
       "      <td>92.0</td>\n",
       "      <td>70.0</td>\n",
       "      <td>NaN</td>\n",
       "      <td>NaN</td>\n",
       "    </tr>\n",
       "    <tr>\n",
       "      <th>호영</th>\n",
       "      <td>63.0</td>\n",
       "      <td>60.0</td>\n",
       "      <td>31.0</td>\n",
       "      <td>70.0</td>\n",
       "    </tr>\n",
       "    <tr>\n",
       "      <th>수현</th>\n",
       "      <td>120.0</td>\n",
       "      <td>50.0</td>\n",
       "      <td>NaN</td>\n",
       "      <td>88.0</td>\n",
       "    </tr>\n",
       "    <tr>\n",
       "      <th>...</th>\n",
       "      <td>...</td>\n",
       "      <td>...</td>\n",
       "      <td>...</td>\n",
       "      <td>...</td>\n",
       "    </tr>\n",
       "    <tr>\n",
       "      <th>학생496</th>\n",
       "      <td>54.0</td>\n",
       "      <td>50.0</td>\n",
       "      <td>23.0</td>\n",
       "      <td>88.0</td>\n",
       "    </tr>\n",
       "    <tr>\n",
       "      <th>학생497</th>\n",
       "      <td>64.0</td>\n",
       "      <td>54.0</td>\n",
       "      <td>73.0</td>\n",
       "      <td>83.0</td>\n",
       "    </tr>\n",
       "    <tr>\n",
       "      <th>학생498</th>\n",
       "      <td>89.0</td>\n",
       "      <td>36.0</td>\n",
       "      <td>63.0</td>\n",
       "      <td>14.0</td>\n",
       "    </tr>\n",
       "    <tr>\n",
       "      <th>학생499</th>\n",
       "      <td>83.0</td>\n",
       "      <td>26.0</td>\n",
       "      <td>81.0</td>\n",
       "      <td>98.0</td>\n",
       "    </tr>\n",
       "    <tr>\n",
       "      <th>학생500</th>\n",
       "      <td>18.0</td>\n",
       "      <td>51.0</td>\n",
       "      <td>17.0</td>\n",
       "      <td>6.0</td>\n",
       "    </tr>\n",
       "  </tbody>\n",
       "</table>\n",
       "<p>505 rows × 4 columns</p>\n",
       "</div>"
      ],
      "text/plain": [
       "          국어    영어    수학    과학\n",
       "이름                            \n",
       "철수      98.0   NaN  88.0  64.0\n",
       "영희      88.0  90.0  62.0  72.0\n",
       "민철      92.0  70.0   NaN   NaN\n",
       "호영      63.0  60.0  31.0  70.0\n",
       "수현     120.0  50.0   NaN  88.0\n",
       "...      ...   ...   ...   ...\n",
       "학생496   54.0  50.0  23.0  88.0\n",
       "학생497   64.0  54.0  73.0  83.0\n",
       "학생498   89.0  36.0  63.0  14.0\n",
       "학생499   83.0  26.0  81.0  98.0\n",
       "학생500   18.0  51.0  17.0   6.0\n",
       "\n",
       "[505 rows x 4 columns]"
      ]
     },
     "execution_count": 13,
     "metadata": {},
     "output_type": "execute_result"
    }
   ],
   "source": [
    "# 인덱스 지정\n",
    "성적표df = 성적표500건.set_index(\"이름\")\n",
    "성적표df"
   ]
  },
  {
   "cell_type": "code",
   "execution_count": 14,
   "id": "adab6343-3872-496b-ad68-f02c5e2ee316",
   "metadata": {},
   "outputs": [
    {
     "data": {
      "text/plain": [
       "505"
      ]
     },
     "execution_count": 14,
     "metadata": {},
     "output_type": "execute_result"
    }
   ],
   "source": [
    "# 자료의 갯수 카운트\n",
    "count = len(성적표df['영어'])\n",
    "count"
   ]
  },
  {
   "cell_type": "code",
   "execution_count": 15,
   "id": "973a17cc-6e11-4359-a1c8-7a9fb1fb3a7c",
   "metadata": {},
   "outputs": [
    {
     "name": "stdout",
     "output_type": "stream",
     "text": [
      "최대값 =  98.0\n",
      "최소값 =  1.0\n"
     ]
    }
   ],
   "source": [
    "# 데이터의 최소, 최대값 구하기\n",
    "\n",
    "max_value = 성적표df['영어'].max()\n",
    "min_value = 성적표df['영어'].min()\n",
    "print(\"최대값 = \", max_value)\n",
    "print(\"최소값 = \", min_value)"
   ]
  },
  {
   "cell_type": "code",
   "execution_count": 16,
   "id": "eca5af7b-7390-4fc2-88db-95aa08af5cf4",
   "metadata": {},
   "outputs": [],
   "source": [
    "# 히스토그램 그레프 설정\n",
    "plt.rcParams[\"font.family\"] = 'Malgun Gothic'\n",
    "plt.rcParams[\"font.size\"] = 14\n",
    "plt.rcParams[\"figure.figsize\"] = (15, 10)"
   ]
  },
  {
   "cell_type": "code",
   "execution_count": 17,
   "id": "16776217-2359-4239-be6f-fff661570f3e",
   "metadata": {},
   "outputs": [],
   "source": [
    "# 구간설정\n",
    "step = 5"
   ]
  },
  {
   "cell_type": "code",
   "execution_count": 18,
   "id": "a47cef7d-cbc1-4f43-b9e0-5e53e67d4d6b",
   "metadata": {},
   "outputs": [
    {
     "data": {
      "image/png": "[encoded data removed]",
      "text/plain": [
       "<Figure size 1080x720 with 1 Axes>"
      ]
     },
     "metadata": {
      "needs_background": "light"
     },
     "output_type": "display_data"
    }
   ],
   "source": [
    "# 데이터와 구근을 사용하여 히스토그램 작성하기\n",
    "\n",
    "n, bins, patches = plt.hist(성적표df['영어'], bins=step)"
   ]
  },
  {
   "cell_type": "code",
   "execution_count": 19,
   "id": "23961d36-581a-4b9a-aeed-9fc0520069ba",
   "metadata": {},
   "outputs": [
    {
     "name": "stdout",
     "output_type": "stream",
     "text": [
      "[ 1.  20.4 39.8 59.2 78.6 98. ]\n",
      "[ 33.  67. 168. 120. 107.]\n",
      "<BarContainer object of 5 artists>\n"
     ]
    }
   ],
   "source": [
    "# 데이터의 구간정보를 담고있는 리스트\n",
    "# 1~20.4 20.4~39.8 의 형식\n",
    "print(bins)\n",
    "# 각 구간별의 데이터 수\n",
    "# 1~20.4는 33개 20.4~39.8는 67개\n",
    "print(n)\n",
    "print(patches)"
   ]
  },
  {
   "cell_type": "markdown",
   "id": "e1a15f67-b158-4d83-94ae-9e462d23adfa",
   "metadata": {},
   "source": [
    "#### 도수 분포표 구성하기"
   ]
  },
  {
   "cell_type": "code",
   "execution_count": 20,
   "id": "265e8727-3b8b-4a23-9673-c758f70b7ea0",
   "metadata": {},
   "outputs": [
    {
     "data": {
      "text/plain": [
       "['1.0~20.4', '20.4~39.8', '39.8~59.2', '59.2~78.6', '78.6~98.0']"
      ]
     },
     "execution_count": 20,
     "metadata": {},
     "output_type": "execute_result"
    }
   ],
   "source": [
    "# 구간정보리스트 만들기\n",
    "idx = []\n",
    "for i in range(0, len(bins)-1):\n",
    "    k = \"%0.1f~%0.1f\" % (bins[i], bins[i+1])\n",
    "    idx.append(k)\n",
    "idx"
   ]
  },
  {
   "cell_type": "code",
   "execution_count": 21,
   "id": "bc8432ef-bbad-4826-86a6-79246f7ddb8a",
   "metadata": {},
   "outputs": [
    {
     "data": {
      "text/html": [
       "<div>\n",
       "<style scoped>\n",
       "    .dataframe tbody tr th:only-of-type {\n",
       "        vertical-align: middle;\n",
       "    }\n",
       "\n",
       "    .dataframe tbody tr th {\n",
       "        vertical-align: top;\n",
       "    }\n",
       "\n",
       "    .dataframe thead th {\n",
       "        text-align: right;\n",
       "    }\n",
       "</style>\n",
       "<table border=\"1\" class=\"dataframe\">\n",
       "  <thead>\n",
       "    <tr style=\"text-align: right;\">\n",
       "      <th></th>\n",
       "      <th>빈도</th>\n",
       "    </tr>\n",
       "  </thead>\n",
       "  <tbody>\n",
       "    <tr>\n",
       "      <th>1.0~20.4</th>\n",
       "      <td>33.0</td>\n",
       "    </tr>\n",
       "    <tr>\n",
       "      <th>20.4~39.8</th>\n",
       "      <td>67.0</td>\n",
       "    </tr>\n",
       "    <tr>\n",
       "      <th>39.8~59.2</th>\n",
       "      <td>168.0</td>\n",
       "    </tr>\n",
       "    <tr>\n",
       "      <th>59.2~78.6</th>\n",
       "      <td>120.0</td>\n",
       "    </tr>\n",
       "    <tr>\n",
       "      <th>78.6~98.0</th>\n",
       "      <td>107.0</td>\n",
       "    </tr>\n",
       "  </tbody>\n",
       "</table>\n",
       "</div>"
      ],
      "text/plain": [
       "              빈도\n",
       "1.0~20.4    33.0\n",
       "20.4~39.8   67.0\n",
       "39.8~59.2  168.0\n",
       "59.2~78.6  120.0\n",
       "78.6~98.0  107.0"
      ]
     },
     "execution_count": 21,
     "metadata": {},
     "output_type": "execute_result"
    }
   ],
   "source": [
    "# 데이터 프레임으로 도수 분표표 표현\n",
    "도수분포표 = pd.DataFrame(n, index=idx, columns=['빈도'])\n",
    "도수분포표"
   ]
  },
  {
   "cell_type": "markdown",
   "id": "d1a5c9bc-8522-406f-beb6-db757d066124",
   "metadata": {},
   "source": [
    "#### 히스토그램 보정"
   ]
  },
  {
   "cell_type": "code",
   "execution_count": 22,
   "id": "907172b2-9550-4322-8b0c-fc67b85895b1",
   "metadata": {},
   "outputs": [
    {
     "name": "stdout",
     "output_type": "stream",
     "text": [
      "[ 1.  20.4 39.8 59.2 78.6 98. ]\n"
     ]
    }
   ],
   "source": [
    "# 구간정보 반올림\n",
    "# bins 리스트의 원소들을 소수점 둘째 자리에서 반올림\n",
    "for i, v in enumerate(bins):\n",
    "    # round(값, 소수점자리) -> 지정된 자리수까지 남기라는 의미\n",
    "    bins[i] = round(v, 1)\n",
    "\n",
    "print(bins)"
   ]
  },
  {
   "cell_type": "code",
   "execution_count": 23,
   "id": "3a1166ee-1a7c-4b1f-9649-f1ae6805363d",
   "metadata": {},
   "outputs": [
    {
     "data": {
      "image/png": "[encoded data removed]",
      "text/plain": [
       "<Figure size 1080x720 with 1 Axes>"
      ]
     },
     "metadata": {
      "needs_background": "light"
     },
     "output_type": "display_data"
    }
   ],
   "source": [
    "# 구간 정보와 데이터 빈도수를 표시하는 히스토그램\n",
    "plt.figure()\n",
    "\n",
    "plt.hist(성적표df['영어'], bins=step)\n",
    "plt.grid()\n",
    "plt.xlabel('영어 점수 구간')\n",
    "plt.ylabel('영어점수 구간별 학생 수')\n",
    "plt.title('영어점수 히스토그램')\n",
    "\n",
    "# x축의 좌표에 다른 내용을 출력\n",
    "plt.xticks(bins, bins)\n",
    "\n",
    "# 출력할 데이터 수 만큼 반복\n",
    "for i, v in enumerate(n):\n",
    "    txt = \"%d명\" % v\n",
    "    \n",
    "    x = bins[i] + ((bins[i+1]-bins[i]) / 2)\n",
    "    \n",
    "    # 텍스트 출력 -> x좌표, y좌표, 내용, 글자크기, 색상, 텍스트가로정렬, 세로정렬\n",
    "    plt.text(x, v, txt, fontsize=18, color='#ff0000', \n",
    "                horizontalalignment='center', verticalalignment='bottom')\n",
    "\n",
    "plt.show()\n",
    "plt.close()"
   ]
  },
  {
   "cell_type": "markdown",
   "id": "5a39f43f-d2bd-4d66-a6d8-6cb13858b96a",
   "metadata": {},
   "source": [
    "### Wage 데이터셋에 대한 요약 통계량"
   ]
  },
  {
   "cell_type": "markdown",
   "id": "3e0ccd81-a516-43bd-b141-6e076f95d829",
   "metadata": {},
   "source": [
    "#### 급여와 교육수준에 대한 요약 통계량"
   ]
  },
  {
   "cell_type": "code",
   "execution_count": 24,
   "id": "938512a6-b2b5-40b2-8961-1c30cdc2fb7f",
   "metadata": {},
   "outputs": [
    {
     "data": {
      "text/html": [
       "<div>\n",
       "<style scoped>\n",
       "    .dataframe tbody tr th:only-of-type {\n",
       "        vertical-align: middle;\n",
       "    }\n",
       "\n",
       "    .dataframe tbody tr th {\n",
       "        vertical-align: top;\n",
       "    }\n",
       "\n",
       "    .dataframe thead th {\n",
       "        text-align: right;\n",
       "    }\n",
       "</style>\n",
       "<table border=\"1\" class=\"dataframe\">\n",
       "  <thead>\n",
       "    <tr style=\"text-align: right;\">\n",
       "      <th></th>\n",
       "      <th>year</th>\n",
       "      <th>age</th>\n",
       "      <th>maritl</th>\n",
       "      <th>race</th>\n",
       "      <th>education</th>\n",
       "      <th>region</th>\n",
       "      <th>jobclass</th>\n",
       "      <th>health</th>\n",
       "      <th>health_ins</th>\n",
       "      <th>logwage</th>\n",
       "      <th>wage</th>\n",
       "    </tr>\n",
       "  </thead>\n",
       "  <tbody>\n",
       "    <tr>\n",
       "      <th>0</th>\n",
       "      <td>2006</td>\n",
       "      <td>18</td>\n",
       "      <td>1. Never Married</td>\n",
       "      <td>1. White</td>\n",
       "      <td>1. &lt; HS Grad</td>\n",
       "      <td>2. Middle Atlantic</td>\n",
       "      <td>1. Industrial</td>\n",
       "      <td>1. &lt;=Good</td>\n",
       "      <td>2. No</td>\n",
       "      <td>4.318063</td>\n",
       "      <td>75.043154</td>\n",
       "    </tr>\n",
       "    <tr>\n",
       "      <th>1</th>\n",
       "      <td>2004</td>\n",
       "      <td>24</td>\n",
       "      <td>1. Never Married</td>\n",
       "      <td>1. White</td>\n",
       "      <td>4. College Grad</td>\n",
       "      <td>2. Middle Atlantic</td>\n",
       "      <td>2. Information</td>\n",
       "      <td>2. &gt;=Very Good</td>\n",
       "      <td>2. No</td>\n",
       "      <td>4.255273</td>\n",
       "      <td>70.476020</td>\n",
       "    </tr>\n",
       "    <tr>\n",
       "      <th>2</th>\n",
       "      <td>2003</td>\n",
       "      <td>45</td>\n",
       "      <td>2. Married</td>\n",
       "      <td>1. White</td>\n",
       "      <td>3. Some College</td>\n",
       "      <td>2. Middle Atlantic</td>\n",
       "      <td>1. Industrial</td>\n",
       "      <td>1. &lt;=Good</td>\n",
       "      <td>1. Yes</td>\n",
       "      <td>4.875061</td>\n",
       "      <td>130.982177</td>\n",
       "    </tr>\n",
       "    <tr>\n",
       "      <th>3</th>\n",
       "      <td>2003</td>\n",
       "      <td>43</td>\n",
       "      <td>2. Married</td>\n",
       "      <td>3. Asian</td>\n",
       "      <td>4. College Grad</td>\n",
       "      <td>2. Middle Atlantic</td>\n",
       "      <td>2. Information</td>\n",
       "      <td>2. &gt;=Very Good</td>\n",
       "      <td>1. Yes</td>\n",
       "      <td>5.041393</td>\n",
       "      <td>154.685293</td>\n",
       "    </tr>\n",
       "    <tr>\n",
       "      <th>4</th>\n",
       "      <td>2005</td>\n",
       "      <td>50</td>\n",
       "      <td>4. Divorced</td>\n",
       "      <td>1. White</td>\n",
       "      <td>2. HS Grad</td>\n",
       "      <td>2. Middle Atlantic</td>\n",
       "      <td>2. Information</td>\n",
       "      <td>1. &lt;=Good</td>\n",
       "      <td>1. Yes</td>\n",
       "      <td>4.318063</td>\n",
       "      <td>75.043154</td>\n",
       "    </tr>\n",
       "    <tr>\n",
       "      <th>...</th>\n",
       "      <td>...</td>\n",
       "      <td>...</td>\n",
       "      <td>...</td>\n",
       "      <td>...</td>\n",
       "      <td>...</td>\n",
       "      <td>...</td>\n",
       "      <td>...</td>\n",
       "      <td>...</td>\n",
       "      <td>...</td>\n",
       "      <td>...</td>\n",
       "      <td>...</td>\n",
       "    </tr>\n",
       "    <tr>\n",
       "      <th>2995</th>\n",
       "      <td>2008</td>\n",
       "      <td>44</td>\n",
       "      <td>2. Married</td>\n",
       "      <td>1. White</td>\n",
       "      <td>3. Some College</td>\n",
       "      <td>2. Middle Atlantic</td>\n",
       "      <td>1. Industrial</td>\n",
       "      <td>2. &gt;=Very Good</td>\n",
       "      <td>1. Yes</td>\n",
       "      <td>5.041393</td>\n",
       "      <td>154.685293</td>\n",
       "    </tr>\n",
       "    <tr>\n",
       "      <th>2996</th>\n",
       "      <td>2007</td>\n",
       "      <td>30</td>\n",
       "      <td>2. Married</td>\n",
       "      <td>1. White</td>\n",
       "      <td>2. HS Grad</td>\n",
       "      <td>2. Middle Atlantic</td>\n",
       "      <td>1. Industrial</td>\n",
       "      <td>2. &gt;=Very Good</td>\n",
       "      <td>2. No</td>\n",
       "      <td>4.602060</td>\n",
       "      <td>99.689464</td>\n",
       "    </tr>\n",
       "    <tr>\n",
       "      <th>2997</th>\n",
       "      <td>2005</td>\n",
       "      <td>27</td>\n",
       "      <td>2. Married</td>\n",
       "      <td>2. Black</td>\n",
       "      <td>1. &lt; HS Grad</td>\n",
       "      <td>2. Middle Atlantic</td>\n",
       "      <td>1. Industrial</td>\n",
       "      <td>1. &lt;=Good</td>\n",
       "      <td>2. No</td>\n",
       "      <td>4.193125</td>\n",
       "      <td>66.229408</td>\n",
       "    </tr>\n",
       "    <tr>\n",
       "      <th>2998</th>\n",
       "      <td>2005</td>\n",
       "      <td>27</td>\n",
       "      <td>1. Never Married</td>\n",
       "      <td>1. White</td>\n",
       "      <td>3. Some College</td>\n",
       "      <td>2. Middle Atlantic</td>\n",
       "      <td>1. Industrial</td>\n",
       "      <td>2. &gt;=Very Good</td>\n",
       "      <td>1. Yes</td>\n",
       "      <td>4.477121</td>\n",
       "      <td>87.981033</td>\n",
       "    </tr>\n",
       "    <tr>\n",
       "      <th>2999</th>\n",
       "      <td>2009</td>\n",
       "      <td>55</td>\n",
       "      <td>5. Separated</td>\n",
       "      <td>1. White</td>\n",
       "      <td>2. HS Grad</td>\n",
       "      <td>2. Middle Atlantic</td>\n",
       "      <td>1. Industrial</td>\n",
       "      <td>1. &lt;=Good</td>\n",
       "      <td>1. Yes</td>\n",
       "      <td>4.505150</td>\n",
       "      <td>90.481913</td>\n",
       "    </tr>\n",
       "  </tbody>\n",
       "</table>\n",
       "<p>3000 rows × 11 columns</p>\n",
       "</div>"
      ],
      "text/plain": [
       "      year  age            maritl      race        education  \\\n",
       "0     2006   18  1. Never Married  1. White     1. < HS Grad   \n",
       "1     2004   24  1. Never Married  1. White  4. College Grad   \n",
       "2     2003   45        2. Married  1. White  3. Some College   \n",
       "3     2003   43        2. Married  3. Asian  4. College Grad   \n",
       "4     2005   50       4. Divorced  1. White       2. HS Grad   \n",
       "...    ...  ...               ...       ...              ...   \n",
       "2995  2008   44        2. Married  1. White  3. Some College   \n",
       "2996  2007   30        2. Married  1. White       2. HS Grad   \n",
       "2997  2005   27        2. Married  2. Black     1. < HS Grad   \n",
       "2998  2005   27  1. Never Married  1. White  3. Some College   \n",
       "2999  2009   55      5. Separated  1. White       2. HS Grad   \n",
       "\n",
       "                  region        jobclass          health health_ins   logwage  \\\n",
       "0     2. Middle Atlantic   1. Industrial       1. <=Good      2. No  4.318063   \n",
       "1     2. Middle Atlantic  2. Information  2. >=Very Good      2. No  4.255273   \n",
       "2     2. Middle Atlantic   1. Industrial       1. <=Good     1. Yes  4.875061   \n",
       "3     2. Middle Atlantic  2. Information  2. >=Very Good     1. Yes  5.041393   \n",
       "4     2. Middle Atlantic  2. Information       1. <=Good     1. Yes  4.318063   \n",
       "...                  ...             ...             ...        ...       ...   \n",
       "2995  2. Middle Atlantic   1. Industrial  2. >=Very Good     1. Yes  5.041393   \n",
       "2996  2. Middle Atlantic   1. Industrial  2. >=Very Good      2. No  4.602060   \n",
       "2997  2. Middle Atlantic   1. Industrial       1. <=Good      2. No  4.193125   \n",
       "2998  2. Middle Atlantic   1. Industrial  2. >=Very Good     1. Yes  4.477121   \n",
       "2999  2. Middle Atlantic   1. Industrial       1. <=Good     1. Yes  4.505150   \n",
       "\n",
       "            wage  \n",
       "0      75.043154  \n",
       "1      70.476020  \n",
       "2     130.982177  \n",
       "3     154.685293  \n",
       "4      75.043154  \n",
       "...          ...  \n",
       "2995  154.685293  \n",
       "2996   99.689464  \n",
       "2997   66.229408  \n",
       "2998   87.981033  \n",
       "2999   90.481913  \n",
       "\n",
       "[3000 rows x 11 columns]"
      ]
     },
     "execution_count": 24,
     "metadata": {},
     "output_type": "execute_result"
    }
   ],
   "source": [
    "# 데이터 가져오기\n",
    "wage = pd.read_excel(\"http://itpaper.co.kr/data/wage.xlsx\", engine='openpyxl')\n",
    "wage"
   ]
  },
  {
   "cell_type": "code",
   "execution_count": 25,
   "id": "f4a6a942-2383-45a6-a9a9-5019da2f5ea3",
   "metadata": {},
   "outputs": [
    {
     "data": {
      "text/html": [
       "<div>\n",
       "<style scoped>\n",
       "    .dataframe tbody tr th:only-of-type {\n",
       "        vertical-align: middle;\n",
       "    }\n",
       "\n",
       "    .dataframe tbody tr th {\n",
       "        vertical-align: top;\n",
       "    }\n",
       "\n",
       "    .dataframe thead th {\n",
       "        text-align: right;\n",
       "    }\n",
       "</style>\n",
       "<table border=\"1\" class=\"dataframe\">\n",
       "  <thead>\n",
       "    <tr style=\"text-align: right;\">\n",
       "      <th></th>\n",
       "      <th>wage</th>\n",
       "    </tr>\n",
       "  </thead>\n",
       "  <tbody>\n",
       "    <tr>\n",
       "      <th>count</th>\n",
       "      <td>3000.000000</td>\n",
       "    </tr>\n",
       "    <tr>\n",
       "      <th>mean</th>\n",
       "      <td>111.703608</td>\n",
       "    </tr>\n",
       "    <tr>\n",
       "      <th>std</th>\n",
       "      <td>41.728595</td>\n",
       "    </tr>\n",
       "    <tr>\n",
       "      <th>min</th>\n",
       "      <td>20.085537</td>\n",
       "    </tr>\n",
       "    <tr>\n",
       "      <th>25%</th>\n",
       "      <td>85.383940</td>\n",
       "    </tr>\n",
       "    <tr>\n",
       "      <th>50%</th>\n",
       "      <td>104.921507</td>\n",
       "    </tr>\n",
       "    <tr>\n",
       "      <th>75%</th>\n",
       "      <td>128.680488</td>\n",
       "    </tr>\n",
       "    <tr>\n",
       "      <th>max</th>\n",
       "      <td>318.342430</td>\n",
       "    </tr>\n",
       "  </tbody>\n",
       "</table>\n",
       "</div>"
      ],
      "text/plain": [
       "              wage\n",
       "count  3000.000000\n",
       "mean    111.703608\n",
       "std      41.728595\n",
       "min      20.085537\n",
       "25%      85.383940\n",
       "50%     104.921507\n",
       "75%     128.680488\n",
       "max     318.342430"
      ]
     },
     "execution_count": 25,
     "metadata": {},
     "output_type": "execute_result"
    }
   ],
   "source": [
    "# 요약통계량 확인\n",
    "wage.filter(['wage', 'education']).describe()"
   ]
  },
  {
   "cell_type": "code",
   "execution_count": 26,
   "id": "e07f6dc5-efca-492b-b46f-0c5f0ef74797",
   "metadata": {},
   "outputs": [
    {
     "data": {
      "text/html": [
       "<div>\n",
       "<style scoped>\n",
       "    .dataframe tbody tr th:only-of-type {\n",
       "        vertical-align: middle;\n",
       "    }\n",
       "\n",
       "    .dataframe tbody tr th {\n",
       "        vertical-align: top;\n",
       "    }\n",
       "\n",
       "    .dataframe thead th {\n",
       "        text-align: right;\n",
       "    }\n",
       "</style>\n",
       "<table border=\"1\" class=\"dataframe\">\n",
       "  <thead>\n",
       "    <tr style=\"text-align: right;\">\n",
       "      <th></th>\n",
       "      <th>education</th>\n",
       "    </tr>\n",
       "  </thead>\n",
       "  <tbody>\n",
       "    <tr>\n",
       "      <th>2. HS Grad</th>\n",
       "      <td>971</td>\n",
       "    </tr>\n",
       "    <tr>\n",
       "      <th>4. College Grad</th>\n",
       "      <td>685</td>\n",
       "    </tr>\n",
       "    <tr>\n",
       "      <th>3. Some College</th>\n",
       "      <td>650</td>\n",
       "    </tr>\n",
       "    <tr>\n",
       "      <th>5. Advanced Degree</th>\n",
       "      <td>426</td>\n",
       "    </tr>\n",
       "    <tr>\n",
       "      <th>1. &lt; HS Grad</th>\n",
       "      <td>268</td>\n",
       "    </tr>\n",
       "  </tbody>\n",
       "</table>\n",
       "</div>"
      ],
      "text/plain": [
       "                    education\n",
       "2. HS Grad                971\n",
       "4. College Grad           685\n",
       "3. Some College           650\n",
       "5. Advanced Degree        426\n",
       "1. < HS Grad              268"
      ]
     },
     "execution_count": 26,
     "metadata": {},
     "output_type": "execute_result"
    }
   ],
   "source": [
    "# 명목척도에 대한 빈도표 구하기\n",
    "pd.DataFrame(wage['education'].value_counts())"
   ]
  },
  {
   "cell_type": "markdown",
   "id": "30edc3c1-12c9-49c2-99a1-f2edc6d1270f",
   "metadata": {},
   "source": [
    "#### 근로자의 교육 수준에 따른 임금 분포"
   ]
  },
  {
   "cell_type": "code",
   "execution_count": 27,
   "id": "c6ab54eb-ae3d-4f1f-bf34-aa1e9b5b984a",
   "metadata": {},
   "outputs": [
    {
     "data": {
      "text/plain": [
       "1. < HS Grad          268\n",
       "2. HS Grad            971\n",
       "3. Some College       650\n",
       "4. College Grad       685\n",
       "5. Advanced Degree    426\n",
       "Name: education, dtype: int64"
      ]
     },
     "execution_count": 27,
     "metadata": {},
     "output_type": "execute_result"
    }
   ],
   "source": [
    "# 교육수준에 대한 데이터 종류 조회\n",
    "\n",
    "k = wage['education'].value_counts().sort_index()\n",
    "k"
   ]
  },
  {
   "cell_type": "code",
   "execution_count": 28,
   "id": "0736793e-6316-4397-a516-73fdaf564c51",
   "metadata": {},
   "outputs": [
    {
     "data": {
      "image/png": "[encoded data removed]",
      "text/plain": [
       "<Figure size 720x1080 with 5 Axes>"
      ]
     },
     "metadata": {
      "needs_background": "light"
     },
     "output_type": "display_data"
    }
   ],
   "source": [
    "# 교육수준별로 데이터를 조회하여 히스토그램 서브플롯 그리기\n",
    "\n",
    "# 데이터 빈도표(Series)에서 key만 list 타입으로 변환\n",
    "key_list = list(k.index)\n",
    "\n",
    "# 5행 1열로 구성된 가로 10인치, 세로 15인치인 서브플롯\n",
    "fig, ax = plt.subplots(5, 1, figsize=(10, 15))\n",
    "\n",
    "# 교육수준에 대한 빈도값의 인덱스로 반복처리\n",
    "for i, v in enumerate(key_list):\n",
    "    # i번째 교육수준에 해당하는 데이터만 조회\n",
    "    tmp = wage.query(\"education == @v\")\n",
    "    # 조회 결과를 활용하여 i번째 서브 플롯에 히스토그램 그리기\n",
    "    sns.histplot(data=tmp, x='wage', ax=ax[i])\n",
    "    ax[i].set_ylabel(v)\n",
    "\n",
    "# 그래프 표시\n",
    "plt.show()\n",
    "plt.close()"
   ]
  },
  {
   "cell_type": "code",
   "execution_count": null,
   "id": "1aeaa156-8938-4d11-977e-11d2fb210771",
   "metadata": {},
   "outputs": [],
   "source": []
  }
 ],
 "metadata": {
  "kernelspec": {
   "display_name": "Python 3 (ipykernel)",
   "language": "python",
   "name": "python3"
  },
  "language_info": {
   "codemirror_mode": {
    "name": "ipython",
    "version": 3
   },
   "file_extension": ".py",
   "mimetype": "text/x-python",
   "name": "python",
   "nbconvert_exporter": "python",
   "pygments_lexer": "ipython3",
   "version": "3.9.5"
  }
 },
 "nbformat": 4,
 "nbformat_minor": 5
}
