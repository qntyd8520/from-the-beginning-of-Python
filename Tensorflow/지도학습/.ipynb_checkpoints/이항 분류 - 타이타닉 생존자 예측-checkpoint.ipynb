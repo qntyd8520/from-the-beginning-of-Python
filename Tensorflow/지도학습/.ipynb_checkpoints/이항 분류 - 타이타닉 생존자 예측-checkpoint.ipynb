{
 "cells": [
  {
   "cell_type": "markdown",
   "id": "c9c0b7cd-5bf5-47de-8027-d648313d70ce",
   "metadata": {},
   "source": [
    "### 패키지 로딩"
   ]
  },
  {
   "cell_type": "code",
   "execution_count": 1,
   "id": "4e3b12cf-3405-4d4e-b154-e299ecc818ce",
   "metadata": {},
   "outputs": [],
   "source": [
    "import pandas as pd\n",
    "import numpy as np\n",
    "import matplotlib.pyplot as plt\n",
    "import seaborn as sns\n",
    "\n",
    "# 머신러닝 관련 패키지\n",
    "from tensorflow.keras.models import Sequential\n",
    "from tensorflow.keras.layers import Dense\n",
    "from sklearn.model_selection import train_test_split\n",
    "\n",
    "# 학습 콜백 처리 관련 패키지\n",
    "from tensorflow.keras.callbacks import EarlyStopping\n",
    "from tensorflow.keras.callbacks import ReduceLROnPlateau\n",
    "from tensorflow.keras.callbacks import ModelCheckpoint\n",
    "\n",
    "# 데이터 표준화\n",
    "from sklearn.preprocessing import StandardScaler\n",
    "\n",
    "# 오차 행렬\n",
    "from sklearn.metrics import confusion_matrix"
   ]
  },
  {
   "cell_type": "markdown",
   "id": "dba2037b-6f90-47b8-a8d0-b36a23b53b23",
   "metadata": {},
   "source": [
    "### 데이터 로딩"
   ]
  },
  {
   "cell_type": "code",
   "execution_count": 2,
   "id": "a834743d-682b-4618-8936-f13f8621f907",
   "metadata": {},
   "outputs": [
    {
     "data": {
      "text/html": [
       "<div>\n",
       "<style scoped>\n",
       "    .dataframe tbody tr th:only-of-type {\n",
       "        vertical-align: middle;\n",
       "    }\n",
       "\n",
       "    .dataframe tbody tr th {\n",
       "        vertical-align: top;\n",
       "    }\n",
       "\n",
       "    .dataframe thead th {\n",
       "        text-align: right;\n",
       "    }\n",
       "</style>\n",
       "<table border=\"1\" class=\"dataframe\">\n",
       "  <thead>\n",
       "    <tr style=\"text-align: right;\">\n",
       "      <th></th>\n",
       "      <th>PassengerId</th>\n",
       "      <th>Survived</th>\n",
       "      <th>Pclass</th>\n",
       "      <th>Name</th>\n",
       "      <th>Sex</th>\n",
       "      <th>Age</th>\n",
       "      <th>SibSp</th>\n",
       "      <th>Parch</th>\n",
       "      <th>Ticket</th>\n",
       "      <th>Fare</th>\n",
       "      <th>Cabin</th>\n",
       "      <th>Embarked</th>\n",
       "    </tr>\n",
       "  </thead>\n",
       "  <tbody>\n",
       "    <tr>\n",
       "      <th>0</th>\n",
       "      <td>1</td>\n",
       "      <td>0</td>\n",
       "      <td>3</td>\n",
       "      <td>Braund, Mr. Owen Harris</td>\n",
       "      <td>male</td>\n",
       "      <td>22.0</td>\n",
       "      <td>1</td>\n",
       "      <td>0</td>\n",
       "      <td>A/5 21171</td>\n",
       "      <td>7.2500</td>\n",
       "      <td>NaN</td>\n",
       "      <td>S</td>\n",
       "    </tr>\n",
       "    <tr>\n",
       "      <th>1</th>\n",
       "      <td>2</td>\n",
       "      <td>1</td>\n",
       "      <td>1</td>\n",
       "      <td>Cumings, Mrs. John Bradley (Florence Briggs Th...</td>\n",
       "      <td>female</td>\n",
       "      <td>38.0</td>\n",
       "      <td>1</td>\n",
       "      <td>0</td>\n",
       "      <td>PC 17599</td>\n",
       "      <td>71.2833</td>\n",
       "      <td>C85</td>\n",
       "      <td>C</td>\n",
       "    </tr>\n",
       "    <tr>\n",
       "      <th>2</th>\n",
       "      <td>3</td>\n",
       "      <td>1</td>\n",
       "      <td>3</td>\n",
       "      <td>Heikkinen, Miss. Laina</td>\n",
       "      <td>female</td>\n",
       "      <td>26.0</td>\n",
       "      <td>0</td>\n",
       "      <td>0</td>\n",
       "      <td>STON/O2. 3101282</td>\n",
       "      <td>7.9250</td>\n",
       "      <td>NaN</td>\n",
       "      <td>S</td>\n",
       "    </tr>\n",
       "    <tr>\n",
       "      <th>3</th>\n",
       "      <td>4</td>\n",
       "      <td>1</td>\n",
       "      <td>1</td>\n",
       "      <td>Futrelle, Mrs. Jacques Heath (Lily May Peel)</td>\n",
       "      <td>female</td>\n",
       "      <td>35.0</td>\n",
       "      <td>1</td>\n",
       "      <td>0</td>\n",
       "      <td>113803</td>\n",
       "      <td>53.1000</td>\n",
       "      <td>C123</td>\n",
       "      <td>S</td>\n",
       "    </tr>\n",
       "    <tr>\n",
       "      <th>4</th>\n",
       "      <td>5</td>\n",
       "      <td>0</td>\n",
       "      <td>3</td>\n",
       "      <td>Allen, Mr. William Henry</td>\n",
       "      <td>male</td>\n",
       "      <td>35.0</td>\n",
       "      <td>0</td>\n",
       "      <td>0</td>\n",
       "      <td>373450</td>\n",
       "      <td>8.0500</td>\n",
       "      <td>NaN</td>\n",
       "      <td>S</td>\n",
       "    </tr>\n",
       "    <tr>\n",
       "      <th>...</th>\n",
       "      <td>...</td>\n",
       "      <td>...</td>\n",
       "      <td>...</td>\n",
       "      <td>...</td>\n",
       "      <td>...</td>\n",
       "      <td>...</td>\n",
       "      <td>...</td>\n",
       "      <td>...</td>\n",
       "      <td>...</td>\n",
       "      <td>...</td>\n",
       "      <td>...</td>\n",
       "      <td>...</td>\n",
       "    </tr>\n",
       "    <tr>\n",
       "      <th>886</th>\n",
       "      <td>887</td>\n",
       "      <td>0</td>\n",
       "      <td>2</td>\n",
       "      <td>Montvila, Rev. Juozas</td>\n",
       "      <td>male</td>\n",
       "      <td>27.0</td>\n",
       "      <td>0</td>\n",
       "      <td>0</td>\n",
       "      <td>211536</td>\n",
       "      <td>13.0000</td>\n",
       "      <td>NaN</td>\n",
       "      <td>S</td>\n",
       "    </tr>\n",
       "    <tr>\n",
       "      <th>887</th>\n",
       "      <td>888</td>\n",
       "      <td>1</td>\n",
       "      <td>1</td>\n",
       "      <td>Graham, Miss. Margaret Edith</td>\n",
       "      <td>female</td>\n",
       "      <td>19.0</td>\n",
       "      <td>0</td>\n",
       "      <td>0</td>\n",
       "      <td>112053</td>\n",
       "      <td>30.0000</td>\n",
       "      <td>B42</td>\n",
       "      <td>S</td>\n",
       "    </tr>\n",
       "    <tr>\n",
       "      <th>888</th>\n",
       "      <td>889</td>\n",
       "      <td>0</td>\n",
       "      <td>3</td>\n",
       "      <td>Johnston, Miss. Catherine Helen \"Carrie\"</td>\n",
       "      <td>female</td>\n",
       "      <td>NaN</td>\n",
       "      <td>1</td>\n",
       "      <td>2</td>\n",
       "      <td>W./C. 6607</td>\n",
       "      <td>23.4500</td>\n",
       "      <td>NaN</td>\n",
       "      <td>S</td>\n",
       "    </tr>\n",
       "    <tr>\n",
       "      <th>889</th>\n",
       "      <td>890</td>\n",
       "      <td>1</td>\n",
       "      <td>1</td>\n",
       "      <td>Behr, Mr. Karl Howell</td>\n",
       "      <td>male</td>\n",
       "      <td>26.0</td>\n",
       "      <td>0</td>\n",
       "      <td>0</td>\n",
       "      <td>111369</td>\n",
       "      <td>30.0000</td>\n",
       "      <td>C148</td>\n",
       "      <td>C</td>\n",
       "    </tr>\n",
       "    <tr>\n",
       "      <th>890</th>\n",
       "      <td>891</td>\n",
       "      <td>0</td>\n",
       "      <td>3</td>\n",
       "      <td>Dooley, Mr. Patrick</td>\n",
       "      <td>male</td>\n",
       "      <td>32.0</td>\n",
       "      <td>0</td>\n",
       "      <td>0</td>\n",
       "      <td>370376</td>\n",
       "      <td>7.7500</td>\n",
       "      <td>NaN</td>\n",
       "      <td>Q</td>\n",
       "    </tr>\n",
       "  </tbody>\n",
       "</table>\n",
       "<p>891 rows × 12 columns</p>\n",
       "</div>"
      ],
      "text/plain": [
       "     PassengerId  Survived  Pclass  \\\n",
       "0              1         0       3   \n",
       "1              2         1       1   \n",
       "2              3         1       3   \n",
       "3              4         1       1   \n",
       "4              5         0       3   \n",
       "..           ...       ...     ...   \n",
       "886          887         0       2   \n",
       "887          888         1       1   \n",
       "888          889         0       3   \n",
       "889          890         1       1   \n",
       "890          891         0       3   \n",
       "\n",
       "                                                  Name     Sex   Age  SibSp  \\\n",
       "0                              Braund, Mr. Owen Harris    male  22.0      1   \n",
       "1    Cumings, Mrs. John Bradley (Florence Briggs Th...  female  38.0      1   \n",
       "2                               Heikkinen, Miss. Laina  female  26.0      0   \n",
       "3         Futrelle, Mrs. Jacques Heath (Lily May Peel)  female  35.0      1   \n",
       "4                             Allen, Mr. William Henry    male  35.0      0   \n",
       "..                                                 ...     ...   ...    ...   \n",
       "886                              Montvila, Rev. Juozas    male  27.0      0   \n",
       "887                       Graham, Miss. Margaret Edith  female  19.0      0   \n",
       "888           Johnston, Miss. Catherine Helen \"Carrie\"  female   NaN      1   \n",
       "889                              Behr, Mr. Karl Howell    male  26.0      0   \n",
       "890                                Dooley, Mr. Patrick    male  32.0      0   \n",
       "\n",
       "     Parch            Ticket     Fare Cabin Embarked  \n",
       "0        0         A/5 21171   7.2500   NaN        S  \n",
       "1        0          PC 17599  71.2833   C85        C  \n",
       "2        0  STON/O2. 3101282   7.9250   NaN        S  \n",
       "3        0            113803  53.1000  C123        S  \n",
       "4        0            373450   8.0500   NaN        S  \n",
       "..     ...               ...      ...   ...      ...  \n",
       "886      0            211536  13.0000   NaN        S  \n",
       "887      0            112053  30.0000   B42        S  \n",
       "888      2        W./C. 6607  23.4500   NaN        S  \n",
       "889      0            111369  30.0000  C148        C  \n",
       "890      0            370376   7.7500   NaN        Q  \n",
       "\n",
       "[891 rows x 12 columns]"
      ]
     },
     "execution_count": 2,
     "metadata": {},
     "output_type": "execute_result"
    }
   ],
   "source": [
    "df = pd.read_excel(\"http://itpaper.co.kr/data/titanic.xlsx\", engine='openpyxl')\n",
    "df"
   ]
  },
  {
   "cell_type": "markdown",
   "id": "c176a7d2-2340-4128-86c4-22c583d0cb81",
   "metadata": {},
   "source": [
    "### 데이터 전처리"
   ]
  },
  {
   "cell_type": "markdown",
   "id": "6a79557b-f2bf-4490-bf86-6c54a90b1572",
   "metadata": {},
   "source": [
    "#### 결측치 확인"
   ]
  },
  {
   "cell_type": "code",
   "execution_count": 3,
   "id": "ad141e3d-88e2-42ce-9818-170c36202fe7",
   "metadata": {},
   "outputs": [
    {
     "data": {
      "text/plain": [
       "PassengerId      0\n",
       "Survived         0\n",
       "Pclass           0\n",
       "Name             0\n",
       "Sex              0\n",
       "Age            177\n",
       "SibSp            0\n",
       "Parch            0\n",
       "Ticket           0\n",
       "Fare             0\n",
       "Cabin          687\n",
       "Embarked         2\n",
       "dtype: int64"
      ]
     },
     "execution_count": 3,
     "metadata": {},
     "output_type": "execute_result"
    }
   ],
   "source": [
    "df.isna().sum()"
   ]
  },
  {
   "cell_type": "markdown",
   "id": "3e5a91d6-1d25-45de-a62f-adf97283eca1",
   "metadata": {},
   "source": [
    "#### 결측치 정제"
   ]
  },
  {
   "cell_type": "code",
   "execution_count": 4,
   "id": "a79e29e5-7673-403f-9659-5a6a997ee3d9",
   "metadata": {},
   "outputs": [
    {
     "data": {
      "text/plain": [
       "PassengerId      0\n",
       "Survived         0\n",
       "Pclass           0\n",
       "Name             0\n",
       "Sex              0\n",
       "Age            177\n",
       "SibSp            0\n",
       "Parch            0\n",
       "Ticket           0\n",
       "Fare             0\n",
       "Embarked         2\n",
       "dtype: int64"
      ]
     },
     "execution_count": 4,
     "metadata": {},
     "output_type": "execute_result"
    }
   ],
   "source": [
    "# 결측치가 가장 많은 방 호수는 생존여부에 큰 영향을 주지않는 변수라 생각하고 삭제\n",
    "\n",
    "if 'Cabin' in df.columns:\n",
    "    df.drop('Cabin', axis=1, inplace=True)\n",
    "\n",
    "df.isna().sum()\n"
   ]
  },
  {
   "cell_type": "code",
   "execution_count": 5,
   "id": "ffe9a010-62bb-40ac-9297-5e9999bad487",
   "metadata": {},
   "outputs": [
    {
     "name": "stdout",
     "output_type": "stream",
     "text": [
      "최빈값 :  S\n"
     ]
    },
    {
     "data": {
      "text/plain": [
       "PassengerId      0\n",
       "Survived         0\n",
       "Pclass           0\n",
       "Name             0\n",
       "Sex              0\n",
       "Age            177\n",
       "SibSp            0\n",
       "Parch            0\n",
       "Ticket           0\n",
       "Fare             0\n",
       "Embarked         0\n",
       "dtype: int64"
      ]
     },
     "execution_count": 5,
     "metadata": {},
     "output_type": "execute_result"
    }
   ],
   "source": [
    "# 탑승지 컬럼 최빈값 대체\n",
    "# 탑승지 데이터는 결측치가 많지 않기 때문에 최빈값(가장많이 등장하는 값)으로 대체한다.\n",
    "\n",
    "most_frequent = df['Embarked'].mode()\n",
    "print(\"최빈값 : \", most_frequent[0])\n",
    "\n",
    "df['Embarked'].fillna(most_frequent[0], inplace=True)\n",
    "df.isna().sum()"
   ]
  },
  {
   "cell_type": "code",
   "execution_count": 6,
   "id": "34c3cc1b-ff35-45f0-ae1e-21253eb388d7",
   "metadata": {},
   "outputs": [
    {
     "data": {
      "text/plain": [
       "PassengerId    0\n",
       "Survived       0\n",
       "Pclass         0\n",
       "Name           0\n",
       "Sex            0\n",
       "Age            0\n",
       "SibSp          0\n",
       "Parch          0\n",
       "Ticket         0\n",
       "Fare           0\n",
       "Embarked       0\n",
       "dtype: int64"
      ]
     },
     "execution_count": 6,
     "metadata": {},
     "output_type": "execute_result"
    }
   ],
   "source": [
    "# 나이 컬럼 중앙값 대체\n",
    "\n",
    "df['Age'].fillna(df['Age'].median(), inplace=True)\n",
    "df.isna().sum()"
   ]
  },
  {
   "cell_type": "markdown",
   "id": "7907c42e-ca5b-44ae-9c67-2f8b1dd6635a",
   "metadata": {},
   "source": [
    "#### 인덱스 설정"
   ]
  },
  {
   "cell_type": "code",
   "execution_count": 7,
   "id": "721f16a2-0a8b-460d-b9f6-5d1c28548ca0",
   "metadata": {},
   "outputs": [
    {
     "data": {
      "text/html": [
       "<div>\n",
       "<style scoped>\n",
       "    .dataframe tbody tr th:only-of-type {\n",
       "        vertical-align: middle;\n",
       "    }\n",
       "\n",
       "    .dataframe tbody tr th {\n",
       "        vertical-align: top;\n",
       "    }\n",
       "\n",
       "    .dataframe thead th {\n",
       "        text-align: right;\n",
       "    }\n",
       "</style>\n",
       "<table border=\"1\" class=\"dataframe\">\n",
       "  <thead>\n",
       "    <tr style=\"text-align: right;\">\n",
       "      <th></th>\n",
       "      <th>Survived</th>\n",
       "      <th>Pclass</th>\n",
       "      <th>Name</th>\n",
       "      <th>Sex</th>\n",
       "      <th>Age</th>\n",
       "      <th>SibSp</th>\n",
       "      <th>Parch</th>\n",
       "      <th>Ticket</th>\n",
       "      <th>Fare</th>\n",
       "      <th>Embarked</th>\n",
       "    </tr>\n",
       "    <tr>\n",
       "      <th>PassengerId</th>\n",
       "      <th></th>\n",
       "      <th></th>\n",
       "      <th></th>\n",
       "      <th></th>\n",
       "      <th></th>\n",
       "      <th></th>\n",
       "      <th></th>\n",
       "      <th></th>\n",
       "      <th></th>\n",
       "      <th></th>\n",
       "    </tr>\n",
       "  </thead>\n",
       "  <tbody>\n",
       "    <tr>\n",
       "      <th>1</th>\n",
       "      <td>0</td>\n",
       "      <td>3</td>\n",
       "      <td>Braund, Mr. Owen Harris</td>\n",
       "      <td>male</td>\n",
       "      <td>22.0</td>\n",
       "      <td>1</td>\n",
       "      <td>0</td>\n",
       "      <td>A/5 21171</td>\n",
       "      <td>7.2500</td>\n",
       "      <td>S</td>\n",
       "    </tr>\n",
       "    <tr>\n",
       "      <th>2</th>\n",
       "      <td>1</td>\n",
       "      <td>1</td>\n",
       "      <td>Cumings, Mrs. John Bradley (Florence Briggs Th...</td>\n",
       "      <td>female</td>\n",
       "      <td>38.0</td>\n",
       "      <td>1</td>\n",
       "      <td>0</td>\n",
       "      <td>PC 17599</td>\n",
       "      <td>71.2833</td>\n",
       "      <td>C</td>\n",
       "    </tr>\n",
       "    <tr>\n",
       "      <th>3</th>\n",
       "      <td>1</td>\n",
       "      <td>3</td>\n",
       "      <td>Heikkinen, Miss. Laina</td>\n",
       "      <td>female</td>\n",
       "      <td>26.0</td>\n",
       "      <td>0</td>\n",
       "      <td>0</td>\n",
       "      <td>STON/O2. 3101282</td>\n",
       "      <td>7.9250</td>\n",
       "      <td>S</td>\n",
       "    </tr>\n",
       "    <tr>\n",
       "      <th>4</th>\n",
       "      <td>1</td>\n",
       "      <td>1</td>\n",
       "      <td>Futrelle, Mrs. Jacques Heath (Lily May Peel)</td>\n",
       "      <td>female</td>\n",
       "      <td>35.0</td>\n",
       "      <td>1</td>\n",
       "      <td>0</td>\n",
       "      <td>113803</td>\n",
       "      <td>53.1000</td>\n",
       "      <td>S</td>\n",
       "    </tr>\n",
       "    <tr>\n",
       "      <th>5</th>\n",
       "      <td>0</td>\n",
       "      <td>3</td>\n",
       "      <td>Allen, Mr. William Henry</td>\n",
       "      <td>male</td>\n",
       "      <td>35.0</td>\n",
       "      <td>0</td>\n",
       "      <td>0</td>\n",
       "      <td>373450</td>\n",
       "      <td>8.0500</td>\n",
       "      <td>S</td>\n",
       "    </tr>\n",
       "    <tr>\n",
       "      <th>...</th>\n",
       "      <td>...</td>\n",
       "      <td>...</td>\n",
       "      <td>...</td>\n",
       "      <td>...</td>\n",
       "      <td>...</td>\n",
       "      <td>...</td>\n",
       "      <td>...</td>\n",
       "      <td>...</td>\n",
       "      <td>...</td>\n",
       "      <td>...</td>\n",
       "    </tr>\n",
       "    <tr>\n",
       "      <th>887</th>\n",
       "      <td>0</td>\n",
       "      <td>2</td>\n",
       "      <td>Montvila, Rev. Juozas</td>\n",
       "      <td>male</td>\n",
       "      <td>27.0</td>\n",
       "      <td>0</td>\n",
       "      <td>0</td>\n",
       "      <td>211536</td>\n",
       "      <td>13.0000</td>\n",
       "      <td>S</td>\n",
       "    </tr>\n",
       "    <tr>\n",
       "      <th>888</th>\n",
       "      <td>1</td>\n",
       "      <td>1</td>\n",
       "      <td>Graham, Miss. Margaret Edith</td>\n",
       "      <td>female</td>\n",
       "      <td>19.0</td>\n",
       "      <td>0</td>\n",
       "      <td>0</td>\n",
       "      <td>112053</td>\n",
       "      <td>30.0000</td>\n",
       "      <td>S</td>\n",
       "    </tr>\n",
       "    <tr>\n",
       "      <th>889</th>\n",
       "      <td>0</td>\n",
       "      <td>3</td>\n",
       "      <td>Johnston, Miss. Catherine Helen \"Carrie\"</td>\n",
       "      <td>female</td>\n",
       "      <td>28.0</td>\n",
       "      <td>1</td>\n",
       "      <td>2</td>\n",
       "      <td>W./C. 6607</td>\n",
       "      <td>23.4500</td>\n",
       "      <td>S</td>\n",
       "    </tr>\n",
       "    <tr>\n",
       "      <th>890</th>\n",
       "      <td>1</td>\n",
       "      <td>1</td>\n",
       "      <td>Behr, Mr. Karl Howell</td>\n",
       "      <td>male</td>\n",
       "      <td>26.0</td>\n",
       "      <td>0</td>\n",
       "      <td>0</td>\n",
       "      <td>111369</td>\n",
       "      <td>30.0000</td>\n",
       "      <td>C</td>\n",
       "    </tr>\n",
       "    <tr>\n",
       "      <th>891</th>\n",
       "      <td>0</td>\n",
       "      <td>3</td>\n",
       "      <td>Dooley, Mr. Patrick</td>\n",
       "      <td>male</td>\n",
       "      <td>32.0</td>\n",
       "      <td>0</td>\n",
       "      <td>0</td>\n",
       "      <td>370376</td>\n",
       "      <td>7.7500</td>\n",
       "      <td>Q</td>\n",
       "    </tr>\n",
       "  </tbody>\n",
       "</table>\n",
       "<p>891 rows × 10 columns</p>\n",
       "</div>"
      ],
      "text/plain": [
       "             Survived  Pclass  \\\n",
       "PassengerId                     \n",
       "1                   0       3   \n",
       "2                   1       1   \n",
       "3                   1       3   \n",
       "4                   1       1   \n",
       "5                   0       3   \n",
       "...               ...     ...   \n",
       "887                 0       2   \n",
       "888                 1       1   \n",
       "889                 0       3   \n",
       "890                 1       1   \n",
       "891                 0       3   \n",
       "\n",
       "                                                          Name     Sex   Age  \\\n",
       "PassengerId                                                                    \n",
       "1                                      Braund, Mr. Owen Harris    male  22.0   \n",
       "2            Cumings, Mrs. John Bradley (Florence Briggs Th...  female  38.0   \n",
       "3                                       Heikkinen, Miss. Laina  female  26.0   \n",
       "4                 Futrelle, Mrs. Jacques Heath (Lily May Peel)  female  35.0   \n",
       "5                                     Allen, Mr. William Henry    male  35.0   \n",
       "...                                                        ...     ...   ...   \n",
       "887                                      Montvila, Rev. Juozas    male  27.0   \n",
       "888                               Graham, Miss. Margaret Edith  female  19.0   \n",
       "889                   Johnston, Miss. Catherine Helen \"Carrie\"  female  28.0   \n",
       "890                                      Behr, Mr. Karl Howell    male  26.0   \n",
       "891                                        Dooley, Mr. Patrick    male  32.0   \n",
       "\n",
       "             SibSp  Parch            Ticket     Fare Embarked  \n",
       "PassengerId                                                    \n",
       "1                1      0         A/5 21171   7.2500        S  \n",
       "2                1      0          PC 17599  71.2833        C  \n",
       "3                0      0  STON/O2. 3101282   7.9250        S  \n",
       "4                1      0            113803  53.1000        S  \n",
       "5                0      0            373450   8.0500        S  \n",
       "...            ...    ...               ...      ...      ...  \n",
       "887              0      0            211536  13.0000        S  \n",
       "888              0      0            112053  30.0000        S  \n",
       "889              1      2        W./C. 6607  23.4500        S  \n",
       "890              0      0            111369  30.0000        C  \n",
       "891              0      0            370376   7.7500        Q  \n",
       "\n",
       "[891 rows x 10 columns]"
      ]
     },
     "execution_count": 7,
     "metadata": {},
     "output_type": "execute_result"
    }
   ],
   "source": [
    "if 'PassengerId' in df.columns:\n",
    "    df.set_index('PassengerId', inplace = True)\n",
    "    \n",
    "df"
   ]
  },
  {
   "cell_type": "markdown",
   "id": "7d59f6e7-5f96-43be-aa37-e22ac41da5ef",
   "metadata": {},
   "source": [
    "#### 컬럼 정보 확인"
   ]
  },
  {
   "cell_type": "code",
   "execution_count": 8,
   "id": "e8c5e6e8-ecfb-45ed-a626-51fdd9c7f092",
   "metadata": {},
   "outputs": [
    {
     "name": "stdout",
     "output_type": "stream",
     "text": [
      "<class 'pandas.core.frame.DataFrame'>\n",
      "Int64Index: 891 entries, 1 to 891\n",
      "Data columns (total 10 columns):\n",
      " #   Column    Non-Null Count  Dtype  \n",
      "---  ------    --------------  -----  \n",
      " 0   Survived  891 non-null    int64  \n",
      " 1   Pclass    891 non-null    int64  \n",
      " 2   Name      891 non-null    object \n",
      " 3   Sex       891 non-null    object \n",
      " 4   Age       891 non-null    float64\n",
      " 5   SibSp     891 non-null    int64  \n",
      " 6   Parch     891 non-null    int64  \n",
      " 7   Ticket    891 non-null    object \n",
      " 8   Fare      891 non-null    float64\n",
      " 9   Embarked  891 non-null    object \n",
      "dtypes: float64(2), int64(4), object(4)\n",
      "memory usage: 76.6+ KB\n"
     ]
    }
   ],
   "source": [
    "df.info()"
   ]
  },
  {
   "cell_type": "markdown",
   "id": "538fc42c-a235-4894-9d49-c8c5712fa276",
   "metadata": {},
   "source": [
    "#### 범주형 변수의 타입 변환"
   ]
  },
  {
   "cell_type": "code",
   "execution_count": 9,
   "id": "58cc1d0b-5023-4482-b0fb-2685d7ad02f2",
   "metadata": {},
   "outputs": [
    {
     "name": "stdout",
     "output_type": "stream",
     "text": [
      "<class 'pandas.core.frame.DataFrame'>\n",
      "Int64Index: 891 entries, 1 to 891\n",
      "Data columns (total 10 columns):\n",
      " #   Column    Non-Null Count  Dtype   \n",
      "---  ------    --------------  -----   \n",
      " 0   Survived  891 non-null    category\n",
      " 1   Pclass    891 non-null    category\n",
      " 2   Name      891 non-null    object  \n",
      " 3   Sex       891 non-null    category\n",
      " 4   Age       891 non-null    float64 \n",
      " 5   SibSp     891 non-null    int64   \n",
      " 6   Parch     891 non-null    int64   \n",
      " 7   Ticket    891 non-null    object  \n",
      " 8   Fare      891 non-null    float64 \n",
      " 9   Embarked  891 non-null    category\n",
      "dtypes: category(4), float64(2), int64(2), object(2)\n",
      "memory usage: 52.7+ KB\n"
     ]
    }
   ],
   "source": [
    "df[\"Sex\"] = df[\"Sex\"].astype('category').cat.rename_categories({\n",
    "    'male': 1, 'female': 0\n",
    "})\n",
    "df['Survived'] = df['Survived'].astype('category')\n",
    "df['Pclass'] = df[\"Pclass\"].astype('category').cat.reorder_categories([1, 2, 3])\n",
    "df[\"Embarked\"] = df[\"Embarked\"].astype('category').cat.rename_categories({\n",
    "    'S':1, 'C':2, \"Q\":3\n",
    "})\n",
    "df.info()"
   ]
  },
  {
   "cell_type": "markdown",
   "id": "92de30dc-eb52-4aa7-80f8-3d10fe3d584b",
   "metadata": {},
   "source": [
    "### EDA"
   ]
  },
  {
   "cell_type": "markdown",
   "id": "fa4e8c15-ae1c-41dc-925a-2643da21cf4f",
   "metadata": {},
   "source": [
    "#### 기본 정보 확인"
   ]
  },
  {
   "cell_type": "code",
   "execution_count": 10,
   "id": "a9bba3fb-33db-4eeb-9858-1b9b551a0756",
   "metadata": {},
   "outputs": [
    {
     "data": {
      "text/html": [
       "<div>\n",
       "<style scoped>\n",
       "    .dataframe tbody tr th:only-of-type {\n",
       "        vertical-align: middle;\n",
       "    }\n",
       "\n",
       "    .dataframe tbody tr th {\n",
       "        vertical-align: top;\n",
       "    }\n",
       "\n",
       "    .dataframe thead th {\n",
       "        text-align: right;\n",
       "    }\n",
       "</style>\n",
       "<table border=\"1\" class=\"dataframe\">\n",
       "  <thead>\n",
       "    <tr style=\"text-align: right;\">\n",
       "      <th></th>\n",
       "      <th>Age</th>\n",
       "      <th>SibSp</th>\n",
       "      <th>Parch</th>\n",
       "      <th>Fare</th>\n",
       "    </tr>\n",
       "  </thead>\n",
       "  <tbody>\n",
       "    <tr>\n",
       "      <th>count</th>\n",
       "      <td>891.000000</td>\n",
       "      <td>891.000000</td>\n",
       "      <td>891.000000</td>\n",
       "      <td>891.000000</td>\n",
       "    </tr>\n",
       "    <tr>\n",
       "      <th>mean</th>\n",
       "      <td>29.361582</td>\n",
       "      <td>0.523008</td>\n",
       "      <td>0.381594</td>\n",
       "      <td>32.204208</td>\n",
       "    </tr>\n",
       "    <tr>\n",
       "      <th>std</th>\n",
       "      <td>13.019697</td>\n",
       "      <td>1.102743</td>\n",
       "      <td>0.806057</td>\n",
       "      <td>49.693429</td>\n",
       "    </tr>\n",
       "    <tr>\n",
       "      <th>min</th>\n",
       "      <td>0.420000</td>\n",
       "      <td>0.000000</td>\n",
       "      <td>0.000000</td>\n",
       "      <td>0.000000</td>\n",
       "    </tr>\n",
       "    <tr>\n",
       "      <th>25%</th>\n",
       "      <td>22.000000</td>\n",
       "      <td>0.000000</td>\n",
       "      <td>0.000000</td>\n",
       "      <td>7.910400</td>\n",
       "    </tr>\n",
       "    <tr>\n",
       "      <th>50%</th>\n",
       "      <td>28.000000</td>\n",
       "      <td>0.000000</td>\n",
       "      <td>0.000000</td>\n",
       "      <td>14.454200</td>\n",
       "    </tr>\n",
       "    <tr>\n",
       "      <th>75%</th>\n",
       "      <td>35.000000</td>\n",
       "      <td>1.000000</td>\n",
       "      <td>0.000000</td>\n",
       "      <td>31.000000</td>\n",
       "    </tr>\n",
       "    <tr>\n",
       "      <th>max</th>\n",
       "      <td>80.000000</td>\n",
       "      <td>8.000000</td>\n",
       "      <td>6.000000</td>\n",
       "      <td>512.329200</td>\n",
       "    </tr>\n",
       "  </tbody>\n",
       "</table>\n",
       "</div>"
      ],
      "text/plain": [
       "              Age       SibSp       Parch        Fare\n",
       "count  891.000000  891.000000  891.000000  891.000000\n",
       "mean    29.361582    0.523008    0.381594   32.204208\n",
       "std     13.019697    1.102743    0.806057   49.693429\n",
       "min      0.420000    0.000000    0.000000    0.000000\n",
       "25%     22.000000    0.000000    0.000000    7.910400\n",
       "50%     28.000000    0.000000    0.000000   14.454200\n",
       "75%     35.000000    1.000000    0.000000   31.000000\n",
       "max     80.000000    8.000000    6.000000  512.329200"
      ]
     },
     "execution_count": 10,
     "metadata": {},
     "output_type": "execute_result"
    }
   ],
   "source": [
    "df.describe()"
   ]
  },
  {
   "cell_type": "markdown",
   "id": "6e20fc59-fe88-4c88-8184-6cb24bbc5574",
   "metadata": {},
   "source": [
    "#### 생존률 확인하기"
   ]
  },
  {
   "cell_type": "code",
   "execution_count": 11,
   "id": "1f38da34-e173-4473-88d8-f51764ff68d6",
   "metadata": {},
   "outputs": [
    {
     "data": {
      "text/plain": [
       "[Text(0, 0, '사망'), Text(1, 0, '생존')]"
      ]
     },
     "execution_count": 11,
     "metadata": {},
     "output_type": "execute_result"
    },
    {
     "data": {
      "image/png": "[encoded data removed]",
      "text/plain": [
       "<Figure size 1440x720 with 2 Axes>"
      ]
     },
     "metadata": {
      "needs_background": "light"
     },
     "output_type": "display_data"
    }
   ],
   "source": [
    "plt.rcParams[\"font.family\"] = 'Malgun Gothic'\n",
    "plt.rcParams[\"font.size\"] = 18                \n",
    "\n",
    "fig, (ax1, ax2) = plt.subplots(1, 2, figsize=(20, 10))\n",
    "\n",
    "vc = df['Survived'].value_counts()\n",
    "ax1.pie(vc, labels = ['사망', '생존'], autopct = '%1.2f%%')\n",
    "ax1.set_title('Survived')\n",
    "ax1.set_ylabel('')\n",
    "\n",
    "sns.countplot(x=df['Survived'], ax=ax2)\n",
    "ax2.set_title('Survived')\n",
    "\n",
    "ax2.set_xticks([0, 1])\n",
    "ax2.set_xticklabels(['사망', '생존'])\n",
    "\n"
   ]
  },
  {
   "cell_type": "markdown",
   "id": "adef27c7-6abb-4461-84c7-ff7194a4e8f1",
   "metadata": {},
   "source": [
    "#### 객실에 따른 생존률"
   ]
  },
  {
   "cell_type": "code",
   "execution_count": 12,
   "id": "0791bb28-cc18-4f06-9ddf-8ea6c8665da8",
   "metadata": {},
   "outputs": [
    {
     "data": {
      "text/html": [
       "<div>\n",
       "<style scoped>\n",
       "    .dataframe tbody tr th:only-of-type {\n",
       "        vertical-align: middle;\n",
       "    }\n",
       "\n",
       "    .dataframe tbody tr th {\n",
       "        vertical-align: top;\n",
       "    }\n",
       "\n",
       "    .dataframe thead th {\n",
       "        text-align: right;\n",
       "    }\n",
       "</style>\n",
       "<table border=\"1\" class=\"dataframe\">\n",
       "  <thead>\n",
       "    <tr style=\"text-align: right;\">\n",
       "      <th></th>\n",
       "      <th>Survived</th>\n",
       "    </tr>\n",
       "    <tr>\n",
       "      <th>Pclass</th>\n",
       "      <th></th>\n",
       "    </tr>\n",
       "  </thead>\n",
       "  <tbody>\n",
       "    <tr>\n",
       "      <th>1</th>\n",
       "      <td>216</td>\n",
       "    </tr>\n",
       "    <tr>\n",
       "      <th>2</th>\n",
       "      <td>184</td>\n",
       "    </tr>\n",
       "    <tr>\n",
       "      <th>3</th>\n",
       "      <td>491</td>\n",
       "    </tr>\n",
       "  </tbody>\n",
       "</table>\n",
       "</div>"
      ],
      "text/plain": [
       "        Survived\n",
       "Pclass          \n",
       "1            216\n",
       "2            184\n",
       "3            491"
      ]
     },
     "execution_count": 12,
     "metadata": {},
     "output_type": "execute_result"
    }
   ],
   "source": [
    "# 각선실별 탁승객 수 확인하기\n",
    "\n",
    "pclass_total_df = df[['Pclass', 'Survived']].groupby('Pclass').count()\n",
    "pclass_total_df"
   ]
  },
  {
   "cell_type": "code",
   "execution_count": 13,
   "id": "983c7765-5f67-4a09-8538-1b2d45e29847",
   "metadata": {},
   "outputs": [
    {
     "data": {
      "text/html": [
       "<div>\n",
       "<style scoped>\n",
       "    .dataframe tbody tr th:only-of-type {\n",
       "        vertical-align: middle;\n",
       "    }\n",
       "\n",
       "    .dataframe tbody tr th {\n",
       "        vertical-align: top;\n",
       "    }\n",
       "\n",
       "    .dataframe thead th {\n",
       "        text-align: right;\n",
       "    }\n",
       "</style>\n",
       "<table border=\"1\" class=\"dataframe\">\n",
       "  <thead>\n",
       "    <tr style=\"text-align: right;\">\n",
       "      <th></th>\n",
       "      <th>Survived</th>\n",
       "    </tr>\n",
       "    <tr>\n",
       "      <th>Pclass</th>\n",
       "      <th></th>\n",
       "    </tr>\n",
       "  </thead>\n",
       "  <tbody>\n",
       "    <tr>\n",
       "      <th>1</th>\n",
       "      <td>136</td>\n",
       "    </tr>\n",
       "    <tr>\n",
       "      <th>2</th>\n",
       "      <td>87</td>\n",
       "    </tr>\n",
       "    <tr>\n",
       "      <th>3</th>\n",
       "      <td>119</td>\n",
       "    </tr>\n",
       "  </tbody>\n",
       "</table>\n",
       "</div>"
      ],
      "text/plain": [
       "        Survived\n",
       "Pclass          \n",
       "1            136\n",
       "2             87\n",
       "3            119"
      ]
     },
     "execution_count": 13,
     "metadata": {},
     "output_type": "execute_result"
    }
   ],
   "source": [
    "# 각 선실별 생존자 수 확인하기\n",
    "\n",
    "pclass_surv_df = df[['Pclass', 'Survived']].query('Survived==1').groupby('Pclass').count()\n",
    "pclass_surv_df"
   ]
  },
  {
   "cell_type": "code",
   "execution_count": 14,
   "id": "175f204f-2940-47a8-b710-6e06af4fab2c",
   "metadata": {},
   "outputs": [
    {
     "data": {
      "text/plain": [
       "Pclass\n",
       "1    62.962963\n",
       "2    47.282609\n",
       "3    24.236253\n",
       "Name: Survived, dtype: float64"
      ]
     },
     "execution_count": 14,
     "metadata": {},
     "output_type": "execute_result"
    }
   ],
   "source": [
    "# 각 선실별 생존자 비율 확인하기\n",
    "\n",
    "ratio = (pclass_surv_df['Survived'] / pclass_total_df['Survived']) * 100\n",
    "ratio"
   ]
  },
  {
   "cell_type": "code",
   "execution_count": 15,
   "id": "f18b6eae-75c6-406f-b742-07f167912afd",
   "metadata": {},
   "outputs": [
    {
     "data": {
      "text/plain": [
       "Text(0, 0.5, 'Survived')"
      ]
     },
     "execution_count": 15,
     "metadata": {},
     "output_type": "execute_result"
    },
    {
     "data": {
      "image/png": "[encoded data removed]",
      "text/plain": [
       "<Figure size 720x360 with 1 Axes>"
      ]
     },
     "metadata": {
      "needs_background": "light"
     },
     "output_type": "display_data"
    }
   ],
   "source": [
    "# 각 선실별 생존자 비율 시각화\n",
    "\n",
    "fig, ax = plt.subplots(1, 1, figsize=(10, 5))\n",
    "sns.barplot(x=ratio.index, y=ratio, ax=ax)\n",
    "ax.grid()\n",
    "ax.set_ylabel(\"Survived\")"
   ]
  },
  {
   "cell_type": "markdown",
   "id": "4fdd112c-ef1d-4aa5-b3ee-143dc67dfc4a",
   "metadata": {},
   "source": [
    "#### 성별에 따른 생존률"
   ]
  },
  {
   "cell_type": "code",
   "execution_count": 16,
   "id": "eac0e827-6d28-4252-bafe-a1292604a9d6",
   "metadata": {},
   "outputs": [
    {
     "data": {
      "text/plain": [
       "[Text(0, 0, '여자'), Text(1, 0, '남자')]"
      ]
     },
     "execution_count": 16,
     "metadata": {},
     "output_type": "execute_result"
    },
    {
     "data": {
      "image/png": "[encoded data removed]",
      "text/plain": [
       "<Figure size 1080x432 with 2 Axes>"
      ]
     },
     "metadata": {
      "needs_background": "light"
     },
     "output_type": "display_data"
    }
   ],
   "source": [
    "fig, ax = plt.subplots(1, 2, figsize=(15, 6))\n",
    "\n",
    "sns.countplot(data=df, x='Sex', ax=ax[0])\n",
    "ax[0].set_title('탑승자 성별 비율')\n",
    "ax[0].set_xticks([0, 1])\n",
    "ax[0].set_xticklabels(['여자', '남자'])\n",
    "\n",
    "sns.countplot(data=df, x='Sex', hue='Survived', ax=ax[1])\n",
    "ax[1].set_title('생존여부에 따른 성별 비율')\n",
    "ax[1].set_xticks([0, 1])\n",
    "ax[1].set_xticklabels(['여자', '남자'])\n"
   ]
  },
  {
   "cell_type": "markdown",
   "id": "554a9f34-73ea-4ba8-b167-6ad16511f0cf",
   "metadata": {},
   "source": [
    "#### 연령에 따른 생존 비율"
   ]
  },
  {
   "cell_type": "code",
   "execution_count": 17,
   "id": "50f0c660-d676-4c19-b0ec-650bb953c87f",
   "metadata": {},
   "outputs": [
    {
     "data": {
      "image/png": "[encoded data removed]",
      "text/plain": [
       "<Figure size 1152x576 with 1 Axes>"
      ]
     },
     "metadata": {
      "needs_background": "light"
     },
     "output_type": "display_data"
    }
   ],
   "source": [
    "# 연령분포 확인하기\n",
    "\n",
    "fig, ax = plt.subplots(1, 1, figsize=(16, 8))\n",
    "\n",
    "sns.kdeplot(data=df, x=\"Age\", fill=True, alpha=0.4, linewidth=0.5, ax=ax)\n",
    "ax.grid()\n"
   ]
  },
  {
   "cell_type": "code",
   "execution_count": 18,
   "id": "bdf3b13d-a21f-4254-89e8-e38109b32b60",
   "metadata": {},
   "outputs": [
    {
     "data": {
      "text/plain": [
       "<matplotlib.legend.Legend at 0x197f8c2e7f0>"
      ]
     },
     "execution_count": 18,
     "metadata": {},
     "output_type": "execute_result"
    },
    {
     "data": {
      "image/png": "[encoded data removed]",
      "text/plain": [
       "<Figure size 1080x720 with 1 Axes>"
      ]
     },
     "metadata": {
      "needs_background": "light"
     },
     "output_type": "display_data"
    }
   ],
   "source": [
    "# 생존 여부에 따른 연력 분포 곡선\n",
    "\n",
    "fig, ax = plt.subplots(1, 1, figsize=(15, 10))\n",
    "\n",
    "sns.kdeplot(df[\"Age\"][(df[\"Survived\"] == 0)], fill=True, alpha=0.1, linewidth=0.5, color=\"Blue\", ax=ax)\n",
    "\n",
    "sns.kdeplot(df[\"Age\"][(df[\"Survived\"] == 1)], fill=True, alpha=0.1, linewidth=0.5, color=\"Green\", ax=ax)\n",
    "\n",
    "ax.grid()\n",
    "ax.set_xlabel(\"Age\")\n",
    "ax.set_ylabel(\"Frequency\")\n",
    "ax.legend(['Not Survived', 'Survived'])"
   ]
  },
  {
   "cell_type": "markdown",
   "id": "b54cea3a-4ab7-4c9c-afe0-9ec0cbf8192f",
   "metadata": {},
   "source": [
    "### 데이터 셋 분할하기"
   ]
  },
  {
   "cell_type": "markdown",
   "id": "3ba7c7a6-40e8-44f7-8dd1-d913cfad82f8",
   "metadata": {},
   "source": [
    "#### 랜덤 시드 고정"
   ]
  },
  {
   "cell_type": "code",
   "execution_count": 19,
   "id": "846b66d6-15ff-400b-ad5b-10c64eaa3685",
   "metadata": {},
   "outputs": [],
   "source": [
    "np.random.seed(777)"
   ]
  },
  {
   "cell_type": "markdown",
   "id": "be9d7217-677e-498b-a77a-6966be79a864",
   "metadata": {},
   "source": [
    "#### 딥러닝을 위한 데이터 타입 변환"
   ]
  },
  {
   "cell_type": "code",
   "execution_count": 20,
   "id": "00d1b2c9-d323-4b88-9a07-2154d186ab86",
   "metadata": {},
   "outputs": [
    {
     "name": "stdout",
     "output_type": "stream",
     "text": [
      "<class 'pandas.core.frame.DataFrame'>\n",
      "Int64Index: 891 entries, 1 to 891\n",
      "Data columns (total 10 columns):\n",
      " #   Column    Non-Null Count  Dtype   \n",
      "---  ------    --------------  -----   \n",
      " 0   Survived  891 non-null    float32 \n",
      " 1   Pclass    891 non-null    float32 \n",
      " 2   Name      891 non-null    object  \n",
      " 3   Sex       891 non-null    float32 \n",
      " 4   Age       891 non-null    float32 \n",
      " 5   SibSp     891 non-null    float32 \n",
      " 6   Parch     891 non-null    float32 \n",
      " 7   Ticket    891 non-null    object  \n",
      " 8   Fare      891 non-null    float32 \n",
      " 9   Embarked  891 non-null    category\n",
      "dtypes: category(1), float32(7), object(2)\n",
      "memory usage: 78.5+ KB\n"
     ]
    }
   ],
   "source": [
    "# 생존 유무\n",
    "df['Survived'] = df['Survived'].astype(np.float32)\n",
    "# 객실 등급\n",
    "df['Pclass'] = df['Pclass'].astype(np.float32)\n",
    "# 성별\n",
    "df['Sex'] = df['Sex'].astype(np.float32)\n",
    "# 형제 혹은 부부의 수\n",
    "df['SibSp'] = df['SibSp'].astype(np.float32)\n",
    "# 부모 혹은 자녀의 수\n",
    "df['Parch'] = df['Parch'].astype(np.float32)\n",
    "# 지불한 운임\n",
    "df['Fare'] = df['Fare'].astype(np.float32)\n",
    "# 나이\n",
    "df['Age'] = df['Age'].astype(np.float32)\n",
    "\n",
    "df.info()"
   ]
  },
  {
   "cell_type": "markdown",
   "id": "5f769362-7fde-40f7-9aee-41d27414bb5a",
   "metadata": {},
   "source": [
    "#### 훈련데이터(독립변수)와 레이블(종속변수) 구분하기"
   ]
  },
  {
   "cell_type": "code",
   "execution_count": 21,
   "id": "6da2712e-6df1-404d-8276-598c115d3dd2",
   "metadata": {},
   "outputs": [],
   "source": [
    "x_data = df.drop(['Survived', 'Name', 'Ticket', 'Embarked'], axis=1)\n",
    "y_data = df.filter(['Survived'])"
   ]
  },
  {
   "cell_type": "markdown",
   "id": "0b8387df-603d-42b4-ab57-1eff7be8f9b8",
   "metadata": {},
   "source": [
    "#### 데이터 표준화"
   ]
  },
  {
   "cell_type": "code",
   "execution_count": 22,
   "id": "0f79834d-0b45-4a3f-aaff-cb7099d6e78c",
   "metadata": {},
   "outputs": [
    {
     "data": {
      "text/html": [
       "<div>\n",
       "<style scoped>\n",
       "    .dataframe tbody tr th:only-of-type {\n",
       "        vertical-align: middle;\n",
       "    }\n",
       "\n",
       "    .dataframe tbody tr th {\n",
       "        vertical-align: top;\n",
       "    }\n",
       "\n",
       "    .dataframe thead th {\n",
       "        text-align: right;\n",
       "    }\n",
       "</style>\n",
       "<table border=\"1\" class=\"dataframe\">\n",
       "  <thead>\n",
       "    <tr style=\"text-align: right;\">\n",
       "      <th></th>\n",
       "      <th>Pclass</th>\n",
       "      <th>Sex</th>\n",
       "      <th>Age</th>\n",
       "      <th>SibSp</th>\n",
       "      <th>Parch</th>\n",
       "      <th>Fare</th>\n",
       "    </tr>\n",
       "    <tr>\n",
       "      <th>PassengerId</th>\n",
       "      <th></th>\n",
       "      <th></th>\n",
       "      <th></th>\n",
       "      <th></th>\n",
       "      <th></th>\n",
       "      <th></th>\n",
       "    </tr>\n",
       "  </thead>\n",
       "  <tbody>\n",
       "    <tr>\n",
       "      <th>1</th>\n",
       "      <td>0.827377</td>\n",
       "      <td>0.737695</td>\n",
       "      <td>-0.565736</td>\n",
       "      <td>0.432793</td>\n",
       "      <td>-0.473674</td>\n",
       "      <td>-0.502445</td>\n",
       "    </tr>\n",
       "    <tr>\n",
       "      <th>2</th>\n",
       "      <td>-1.566107</td>\n",
       "      <td>-1.355574</td>\n",
       "      <td>0.663861</td>\n",
       "      <td>0.432793</td>\n",
       "      <td>-0.473674</td>\n",
       "      <td>0.786845</td>\n",
       "    </tr>\n",
       "    <tr>\n",
       "      <th>3</th>\n",
       "      <td>0.827377</td>\n",
       "      <td>-1.355574</td>\n",
       "      <td>-0.258337</td>\n",
       "      <td>-0.474545</td>\n",
       "      <td>-0.473674</td>\n",
       "      <td>-0.488854</td>\n",
       "    </tr>\n",
       "    <tr>\n",
       "      <th>4</th>\n",
       "      <td>-1.566107</td>\n",
       "      <td>-1.355574</td>\n",
       "      <td>0.433312</td>\n",
       "      <td>0.432793</td>\n",
       "      <td>-0.473674</td>\n",
       "      <td>0.420730</td>\n",
       "    </tr>\n",
       "    <tr>\n",
       "      <th>5</th>\n",
       "      <td>0.827377</td>\n",
       "      <td>0.737695</td>\n",
       "      <td>0.433312</td>\n",
       "      <td>-0.474545</td>\n",
       "      <td>-0.473674</td>\n",
       "      <td>-0.486337</td>\n",
       "    </tr>\n",
       "    <tr>\n",
       "      <th>...</th>\n",
       "      <td>...</td>\n",
       "      <td>...</td>\n",
       "      <td>...</td>\n",
       "      <td>...</td>\n",
       "      <td>...</td>\n",
       "      <td>...</td>\n",
       "    </tr>\n",
       "    <tr>\n",
       "      <th>887</th>\n",
       "      <td>-0.369365</td>\n",
       "      <td>0.737695</td>\n",
       "      <td>-0.181487</td>\n",
       "      <td>-0.474545</td>\n",
       "      <td>-0.473674</td>\n",
       "      <td>-0.386671</td>\n",
       "    </tr>\n",
       "    <tr>\n",
       "      <th>888</th>\n",
       "      <td>-1.566107</td>\n",
       "      <td>-1.355574</td>\n",
       "      <td>-0.796286</td>\n",
       "      <td>-0.474545</td>\n",
       "      <td>-0.473674</td>\n",
       "      <td>-0.044381</td>\n",
       "    </tr>\n",
       "    <tr>\n",
       "      <th>889</th>\n",
       "      <td>0.827377</td>\n",
       "      <td>-1.355574</td>\n",
       "      <td>-0.104637</td>\n",
       "      <td>0.432793</td>\n",
       "      <td>2.008933</td>\n",
       "      <td>-0.176263</td>\n",
       "    </tr>\n",
       "    <tr>\n",
       "      <th>890</th>\n",
       "      <td>-1.566107</td>\n",
       "      <td>0.737695</td>\n",
       "      <td>-0.258337</td>\n",
       "      <td>-0.474545</td>\n",
       "      <td>-0.473674</td>\n",
       "      <td>-0.044381</td>\n",
       "    </tr>\n",
       "    <tr>\n",
       "      <th>891</th>\n",
       "      <td>0.827377</td>\n",
       "      <td>0.737695</td>\n",
       "      <td>0.202762</td>\n",
       "      <td>-0.474545</td>\n",
       "      <td>-0.473674</td>\n",
       "      <td>-0.492378</td>\n",
       "    </tr>\n",
       "  </tbody>\n",
       "</table>\n",
       "<p>891 rows × 6 columns</p>\n",
       "</div>"
      ],
      "text/plain": [
       "               Pclass       Sex       Age     SibSp     Parch      Fare\n",
       "PassengerId                                                            \n",
       "1            0.827377  0.737695 -0.565736  0.432793 -0.473674 -0.502445\n",
       "2           -1.566107 -1.355574  0.663861  0.432793 -0.473674  0.786845\n",
       "3            0.827377 -1.355574 -0.258337 -0.474545 -0.473674 -0.488854\n",
       "4           -1.566107 -1.355574  0.433312  0.432793 -0.473674  0.420730\n",
       "5            0.827377  0.737695  0.433312 -0.474545 -0.473674 -0.486337\n",
       "...               ...       ...       ...       ...       ...       ...\n",
       "887         -0.369365  0.737695 -0.181487 -0.474545 -0.473674 -0.386671\n",
       "888         -1.566107 -1.355574 -0.796286 -0.474545 -0.473674 -0.044381\n",
       "889          0.827377 -1.355574 -0.104637  0.432793  2.008933 -0.176263\n",
       "890         -1.566107  0.737695 -0.258337 -0.474545 -0.473674 -0.044381\n",
       "891          0.827377  0.737695  0.202762 -0.474545 -0.473674 -0.492378\n",
       "\n",
       "[891 rows x 6 columns]"
      ]
     },
     "execution_count": 22,
     "metadata": {},
     "output_type": "execute_result"
    }
   ],
   "source": [
    "scaler = StandardScaler()\n",
    "std = scaler.fit_transform(x_data)\n",
    "std_x_train = pd.DataFrame(std, columns=x_data.columns, index=x_data.index)\n",
    "std_x_train"
   ]
  },
  {
   "cell_type": "markdown",
   "id": "513c108d-a8c0-4458-addf-59cb12026c96",
   "metadata": {},
   "source": [
    "#### 훈련 데이터와 검증 데이터로 분할"
   ]
  },
  {
   "cell_type": "code",
   "execution_count": 23,
   "id": "e6f8defd-6c86-417c-8bcf-f3b06f4e85b9",
   "metadata": {},
   "outputs": [],
   "source": [
    "x_train, x_test, y_train, y_test = train_test_split(std_x_train, y_data,\n",
    "                                   test_size=0.3, random_state=777)"
   ]
  },
  {
   "cell_type": "markdown",
   "id": "e8ebdc27-0bf0-4b6e-a494-42dbed8477f9",
   "metadata": {},
   "source": [
    "### 모델 개발"
   ]
  },
  {
   "cell_type": "markdown",
   "id": "a20e85da-433e-4a46-bb66-0808206e57ba",
   "metadata": {},
   "source": [
    "#### 모델 정의"
   ]
  },
  {
   "cell_type": "code",
   "execution_count": 24,
   "id": "1b5f5991-e906-47bf-b9ac-a6c329dbc314",
   "metadata": {},
   "outputs": [
    {
     "name": "stdout",
     "output_type": "stream",
     "text": [
      "Model: \"sequential\"\n",
      "_________________________________________________________________\n",
      "Layer (type)                 Output Shape              Param #   \n",
      "=================================================================\n",
      "dense (Dense)                (None, 128)               896       \n",
      "_________________________________________________________________\n",
      "dense_1 (Dense)              (None, 64)                8256      \n",
      "_________________________________________________________________\n",
      "dense_2 (Dense)              (None, 32)                2080      \n",
      "_________________________________________________________________\n",
      "dense_3 (Dense)              (None, 16)                528       \n",
      "_________________________________________________________________\n",
      "dense_4 (Dense)              (None, 1)                 17        \n",
      "=================================================================\n",
      "Total params: 11,777\n",
      "Trainable params: 11,777\n",
      "Non-trainable params: 0\n",
      "_________________________________________________________________\n"
     ]
    }
   ],
   "source": [
    "model = Sequential()\n",
    "\n",
    "model.add(Dense(128, input_shape=(len(x_train.columns),), activation='relu'))\n",
    "model.add(Dense(64, activation='relu'))\n",
    "model.add(Dense(32, activation='relu'))\n",
    "model.add(Dense(16, activation='relu'))\n",
    "\n",
    "model.add(Dense(1, activation=\"sigmoid\"))\n",
    "\n",
    "model.compile(optimizer='rmsprop', loss='binary_crossentropy', metrics=['acc'])\n",
    "model.summary()"
   ]
  },
  {
   "cell_type": "markdown",
   "id": "db3bb182-e311-4f7b-a42c-f8fc62c2d3fe",
   "metadata": {},
   "source": [
    "#### 학습하기"
   ]
  },
  {
   "cell_type": "code",
   "execution_count": 25,
   "id": "04a05181-95ef-4d93-968f-b966d6b7e982",
   "metadata": {},
   "outputs": [
    {
     "name": "stdout",
     "output_type": "stream",
     "text": [
      "Epoch 1/500\n",
      "20/20 [==============================] - 1s 16ms/step - loss: 0.5484 - acc: 0.7913 - val_loss: 0.5082 - val_acc: 0.7799\n",
      "Epoch 2/500\n",
      "20/20 [==============================] - 0s 4ms/step - loss: 0.4367 - acc: 0.8299 - val_loss: 0.4838 - val_acc: 0.7948\n",
      "Epoch 3/500\n",
      "20/20 [==============================] - 0s 4ms/step - loss: 0.4057 - acc: 0.8363 - val_loss: 0.4778 - val_acc: 0.7873\n",
      "Epoch 4/500\n",
      "20/20 [==============================] - 0s 4ms/step - loss: 0.3880 - acc: 0.8331 - val_loss: 0.4851 - val_acc: 0.7910\n",
      "Epoch 5/500\n",
      "20/20 [==============================] - 0s 4ms/step - loss: 0.3829 - acc: 0.8395 - val_loss: 0.5016 - val_acc: 0.7873\n",
      "Epoch 6/500\n",
      "20/20 [==============================] - 0s 4ms/step - loss: 0.3756 - acc: 0.8427 - val_loss: 0.5070 - val_acc: 0.7873\n",
      "\n",
      "Epoch 00006: ReduceLROnPlateau reducing learning rate to 0.0005000000237487257.\n",
      "Epoch 7/500\n",
      "20/20 [==============================] - 0s 4ms/step - loss: 0.3689 - acc: 0.8491 - val_loss: 0.4973 - val_acc: 0.7873\n",
      "Epoch 8/500\n",
      "20/20 [==============================] - 0s 4ms/step - loss: 0.3685 - acc: 0.8443 - val_loss: 0.5005 - val_acc: 0.7873\n",
      "Epoch 00008: early stopping\n"
     ]
    },
    {
     "data": {
      "text/html": [
       "<div>\n",
       "<style scoped>\n",
       "    .dataframe tbody tr th:only-of-type {\n",
       "        vertical-align: middle;\n",
       "    }\n",
       "\n",
       "    .dataframe tbody tr th {\n",
       "        vertical-align: top;\n",
       "    }\n",
       "\n",
       "    .dataframe thead th {\n",
       "        text-align: right;\n",
       "    }\n",
       "</style>\n",
       "<table border=\"1\" class=\"dataframe\">\n",
       "  <thead>\n",
       "    <tr style=\"text-align: right;\">\n",
       "      <th></th>\n",
       "      <th>loss</th>\n",
       "      <th>acc</th>\n",
       "      <th>val_loss</th>\n",
       "      <th>val_acc</th>\n",
       "      <th>lr</th>\n",
       "    </tr>\n",
       "    <tr>\n",
       "      <th>epochs</th>\n",
       "      <th></th>\n",
       "      <th></th>\n",
       "      <th></th>\n",
       "      <th></th>\n",
       "      <th></th>\n",
       "    </tr>\n",
       "  </thead>\n",
       "  <tbody>\n",
       "    <tr>\n",
       "      <th>1</th>\n",
       "      <td>0.548399</td>\n",
       "      <td>0.791332</td>\n",
       "      <td>0.508247</td>\n",
       "      <td>0.779851</td>\n",
       "      <td>0.0010</td>\n",
       "    </tr>\n",
       "    <tr>\n",
       "      <th>2</th>\n",
       "      <td>0.436678</td>\n",
       "      <td>0.829856</td>\n",
       "      <td>0.483761</td>\n",
       "      <td>0.794776</td>\n",
       "      <td>0.0010</td>\n",
       "    </tr>\n",
       "    <tr>\n",
       "      <th>3</th>\n",
       "      <td>0.405727</td>\n",
       "      <td>0.836276</td>\n",
       "      <td>0.477774</td>\n",
       "      <td>0.787313</td>\n",
       "      <td>0.0010</td>\n",
       "    </tr>\n",
       "    <tr>\n",
       "      <th>4</th>\n",
       "      <td>0.388043</td>\n",
       "      <td>0.833066</td>\n",
       "      <td>0.485128</td>\n",
       "      <td>0.791045</td>\n",
       "      <td>0.0010</td>\n",
       "    </tr>\n",
       "    <tr>\n",
       "      <th>5</th>\n",
       "      <td>0.382936</td>\n",
       "      <td>0.839486</td>\n",
       "      <td>0.501553</td>\n",
       "      <td>0.787313</td>\n",
       "      <td>0.0010</td>\n",
       "    </tr>\n",
       "    <tr>\n",
       "      <th>6</th>\n",
       "      <td>0.375578</td>\n",
       "      <td>0.842697</td>\n",
       "      <td>0.507027</td>\n",
       "      <td>0.787313</td>\n",
       "      <td>0.0010</td>\n",
       "    </tr>\n",
       "    <tr>\n",
       "      <th>7</th>\n",
       "      <td>0.368932</td>\n",
       "      <td>0.849117</td>\n",
       "      <td>0.497313</td>\n",
       "      <td>0.787313</td>\n",
       "      <td>0.0005</td>\n",
       "    </tr>\n",
       "    <tr>\n",
       "      <th>8</th>\n",
       "      <td>0.368533</td>\n",
       "      <td>0.844302</td>\n",
       "      <td>0.500505</td>\n",
       "      <td>0.787313</td>\n",
       "      <td>0.0005</td>\n",
       "    </tr>\n",
       "  </tbody>\n",
       "</table>\n",
       "</div>"
      ],
      "text/plain": [
       "            loss       acc  val_loss   val_acc      lr\n",
       "epochs                                                \n",
       "1       0.548399  0.791332  0.508247  0.779851  0.0010\n",
       "2       0.436678  0.829856  0.483761  0.794776  0.0010\n",
       "3       0.405727  0.836276  0.477774  0.787313  0.0010\n",
       "4       0.388043  0.833066  0.485128  0.791045  0.0010\n",
       "5       0.382936  0.839486  0.501553  0.787313  0.0010\n",
       "6       0.375578  0.842697  0.507027  0.787313  0.0010\n",
       "7       0.368932  0.849117  0.497313  0.787313  0.0005\n",
       "8       0.368533  0.844302  0.500505  0.787313  0.0005"
      ]
     },
     "execution_count": 25,
     "metadata": {},
     "output_type": "execute_result"
    }
   ],
   "source": [
    "result = model.fit(x_train, y_train, epochs = 500, \n",
    "                   validation_data = (x_test, y_test), callbacks = [\n",
    "    EarlyStopping(monitor = 'val_loss', patience=5, verbose = 1),\n",
    "    ReduceLROnPlateau(monitor= \"val_loss\", patience=3, factor = 0.5, \n",
    "                      min_lr=0.0001, verbose=1)])\n",
    "\n",
    "result_df = pd.DataFrame(result.history)\n",
    "result_df['epochs'] = result_df.index+1\n",
    "result_df.set_index('epochs', inplace=True)\n",
    "result_df"
   ]
  },
  {
   "cell_type": "markdown",
   "id": "8f2b9a41-bd42-4ec6-bf11-6f0730a692d1",
   "metadata": {},
   "source": [
    "### 학습 결과 평가"
   ]
  },
  {
   "cell_type": "markdown",
   "id": "f882f849-428f-4c10-90f8-a7c60633ad35",
   "metadata": {},
   "source": [
    "#### 모델 성능 평가"
   ]
  },
  {
   "cell_type": "code",
   "execution_count": 26,
   "id": "fd77d6a0-1028-4379-a325-b16f8adb282e",
   "metadata": {},
   "outputs": [
    {
     "name": "stdout",
     "output_type": "stream",
     "text": [
      "20/20 [==============================] - 0s 2ms/step - loss: 0.3588 - acc: 0.8523\n",
      "최종 손실률 : 0.358760, 최종 정확도 : 0.852327\n"
     ]
    }
   ],
   "source": [
    "# 훈련데이터에 대한 모델 성능 평가\n",
    "\n",
    "evaluate = model.evaluate(x_train, y_train)\n",
    "print(\"최종 손실률 : %f, 최종 정확도 : %f\" % (evaluate[0], evaluate[1]))"
   ]
  },
  {
   "cell_type": "code",
   "execution_count": 27,
   "id": "70681cea-e3a5-4dd8-a7c4-1f20a11e1fe5",
   "metadata": {},
   "outputs": [
    {
     "name": "stdout",
     "output_type": "stream",
     "text": [
      "9/9 [==============================] - 0s 1ms/step - loss: 0.5005 - acc: 0.7873\n",
      "최종 손실률 : 0.500505, 최종 정확도 : 0.787313\n"
     ]
    }
   ],
   "source": [
    "# 검증 데이터에 대한 모델 성능 평가\n",
    "\n",
    "evaluate = model.evaluate(x_test, y_test)\n",
    "print(\"최종 손실률 : %f, 최종 정확도 : %f\" % (evaluate[0], evaluate[1]))"
   ]
  },
  {
   "cell_type": "markdown",
   "id": "9c8dc7d3-67f7-4b25-9691-927f4798cdde",
   "metadata": {},
   "source": [
    "#### 학습결과 시각화"
   ]
  },
  {
   "cell_type": "code",
   "execution_count": 28,
   "id": "4524eaa1-c1dc-43e4-9b27-9e266207a0f6",
   "metadata": {},
   "outputs": [
    {
     "data": {
      "text/plain": [
       "<matplotlib.legend.Legend at 0x197fd8a8dc0>"
      ]
     },
     "execution_count": 28,
     "metadata": {},
     "output_type": "execute_result"
    },
    {
     "data": {
      "image/png": "[encoded data removed]",
      "text/plain": [
       "<Figure size 3000x750 with 2 Axes>"
      ]
     },
     "metadata": {
      "needs_background": "light"
     },
     "output_type": "display_data"
    }
   ],
   "source": [
    "fig, (ax1, ax2) = plt.subplots(1, 2, figsize=(20, 5), dpi=150)\n",
    "\n",
    "# 1) 훈련 및 검증 손실 그리기\n",
    "# ----------------------------------------\n",
    "sns.lineplot(x=result_df.index, y='loss', data=result_df, color='blue', \n",
    "             label='훈련 손실률', ax=ax1)\n",
    "sns.lineplot(x=result_df.index, y='val_loss', data=result_df, color='orange',\n",
    "             label='검증 손실률', ax=ax1)\n",
    "ax1.set_title('훈련 및 검증 손실률')\n",
    "ax1.set_xlabel('반복회차')\n",
    "ax1.set_ylabel('손실률')\n",
    "ax1.grid()\n",
    "ax1.legend()\n",
    "\n",
    "# 2) 훈련 및 검증 정확도 그리기\n",
    "# ----------------------------------------\n",
    "sns.lineplot(x=result_df.index, y='acc', data=result_df, color = 'blue', \n",
    "             label = '훈련 정확도', ax=ax2)\n",
    "sns.lineplot(x=result_df.index, y='val_acc', data=result_df, color = 'orange',\n",
    "             label = '검증 정확도', ax=ax2)\n",
    "ax2.set_title('훈련 및 검증 정확도')\n",
    "ax2.set_xlabel('반복회차')\n",
    "ax2.set_ylabel('정확도')\n",
    "ax2.grid()\n",
    "ax2.legend()"
   ]
  },
  {
   "cell_type": "markdown",
   "id": "4aebf95a-41a7-4bcd-8dd1-6b72becc3899",
   "metadata": {},
   "source": [
    "### 학습 결과 적용"
   ]
  },
  {
   "cell_type": "markdown",
   "id": "dfca9825-b2c9-4f3e-be6a-3904a59dc2c8",
   "metadata": {},
   "source": [
    "#### 테스트 데이터에 대한 예측 결과 산정"
   ]
  },
  {
   "cell_type": "code",
   "execution_count": 30,
   "id": "1e25ec10-2d4b-49df-b031-8ee18fba3386",
   "metadata": {},
   "outputs": [
    {
     "name": "stdout",
     "output_type": "stream",
     "text": [
      "268개의 검증 데이터가 1개의 경우의 수를 갖는다.\n",
      "[[0.33473372]\n",
      " [0.08786875]\n",
      " [0.09082541]\n",
      " [0.98635745]\n",
      " [0.19994381]\n",
      " [0.09152764]\n",
      " [0.09152764]\n",
      " [0.6649817 ]\n",
      " [0.09465307]\n",
      " [0.4020979 ]\n",
      " [0.2718839 ]\n",
      " [0.99205196]\n",
      " [0.59507096]\n",
      " [0.09382212]\n",
      " [0.16502848]\n",
      " [0.98552626]\n",
      " [0.411938  ]\n",
      " [0.08787611]\n",
      " [0.10362178]\n",
      " [0.6317649 ]\n",
      " [0.09152764]\n",
      " [0.09381014]\n",
      " [0.31115162]\n",
      " [0.09083092]\n",
      " [0.02053857]\n",
      " [0.09152764]\n",
      " [0.09643   ]\n",
      " [0.9082816 ]\n",
      " [0.09085491]\n",
      " [0.1432707 ]\n",
      " [0.9912671 ]\n",
      " [0.5493236 ]\n",
      " [0.0915108 ]\n",
      " [0.27261078]\n",
      " [0.23842421]\n",
      " [0.30322832]\n",
      " [0.09163469]\n",
      " [0.48191693]\n",
      " [0.08612475]\n",
      " [0.9175036 ]\n",
      " [0.10667208]\n",
      " [0.11681554]\n",
      " [0.13172767]\n",
      " [0.629555  ]\n",
      " [0.6032722 ]\n",
      " [0.09082541]\n",
      " [0.1313554 ]\n",
      " [0.13676777]\n",
      " [0.10272172]\n",
      " [0.46938223]\n",
      " [0.98755264]\n",
      " [0.38563025]\n",
      " [0.12892866]\n",
      " [0.6942202 ]\n",
      " [0.5951851 ]\n",
      " [0.04017031]\n",
      " [0.58525056]\n",
      " [0.08425456]\n",
      " [0.06791237]\n",
      " [0.39729536]\n",
      " [0.09524482]\n",
      " [0.14084843]\n",
      " [0.0201253 ]\n",
      " [0.10714591]\n",
      " [0.98179173]\n",
      " [0.08519459]\n",
      " [0.3812012 ]\n",
      " [0.08763888]\n",
      " [0.09125787]\n",
      " [0.98512477]\n",
      " [0.05264783]\n",
      " [0.0736936 ]\n",
      " [0.09201857]\n",
      " [0.9217135 ]\n",
      " [0.13395163]\n",
      " [0.9366096 ]\n",
      " [0.29351974]\n",
      " [0.09193382]\n",
      " [0.36181182]\n",
      " [0.13680074]\n",
      " [0.11532518]\n",
      " [0.9184203 ]\n",
      " [0.2808018 ]\n",
      " [0.6620965 ]\n",
      " [0.92202806]\n",
      " [0.08910781]\n",
      " [0.9690399 ]\n",
      " [0.6699873 ]\n",
      " [0.1335086 ]\n",
      " [0.09246573]\n",
      " [0.60486823]\n",
      " [0.09215435]\n",
      " [0.9842371 ]\n",
      " [0.09193382]\n",
      " [0.03044322]\n",
      " [0.59149027]\n",
      " [0.0772351 ]\n",
      " [0.27859253]\n",
      " [0.1713951 ]\n",
      " [0.9913553 ]\n",
      " [0.5942832 ]\n",
      " [0.3072341 ]\n",
      " [0.15661928]\n",
      " [0.09172487]\n",
      " [0.68895185]\n",
      " [0.08299184]\n",
      " [0.06060436]\n",
      " [0.09172487]\n",
      " [0.14343461]\n",
      " [0.10299826]\n",
      " [0.11805886]\n",
      " [0.00793448]\n",
      " [0.09970388]\n",
      " [0.9167115 ]\n",
      " [0.20637801]\n",
      " [0.1550686 ]\n",
      " [0.39778328]\n",
      " [0.39165452]\n",
      " [0.09104809]\n",
      " [0.08768746]\n",
      " [0.5957796 ]\n",
      " [0.1463213 ]\n",
      " [0.10788366]\n",
      " [0.40215537]\n",
      " [0.11582482]\n",
      " [0.99259794]\n",
      " [0.4539301 ]\n",
      " [0.1301552 ]\n",
      " [0.1239526 ]\n",
      " [0.0832985 ]\n",
      " [0.12799066]\n",
      " [0.18148604]\n",
      " [0.1513986 ]\n",
      " [0.21214142]\n",
      " [0.20732152]\n",
      " [0.45438263]\n",
      " [0.9286101 ]\n",
      " [0.08952725]\n",
      " [0.73921704]\n",
      " [0.54607594]\n",
      " [0.40379965]\n",
      " [0.06904921]\n",
      " [0.01661155]\n",
      " [0.11371389]\n",
      " [0.0915615 ]\n",
      " [0.9921833 ]\n",
      " [0.990896  ]\n",
      " [0.39677086]\n",
      " [0.09152764]\n",
      " [0.09172487]\n",
      " [0.99188834]\n",
      " [0.23537952]\n",
      " [0.09283629]\n",
      " [0.27859253]\n",
      " [0.22883248]\n",
      " [0.4020979 ]\n",
      " [0.3730456 ]\n",
      " [0.5957796 ]\n",
      " [0.9174738 ]\n",
      " [0.9868423 ]\n",
      " [0.95386565]\n",
      " [0.11100179]\n",
      " [0.9576794 ]\n",
      " [0.4842559 ]\n",
      " [0.697925  ]\n",
      " [0.1125479 ]\n",
      " [0.12937966]\n",
      " [0.10272172]\n",
      " [0.61411786]\n",
      " [0.9924621 ]\n",
      " [0.21442726]\n",
      " [0.09085834]\n",
      " [0.07057866]\n",
      " [0.9890733 ]\n",
      " [0.09082541]\n",
      " [0.06418094]\n",
      " [0.21378657]\n",
      " [0.07775706]\n",
      " [0.8650234 ]\n",
      " [0.40662202]\n",
      " [0.06914502]\n",
      " [0.95844185]\n",
      " [0.09193382]\n",
      " [0.88385415]\n",
      " [0.48191693]\n",
      " [0.20954046]\n",
      " [0.1972301 ]\n",
      " [0.18201232]\n",
      " [0.89296246]\n",
      " [0.9119778 ]\n",
      " [0.6498141 ]\n",
      " [0.6169201 ]\n",
      " [0.12924156]\n",
      " [0.6346965 ]\n",
      " [0.9004576 ]\n",
      " [0.9785249 ]\n",
      " [0.38467076]\n",
      " [0.55393755]\n",
      " [0.05621901]\n",
      " [0.87621856]\n",
      " [0.9013596 ]\n",
      " [0.41318408]\n",
      " [0.988681  ]\n",
      " [0.5165485 ]\n",
      " [0.8792607 ]\n",
      " [0.05934286]\n",
      " [0.09391949]\n",
      " [0.3717122 ]\n",
      " [0.3552086 ]\n",
      " [0.98753315]\n",
      " [0.9890781 ]\n",
      " [0.48263192]\n",
      " [0.92500496]\n",
      " [0.09248909]\n",
      " [0.3581755 ]\n",
      " [0.46817932]\n",
      " [0.31041497]\n",
      " [0.09053868]\n",
      " [0.9931122 ]\n",
      " [0.13676777]\n",
      " [0.13123152]\n",
      " [0.4163137 ]\n",
      " [0.10362872]\n",
      " [0.92410415]\n",
      " [0.49659356]\n",
      " [0.11307976]\n",
      " [0.3946026 ]\n",
      " [0.11233273]\n",
      " [0.30595535]\n",
      " [0.9888824 ]\n",
      " [0.09629223]\n",
      " [0.17988113]\n",
      " [0.12588477]\n",
      " [0.5796766 ]\n",
      " [0.9942385 ]\n",
      " [0.09061074]\n",
      " [0.3979756 ]\n",
      " [0.90698266]\n",
      " [0.09391949]\n",
      " [0.2252776 ]\n",
      " [0.24471676]\n",
      " [0.6229015 ]\n",
      " [0.01412165]\n",
      " [0.99225396]\n",
      " [0.22023565]\n",
      " [0.1322031 ]\n",
      " [0.90548265]\n",
      " [0.09149393]\n",
      " [0.33783263]\n",
      " [0.10690802]\n",
      " [0.92500496]\n",
      " [0.9017582 ]\n",
      " [0.09561014]\n",
      " [0.0915615 ]\n",
      " [0.09193376]\n",
      " [0.1513986 ]\n",
      " [0.21442726]\n",
      " [0.4242514 ]\n",
      " [0.9858626 ]\n",
      " [0.74978995]\n",
      " [0.28522712]\n",
      " [0.8709103 ]\n",
      " [0.50121   ]\n",
      " [0.6620965 ]\n",
      " [0.594916  ]\n",
      " [0.5711943 ]\n",
      " [0.08817711]\n",
      " [0.5003801 ]]\n"
     ]
    }
   ],
   "source": [
    "# 테스트 데이터로 예측치 만들기\n",
    "\n",
    "results = model.predict(x_test)\n",
    "data_count, case_count = results.shape\n",
    "print(\"%d개의 검증 데이터가 %d개의 경우의 수를 갖는다.\" % (data_count, case_count))\n",
    "print(results)"
   ]
  },
  {
   "cell_type": "code",
   "execution_count": 32,
   "id": "87556f91-06ff-4193-9b0d-30d58afa1148",
   "metadata": {},
   "outputs": [
    {
     "data": {
      "text/html": [
       "<div>\n",
       "<style scoped>\n",
       "    .dataframe tbody tr th:only-of-type {\n",
       "        vertical-align: middle;\n",
       "    }\n",
       "\n",
       "    .dataframe tbody tr th {\n",
       "        vertical-align: top;\n",
       "    }\n",
       "\n",
       "    .dataframe thead th {\n",
       "        text-align: right;\n",
       "    }\n",
       "</style>\n",
       "<table border=\"1\" class=\"dataframe\">\n",
       "  <thead>\n",
       "    <tr style=\"text-align: right;\">\n",
       "      <th></th>\n",
       "      <th>결과값</th>\n",
       "      <th>생존확률(%)</th>\n",
       "      <th>예측치</th>\n",
       "    </tr>\n",
       "    <tr>\n",
       "      <th>PassengerId</th>\n",
       "      <th></th>\n",
       "      <th></th>\n",
       "      <th></th>\n",
       "    </tr>\n",
       "  </thead>\n",
       "  <tbody>\n",
       "    <tr>\n",
       "      <th>120</th>\n",
       "      <td>0.0</td>\n",
       "      <td>33.500000</td>\n",
       "      <td>0.0</td>\n",
       "    </tr>\n",
       "    <tr>\n",
       "      <th>430</th>\n",
       "      <td>1.0</td>\n",
       "      <td>8.800000</td>\n",
       "      <td>0.0</td>\n",
       "    </tr>\n",
       "    <tr>\n",
       "      <th>599</th>\n",
       "      <td>0.0</td>\n",
       "      <td>9.100000</td>\n",
       "      <td>0.0</td>\n",
       "    </tr>\n",
       "    <tr>\n",
       "      <th>276</th>\n",
       "      <td>1.0</td>\n",
       "      <td>98.599998</td>\n",
       "      <td>1.0</td>\n",
       "    </tr>\n",
       "    <tr>\n",
       "      <th>121</th>\n",
       "      <td>0.0</td>\n",
       "      <td>20.000000</td>\n",
       "      <td>0.0</td>\n",
       "    </tr>\n",
       "    <tr>\n",
       "      <th>...</th>\n",
       "      <td>...</td>\n",
       "      <td>...</td>\n",
       "      <td>...</td>\n",
       "    </tr>\n",
       "    <tr>\n",
       "      <th>470</th>\n",
       "      <td>1.0</td>\n",
       "      <td>66.199997</td>\n",
       "      <td>1.0</td>\n",
       "    </tr>\n",
       "    <tr>\n",
       "      <th>698</th>\n",
       "      <td>1.0</td>\n",
       "      <td>59.500000</td>\n",
       "      <td>1.0</td>\n",
       "    </tr>\n",
       "    <tr>\n",
       "      <th>535</th>\n",
       "      <td>0.0</td>\n",
       "      <td>57.099998</td>\n",
       "      <td>1.0</td>\n",
       "    </tr>\n",
       "    <tr>\n",
       "      <th>753</th>\n",
       "      <td>0.0</td>\n",
       "      <td>8.800000</td>\n",
       "      <td>0.0</td>\n",
       "    </tr>\n",
       "    <tr>\n",
       "      <th>403</th>\n",
       "      <td>0.0</td>\n",
       "      <td>50.000000</td>\n",
       "      <td>1.0</td>\n",
       "    </tr>\n",
       "  </tbody>\n",
       "</table>\n",
       "<p>268 rows × 3 columns</p>\n",
       "</div>"
      ],
      "text/plain": [
       "             결과값    생존확률(%)  예측치\n",
       "PassengerId                     \n",
       "120          0.0  33.500000  0.0\n",
       "430          1.0   8.800000  0.0\n",
       "599          0.0   9.100000  0.0\n",
       "276          1.0  98.599998  1.0\n",
       "121          0.0  20.000000  0.0\n",
       "...          ...        ...  ...\n",
       "470          1.0  66.199997  1.0\n",
       "698          1.0  59.500000  1.0\n",
       "535          0.0  57.099998  1.0\n",
       "753          0.0   8.800000  0.0\n",
       "403          0.0  50.000000  1.0\n",
       "\n",
       "[268 rows x 3 columns]"
      ]
     },
     "execution_count": 32,
     "metadata": {},
     "output_type": "execute_result"
    }
   ],
   "source": [
    "#실제 생전요버와 예측치를 활용하여 프레임 구성\n",
    "\n",
    "# 예측치 데이터를 1차원 배열로 추출한다.\n",
    "f_results = results.flatten()\n",
    "\n",
    "# 데이터 프레임 만들기\n",
    "kdf = pd.DataFrame({\n",
    "    '결과값': y_test['Survived'],\n",
    "    '생존확률(%)': np.round(f_results * 100, 1),\n",
    "    '예측치' : np.round(f_results)\n",
    "})\n",
    "\n",
    "kdf"
   ]
  },
  {
   "cell_type": "code",
   "execution_count": 34,
   "id": "2adfd97e-992a-4f18-b592-8dd78c4c01d9",
   "metadata": {},
   "outputs": [
    {
     "data": {
      "text/html": [
       "<div>\n",
       "<style scoped>\n",
       "    .dataframe tbody tr th:only-of-type {\n",
       "        vertical-align: middle;\n",
       "    }\n",
       "\n",
       "    .dataframe tbody tr th {\n",
       "        vertical-align: top;\n",
       "    }\n",
       "\n",
       "    .dataframe thead th {\n",
       "        text-align: right;\n",
       "    }\n",
       "</style>\n",
       "<table border=\"1\" class=\"dataframe\">\n",
       "  <thead>\n",
       "    <tr style=\"text-align: right;\">\n",
       "      <th></th>\n",
       "      <th>예측값(N)</th>\n",
       "      <th>예측값(P)</th>\n",
       "    </tr>\n",
       "  </thead>\n",
       "  <tbody>\n",
       "    <tr>\n",
       "      <th>실제값(F)</th>\n",
       "      <td>142</td>\n",
       "      <td>18</td>\n",
       "    </tr>\n",
       "    <tr>\n",
       "      <th>실제값(T)</th>\n",
       "      <td>39</td>\n",
       "      <td>69</td>\n",
       "    </tr>\n",
       "  </tbody>\n",
       "</table>\n",
       "</div>"
      ],
      "text/plain": [
       "        예측값(N)  예측값(P)\n",
       "실제값(F)     142      18\n",
       "실제값(T)      39      69"
      ]
     },
     "execution_count": 34,
     "metadata": {},
     "output_type": "execute_result"
    }
   ],
   "source": [
    "# 실제값과 예측 결과에 대한 오차 행렬\n",
    "\n",
    "cm = confusion_matrix(kdf['결과값'], kdf['예측치'])\n",
    "cmdf1 = pd.DataFrame(cm, columns=['예측값(N)', '예측값(P)'], index=['실제값(F)', '실제값(T)'])\n",
    "cmdf1"
   ]
  },
  {
   "cell_type": "code",
   "execution_count": 38,
   "id": "5373f556-5fce-43b8-ba1e-fe22f99f2c83",
   "metadata": {},
   "outputs": [
    {
     "data": {
      "text/plain": [
       "Text(25.0, 0.5, '결과값')"
      ]
     },
     "execution_count": 38,
     "metadata": {},
     "output_type": "execute_result"
    },
    {
     "data": {
      "image/png": "[encoded data removed]",
      "text/plain": [
       "<Figure size 432x288 with 2 Axes>"
      ]
     },
     "metadata": {
      "needs_background": "light"
     },
     "output_type": "display_data"
    }
   ],
   "source": [
    "# 오차행렬 히트맵 시각화\n",
    "\n",
    "# 오차 행렬을 히트맵 그래프로 표현\n",
    "# -> annot : 그래프의 각 칸에 수치값 출력\n",
    "# -> fmt : 수치값 출력 format (여기서는 10진수)\n",
    "# -> cmap : 색상맵 (https://matplotlib.org/3.2.1/tutorials/colors/colormaps.html)\n",
    "sns.heatmap(cm, annot = True, fmt = 'd',cmap = 'Blues')\n",
    "plt.xlabel('예측값')\n",
    "plt.ylabel('결과값')"
   ]
  },
  {
   "cell_type": "code",
   "execution_count": 39,
   "id": "e7122bca-ffcb-443d-9333-cfcd8f572e08",
   "metadata": {},
   "outputs": [
    {
     "name": "stdout",
     "output_type": "stream",
     "text": [
      "머신러닝 분류 정확도 : 78.73%\n"
     ]
    }
   ],
   "source": [
    "# 분류 정확도 계산하기\n",
    "\n",
    "x = (cmdf1['예측값(P)']['실제값(T)']+cmdf1['예측값(N)']['실제값(F)']) / len(y_test) * 100\n",
    "print('머신러닝 분류 정확도 : %0.2f%%' % (x))"
   ]
  },
  {
   "cell_type": "markdown",
   "id": "9c750aa3-d97a-400e-ad9f-86b3532047a5",
   "metadata": {},
   "source": [
    "#### 실제 데이터로 예측해 보기"
   ]
  },
  {
   "cell_type": "code",
   "execution_count": 41,
   "id": "9c01642c-d4f6-4d12-8e9f-51f4726d4989",
   "metadata": {},
   "outputs": [
    {
     "data": {
      "text/html": [
       "<div>\n",
       "<style scoped>\n",
       "    .dataframe tbody tr th:only-of-type {\n",
       "        vertical-align: middle;\n",
       "    }\n",
       "\n",
       "    .dataframe tbody tr th {\n",
       "        vertical-align: top;\n",
       "    }\n",
       "\n",
       "    .dataframe thead th {\n",
       "        text-align: right;\n",
       "    }\n",
       "</style>\n",
       "<table border=\"1\" class=\"dataframe\">\n",
       "  <thead>\n",
       "    <tr style=\"text-align: right;\">\n",
       "      <th></th>\n",
       "      <th>dicaprio</th>\n",
       "      <th>winslet</th>\n",
       "      <th>someone</th>\n",
       "    </tr>\n",
       "  </thead>\n",
       "  <tbody>\n",
       "    <tr>\n",
       "      <th>Pclass</th>\n",
       "      <td>3</td>\n",
       "      <td>1</td>\n",
       "      <td>1</td>\n",
       "    </tr>\n",
       "    <tr>\n",
       "      <th>Sex</th>\n",
       "      <td>1</td>\n",
       "      <td>0</td>\n",
       "      <td>1</td>\n",
       "    </tr>\n",
       "    <tr>\n",
       "      <th>Age</th>\n",
       "      <td>19</td>\n",
       "      <td>17</td>\n",
       "      <td>40</td>\n",
       "    </tr>\n",
       "    <tr>\n",
       "      <th>SibSp</th>\n",
       "      <td>0</td>\n",
       "      <td>1</td>\n",
       "      <td>1</td>\n",
       "    </tr>\n",
       "    <tr>\n",
       "      <th>Parch</th>\n",
       "      <td>0</td>\n",
       "      <td>1</td>\n",
       "      <td>0</td>\n",
       "    </tr>\n",
       "    <tr>\n",
       "      <th>Fare</th>\n",
       "      <td>0</td>\n",
       "      <td>100</td>\n",
       "      <td>100</td>\n",
       "    </tr>\n",
       "  </tbody>\n",
       "</table>\n",
       "</div>"
      ],
      "text/plain": [
       "        dicaprio  winslet  someone\n",
       "Pclass         3        1        1\n",
       "Sex            1        0        1\n",
       "Age           19       17       40\n",
       "SibSp          0        1        1\n",
       "Parch          0        1        0\n",
       "Fare           0      100      100"
      ]
     },
     "execution_count": 41,
     "metadata": {},
     "output_type": "execute_result"
    }
   ],
   "source": [
    "# 예측을 위한 데이터 프레임 준비\n",
    "\n",
    "test_df = pd.DataFrame({\n",
    "    'dicaprio': [3, 1, 19, 0, 0, 0],  # 영화속 남자 주인공 데이터\n",
    "    'winslet': [1, 0, 17, 1, 1, 100], # 영화속 여자 주인공 데이터\n",
    "    'someone': [1, 1, 40, 1, 0, 100]  # 임의의 데이터\n",
    "}, index=['Pclass', 'Sex', 'Age', 'SibSp', 'Parch', 'Fare'])\n",
    "test_df"
   ]
  },
  {
   "cell_type": "code",
   "execution_count": 43,
   "id": "5ed32965-7879-4c11-af3f-51f63af49d83",
   "metadata": {},
   "outputs": [
    {
     "data": {
      "text/html": [
       "<div>\n",
       "<style scoped>\n",
       "    .dataframe tbody tr th:only-of-type {\n",
       "        vertical-align: middle;\n",
       "    }\n",
       "\n",
       "    .dataframe tbody tr th {\n",
       "        vertical-align: top;\n",
       "    }\n",
       "\n",
       "    .dataframe thead th {\n",
       "        text-align: right;\n",
       "    }\n",
       "</style>\n",
       "<table border=\"1\" class=\"dataframe\">\n",
       "  <thead>\n",
       "    <tr style=\"text-align: right;\">\n",
       "      <th></th>\n",
       "      <th>Pclass</th>\n",
       "      <th>Sex</th>\n",
       "      <th>Age</th>\n",
       "      <th>SibSp</th>\n",
       "      <th>Parch</th>\n",
       "      <th>Fare</th>\n",
       "    </tr>\n",
       "  </thead>\n",
       "  <tbody>\n",
       "    <tr>\n",
       "      <th>dicaprio</th>\n",
       "      <td>3</td>\n",
       "      <td>1</td>\n",
       "      <td>19</td>\n",
       "      <td>0</td>\n",
       "      <td>0</td>\n",
       "      <td>0</td>\n",
       "    </tr>\n",
       "    <tr>\n",
       "      <th>winslet</th>\n",
       "      <td>1</td>\n",
       "      <td>0</td>\n",
       "      <td>17</td>\n",
       "      <td>1</td>\n",
       "      <td>1</td>\n",
       "      <td>100</td>\n",
       "    </tr>\n",
       "    <tr>\n",
       "      <th>someone</th>\n",
       "      <td>1</td>\n",
       "      <td>1</td>\n",
       "      <td>40</td>\n",
       "      <td>1</td>\n",
       "      <td>0</td>\n",
       "      <td>100</td>\n",
       "    </tr>\n",
       "  </tbody>\n",
       "</table>\n",
       "</div>"
      ],
      "text/plain": [
       "          Pclass  Sex  Age  SibSp  Parch  Fare\n",
       "dicaprio       3    1   19      0      0     0\n",
       "winslet        1    0   17      1      1   100\n",
       "someone        1    1   40      1      0   100"
      ]
     },
     "execution_count": 43,
     "metadata": {},
     "output_type": "execute_result"
    }
   ],
   "source": [
    "# 전치 구하기\n",
    "\n",
    "real_df = test_df.T\n",
    "real_df"
   ]
  },
  {
   "cell_type": "code",
   "execution_count": 44,
   "id": "e1e1cc58-6789-49c3-9997-e7d78f20c6c0",
   "metadata": {},
   "outputs": [
    {
     "data": {
      "text/plain": [
       "array([[ 0.82737722,  0.73769511, -0.79628599, -0.4745452 , -0.47367361,\n",
       "        -0.64842164],\n",
       "       [-1.56610688, -1.3555735 , -0.94998568,  0.43279337,  0.76762988,\n",
       "         1.36504703],\n",
       "       [-1.56610688,  0.73769511,  0.81756072,  0.43279337, -0.47367361,\n",
       "         1.36504703]])"
      ]
     },
     "execution_count": 44,
     "metadata": {},
     "output_type": "execute_result"
    }
   ],
   "source": [
    "# 데이터 표준화\n",
    "\n",
    "std_data = scaler.transform(real_df)\n",
    "std_data"
   ]
  },
  {
   "cell_type": "code",
   "execution_count": 46,
   "id": "5d12438b-2a9f-4b51-b444-55c979d15d7b",
   "metadata": {},
   "outputs": [
    {
     "data": {
      "text/html": [
       "<div>\n",
       "<style scoped>\n",
       "    .dataframe tbody tr th:only-of-type {\n",
       "        vertical-align: middle;\n",
       "    }\n",
       "\n",
       "    .dataframe tbody tr th {\n",
       "        vertical-align: top;\n",
       "    }\n",
       "\n",
       "    .dataframe thead th {\n",
       "        text-align: right;\n",
       "    }\n",
       "</style>\n",
       "<table border=\"1\" class=\"dataframe\">\n",
       "  <thead>\n",
       "    <tr style=\"text-align: right;\">\n",
       "      <th></th>\n",
       "      <th>Pclass</th>\n",
       "      <th>Sex</th>\n",
       "      <th>Age</th>\n",
       "      <th>SibSp</th>\n",
       "      <th>Parch</th>\n",
       "      <th>Fare</th>\n",
       "    </tr>\n",
       "  </thead>\n",
       "  <tbody>\n",
       "    <tr>\n",
       "      <th>dicaprio</th>\n",
       "      <td>0.827377</td>\n",
       "      <td>0.737695</td>\n",
       "      <td>-0.796286</td>\n",
       "      <td>-0.474545</td>\n",
       "      <td>-0.473674</td>\n",
       "      <td>-0.648422</td>\n",
       "    </tr>\n",
       "    <tr>\n",
       "      <th>winslet</th>\n",
       "      <td>-1.566107</td>\n",
       "      <td>-1.355574</td>\n",
       "      <td>-0.949986</td>\n",
       "      <td>0.432793</td>\n",
       "      <td>0.767630</td>\n",
       "      <td>1.365047</td>\n",
       "    </tr>\n",
       "    <tr>\n",
       "      <th>someone</th>\n",
       "      <td>-1.566107</td>\n",
       "      <td>0.737695</td>\n",
       "      <td>0.817561</td>\n",
       "      <td>0.432793</td>\n",
       "      <td>-0.473674</td>\n",
       "      <td>1.365047</td>\n",
       "    </tr>\n",
       "  </tbody>\n",
       "</table>\n",
       "</div>"
      ],
      "text/plain": [
       "            Pclass       Sex       Age     SibSp     Parch      Fare\n",
       "dicaprio  0.827377  0.737695 -0.796286 -0.474545 -0.473674 -0.648422\n",
       "winslet  -1.566107 -1.355574 -0.949986  0.432793  0.767630  1.365047\n",
       "someone  -1.566107  0.737695  0.817561  0.432793 -0.473674  1.365047"
      ]
     },
     "execution_count": 46,
     "metadata": {},
     "output_type": "execute_result"
    }
   ],
   "source": [
    "# 데이터 표준화를 데이터 프레임으로 재구성\n",
    "\n",
    "std_df = pd.DataFrame(std_data, columns=real_df.columns, index=real_df.index)\n",
    "std_df"
   ]
  },
  {
   "cell_type": "code",
   "execution_count": 47,
   "id": "0eb2cdf2-1fb5-47a2-ab76-dfaf734f2230",
   "metadata": {},
   "outputs": [
    {
     "name": "stdout",
     "output_type": "stream",
     "text": [
      "3개의 임의의 데이터가 1개의 경우의 수를 갖는다.\n",
      "[[0.10362178]\n",
      " [0.9899163 ]\n",
      " [0.35256243]]\n"
     ]
    }
   ],
   "source": [
    "# 결과 예측하기 \n",
    "\n",
    "results = model.predict(std_df)\n",
    "data_count, case_count = results.shape\n",
    "print(\"%d개의 임의의 데이터가 %d개의 경우의 수를 갖는다.\" % (data_count, case_count))\n",
    "print(results)"
   ]
  },
  {
   "cell_type": "code",
   "execution_count": 49,
   "id": "e3fded1e-0870-4611-b9b4-4b7855698026",
   "metadata": {},
   "outputs": [
    {
     "name": "stdout",
     "output_type": "stream",
     "text": [
      "dicaprio의 생존 확률은 10.4% 입니다.\n",
      "winslet의 생존 확률은 99.0% 입니다.\n",
      "someone의 생존 확률은 35.3% 입니다.\n"
     ]
    }
   ],
   "source": [
    "# 결과 표시\n",
    "\n",
    "for i, v in enumerate(results.flatten()):\n",
    "    print(\"%s의 생존 확률은 %0.1f%% 입니다.\" % (std_df.index[i], v*100))"
   ]
  },
  {
   "cell_type": "code",
   "execution_count": null,
   "id": "b279a609-63a4-41aa-b2b2-484743af6f15",
   "metadata": {},
   "outputs": [],
   "source": []
  }
 ],
 "metadata": {
  "kernelspec": {
   "display_name": "Python 3 (ipykernel)",
   "language": "python",
   "name": "python3"
  },
  "language_info": {
   "codemirror_mode": {
    "name": "ipython",
    "version": 3
   },
   "file_extension": ".py",
   "mimetype": "text/x-python",
   "name": "python",
   "nbconvert_exporter": "python",
   "pygments_lexer": "ipython3",
   "version": "3.8.10"
  }
 },
 "nbformat": 4,
 "nbformat_minor": 5
}
