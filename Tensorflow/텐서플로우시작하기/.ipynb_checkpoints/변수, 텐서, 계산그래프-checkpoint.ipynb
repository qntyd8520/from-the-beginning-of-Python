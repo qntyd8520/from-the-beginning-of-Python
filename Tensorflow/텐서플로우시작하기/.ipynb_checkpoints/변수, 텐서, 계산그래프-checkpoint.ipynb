{
 "cells": [
  {
   "cell_type": "code",
   "execution_count": 1,
   "id": "c60aa4c9-cb42-4f21-a102-1f6e10312742",
   "metadata": {},
   "outputs": [],
   "source": [
    "import tensorflow as tf"
   ]
  },
  {
   "cell_type": "markdown",
   "id": "ab93ab8e-a1b1-4a74-9a92-40afbe9b22e1",
   "metadata": {},
   "source": [
    "### 변수"
   ]
  },
  {
   "cell_type": "code",
   "execution_count": 3,
   "id": "19da6d4c-6b41-476a-a278-c965a0937a4c",
   "metadata": {},
   "outputs": [
    {
     "name": "stdout",
     "output_type": "stream",
     "text": [
      "123\n",
      "223\n"
     ]
    }
   ],
   "source": [
    "# 암묵적 타입의 변수 생성하기\n",
    "\n",
    "x = tf.Variable(123)\n",
    "tf.print(x)\n",
    "\n",
    "y = tf.Variable(x + 100)\n",
    "tf.print(y)"
   ]
  },
  {
   "cell_type": "code",
   "execution_count": 4,
   "id": "745cb751-a985-478b-8597-0c7ee5551055",
   "metadata": {},
   "outputs": [
    {
     "name": "stdout",
     "output_type": "stream",
     "text": [
      "123\n"
     ]
    }
   ],
   "source": [
    "# 명시적 타입의 변수 생성하기\n",
    "\n",
    "x = tf.Variable(123, dtype=tf.float32)\n",
    "tf.print(x)"
   ]
  },
  {
   "cell_type": "markdown",
   "id": "c92e3ab0-a00c-4f98-b362-40a5b3d477c9",
   "metadata": {},
   "source": [
    "### 텐서"
   ]
  },
  {
   "cell_type": "markdown",
   "id": "419cce17-8940-4b4c-a43d-b5532cd6b857",
   "metadata": {},
   "source": [
    "#### 텐서 실험"
   ]
  },
  {
   "cell_type": "code",
   "execution_count": 5,
   "id": "b07f2a9f-89d1-4e7b-97a9-dbb82cc6e81f",
   "metadata": {},
   "outputs": [],
   "source": [
    "import numpy as np"
   ]
  },
  {
   "cell_type": "code",
   "execution_count": 7,
   "id": "f4a5fa41-9a4e-41ab-9599-73c45a81debe",
   "metadata": {},
   "outputs": [
    {
     "name": "stdout",
     "output_type": "stream",
     "text": [
      "()\n"
     ]
    },
    {
     "data": {
      "text/plain": [
       "array(100)"
      ]
     },
     "execution_count": 7,
     "metadata": {},
     "output_type": "execute_result"
    }
   ],
   "source": [
    "# 랭크가 0인 배열 -> 스칼라\n",
    "\n",
    "a = 100\n",
    "ts1 = np.array(a)\n",
    "print(ts1.shape)\n",
    "ts1"
   ]
  },
  {
   "cell_type": "code",
   "execution_count": 8,
   "id": "68707e99-c828-46b0-b220-da0f9d13475d",
   "metadata": {},
   "outputs": [
    {
     "name": "stdout",
     "output_type": "stream",
     "text": [
      "(3,)\n"
     ]
    },
    {
     "data": {
      "text/plain": [
       "array([1, 2, 3])"
      ]
     },
     "execution_count": 8,
     "metadata": {},
     "output_type": "execute_result"
    }
   ],
   "source": [
    "# 랭크가 1인 배열 -> 벡터\n",
    "\n",
    "b = [1, 2, 3]\n",
    "ts2 = np.array(b)\n",
    "print(ts2.shape)\n",
    "ts2"
   ]
  },
  {
   "cell_type": "code",
   "execution_count": 9,
   "id": "016ecbdd-4a70-4197-9f66-f03482238511",
   "metadata": {},
   "outputs": [
    {
     "name": "stdout",
     "output_type": "stream",
     "text": [
      "(2, 3)\n"
     ]
    },
    {
     "data": {
      "text/plain": [
       "array([[ 10,  20,  30],\n",
       "       [100, 200, 300]])"
      ]
     },
     "execution_count": 9,
     "metadata": {},
     "output_type": "execute_result"
    }
   ],
   "source": [
    "# 랭크가 2인 배열 -> 행렬\n",
    "\n",
    "c = [ [10, 20, 30], [100, 200, 300] ]\n",
    "ts3 = np.array(c)\n",
    "print(ts3.shape)\n",
    "ts3"
   ]
  },
  {
   "cell_type": "code",
   "execution_count": 10,
   "id": "d3d48189-0169-4401-b9ea-ae74eb365435",
   "metadata": {},
   "outputs": [
    {
     "name": "stdout",
     "output_type": "stream",
     "text": [
      "(2, 2, 3)\n"
     ]
    },
    {
     "data": {
      "text/plain": [
       "array([[[-1, -2, -3],\n",
       "        [ 1,  2,  3]],\n",
       "\n",
       "       [[-1,  0,  1],\n",
       "        [ 1,  0, -1]]])"
      ]
     },
     "execution_count": 10,
     "metadata": {},
     "output_type": "execute_result"
    }
   ],
   "source": [
    "# 랭크가 3인 배열 -> 텐서\n",
    "\n",
    "d = [ [ [-1, -2, -3], [1, 2, 3] ], [ [-1, 0, 1], [1, 0, -1] ] ]\n",
    "ts4 = np.array(d)\n",
    "print(ts4.shape)\n",
    "ts4"
   ]
  },
  {
   "cell_type": "markdown",
   "id": "393945ad-fe87-4e0f-a3c2-ee98687db7be",
   "metadata": {},
   "source": [
    "### 계산 그래프"
   ]
  },
  {
   "cell_type": "code",
   "execution_count": 11,
   "id": "1b5c7f99-7371-4b84-b78d-19b14f545812",
   "metadata": {},
   "outputs": [
    {
     "name": "stdout",
     "output_type": "stream",
     "text": [
      "tf.Tensor(3.0, shape=(), dtype=float32)\n",
      "3\n"
     ]
    }
   ],
   "source": [
    "# 명시적 타입을 갖는 노드 정의\n",
    "\n",
    "node1 = tf.constant(3.0, dtype=tf.float32, name='hello')\n",
    "print(node1)\n",
    "tf.print(node1)"
   ]
  },
  {
   "cell_type": "code",
   "execution_count": 12,
   "id": "34483d98-8bf6-4bac-9ab7-25296675af8d",
   "metadata": {},
   "outputs": [
    {
     "name": "stdout",
     "output_type": "stream",
     "text": [
      "tf.Tensor(4.0, shape=(), dtype=float32)\n",
      "4\n"
     ]
    }
   ],
   "source": [
    "# 암묵적 타입을 갖는 노드 정의\n",
    "\n",
    "node2 = tf.constant(4.0, name='world')\n",
    "print(node2)\n",
    "tf.print(node2)"
   ]
  },
  {
   "cell_type": "code",
   "execution_count": 14,
   "id": "b41ca607-1eda-450c-8590-41a753108bcb",
   "metadata": {},
   "outputs": [
    {
     "name": "stdout",
     "output_type": "stream",
     "text": [
      "tf.Tensor(7.0, shape=(), dtype=float32)\n",
      "7\n"
     ]
    }
   ],
   "source": [
    "# 두개의 노드의 값을 더하는 연산을 수행하는 node3를 정의\n",
    "\n",
    "node3 = tf.add(node1, node2)\n",
    "print(node3)\n",
    "tf.print(node3)"
   ]
  },
  {
   "cell_type": "code",
   "execution_count": null,
   "id": "cf0c063c-73b2-4229-b057-38f7fe3423f4",
   "metadata": {},
   "outputs": [],
   "source": []
  }
 ],
 "metadata": {
  "kernelspec": {
   "display_name": "Python 3 (ipykernel)",
   "language": "python",
   "name": "python3"
  },
  "language_info": {
   "codemirror_mode": {
    "name": "ipython",
    "version": 3
   },
   "file_extension": ".py",
   "mimetype": "text/x-python",
   "name": "python",
   "nbconvert_exporter": "python",
   "pygments_lexer": "ipython3",
   "version": "3.8.10"
  }
 },
 "nbformat": 4,
 "nbformat_minor": 5
}
