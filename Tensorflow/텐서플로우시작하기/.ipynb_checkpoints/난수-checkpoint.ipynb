{
 "cells": [
  {
   "cell_type": "markdown",
   "id": "6a768201-7813-42c0-897c-ab509dc3bac4",
   "metadata": {},
   "source": [
    "### 균등 분포 난수"
   ]
  },
  {
   "cell_type": "markdown",
   "id": "4420076a-e248-4e83-983e-7fa17fb18136",
   "metadata": {},
   "source": [
    "#### 균등 분포 난수 실험"
   ]
  },
  {
   "cell_type": "code",
   "execution_count": 1,
   "id": "4cdc4146-ee39-4388-abbd-42695156bb58",
   "metadata": {},
   "outputs": [],
   "source": [
    "import tensorflow as tf"
   ]
  },
  {
   "cell_type": "code",
   "execution_count": 2,
   "id": "3b3178c8-3026-4aa7-a79b-310e87bc9c19",
   "metadata": {},
   "outputs": [
    {
     "name": "stdout",
     "output_type": "stream",
     "text": [
      "65\n"
     ]
    }
   ],
   "source": [
    "# 스칼라 형태의 균등 분포 난수\n",
    "\n",
    "uni_rnd1 = tf.random.uniform(shape=[], minval=0, maxval=100, dtype=tf.int32)\n",
    "tf.print(uni_rnd1)"
   ]
  },
  {
   "cell_type": "code",
   "execution_count": 3,
   "id": "7b7e8c45-e5e4-425b-8eaf-9f5569e6d50d",
   "metadata": {},
   "outputs": [
    {
     "name": "stdout",
     "output_type": "stream",
     "text": [
      "[18 19 57 90 47]\n"
     ]
    }
   ],
   "source": [
    "# 벡터 형태의 균등 분포 난수\n",
    "\n",
    "uni_rnd2 = tf.random.uniform(shape=[5], minval=0, maxval=100, dtype=tf.int32)\n",
    "tf.print(uni_rnd2)"
   ]
  },
  {
   "cell_type": "code",
   "execution_count": 4,
   "id": "f5dfac1e-6ccb-444b-8dcd-bb7ea599fb72",
   "metadata": {},
   "outputs": [
    {
     "name": "stdout",
     "output_type": "stream",
     "text": [
      "[[78 54 61]\n",
      " [53 10 9]]\n"
     ]
    }
   ],
   "source": [
    "# 행렬 형태의 균등 분포 난수\n",
    "\n",
    "uni_rnd3 = tf.random.uniform(shape=[2,3], minval=0, maxval=100, dtype=tf.int32)\n",
    "tf.print(uni_rnd3)"
   ]
  },
  {
   "cell_type": "code",
   "execution_count": 5,
   "id": "17f43676-fe7c-4c86-80ff-acd0947ef399",
   "metadata": {},
   "outputs": [
    {
     "name": "stdout",
     "output_type": "stream",
     "text": [
      "[[[26 22 48 61]\n",
      "  [15 30 10 77]\n",
      "  [84 80 20 19]]\n",
      "\n",
      " [[78 56 54 47]\n",
      "  [67 27 9 60]\n",
      "  [74 34 83 47]]]\n"
     ]
    }
   ],
   "source": [
    "# 텐서 형태의 균등 분포 난수\n",
    "\n",
    "uni_rnd4 = tf.random.uniform(shape=[2,3,4], minval=0, maxval=100, dtype=tf.int32)\n",
    "tf.print(uni_rnd4)"
   ]
  },
  {
   "cell_type": "markdown",
   "id": "7bffc4ec-1b9e-4f92-9f47-e31768074965",
   "metadata": {},
   "source": [
    "#### 렌덤값을 갖는 행렬 곱 예시"
   ]
  },
  {
   "cell_type": "code",
   "execution_count": 6,
   "id": "4743dcaf-016d-41b1-ade4-a77eda3137eb",
   "metadata": {},
   "outputs": [
    {
     "name": "stdout",
     "output_type": "stream",
     "text": [
      "[[0.586903811 0.682119727]\n",
      " [0.834867358 0.203852296]\n",
      " [0.45000577 0.111027]]\n"
     ]
    }
   ],
   "source": [
    "# 랜덤값을 갖는 3행 2열의 행렬을 변수 x로 정의\n",
    "\n",
    "x = tf.Variable(tf.random.uniform([3, 2]))\n",
    "tf.print(x)"
   ]
  },
  {
   "cell_type": "code",
   "execution_count": 7,
   "id": "488d1440-a42e-4302-b78b-3089d922dd10",
   "metadata": {},
   "outputs": [
    {
     "name": "stdout",
     "output_type": "stream",
     "text": [
      "[[0.191874981]\n",
      " [0.576822281]]\n"
     ]
    }
   ],
   "source": [
    "# 랜덤값을 갖는 2행 1열의 행렬을 변수 Y로 정의\n",
    "\n",
    "y = tf.Variable(tf.random.uniform([2, 1]))\n",
    "tf.print(y)"
   ]
  },
  {
   "cell_type": "code",
   "execution_count": 8,
   "id": "bf7947b7-af10-4389-9eb8-faad257e29d2",
   "metadata": {},
   "outputs": [
    {
     "name": "stdout",
     "output_type": "stream",
     "text": [
      "[[0.506074]\n",
      " [0.277776718]\n",
      " [0.150387704]]\n"
     ]
    }
   ],
   "source": [
    "# 행렬 곱에 대한 연산을 수행하는 노드 정의\n",
    "\n",
    "expr = tf.matmul(x, y)\n",
    "tf.print(expr)"
   ]
  },
  {
   "cell_type": "markdown",
   "id": "eaa99004-cde0-4916-afce-beeea763cdd6",
   "metadata": {},
   "source": [
    "### 정규 분포 난수"
   ]
  },
  {
   "cell_type": "markdown",
   "id": "3afa205b-16de-450c-894d-55f34a98ea00",
   "metadata": {},
   "source": [
    "#### 정규 분포 난수 실험"
   ]
  },
  {
   "cell_type": "code",
   "execution_count": 9,
   "id": "cc654b3c-b6b5-4c4b-a35e-3c55f85be34a",
   "metadata": {},
   "outputs": [
    {
     "name": "stdout",
     "output_type": "stream",
     "text": [
      "0.395558834\n"
     ]
    }
   ],
   "source": [
    "# 스칼라 형태의 정규 분포 난수\n",
    "\n",
    "normal_rnd1 = tf.random.normal(shape=[], mean=0.0, stddev=1.0)\n",
    "tf.print(normal_rnd1)"
   ]
  },
  {
   "cell_type": "code",
   "execution_count": 11,
   "id": "3fc8a3c7-9fd9-41ba-a624-677173497d54",
   "metadata": {},
   "outputs": [
    {
     "name": "stdout",
     "output_type": "stream",
     "text": [
      "[0.0983955264 2.08599257 -0.446370572 -2.43472838 1.86212361]\n"
     ]
    }
   ],
   "source": [
    "# 백터 형태의 정규 분포 난수\n",
    "\n",
    "uni_rnd2 = tf.random.normal(shape=[5], mean=0.0, stddev=1.0)\n",
    "tf.print(uni_rnd2)"
   ]
  },
  {
   "cell_type": "code",
   "execution_count": 12,
   "id": "91ecc15b-1f41-4a1a-80ea-fc931eb25d14",
   "metadata": {},
   "outputs": [
    {
     "name": "stdout",
     "output_type": "stream",
     "text": [
      "[[0.353841603 0.0596389808 -0.330413043]\n",
      " [-0.0962914154 -0.0467515066 1.10548675]]\n"
     ]
    }
   ],
   "source": [
    "# 행렬 형태의 정규 분포 난수\n",
    "\n",
    "normal_rnd3 = tf.random.normal(shape=[2,3], mean=0.0, stddev=1.0)\n",
    "tf.print(normal_rnd3)"
   ]
  },
  {
   "cell_type": "code",
   "execution_count": 13,
   "id": "d529d4b8-294a-49c4-8987-d1ac1132e7bc",
   "metadata": {},
   "outputs": [
    {
     "name": "stdout",
     "output_type": "stream",
     "text": [
      "[[[-1.25358725 -1.68506444 0.80582875 -0.641347706]\n",
      "  [0.680685103 -1.16534805 -1.14339781 0.25619185]\n",
      "  [-1.23203421 -0.0185293183 0.212018415 -0.606983483]]\n",
      "\n",
      " [[-0.305503696 0.407026827 0.30483225 -0.175678656]\n",
      "  [-0.505423367 -0.300732881 -0.782738 0.0146494666]\n",
      "  [0.974697113 -0.902104676 -0.803190172 1.53655076]]]\n"
     ]
    }
   ],
   "source": [
    "# 텐서 형태의 정규 분포 난수 \n",
    "\n",
    "normal_rnd4 = tf.random.normal(shape=[2,3,4], mean=0.0, stddev=1.0)\n",
    "tf.print(normal_rnd4)"
   ]
  },
  {
   "cell_type": "code",
   "execution_count": null,
   "id": "99f8151e-f49c-4e54-9842-0d34bf917301",
   "metadata": {},
   "outputs": [],
   "source": []
  }
 ],
 "metadata": {
  "kernelspec": {
   "display_name": "Python 3 (ipykernel)",
   "language": "python",
   "name": "python3"
  },
  "language_info": {
   "codemirror_mode": {
    "name": "ipython",
    "version": 3
   },
   "file_extension": ".py",
   "mimetype": "text/x-python",
   "name": "python",
   "nbconvert_exporter": "python",
   "pygments_lexer": "ipython3",
   "version": "3.8.10"
  }
 },
 "nbformat": 4,
 "nbformat_minor": 5
}
