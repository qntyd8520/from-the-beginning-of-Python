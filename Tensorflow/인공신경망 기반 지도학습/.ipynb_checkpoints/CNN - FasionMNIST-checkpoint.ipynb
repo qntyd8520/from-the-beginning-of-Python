{
 "cells": [
  {
   "cell_type": "markdown",
   "id": "cbf349ca-6559-429d-9d0a-bea2b68a2e65",
   "metadata": {},
   "source": [
    "### Fasion-MNIST 데이터 셋 분류하기"
   ]
  },
  {
   "cell_type": "markdown",
   "id": "8015f665-9d57-48cb-847c-2687cd4a19e6",
   "metadata": {},
   "source": [
    "#### 패키지 준비"
   ]
  },
  {
   "cell_type": "code",
   "execution_count": 1,
   "id": "08811c2d-6af6-4f41-bef7-ae549a831168",
   "metadata": {},
   "outputs": [],
   "source": [
    "import pandas as pd\n",
    "from matplotlib import pyplot as plt\n",
    "import seaborn as sns\n",
    "import numpy as np\n",
    "\n",
    "from tensorflow.keras.models import Sequential\n",
    "from tensorflow.keras.layers import BatchNormalization, Dense, Conv2D, MaxPool2D, Flatten, Dropout\n",
    "from tensorflow.keras.callbacks import EarlyStopping\n",
    "from tensorflow.keras.callbacks import ReduceLROnPlateau\n",
    "from tensorflow.keras.callbacks import ModelCheckpoint\n",
    "from tensorflow.keras.utils import to_categorical\n",
    "from tensorflow.keras.datasets.mnist import load_data\n",
    "\n",
    "from sklearn.metrics import confusion_matrix\n",
    "from sklearn.model_selection import train_test_split"
   ]
  },
  {
   "cell_type": "markdown",
   "id": "7a71426f-af3e-4c9f-8063-1c9333ec5d18",
   "metadata": {},
   "source": [
    "#### 데이터 셋 준비하기"
   ]
  },
  {
   "cell_type": "code",
   "execution_count": 2,
   "id": "ffd1d84b-7f82-4037-a36e-3f0e3e3c780b",
   "metadata": {},
   "outputs": [
    {
     "name": "stdout",
     "output_type": "stream",
     "text": [
      "훈련 데이터 (60000, 28, 28) 레이블 (60000,)\n",
      "검증 데이터 (10000, 28, 28) 레이블 (10000,)\n"
     ]
    }
   ],
   "source": [
    "# 데이터 로드\n",
    "\n",
    "(x_train, y_train), (x_test, y_test) = load_data()\n",
    "print(f'훈련 데이터 {x_train.shape} 레이블 {y_train.shape}')\n",
    "print(f'검증 데이터 {x_test.shape} 레이블 {y_test.shape}')"
   ]
  },
  {
   "cell_type": "code",
   "execution_count": 3,
   "id": "85b220f8-fcf0-4e2f-a1b2-868eb8a39897",
   "metadata": {},
   "outputs": [],
   "source": [
    "# 종속변수 값 정의\n",
    "\n",
    "class_names = ['T-shirt/top', 'Trouser', 'Pullover', 'Dress', 'Coat', 'Sandal', 'Shirt', 'Sneaker', 'Bag', 'Ankle boot']"
   ]
  },
  {
   "cell_type": "markdown",
   "id": "cc7893f8-6ab4-41ce-9dd6-db9979229754",
   "metadata": {},
   "source": [
    "#### EDA"
   ]
  },
  {
   "cell_type": "code",
   "execution_count": 4,
   "id": "13da0f7e-0c11-425c-b954-e36f224309e5",
   "metadata": {},
   "outputs": [
    {
     "name": "stdout",
     "output_type": "stream",
     "text": [
      "000000000000000000000000000000000000000000000000000000000000000000000000000000000000\n",
      "000000000000000000000000000000000000000000000000000000000000000000000000000000000000\n",
      "000000000000000000000000000000000000000000000000000000000000000000000000000000000000\n",
      "000000000000000000000000000000000000000000000000000000000000000000000000000000000000\n",
      "000000000000000000000000000000000000000000000051159253159050000000000000000000000000\n",
      "000000000000000000000000000000000000000000048238252252252237000000000000000000000000\n",
      "000000000000000000000000000000000000000054227253252239233252057006000000000000000000\n",
      "000000000000000000000000000000000010060224252253252202084252253122000000000000000000\n",
      "000000000000000000000000000000000163252252252253252252096189253167000000000000000000\n",
      "000000000000000000000000000000051238253253190114253228047079255168000000000000000000\n",
      "000000000000000000000000000048238252252179012075121021000000253243050000000000000000\n",
      "000000000000000000000000038165253233208084000000000000000000253252165000000000000000\n",
      "000000000000000000000007178252240071019028000000000000000000253252195000000000000000\n",
      "000000000000000000000057252252063000000000000000000000000000253252195000000000000000\n",
      "000000000000000000000198253190000000000000000000000000000000255253196000000000000000\n",
      "000000000000000000076246252112000000000000000000000000000000253252148000000000000000\n",
      "000000000000000000085252230025000000000000000000000000007135253186012000000000000000\n",
      "000000000000000000085252223000000000000000000000000007131252225071000000000000000000\n",
      "000000000000000000085252145000000000000000000000048165252173000000000000000000000000\n",
      "000000000000000000086253225000000000000000000114238253162000000000000000000000000000\n",
      "000000000000000000085252249146048029085178225253223167056000000000000000000000000000\n",
      "000000000000000000085252252252229215252252252196130000000000000000000000000000000000\n",
      "000000000000000000028199252252253252252233145000000000000000000000000000000000000000\n",
      "000000000000000000000025128252253252141037000000000000000000000000000000000000000000\n",
      "000000000000000000000000000000000000000000000000000000000000000000000000000000000000\n",
      "000000000000000000000000000000000000000000000000000000000000000000000000000000000000\n",
      "000000000000000000000000000000000000000000000000000000000000000000000000000000000000\n",
      "000000000000000000000000000000000000000000000000000000000000000000000000000000000000\n"
     ]
    }
   ],
   "source": [
    "# 임의의 샘플값 확인\n",
    "\n",
    "for i in x_train[1]:\n",
    "    for j in i:\n",
    "        print(\"%03d\" % j, end=\"\")\n",
    "    print()"
   ]
  },
  {
   "cell_type": "code",
   "execution_count": 5,
   "id": "26f85268-87c2-47cb-9f41-95d9f9cb3215",
   "metadata": {},
   "outputs": [
    {
     "name": "stdout",
     "output_type": "stream",
     "text": [
      "0  >>  T-shirt/top\n"
     ]
    }
   ],
   "source": [
    "# 샘플에 대한 종속변수 확인\n",
    "\n",
    "y = y_train[1]\n",
    "yname = class_names[y]\n",
    "print(y, \" >> \", yname)"
   ]
  },
  {
   "cell_type": "code",
   "execution_count": 6,
   "id": "27d6aec2-c3e6-489d-b74b-ae12dca16a8f",
   "metadata": {},
   "outputs": [
    {
     "data": {
      "image/png": "[encoded data removed]",
      "text/plain": [
       "<Figure size 1500x300 with 5 Axes>"
      ]
     },
     "metadata": {
      "needs_background": "light"
     },
     "output_type": "display_data"
    }
   ],
   "source": [
    "# 데이터 그려보기\n",
    "\n",
    "fig, ax = plt.subplots(1, 5, figsize=(15, 3), dpi=100)\n",
    "\n",
    "for i in range(0, len(ax)):\n",
    "    train = x_train[i]\n",
    "    label = y_train[i]\n",
    "    ax[i].imshow(train)\n",
    "    ax[i].set_title(\"label=%d\" % label)"
   ]
  },
  {
   "cell_type": "markdown",
   "id": "983f5b83-70dd-4ce7-a53a-9daec91b0666",
   "metadata": {},
   "source": [
    "#### 데이터셋 분할하기"
   ]
  },
  {
   "cell_type": "code",
   "execution_count": 7,
   "id": "f93995a8-dff5-448b-8efe-eab8a5796244",
   "metadata": {},
   "outputs": [],
   "source": [
    "# 랜덤시드 고정\n",
    "\n",
    "np.random.seed(777)"
   ]
  },
  {
   "cell_type": "code",
   "execution_count": 8,
   "id": "e0c1ac3a-24ac-4a68-8cca-1505b3f2f3e9",
   "metadata": {},
   "outputs": [
    {
     "name": "stdout",
     "output_type": "stream",
     "text": [
      "[[0. 0. 0. ... 1. 0. 0.]\n",
      " [0. 0. 1. ... 0. 0. 0.]\n",
      " [0. 1. 0. ... 0. 0. 0.]\n",
      " ...\n",
      " [0. 0. 0. ... 0. 0. 0.]\n",
      " [0. 0. 0. ... 0. 0. 0.]\n",
      " [0. 0. 0. ... 0. 0. 0.]]\n"
     ]
    }
   ],
   "source": [
    "# 레이블에 대한 one-hot-encoding\n",
    "\n",
    "y_train_one_hot = to_categorical(y_train)\n",
    "y_test_one_hot = to_categorical(y_test)\n",
    "print(y_test_one_hot)"
   ]
  },
  {
   "cell_type": "code",
   "execution_count": 9,
   "id": "cf1059fb-60d9-4f11-9f89-e4abf9e5a216",
   "metadata": {},
   "outputs": [
    {
     "name": "stdout",
     "output_type": "stream",
     "text": [
      "훈련 데이터 (60000, 28, 28, 1) / 검증 데이터 (60000, 28, 28, 1)\n"
     ]
    }
   ],
   "source": [
    "# 훈련, 검증용 독립변수(이미지)의 차수 재설정\n",
    "\n",
    "x_train_reshape = x_train.reshape(x_train.shape[0], x_train.shape[1], x_train.shape[2], 1)\n",
    "x_test_reshape = x_test.reshape(x_test.shape[0], x_test.shape[1], x_test.shape[2], 1)\n",
    "print(f'훈련 데이터 {x_train_reshape.shape} / 검증 데이터 {x_train_reshape.shape}')"
   ]
  },
  {
   "cell_type": "markdown",
   "id": "2ae11370-1ac1-41af-b69d-8b7bddb02b7d",
   "metadata": {},
   "source": [
    "#### 모델개발"
   ]
  },
  {
   "cell_type": "code",
   "execution_count": 10,
   "id": "6857361c-262c-4124-91f2-9e700a6f7a31",
   "metadata": {},
   "outputs": [
    {
     "name": "stdout",
     "output_type": "stream",
     "text": [
      "Model: \"sequential\"\n",
      "_________________________________________________________________\n",
      "Layer (type)                 Output Shape              Param #   \n",
      "=================================================================\n",
      "conv2d (Conv2D)              (None, 28, 28, 32)        832       \n",
      "_________________________________________________________________\n",
      "batch_normalization (BatchNo (None, 28, 28, 32)        128       \n",
      "_________________________________________________________________\n",
      "max_pooling2d (MaxPooling2D) (None, 14, 14, 32)        0         \n",
      "_________________________________________________________________\n",
      "dropout (Dropout)            (None, 14, 14, 32)        0         \n",
      "_________________________________________________________________\n",
      "conv2d_1 (Conv2D)            (None, 14, 14, 64)        18496     \n",
      "_________________________________________________________________\n",
      "batch_normalization_1 (Batch (None, 14, 14, 64)        256       \n",
      "_________________________________________________________________\n",
      "max_pooling2d_1 (MaxPooling2 (None, 7, 7, 64)          0         \n",
      "_________________________________________________________________\n",
      "dropout_1 (Dropout)          (None, 7, 7, 64)          0         \n",
      "_________________________________________________________________\n",
      "flatten (Flatten)            (None, 3136)              0         \n",
      "_________________________________________________________________\n",
      "dense (Dense)                (None, 512)               1606144   \n",
      "_________________________________________________________________\n",
      "dense_1 (Dense)              (None, 256)               131328    \n",
      "_________________________________________________________________\n",
      "dense_2 (Dense)              (None, 128)               32896     \n",
      "_________________________________________________________________\n",
      "dense_3 (Dense)              (None, 10)                1290      \n",
      "=================================================================\n",
      "Total params: 1,791,370\n",
      "Trainable params: 1,791,178\n",
      "Non-trainable params: 192\n",
      "_________________________________________________________________\n"
     ]
    }
   ],
   "source": [
    "# 모델정의\n",
    "\n",
    "model = Sequential()\n",
    "\n",
    "# Conv2D\n",
    "model.add(Conv2D(filters=32, kernel_size=(5, 5), strides=(1, 1), padding='same', activation='relu', input_shape=(28, 28, 1)))\n",
    "\n",
    "# 표준화\n",
    "model.add(BatchNormalization())\n",
    "\n",
    "# MaxPool2D\n",
    "model.add(MaxPool2D(pool_size=(2, 2), strides=(2, 2)))\n",
    "\n",
    "# 랜덤으로 25%의 뉴런을 쉬게함\n",
    "model.add(Dropout(0.25))\n",
    "\n",
    "# 이전보다 filter는 크게, kelnel_size는 작게, input_shape는 최초에만 적용하므로 여기서는 생략\n",
    "model.add(Conv2D(filters=64, kernel_size=(3, 3), strides=(1, 1), padding='same', activation='relu'))\n",
    "model.add(BatchNormalization())\n",
    "model.add(MaxPool2D(pool_size=(2, 2), strides=(2, 2)))\n",
    "model.add(Dropout(0.25))\n",
    "\n",
    "# 1차원으로 변환하기 위한 Layer\n",
    "model.add(Flatten())\n",
    "\n",
    "model.add(Dense(512, activation='relu'))\n",
    "model.add(Dense(256, activation='relu'))\n",
    "model.add(Dense(128, activation='relu'))\n",
    "\n",
    "# 최종 아웃풋의 수는 one_hot_encoding의 원소 수 만큼\n",
    "model.add(Dense(10, activation='softmax'))\n",
    "\n",
    "model.compile(optimizer='adam', loss='categorical_crossentropy', metrics=['acc'])\n",
    "model.summary()\n"
   ]
  },
  {
   "cell_type": "code",
   "execution_count": null,
   "id": "726d4bc7-9395-43b9-b8ca-ff6e075a7b7c",
   "metadata": {},
   "outputs": [
    {
     "name": "stdout",
     "output_type": "stream",
     "text": [
      "Epoch 1/500\n",
      "1875/1875 [==============================] - 90s 48ms/step - loss: 0.1458 - acc: 0.9561 - val_loss: 0.0696 - val_acc: 0.9784\n",
      "Epoch 2/500\n",
      "1875/1875 [==============================] - 105s 56ms/step - loss: 0.0635 - acc: 0.9816 - val_loss: 0.0865 - val_acc: 0.9791\n",
      "Epoch 3/500\n",
      " 978/1875 [==============>...............] - ETA: 47s - loss: 0.0530 - acc: 0.9839"
     ]
    }
   ],
   "source": [
    "# 학습하기\n",
    "\n",
    "result = model.fit(x_train_reshape, y_train_one_hot, epochs=500, validation_data=(x_test_reshape, y_test_one_hot), callbacks = [\n",
    "    EarlyStopping(monitor = 'val_loss', patience=5, verbose = 1),\n",
    "    ReduceLROnPlateau(monitor= \"val_loss\", patience=3, factor = 0.5, min_lr=0.0001, verbose=1)\n",
    "])\n",
    "\n",
    "result_df = pd.DataFrame(result.history)\n",
    "result_df['epochs'] = result_df.index+1\n",
    "result_df.set_index('epochs', inplace=True)\n",
    "result_df"
   ]
  },
  {
   "cell_type": "markdown",
   "id": "152ee955-150a-48f8-908c-2cf585df13d1",
   "metadata": {},
   "source": [
    "#### 학습결과 평가"
   ]
  },
  {
   "cell_type": "code",
   "execution_count": null,
   "id": "c20896b2-eec7-45b6-a19f-2bf38d98dfe7",
   "metadata": {},
   "outputs": [],
   "source": [
    "# 학습 결과 시각화\n",
    "\n",
    "# 그래프 기본 설정\n",
    "# ----------------------------------------\n",
    "plt.rcParams[\"font.family\"] = 'Malgun Gothic'\n",
    "plt.rcParams[\"font.size\"] = 16\n",
    "plt.rcParams['axes.unicode_minus'] = False\n",
    "\n",
    "# 그래프를 그리기 위한 객체 생성\n",
    "# ----------------------------------------\n",
    "fig, (ax1, ax2) = plt.subplots(1, 2, figsize=(20, 5), dpi=150)\n",
    "\n",
    "# 1) 훈련 및 검증 손실 그리기\n",
    "# ----------------------------------------\n",
    "sns.lineplot(x=result_df.index, y='loss', data=result_df, color='blue', label='훈련 손실률', ax=ax1)\n",
    "sns.lineplot(x=result_df.index, y='val_loss', data=result_df, color='orange', label='검증 손실률', ax=ax1)\n",
    "ax1.set_title('훈련 및 검증 손실률')\n",
    "ax1.set_xlabel('반복회차')\n",
    "ax1.set_ylabel('손실률')\n",
    "ax1.grid()\n",
    "ax1.legend()\n",
    "\n",
    "# 2) 훈련 및 정확도 그리기\n",
    "# ----------------------------------------\n",
    "sns.lineplot(x=result_df.index, y='acc', data=result_df, color = 'blue', label = '훈련 정확도', ax=ax2)\n",
    "sns.lineplot(x=result_df.index, y='val_acc', data=result_df, color = 'orange', label = '검증 정확도', ax=ax2)\n",
    "ax2.set_title('훈련 및 검증 정확도')\n",
    "ax2.set_xlabel('반복회차')\n",
    "ax2.set_ylabel('정확도')\n",
    "ax2.grid()\n",
    "ax2.legend()"
   ]
  },
  {
   "cell_type": "code",
   "execution_count": null,
   "id": "ce874e63-1d30-4403-974d-dafa6118a947",
   "metadata": {},
   "outputs": [],
   "source": [
    "# 모델 성능평가\n",
    "\n",
    "evaluate = model.evaluate(x_test_reshape, y_test_one_hot)\n",
    "print(\"최종 손실률: %f, 최종 정확도: %f\" % (evaluate[0], evaluate[1]))"
   ]
  },
  {
   "cell_type": "markdown",
   "id": "7c8ab4c9-6fb3-4e77-87b2-7ef4d1f9e4a3",
   "metadata": {},
   "source": [
    "#### 학습 결과 적용"
   ]
  },
  {
   "cell_type": "code",
   "execution_count": null,
   "id": "a76cabc7-2be4-444a-87a1-d51e70c838af",
   "metadata": {},
   "outputs": [],
   "source": [
    "# 테스트 데이터에 대한 예측결과 산정\n",
    "\n",
    "result = model.predict(x_test_reshape)\n",
    "data_count, case_count = result.shape\n",
    "print(\"%d개의 검증 데이터가 %d개의 경우의 수를 갖는다.\" % (data_count, case_count))\n",
    "result[0"
   ]
  },
  {
   "cell_type": "code",
   "execution_count": null,
   "id": "0e3d1472-2ab5-4182-869f-b1de0f549435",
   "metadata": {},
   "outputs": [],
   "source": [
    "# 가장 큰 확률 값의 인덱스를 별도 리스트로 추출\n",
    "\n",
    "arg_result = np.argmax(result, axis=-1)\n",
    "arg_result"
   ]
  },
  {
   "cell_type": "code",
   "execution_count": null,
   "id": "bbbba442-3a3f-4e67-b8e9-ecde12bd1727",
   "metadata": {},
   "outputs": [],
   "source": [
    "# 데이터 비교\n",
    "\n",
    "row = 3\n",
    "col = 5\n",
    "fig, ax = plt.subplots(row, col, figsize=((col+1)*4, (row+1)*4), dpi=100)\n",
    "\n",
    "size = row*col\n",
    "length = len(y_test)\n",
    "\n",
    "for i in range(0, size):\n",
    "    k = np.random.randint(length)\n",
    "    train = x_test[k]\n",
    "    label = y_test[k]\n",
    "    ax[i//col][i%col].imshow(train)\n",
    "    ax[i//col][i%col].set_title(\"label=%d, LM=%d\" % (label, arg_result[k]))"
   ]
  },
  {
   "cell_type": "code",
   "execution_count": null,
   "id": "22b6d918-45dc-4ed7-8a8f-815e332fad53",
   "metadata": {},
   "outputs": [],
   "source": [
    "# 혼돈행렬\n",
    "\n",
    "cm = confusion_matrix(y_test, arg_result)\n",
    "cmdf2 = pd.DataFrame(cm, columns=list(map(lambda x: \"실제값(%d)\" % x, range(10))), index=list(map(lambda x: \"예측값(%d)\" % x, range(10))))\n",
    "cmdf2"
   ]
  },
  {
   "cell_type": "code",
   "execution_count": null,
   "id": "5abd84da-c53b-4951-b706-a0668b3b7783",
   "metadata": {},
   "outputs": [],
   "source": [
    "# 혼돈행렬 히트맵\n",
    "\n",
    "fig, ax = plt.subplots(1, 1, figsize=(10, 5), dpi=150)\n",
    "\n",
    "# 오차 행렬을 히트맵 그래프로 표현\n",
    "# -> annot : 그래프의 각 칸에 수치값 출력\n",
    "# -> fmt : 수치값 출력 format (여기서는 10진수)\n",
    "# -> cmap : 색상맵 (https://matplotlib.org/3.2.1/tutorials/colors/colormaps.html)\n",
    "sns.heatmap(cmdf2, annot = True, fmt = 'd', cmap = 'Blues', ax=ax)\n",
    "ax.set_xlabel('결과값')\n",
    "ax.set_ylabel('예측값')\n"
   ]
  }
 ],
 "metadata": {
  "kernelspec": {
   "display_name": "Python 3 (ipykernel)",
   "language": "python",
   "name": "python3"
  },
  "language_info": {
   "codemirror_mode": {
    "name": "ipython",
    "version": 3
   },
   "file_extension": ".py",
   "mimetype": "text/x-python",
   "name": "python",
   "nbconvert_exporter": "python",
   "pygments_lexer": "ipython3",
   "version": "3.8.10"
  }
 },
 "nbformat": 4,
 "nbformat_minor": 5
}
