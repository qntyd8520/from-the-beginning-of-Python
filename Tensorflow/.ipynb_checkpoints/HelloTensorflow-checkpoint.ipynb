{
 "cells": [
  {
   "cell_type": "code",
   "execution_count": 1,
   "id": "f33aa3ce-79f6-4fd7-8fa5-3c2d3ccb56b4",
   "metadata": {},
   "outputs": [],
   "source": [
    "import tensorflow as tf"
   ]
  },
  {
   "cell_type": "code",
   "execution_count": 2,
   "id": "e9aa09c3-372f-4852-8fd3-5917c9385909",
   "metadata": {},
   "outputs": [],
   "source": [
    "msg = tf.constant('안녕, 텐서플로우!')"
   ]
  },
  {
   "cell_type": "code",
   "execution_count": 3,
   "id": "22bb847b-338b-43b3-91e9-34d3c9dab351",
   "metadata": {},
   "outputs": [
    {
     "name": "stdout",
     "output_type": "stream",
     "text": [
      "안녕, 텐서플로우!\n"
     ]
    }
   ],
   "source": [
    "tf.print(msg)"
   ]
  },
  {
   "cell_type": "code",
   "execution_count": null,
   "id": "d75a54a4-9b95-491a-8745-48e3929eaad7",
   "metadata": {},
   "outputs": [],
   "source": []
  }
 ],
 "metadata": {
  "kernelspec": {
   "display_name": "Python 3 (ipykernel)",
   "language": "python",
   "name": "python3"
  },
  "language_info": {
   "codemirror_mode": {
    "name": "ipython",
    "version": 3
   },
   "file_extension": ".py",
   "mimetype": "text/x-python",
   "name": "python",
   "nbconvert_exporter": "python",
   "pygments_lexer": "ipython3",
   "version": "3.8.10"
  }
 },
 "nbformat": 4,
 "nbformat_minor": 5
}
