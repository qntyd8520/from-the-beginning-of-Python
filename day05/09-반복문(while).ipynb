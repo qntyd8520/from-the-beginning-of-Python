{
 "cells": [
  {
   "cell_type": "markdown",
   "id": "13a706c8-2c42-4fc5-a366-6c126917d31c",
   "metadata": {},
   "source": [
    "#### while 문의 기본특성"
   ]
  },
  {
   "cell_type": "code",
   "execution_count": 1,
   "id": "4dd4324d-59c0-4cf5-bcb7-d952466b7cf9",
   "metadata": {},
   "outputs": [
    {
     "name": "stdout",
     "output_type": "stream",
     "text": [
      "x=1\n",
      "x=2\n",
      "x=3\n",
      "x=4\n",
      "x=5\n",
      "x=6\n",
      "x=7\n",
      "x=8\n",
      "x=9\n",
      "x=10\n"
     ]
    }
   ],
   "source": [
    "# x 가 1부터 시작하고 10이하인동안 반복한다\n",
    "x = 1\n",
    "while x <= 10:\n",
    "    print(\"x=%d\" %x)\n",
    "    x += 1"
   ]
  },
  {
   "cell_type": "code",
   "execution_count": 2,
   "id": "7b186c4e-aa9a-4f49-8643-33428da45a43",
   "metadata": {},
   "outputs": [
    {
     "name": "stdout",
     "output_type": "stream",
     "text": [
      "7 x 1 = 7\n",
      "7 x 2 = 14\n",
      "7 x 3 = 21\n",
      "7 x 4 = 28\n",
      "7 x 5 = 35\n",
      "7 x 6 = 42\n",
      "7 x 7 = 49\n",
      "7 x 8 = 56\n",
      "7 x 9 = 63\n"
     ]
    }
   ],
   "source": [
    "# 구구단  7단 출력하기\n",
    "y = 1\n",
    "while y < 10:\n",
    "    z = 7*y\n",
    "    print(\"7 x %d = %d\" % (y, z))\n",
    "    \n",
    "    y += 1"
   ]
  },
  {
   "cell_type": "code",
   "execution_count": 3,
   "id": "75cafeb3-abee-4e25-93c5-0a56408664e2",
   "metadata": {},
   "outputs": [
    {
     "name": "stdout",
     "output_type": "stream",
     "text": [
      "x=1, sum=1\n",
      "x=2, sum=3\n",
      "x=3, sum=6\n",
      "x=4, sum=10\n",
      "x=5, sum=15\n",
      "x=6, sum=21\n",
      "x=7, sum=28\n",
      "x=8, sum=36\n",
      "x=9, sum=45\n",
      "x=10, sum=55\n"
     ]
    }
   ],
   "source": [
    "# 총합 구하기\n",
    "# 1~ 10까지의 총합 구하기\n",
    "x = 1\n",
    "sum = 0\n",
    "while x <= 10:\n",
    "    sum += x\n",
    "    print(\"x=%d, sum=%d\" % (x, sum))\n",
    "    x += 1"
   ]
  },
  {
   "cell_type": "code",
   "execution_count": 4,
   "id": "5e787fd6-6265-4561-a77b-b3f10c555816",
   "metadata": {},
   "outputs": [
    {
     "name": "stdout",
     "output_type": "stream",
     "text": [
      "a=0\n",
      "a=10\n",
      "a=20\n",
      "a=30\n",
      "a=40\n",
      "a=50\n",
      "a=60\n",
      "a=70\n",
      "a=80\n",
      "a=90\n"
     ]
    }
   ],
   "source": [
    "# 값의 변화단계 조절하기\n",
    "# 10씩 증가\n",
    "a = 0\n",
    "while a < 100:\n",
    "    print(\"a=%d\" % a)\n",
    "    a += 10"
   ]
  },
  {
   "cell_type": "code",
   "execution_count": 5,
   "id": "403811c2-00bf-481b-ad56-fd22ba6b19da",
   "metadata": {},
   "outputs": [
    {
     "name": "stdout",
     "output_type": "stream",
     "text": [
      "b=10\n",
      "b=8\n",
      "b=6\n",
      "b=4\n",
      "b=2\n"
     ]
    }
   ],
   "source": [
    "# 2씩 감소\n",
    "b = 10\n",
    "while b > 0:\n",
    "    print(\"b=%d\" % b)\n",
    "    b -= 2"
   ]
  },
  {
   "cell_type": "code",
   "execution_count": 6,
   "id": "fdf6bc49-2fb3-4de0-a6b8-64da2a7589e2",
   "metadata": {},
   "outputs": [
    {
     "name": "stdout",
     "output_type": "stream",
     "text": [
      "[100, 200, 300, 400, 500]\n"
     ]
    }
   ],
   "source": [
    "# 리스트의 원소 탐색하기\n",
    "mylist = [10, 20, 30, 40, 50]\n",
    "size = len(mylist)\n",
    "i = 0\n",
    "\n",
    "# 인덱스가 전체 원소 수 보다 작은 동안 반복\n",
    "while i < size:\n",
    "    x = mylist[i]\n",
    "    mylist[i] = x * 10\n",
    "    i += 1\n",
    "\n",
    "print(mylist)"
   ]
  },
  {
   "cell_type": "code",
   "execution_count": null,
   "id": "2d3efcc4-c580-4865-a5de-0200801d7cb2",
   "metadata": {},
   "outputs": [],
   "source": []
  }
 ],
 "metadata": {
  "kernelspec": {
   "display_name": "Python 3 (ipykernel)",
   "language": "python",
   "name": "python3"
  },
  "language_info": {
   "codemirror_mode": {
    "name": "ipython",
    "version": 3
   },
   "file_extension": ".py",
   "mimetype": "text/x-python",
   "name": "python",
   "nbconvert_exporter": "python",
   "pygments_lexer": "ipython3",
   "version": "3.9.5"
  }
 },
 "nbformat": 4,
 "nbformat_minor": 5
}
