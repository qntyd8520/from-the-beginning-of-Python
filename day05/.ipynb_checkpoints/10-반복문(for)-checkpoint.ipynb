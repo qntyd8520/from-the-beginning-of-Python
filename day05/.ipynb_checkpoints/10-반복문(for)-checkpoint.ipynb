{
 "cells": [
  {
   "cell_type": "markdown",
   "id": "71ee0196-e976-4306-8559-6cbeeb64a335",
   "metadata": {},
   "source": [
    "#### for 문의 기본특성\n",
    "초기식, 조건식, 증감식을 일괄표현 단) 증감식은 생략가능"
   ]
  },
  {
   "cell_type": "code",
   "execution_count": 1,
   "id": "42f7faf3-93d5-4e02-ba60-4d8c8c543878",
   "metadata": {},
   "outputs": [
    {
     "name": "stdout",
     "output_type": "stream",
     "text": [
      "x=1\n",
      "x=2\n",
      "x=3\n",
      "x=4\n",
      "x=5\n",
      "x=6\n",
      "x=7\n",
      "x=8\n",
      "x=9\n",
      "x=10\n"
     ]
    }
   ],
   "source": [
    "# x가 1부터 11전까지 1씩 증가하면서 반복수행\n",
    "for x in range(1, 11):\n",
    "    print(\"x=%d\" % x)"
   ]
  },
  {
   "cell_type": "code",
   "execution_count": 3,
   "id": "088794df-ed65-4d19-8a23-2a23cac40c4e",
   "metadata": {},
   "outputs": [
    {
     "name": "stdout",
     "output_type": "stream",
     "text": [
      "7 x 1 = 7\n",
      "7 x 2 = 14\n",
      "7 x 3 = 21\n",
      "7 x 4 = 28\n",
      "7 x 5 = 35\n",
      "7 x 6 = 42\n",
      "7 x 7 = 49\n",
      "7 x 8 = 56\n",
      "7 x 9 = 63\n"
     ]
    }
   ],
   "source": [
    "# 구구단 7단 구하기\n",
    "# -> 1부터 10전까지 1씩증가하는 값을 y에 설정\n",
    "for y in range(1, 10):\n",
    "    z = 7 * y\n",
    "    print(\"7 x %d = %d\" % (y, z))"
   ]
  },
  {
   "cell_type": "code",
   "execution_count": 4,
   "id": "df9f3eba-fc0a-499b-afa8-8b3d93c4caf7",
   "metadata": {},
   "outputs": [
    {
     "name": "stdout",
     "output_type": "stream",
     "text": [
      "x=1, sum=1\n",
      "x=2, sum=3\n",
      "x=3, sum=6\n",
      "x=4, sum=10\n",
      "x=5, sum=15\n",
      "x=6, sum=21\n",
      "x=7, sum=28\n",
      "x=8, sum=36\n",
      "x=9, sum=45\n",
      "x=10, sum=55\n"
     ]
    }
   ],
   "source": [
    "# 총 합 구하기\n",
    "# 1~10 까지의 총합 구하기\n",
    "sum = 0\n",
    "for x in range(1, 11):\n",
    "    sum += x\n",
    "    print(\"x=%d, sum=%d\" % (x, sum))"
   ]
  },
  {
   "cell_type": "code",
   "execution_count": 6,
   "id": "22a41424-52a3-487e-afd1-006e45517afd",
   "metadata": {},
   "outputs": [
    {
     "name": "stdout",
     "output_type": "stream",
     "text": [
      "a=0\n",
      "a=10\n",
      "a=20\n",
      "a=30\n",
      "a=40\n",
      "a=50\n",
      "a=60\n",
      "a=70\n",
      "a=80\n",
      "a=90\n"
     ]
    }
   ],
   "source": [
    "# 값의 변화단계 조절하기\n",
    "# 10씩 증가\n",
    "for a in range(0, 100, 10):\n",
    "    print(\"a=%d\" % a)"
   ]
  },
  {
   "cell_type": "code",
   "execution_count": 7,
   "id": "219aa86a-fed9-4f52-aba4-348b78121b3c",
   "metadata": {},
   "outputs": [
    {
     "name": "stdout",
     "output_type": "stream",
     "text": [
      "b=10\n",
      "b=8\n",
      "b=6\n",
      "b=4\n",
      "b=2\n"
     ]
    }
   ],
   "source": [
    "# 2씩 감소\n",
    "for b in range(10, 0, -2):\n",
    "    print(\"b=%d\" % b)"
   ]
  },
  {
   "cell_type": "markdown",
   "id": "3cd33e47-1b43-4daa-95c5-14a685ba5841",
   "metadata": {},
   "source": [
    "#### 문자열에 대한 반복 처리"
   ]
  },
  {
   "cell_type": "code",
   "execution_count": 8,
   "id": "ebfd5fc3-1fb3-40a4-bc64-4c6dc092a7d3",
   "metadata": {},
   "outputs": [
    {
     "name": "stdout",
     "output_type": "stream",
     "text": [
      "P\n",
      "y\n",
      "t\n",
      "h\n",
      "o\n",
      "n\n"
     ]
    }
   ],
   "source": [
    "test_str = \"Python\"\n",
    "\n",
    "# -> 문자열의 각 글자를 순차적으로 i에 대입하면서 반복\n",
    "for i in test_str:\n",
    "    print(i)"
   ]
  },
  {
   "cell_type": "markdown",
   "id": "fe9d791e-84e4-4266-ae55-4fe8f4d851cf",
   "metadata": {},
   "source": [
    "#### 리스트에 대한 반복"
   ]
  },
  {
   "cell_type": "code",
   "execution_count": 9,
   "id": "c2abc446-c39d-4e6e-8d40-aa3af3f12041",
   "metadata": {},
   "outputs": [
    {
     "name": "stdout",
     "output_type": "stream",
     "text": [
      "python\n",
      "is\n",
      "good\n"
     ]
    }
   ],
   "source": [
    "test_list = ['python', 'is', 'good']\n",
    "\n",
    "# -> 리스트의 각원소를 순차적으로 i에 대입하면서 반복\n",
    "# -> 단점: 몇번째 원소인지는 알 수 없다.\n",
    "for i in test_list:\n",
    "    print(i)"
   ]
  },
  {
   "cell_type": "code",
   "execution_count": 10,
   "id": "8a02e4b0-76ce-437d-97c7-8e867172363e",
   "metadata": {},
   "outputs": [
    {
     "name": "stdout",
     "output_type": "stream",
     "text": [
      "0번째 원소 : python\n",
      "1번째 원소 : is\n",
      "2번째 원소 : good\n"
     ]
    }
   ],
   "source": [
    "# 반복문 안에서 현재원소의 인덱스를 파악하기위한 보완처리\n",
    "# 몇 번째 원소인지를 카운트 하기 위한 별도의 변수 사용\n",
    "# -> 단점: 별도의 변수를 관리해야하므로 처리가 복잡해진다.\n",
    "count = 0\n",
    "for i in test_list:\n",
    "    print(\"%d번째 원소 : %s\" % (count, i))\n",
    "    count += 1"
   ]
  },
  {
   "cell_type": "markdown",
   "id": "62326593-7d70-4faa-b5d4-6372c6105c67",
   "metadata": {},
   "source": [
    "#### 리스트의 인덱스 자체로 반복의 범위를 지정"
   ]
  },
  {
   "cell_type": "code",
   "execution_count": 11,
   "id": "91e64624-7ea5-48c9-a21d-0e60f0c8fb03",
   "metadata": {},
   "outputs": [
    {
     "name": "stdout",
     "output_type": "stream",
     "text": [
      "0번째 원소 : python\n",
      "1번째 원소 : is\n",
      "2번째 원소 : good\n"
     ]
    }
   ],
   "source": [
    "# 원소의 수를 조회한다음 직접 반봅범위 지정하기\n",
    "# -> 단점: 각 원소가 저장되는 변수가 없기 떄문에 원소에대한 접근을 \n",
    "# 리스트를 통해 직접 수행\n",
    "size = len(test_list)\n",
    "for i in range(0, size):\n",
    "    print(\"%d번째 원소 : %s\" % (i, test_list[i]))"
   ]
  },
  {
   "cell_type": "markdown",
   "id": "69b7350a-d0f1-4ad6-9ab3-12e6e31460ed",
   "metadata": {},
   "source": [
    "#### 내장함수를 사용하여 인덱스와 값 한번에 얻기\n"
   ]
  },
  {
   "cell_type": "code",
   "execution_count": 12,
   "id": "b14e1bd8-8640-48cc-8743-aaf282bb7d43",
   "metadata": {},
   "outputs": [
    {
     "name": "stdout",
     "output_type": "stream",
     "text": [
      "0번째 값 >> python\n",
      "1번째 값 >> is\n",
      "2번째 값 >> good\n"
     ]
    }
   ],
   "source": [
    "# i에는 리스트의 인덱스가 저장\n",
    "# value 에는 리스트의 값(원소)가 저장\n",
    "# i와 value는 사용자의 편의에 따라 변수명 변경가능\n",
    "for i, value in enumerate(test_list):\n",
    "    print(\"%d번째 값 >> %s\" % (i, value))"
   ]
  },
  {
   "cell_type": "markdown",
   "id": "e9c838b2-ab5c-4306-b12e-ab82a51628c2",
   "metadata": {},
   "source": [
    "#### 일반적으로 많이 사용되는 응용 패턴"
   ]
  },
  {
   "cell_type": "code",
   "execution_count": 13,
   "id": "f7b90404-f9de-44bc-a15e-4960e4b2f160",
   "metadata": {},
   "outputs": [
    {
     "name": "stdout",
     "output_type": "stream",
     "text": [
      "총점: 407, 평균: 81\n"
     ]
    }
   ],
   "source": [
    "# 성적에 대한 총점과 평균구하기\n",
    "point_list = [100, 82, 98, 76, 51]\n",
    "\n",
    "# -> 총점을 저장할 변수\n",
    "total = 0\n",
    "\n",
    "for point in point_list:\n",
    "    # 총점은 각 원소를 누적해서 더한다.\n",
    "    total += point\n",
    "    \n",
    "# 평균은 총 합에서 원소의 수를 나눈다.\n",
    "# -> \"//\"는 정수에서 몫을 구함\n",
    "avg = total // len(point_list)\n",
    "\n",
    "tpl = \"총점: {0}, 평균: {1}\"\n",
    "print(tpl.format(total, avg))"
   ]
  },
  {
   "cell_type": "code",
   "execution_count": null,
   "id": "7f41ca82-e83d-4b31-805f-a75856a36f67",
   "metadata": {},
   "outputs": [],
   "source": []
  }
 ],
 "metadata": {
  "kernelspec": {
   "display_name": "Python 3 (ipykernel)",
   "language": "python",
   "name": "python3"
  },
  "language_info": {
   "codemirror_mode": {
    "name": "ipython",
    "version": 3
   },
   "file_extension": ".py",
   "mimetype": "text/x-python",
   "name": "python",
   "nbconvert_exporter": "python",
   "pygments_lexer": "ipython3",
   "version": "3.9.5"
  }
 },
 "nbformat": 4,
 "nbformat_minor": 5
}
