{
 "cells": [
  {
   "cell_type": "markdown",
   "id": "ec553e16-130e-4add-b56e-c73a71b219d4",
   "metadata": {},
   "source": [
    "#### 튜플을 활용하여 여러개의 변수를 일괄 생성"
   ]
  },
  {
   "cell_type": "code",
   "execution_count": 1,
   "id": "baab348f-d521-4fd9-9906-e77ae1e6a25f",
   "metadata": {},
   "outputs": [
    {
     "name": "stdout",
     "output_type": "stream",
     "text": [
      "python\n",
      "bigdata\n"
     ]
    }
   ],
   "source": [
    "# 튜플을 통한 변수 생성\n",
    "a, b = (\"python\", \"bigdata\")\n",
    "print(a)\n",
    "print(b)"
   ]
  },
  {
   "cell_type": "code",
   "execution_count": 2,
   "id": "3c488853-8432-480d-8f3f-eaf5e5604b7a",
   "metadata": {},
   "outputs": [
    {
     "name": "stdout",
     "output_type": "stream",
     "text": [
      "hello\n",
      "world\n"
     ]
    }
   ],
   "source": [
    "# 위의 구문과 동일한 기능\n",
    "(a, b) = \"hello\", \"world\"\n",
    "print(a)\n",
    "print(b)"
   ]
  },
  {
   "cell_type": "code",
   "execution_count": 3,
   "id": "428b725a-8b93-4ed6-834a-943caba95a23",
   "metadata": {},
   "outputs": [
    {
     "name": "stdout",
     "output_type": "stream",
     "text": [
      "안녕\n",
      "파이썬\n"
     ]
    }
   ],
   "source": [
    "# 위의 구문과 동일한 기능\n",
    "(a, b) = (\"안녕\", \"파이썬\")\n",
    "print(a)\n",
    "print(b)"
   ]
  },
  {
   "cell_type": "markdown",
   "id": "45e228a4-00d8-4642-bcc6-cc1b182c6252",
   "metadata": {},
   "source": [
    "#### 리스트의 원소를 각각 다른 변수에 저장하기"
   ]
  },
  {
   "cell_type": "code",
   "execution_count": 4,
   "id": "aa7464ca-9073-42c1-bc59-516a9b6a3248",
   "metadata": {},
   "outputs": [
    {
     "name": "stdout",
     "output_type": "stream",
     "text": [
      "python\n",
      "bigdata\n"
     ]
    }
   ],
   "source": [
    "# 리스트를 통한 방법도 같은 결과\n",
    "a, b = [\"python\", \"bigdata\"]\n",
    "print(a)\n",
    "print(b)"
   ]
  },
  {
   "cell_type": "code",
   "execution_count": 5,
   "id": "10928bc3-40cb-4a94-9e2c-ed2fcb1cc9ab",
   "metadata": {},
   "outputs": [
    {
     "name": "stdout",
     "output_type": "stream",
     "text": [
      "hello\n",
      "world\n"
     ]
    }
   ],
   "source": [
    "[a, b] = \"hello\", \"world\"\n",
    "print(a)\n",
    "print(b)"
   ]
  },
  {
   "cell_type": "code",
   "execution_count": 6,
   "id": "259d3212-3c88-4f96-866a-60681726024c",
   "metadata": {},
   "outputs": [
    {
     "name": "stdout",
     "output_type": "stream",
     "text": [
      "안녕\n",
      "파이썬\n"
     ]
    }
   ],
   "source": [
    "# 리스트를 활용한 변수 생성\n",
    "[a, b] = [\"안녕\", \"파이썬\"]\n",
    "print(a)\n",
    "print(b)"
   ]
  },
  {
   "cell_type": "markdown",
   "id": "be36aa44-9b2e-431c-8102-81db9b0109ec",
   "metadata": {},
   "source": [
    "#### 동일한 값을 갖는 여러 개의 변수 일괄 생성"
   ]
  },
  {
   "cell_type": "code",
   "execution_count": 7,
   "id": "a8356769-fea9-4994-b0ea-181f8f46912a",
   "metadata": {},
   "outputs": [
    {
     "name": "stdout",
     "output_type": "stream",
     "text": [
      "1234\n",
      "1234\n",
      "1234\n"
     ]
    }
   ],
   "source": [
    "a = b = c = 1234\n",
    "print(a)\n",
    "print(b)\n",
    "print(c)"
   ]
  },
  {
   "cell_type": "markdown",
   "id": "6faa1af5-6722-4a7e-a781-27c79cd2bfb6",
   "metadata": {},
   "source": [
    "#### 두 변수의 값을 교환하기"
   ]
  },
  {
   "cell_type": "code",
   "execution_count": 9,
   "id": "5913957f-78a4-4a83-84f1-af3c084bd14d",
   "metadata": {},
   "outputs": [
    {
     "name": "stdout",
     "output_type": "stream",
     "text": [
      "x=1, y=2\n",
      "x=2, y=1\n"
     ]
    }
   ],
   "source": [
    "x = 1\n",
    "y = 2\n",
    "print(\"x=%d, y=%d\" % (x, y))\n",
    "\n",
    "# 두 변수의 값을 교환\n",
    "x, y = y, x\n",
    "print(\"x=%d, y=%d\" % (x, y))"
   ]
  },
  {
   "cell_type": "markdown",
   "id": "1f39afdf-73e5-43a1-9f69-1dd218e04af8",
   "metadata": {},
   "source": [
    "#### 값 복사"
   ]
  },
  {
   "cell_type": "code",
   "execution_count": 10,
   "id": "13afd506-dec9-4e7e-9893-121fa3e5a249",
   "metadata": {},
   "outputs": [
    {
     "name": "stdout",
     "output_type": "stream",
     "text": [
      "100\n",
      "100\n"
     ]
    }
   ],
   "source": [
    "# 숫자형,문자열,논리값을 대입할 경우 변수값의 복사\n",
    "a = 100\n",
    "b = a\n",
    "print(a)\n",
    "print(b)"
   ]
  },
  {
   "cell_type": "code",
   "execution_count": 11,
   "id": "7162a5aa-0afa-45ba-91b6-d5e889d88ceb",
   "metadata": {},
   "outputs": [
    {
     "name": "stdout",
     "output_type": "stream",
     "text": [
      "100\n",
      "200\n"
     ]
    }
   ],
   "source": [
    "# 복사본을 변경하더라도 원본에는 변화가 없다. (반대의 경우도 마찬가지)\n",
    "b = 200\n",
    "print(a)\n",
    "print(b)"
   ]
  },
  {
   "cell_type": "markdown",
   "id": "563adb52-c1dd-4a17-a586-a7b2c9582bd8",
   "metadata": {},
   "source": [
    "#### 연속형 자료형의 참조 복사"
   ]
  },
  {
   "cell_type": "code",
   "execution_count": 12,
   "id": "852318ed-9c67-42a0-a4ff-226a7e056927",
   "metadata": {},
   "outputs": [
    {
     "name": "stdout",
     "output_type": "stream",
     "text": [
      "[1, 2, 3]\n",
      "[1, 2, 3]\n"
     ]
    }
   ],
   "source": [
    "# 객체의 참조 --> 리스트,딕셔너리 등\n",
    "foo = [ 1, 2, 3 ]\n",
    "bar = foo\n",
    "print(foo)\n",
    "print(bar)"
   ]
  },
  {
   "cell_type": "code",
   "execution_count": 13,
   "id": "7571639a-d6df-4597-af5d-1d7b4ecdf494",
   "metadata": {},
   "outputs": [
    {
     "name": "stdout",
     "output_type": "stream",
     "text": [
      "[1, 20, 3]\n",
      "[1, 20, 3]\n"
     ]
    }
   ],
   "source": [
    "# -> 참조된 복사본을 변경하면 원본도 함께 변경됨.\n",
    "# -> 반대의 경우도 마찬가지\n",
    "# -> 지금까지의 내용들 중에는 리스트, 딕셔너리에 적용됨.\n",
    "bar[1] = 20\n",
    "print(foo)\n",
    "print(bar)"
   ]
  },
  {
   "cell_type": "markdown",
   "id": "ff0e39b4-ede7-4f56-9595-6ee03e1d8c47",
   "metadata": {},
   "source": [
    "#### 연속형 자료형의 고전적인 값 복사 방법"
   ]
  },
  {
   "cell_type": "code",
   "execution_count": 18,
   "id": "00c50ac6-9075-4f6d-928e-97ad41d98b90",
   "metadata": {},
   "outputs": [
    {
     "name": "stdout",
     "output_type": "stream",
     "text": [
      "[1, 2, 3]\n",
      "[1, 2, 1000]\n"
     ]
    }
   ],
   "source": [
    "# 리스트 복사 (고전적인 방법)\n",
    "# -> 같은 길이의 리스트를 만들고 각 원소를 일일이 복사함.\n",
    "bar = [ 1, 2, 3 ]\n",
    "cp1 = [ 0, 0, 0 ]\n",
    "cp1[0] = bar[0]\n",
    "cp1[1] = bar[1]\n",
    "cp1[2] = bar[2]\n",
    "\n",
    "# -> 복사본을 변경하더라도 원본에 변화 없음.\n",
    "cp1[2] = 1000\n",
    "print(bar)\n",
    "print(cp1)"
   ]
  },
  {
   "cell_type": "markdown",
   "id": "9a2cc38a-e051-46f2-8fa6-bf4af2aafc66",
   "metadata": {},
   "source": [
    "#### 슬라이싱을 활용한 리스트의 값 복사"
   ]
  },
  {
   "cell_type": "code",
   "execution_count": 21,
   "id": "1333c852-9615-4009-a22f-ed4fa8599cdf",
   "metadata": {},
   "outputs": [
    {
     "name": "stdout",
     "output_type": "stream",
     "text": [
      "[1, 2, 3]\n",
      "[1, 12345, 3]\n"
     ]
    }
   ],
   "source": [
    "# 슬라이싱을 활용한 방법\n",
    "cp2 = bar[:]\n",
    "\n",
    "# -> 복사본을 변경하더라도 원본에 영향이 없다.\n",
    "cp2[1] = 12345\n",
    "print(bar)\n",
    "print(cp2)"
   ]
  },
  {
   "cell_type": "markdown",
   "id": "50f6ba09-7d4e-4719-aae7-ec55630e9f85",
   "metadata": {},
   "source": [
    "#### 리스트 객체 활용한 리스트의 값 복사"
   ]
  },
  {
   "cell_type": "code",
   "execution_count": 22,
   "id": "85ebe987-5827-421b-b52f-ff1b6453003a",
   "metadata": {},
   "outputs": [
    {
     "name": "stdout",
     "output_type": "stream",
     "text": [
      "[1, 12345, 3]\n",
      "[12345, 12345, 3]\n"
     ]
    }
   ],
   "source": [
    "# 리스트 객체의 함수를 사용하는 방법\n",
    "cp3 = cp2.copy()\n",
    "\n",
    "# -> 복사본을 변경하더라도 원본에 영향이 없다.\n",
    "cp3[0] = 12345\n",
    "print(cp2)\n",
    "print(cp3)"
   ]
  },
  {
   "cell_type": "markdown",
   "id": "14d2e014-4c7d-4b33-8884-2afa700458a8",
   "metadata": {},
   "source": [
    "#### 조건문에서의 변수의 유효 범위"
   ]
  },
  {
   "cell_type": "code",
   "execution_count": 1,
   "id": "ef11eec3-a8a9-48c5-8dd4-38b4e425daa7",
   "metadata": {},
   "outputs": [
    {
     "name": "stdout",
     "output_type": "stream",
     "text": [
      "100\n",
      "200\n"
     ]
    }
   ],
   "source": [
    "# 변수는 자신이 최초로 생성된 위치보다 깊은 레벨로는 침투가 가능.\n",
    "num1 = 100\n",
    "\n",
    "if num1 == 100:\n",
    "    print(num1)\n",
    "    num2 = num1 + 100\n",
    "    \n",
    "# 자신이 최초로 생성된 위치보다 얕은 레벨에서는\n",
    "# 변수를 생성하는 구문의 실행 여부에 따라 식별 가능여부가 결정됨\n",
    "print(num2)"
   ]
  },
  {
   "cell_type": "markdown",
   "id": "505485ee-ca21-48c5-9dfb-288f1b3742ea",
   "metadata": {},
   "source": [
    "#### 반복문에서의 변수의 유효 범위"
   ]
  },
  {
   "cell_type": "code",
   "execution_count": 2,
   "id": "656fab39-67e6-45f0-82ad-3b9805501640",
   "metadata": {},
   "outputs": [
    {
     "name": "stdout",
     "output_type": "stream",
     "text": [
      "900\n"
     ]
    }
   ],
   "source": [
    "# 반복문이 1회 이상 수행되었다면 반복문 안에서 생성된 변수는 밖에서 식별 가능\n",
    "for i in range(1, 10):\n",
    "    result = i * 100\n",
    "\n",
    "# 반복문이 한번도 실행되지 않았다면 result라는 변수는 존재하지 않는다.\n",
    "print(result)"
   ]
  },
  {
   "cell_type": "markdown",
   "id": "1c76c8c3-8ef4-4a12-9425-a428004a188b",
   "metadata": {},
   "source": [
    "#### 변수의 유효 범위 결론"
   ]
  },
  {
   "cell_type": "code",
   "execution_count": 5,
   "id": "5618bf53-6c6d-4abb-bcd7-5a35094dcd5c",
   "metadata": {},
   "outputs": [
    {
     "name": "stdout",
     "output_type": "stream",
     "text": [
      "None\n"
     ]
    }
   ],
   "source": [
    "# if,for 등의 블록을 구성하는 구문 안에서 변수를 생성해야 한다면,\n",
    "# 블록 밖에서 미리 변수를 만들어 두는 것이 좋다.\n",
    "x = None\n",
    "\n",
    "# if 문이 실행되지 않더라도 미리 x를 준비해 두었기 때문에\n",
    "# 42라인은 에러가 발생하지 않는다.\n",
    "if num1 > 100:\n",
    "    x = num1\n",
    "    \n",
    "print(x)"
   ]
  }
 ],
 "metadata": {
  "kernelspec": {
   "display_name": "Python 3 (ipykernel)",
   "language": "python",
   "name": "python3"
  },
  "language_info": {
   "codemirror_mode": {
    "name": "ipython",
    "version": 3
   },
   "file_extension": ".py",
   "mimetype": "text/x-python",
   "name": "python",
   "nbconvert_exporter": "python",
   "pygments_lexer": "ipython3",
   "version": "3.9.5"
  }
 },
 "nbformat": 4,
 "nbformat_minor": 5
}
