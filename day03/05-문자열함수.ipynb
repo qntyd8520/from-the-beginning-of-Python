{
 "cells": [
  {
   "attachments": {
    "4706e231-cfc5-482a-90b4-6ca5fcd120e2.png": {
     "image/png": "[encoded data removed]"
    }
   },
   "cell_type": "markdown",
   "id": "bc994db1-bd67-4994-b0d0-30d1a43c38da",
   "metadata": {},
   "source": [
    "### 실습에서 사용할 문자열 지정\n",
    "![image.png](attachment:4706e231-cfc5-482a-90b4-6ca5fcd120e2.png)"
   ]
  },
  {
   "cell_type": "code",
   "execution_count": 1,
   "id": "08dbf43d-45b0-45ef-9db5-49766c17cef1",
   "metadata": {},
   "outputs": [
    {
     "name": "stdout",
     "output_type": "stream",
     "text": [
      "Life is too short, you need Python\n"
     ]
    }
   ],
   "source": [
    "# 문자열에 포함된 모든 글자는 0부터 시작하는 일련번호를 부여받는다 \n",
    "str = \"Life is too short, you need Python\"\n",
    "print(str)"
   ]
  },
  {
   "cell_type": "markdown",
   "id": "00483079-86de-42b1-8637-04a08b2c8f00",
   "metadata": {},
   "source": [
    "#### 내장함수len()을 사용한 문자열의 길이(글자수) 조회\n",
    "len()함수는 파라미터로 전달된 문자열의 글자수를 카운트하여 숫자값을 반환한다."
   ]
  },
  {
   "cell_type": "code",
   "execution_count": 2,
   "id": "d775d535-b361-4efb-9789-38178903f01e",
   "metadata": {},
   "outputs": [
    {
     "name": "stdout",
     "output_type": "stream",
     "text": [
      "34\n"
     ]
    }
   ],
   "source": [
    "# 전체 글자수 세기 -> 한글, 영문 구분없이 1글자씩 카운트\n",
    "a = len(str)\n",
    "print(a)"
   ]
  },
  {
   "cell_type": "code",
   "execution_count": 3,
   "id": "e0ae2810-1a33-40d9-b47e-5ffc41bb35bb",
   "metadata": {},
   "outputs": [
    {
     "name": "stdout",
     "output_type": "stream",
     "text": [
      "34\n"
     ]
    }
   ],
   "source": [
    "# 반ㄹ환되는 값을 변수에 저장하지 않고 직접 출력\n",
    "print(len(str))"
   ]
  },
  {
   "cell_type": "markdown",
   "id": "8f2d399e-8e86-4e89-b7f5-6516065cec4b",
   "metadata": {},
   "source": [
    "#### 문자열에 포함된 특정 단어나 글자의 개수 세기"
   ]
  },
  {
   "cell_type": "code",
   "execution_count": 4,
   "id": "15572228-9de2-4668-9803-12f77016a656",
   "metadata": {},
   "outputs": [
    {
     "name": "stdout",
     "output_type": "stream",
     "text": [
      "2\n"
     ]
    }
   ],
   "source": [
    "print(str.count(\"i\"))"
   ]
  },
  {
   "cell_type": "code",
   "execution_count": 5,
   "id": "539deb03-e272-47f4-b350-5e9079895fdc",
   "metadata": {},
   "outputs": [
    {
     "name": "stdout",
     "output_type": "stream",
     "text": [
      "0\n"
     ]
    }
   ],
   "source": [
    "print(str.count(\"a\"))"
   ]
  },
  {
   "cell_type": "code",
   "execution_count": 6,
   "id": "bd08989e-788c-4293-82a1-e3854fd252e6",
   "metadata": {},
   "outputs": [
    {
     "name": "stdout",
     "output_type": "stream",
     "text": [
      "1\n"
     ]
    }
   ],
   "source": [
    "print(str.count(\"short\"))"
   ]
  },
  {
   "cell_type": "code",
   "execution_count": 7,
   "id": "2f381486-cb73-4bac-a35b-ad4ab1ecb22e",
   "metadata": {},
   "outputs": [
    {
     "name": "stdout",
     "output_type": "stream",
     "text": [
      "0\n"
     ]
    }
   ],
   "source": [
    "print(str.count(\"nice\"))"
   ]
  },
  {
   "cell_type": "markdown",
   "id": "b2a369f1-d6e3-4f48-9dde-7d8aea7728a2",
   "metadata": {},
   "source": [
    "#### 특정 글자나 단어가 처음 등장하는 위치 조회\n",
    "찾지 못할경우 -1을 리턴"
   ]
  },
  {
   "cell_type": "code",
   "execution_count": 8,
   "id": "91430e1c-923e-4b22-8d2e-ff8670a040e0",
   "metadata": {},
   "outputs": [
    {
     "name": "stdout",
     "output_type": "stream",
     "text": [
      "8\n"
     ]
    }
   ],
   "source": [
    "print(str.find(\"t\"))"
   ]
  },
  {
   "cell_type": "code",
   "execution_count": 9,
   "id": "27510fb8-1e39-4151-81a7-547865209aef",
   "metadata": {},
   "outputs": [
    {
     "name": "stdout",
     "output_type": "stream",
     "text": [
      "12\n"
     ]
    }
   ],
   "source": [
    "print(str.find(\"short\"))"
   ]
  },
  {
   "cell_type": "code",
   "execution_count": 10,
   "id": "aa4b54ba-6cb1-405f-a3a7-cd624f7769c0",
   "metadata": {},
   "outputs": [
    {
     "name": "stdout",
     "output_type": "stream",
     "text": [
      "-1\n"
     ]
    }
   ],
   "source": [
    "print(str.find(\"g\"))"
   ]
  },
  {
   "cell_type": "code",
   "execution_count": 11,
   "id": "577143f8-4366-4ef4-8aed-0884bbfb4a86",
   "metadata": {},
   "outputs": [
    {
     "name": "stdout",
     "output_type": "stream",
     "text": [
      "-1\n"
     ]
    }
   ],
   "source": [
    "print(str.find(\"nice\"))"
   ]
  },
  {
   "cell_type": "markdown",
   "id": "75c2be5e-0f6a-4373-879a-ecb1bade8fe1",
   "metadata": {},
   "source": [
    "#### 특정 글자나 단어가 마지막으로 등장하는 위치 조회\n",
    "마지막으로 나타나는 글자의 위치를 왼쪽에서 0부터 카운트\n",
    "찾지 못할경우 -1 리턴"
   ]
  },
  {
   "cell_type": "code",
   "execution_count": 12,
   "id": "9346721e-3317-49e1-849a-bcb54afac6f3",
   "metadata": {},
   "outputs": [
    {
     "name": "stdout",
     "output_type": "stream",
     "text": [
      "30\n"
     ]
    }
   ],
   "source": [
    "print(str.rfind(\"t\"))"
   ]
  },
  {
   "cell_type": "code",
   "execution_count": 13,
   "id": "342894f3-8697-4493-a7b3-e29724e7ad0d",
   "metadata": {},
   "outputs": [
    {
     "name": "stdout",
     "output_type": "stream",
     "text": [
      "12\n"
     ]
    }
   ],
   "source": [
    "print(str.rfind(\"short\"))"
   ]
  },
  {
   "cell_type": "code",
   "execution_count": 14,
   "id": "dde6302b-3cbe-493d-a7a1-b283ced7cb2e",
   "metadata": {},
   "outputs": [
    {
     "name": "stdout",
     "output_type": "stream",
     "text": [
      "-1\n"
     ]
    }
   ],
   "source": [
    "print(str.rfind(\"g\"))"
   ]
  },
  {
   "cell_type": "code",
   "execution_count": 15,
   "id": "27c5132f-b6b1-4371-974d-160295f926c9",
   "metadata": {},
   "outputs": [
    {
     "name": "stdout",
     "output_type": "stream",
     "text": [
      "-1\n"
     ]
    }
   ],
   "source": [
    "print(str.rfind(\"nice\"))"
   ]
  },
  {
   "cell_type": "markdown",
   "id": "a90bf008-d73e-4435-b9ba-35d9019691bd",
   "metadata": {},
   "source": [
    "#### 특정 단어나 글자로 시작하는지 여부검사 -> True, False 리턴"
   ]
  },
  {
   "cell_type": "code",
   "execution_count": 16,
   "id": "97a0e642-c15b-403a-93b8-ce0b1a6f7a6d",
   "metadata": {},
   "outputs": [
    {
     "name": "stdout",
     "output_type": "stream",
     "text": [
      "True\n"
     ]
    }
   ],
   "source": [
    "# 대문자 \"L\"로 시작하는지 검사\n",
    "print(str.startswith(\"L\"))"
   ]
  },
  {
   "cell_type": "code",
   "execution_count": 17,
   "id": "4e4a63ec-f968-419e-b5fc-17e0ad3ff8d0",
   "metadata": {},
   "outputs": [
    {
     "name": "stdout",
     "output_type": "stream",
     "text": [
      "False\n"
     ]
    }
   ],
   "source": [
    "# 소문자 \"l\"로 시작하는지 검사\n",
    "print(str.startswith(\"l\"))"
   ]
  },
  {
   "cell_type": "code",
   "execution_count": 18,
   "id": "5075f5c8-f296-4415-a68c-5562e7065674",
   "metadata": {},
   "outputs": [
    {
     "name": "stdout",
     "output_type": "stream",
     "text": [
      "True\n"
     ]
    }
   ],
   "source": [
    "# \"Life\"라는 단어로 시작하는지 검사\n",
    "print(str.startswith(\"Life\"))"
   ]
  },
  {
   "cell_type": "code",
   "execution_count": 19,
   "id": "47024a77-39db-4b5b-bdbc-1338aa845329",
   "metadata": {},
   "outputs": [
    {
     "name": "stdout",
     "output_type": "stream",
     "text": [
      "False\n"
     ]
    }
   ],
   "source": [
    "# 대문자 \"H\"로 시작하는지 검사\n",
    "print(str.startswith(\"H\"))"
   ]
  },
  {
   "cell_type": "code",
   "execution_count": 20,
   "id": "1ddd8c35-6991-48bb-8368-148a8f7802f1",
   "metadata": {},
   "outputs": [
    {
     "name": "stdout",
     "output_type": "stream",
     "text": [
      "False\n"
     ]
    }
   ],
   "source": [
    "# \"Hello\"라는 단어로 시작하는지 검사\n",
    "print(str.startswith(\"Hello\"))"
   ]
  },
  {
   "cell_type": "markdown",
   "id": "61720a40-67ba-4132-b61c-d399d4ecd110",
   "metadata": {},
   "source": [
    "#### 특정 단어나 글자로 끝나는지 여부 검사 -> True, False가 리턴"
   ]
  },
  {
   "cell_type": "code",
   "execution_count": 21,
   "id": "9ce6efbb-767b-4312-b275-f58a75330b13",
   "metadata": {},
   "outputs": [
    {
     "name": "stdout",
     "output_type": "stream",
     "text": [
      "False\n"
     ]
    }
   ],
   "source": [
    "# 대문자 \"N\"로 끝나는지 검사\n",
    "print(str.endswith(\"N\"))"
   ]
  },
  {
   "cell_type": "code",
   "execution_count": 22,
   "id": "736efe94-5e29-4771-9230-7c18df7dc48e",
   "metadata": {},
   "outputs": [
    {
     "name": "stdout",
     "output_type": "stream",
     "text": [
      "True\n"
     ]
    }
   ],
   "source": [
    "# 소문자 \"n\"로 끝나는지 검사\n",
    "print(str.endswith(\"n\"))"
   ]
  },
  {
   "cell_type": "code",
   "execution_count": 23,
   "id": "a434abb2-2a68-40a2-afd2-6c1858c4d189",
   "metadata": {},
   "outputs": [
    {
     "name": "stdout",
     "output_type": "stream",
     "text": [
      "True\n"
     ]
    }
   ],
   "source": [
    "# \"Python\"라는 단어로 끝나는지 검사\n",
    "print(str.endswith(\"Python\"))"
   ]
  },
  {
   "cell_type": "code",
   "execution_count": 24,
   "id": "309cd08d-80a9-4323-a098-06ad348237d6",
   "metadata": {},
   "outputs": [
    {
     "name": "stdout",
     "output_type": "stream",
     "text": [
      "False\n"
     ]
    }
   ],
   "source": [
    "# \"python\"라는 단어로 끝나는지 검사\n",
    "print(str.endswith(\"python\"))"
   ]
  },
  {
   "cell_type": "markdown",
   "id": "f68568eb-6b0d-4721-a95c-b7528eb2077e",
   "metadata": {},
   "source": [
    "#### 대소문자 변환하기"
   ]
  },
  {
   "cell_type": "code",
   "execution_count": 25,
   "id": "c3dfcf93-ebf0-4324-aeeb-34cb7b2139c8",
   "metadata": {},
   "outputs": [
    {
     "name": "stdout",
     "output_type": "stream",
     "text": [
      "LIFE IS TOO SHORT, YOU NEED PYTHON\n"
     ]
    }
   ],
   "source": [
    "# 모든글자를 대문자로 변환한 결과를 반환한다.\n",
    "# 반환 결과를 변수에 저장하고 변수값을 출력하기\n",
    "upchar = str.upper()\n",
    "print(upchar)"
   ]
  },
  {
   "cell_type": "code",
   "execution_count": 26,
   "id": "a5e39bf6-6593-4048-873f-573a2a680f88",
   "metadata": {},
   "outputs": [
    {
     "name": "stdout",
     "output_type": "stream",
     "text": [
      "life is too short, you need python\n"
     ]
    }
   ],
   "source": [
    "# 모든 글자를 소문자로 변환한 결과를 반환한다.\n",
    "lowchar = str.lower()\n",
    "print(lowchar)"
   ]
  },
  {
   "cell_type": "code",
   "execution_count": 27,
   "id": "7493db17-3ce0-424a-82e8-bf1821266958",
   "metadata": {},
   "outputs": [
    {
     "name": "stdout",
     "output_type": "stream",
     "text": [
      "lIFE IS TOO SHORT, YOU NEED pYTHON\n"
     ]
    }
   ],
   "source": [
    "# 대문자는 소분자로, 소문자는 대문자로 변환한 결과를 반환한다.\n",
    "# 반환 결과를 직접 출력\n",
    "print(str.swapcase())"
   ]
  },
  {
   "cell_type": "code",
   "execution_count": 28,
   "id": "4bee2eb1-e69a-46d3-8b2f-fad00cfdf033",
   "metadata": {},
   "outputs": [
    {
     "name": "stdout",
     "output_type": "stream",
     "text": [
      "Life is too short, you need python\n"
     ]
    }
   ],
   "source": [
    "# 문장의 첫 글자를 대문자로 변환한 결과를 반환한다.\n",
    "print(str.capitalize())"
   ]
  },
  {
   "cell_type": "code",
   "execution_count": 29,
   "id": "f0ce0c37-20e3-434d-9a42-c0e229dce549",
   "metadata": {},
   "outputs": [
    {
     "name": "stdout",
     "output_type": "stream",
     "text": [
      "Life Is Too Short, You Need Python\n"
     ]
    }
   ],
   "source": [
    "# 각 단어의 첫 글자를 대문자로 변환한 결과를 반환한다.\n",
    "print(str.title())"
   ]
  },
  {
   "cell_type": "markdown",
   "id": "360272b9-41cc-4cc1-a98b-3b782606a343",
   "metadata": {},
   "source": [
    "#### 문자열 바꾸기"
   ]
  },
  {
   "cell_type": "code",
   "execution_count": 30,
   "id": "e01570b0-668d-44a3-bc60-f499278e66b4",
   "metadata": {},
   "outputs": [
    {
     "name": "stdout",
     "output_type": "stream",
     "text": [
      "Your height is too short, you need Python\n"
     ]
    }
   ],
   "source": [
    "# 변수.replace(a, b), 변수 a를 b로 변경\n",
    "print(str.replace(\"Life\", \"Your height\"))"
   ]
  },
  {
   "cell_type": "markdown",
   "id": "c6adfb60-846c-493e-a043-acdf2f472a10",
   "metadata": {},
   "source": [
    "#### 공백 지우기"
   ]
  },
  {
   "cell_type": "code",
   "execution_count": 31,
   "id": "8b8810b5-fe76-4e53-a1dd-5305d92a64cf",
   "metadata": {},
   "outputs": [],
   "source": [
    "# 실습을 위한 문자열 (앞, 뒤에 공백이 포함되어 있다.)\n",
    "k = \"     python     \""
   ]
  },
  {
   "cell_type": "code",
   "execution_count": 32,
   "id": "5b4516a0-070b-40cc-8009-efcd778a2738",
   "metadata": {},
   "outputs": [
    {
     "name": "stdout",
     "output_type": "stream",
     "text": [
      "python     \n"
     ]
    }
   ],
   "source": [
    "# 왼쪽 공백을 제거한 결과를 반환한다.\n",
    "print(k.lstrip())"
   ]
  },
  {
   "cell_type": "code",
   "execution_count": 33,
   "id": "a62a6484-d745-488d-a658-06e6314d8974",
   "metadata": {},
   "outputs": [
    {
     "name": "stdout",
     "output_type": "stream",
     "text": [
      "     python\n"
     ]
    }
   ],
   "source": [
    "# 오른쪽 공백을 제거한 결과를 반환한다.\n",
    "print(k.rstrip())"
   ]
  },
  {
   "cell_type": "code",
   "execution_count": 35,
   "id": "a2b37a7e-97e6-48b9-9594-dabe7a34819e",
   "metadata": {},
   "outputs": [
    {
     "name": "stdout",
     "output_type": "stream",
     "text": [
      "python\n"
     ]
    }
   ],
   "source": [
    "# 좌우 공백을 모두 지운 결과를 반환한다.\n",
    "print(k.strip())"
   ]
  },
  {
   "cell_type": "code",
   "execution_count": null,
   "id": "d7c4a1e8-00b6-479e-a358-dd751539b876",
   "metadata": {},
   "outputs": [],
   "source": []
  }
 ],
 "metadata": {
  "kernelspec": {
   "display_name": "Python 3 (ipykernel)",
   "language": "python",
   "name": "python3"
  },
  "language_info": {
   "codemirror_mode": {
    "name": "ipython",
    "version": 3
   },
   "file_extension": ".py",
   "mimetype": "text/x-python",
   "name": "python",
   "nbconvert_exporter": "python",
   "pygments_lexer": "ipython3",
   "version": "3.9.5"
  }
 },
 "nbformat": 4,
 "nbformat_minor": 5
}
