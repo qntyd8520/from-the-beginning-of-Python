{
 "cells": [
  {
   "cell_type": "markdown",
   "id": "8aa90b6e-7cad-46d0-8711-2dd095961b0b",
   "metadata": {},
   "source": [
    "#### 딕셔너리 정의하기\n",
    "이름(key)와 값(value)가 쌍을 이루는 자료 구조"
   ]
  },
  {
   "cell_type": "code",
   "execution_count": 1,
   "id": "ddae8349-d59e-4917-865a-ce7d3e0ccd32",
   "metadata": {},
   "outputs": [
    {
     "name": "stdout",
     "output_type": "stream",
     "text": [
      "{'name': '철수', 'phone': '010-1234-5678', 'birth': '0115'}\n"
     ]
    }
   ],
   "source": [
    "dic = {\"name\": \"철수\", \"phone\": \"010-1234-5678\", \"birth\": \"0115\"}\n",
    "print(dic)"
   ]
  },
  {
   "cell_type": "markdown",
   "id": "a90e9c68-1af6-446f-b47b-1210e584a3c7",
   "metadata": {},
   "source": [
    "#### 특정 원소에 접근하기"
   ]
  },
  {
   "cell_type": "code",
   "execution_count": 3,
   "id": "7429d569-9e50-40cb-a07d-7881c8d9a760",
   "metadata": {},
   "outputs": [
    {
     "name": "stdout",
     "output_type": "stream",
     "text": [
      "철수\n"
     ]
    }
   ],
   "source": [
    "# 특정 우너소에 접근하기 -> 직접출력\n",
    "print(dic[\"name\"])"
   ]
  },
  {
   "cell_type": "code",
   "execution_count": 4,
   "id": "e65aba7d-2bf7-4659-93ce-631b40dfae1a",
   "metadata": {},
   "outputs": [
    {
     "name": "stdout",
     "output_type": "stream",
     "text": [
      "010-1234-5678\n"
     ]
    }
   ],
   "source": [
    "# 특정 원소에 접근하기 -> 다른변수에 복사\n",
    "phone = dic[\"phone\"]\n",
    "print(phone)"
   ]
  },
  {
   "cell_type": "code",
   "execution_count": 5,
   "id": "9ac51e65-fab0-4b91-9839-866f06064278",
   "metadata": {},
   "outputs": [
    {
     "name": "stdout",
     "output_type": "stream",
     "text": [
      "호영\n"
     ]
    }
   ],
   "source": [
    "# 특정원소의 값을 변경\n",
    "dic[\"name\"] = \"호영\"\n",
    "print(dic[\"name\"])"
   ]
  },
  {
   "cell_type": "markdown",
   "id": "3fc3826d-5a2e-44ba-a25d-495473127ab8",
   "metadata": {},
   "source": [
    "#### 특정 원소 삭제하기"
   ]
  },
  {
   "cell_type": "code",
   "execution_count": 6,
   "id": "9859a7bc-73d0-4566-b569-5113336d3593",
   "metadata": {},
   "outputs": [
    {
     "name": "stdout",
     "output_type": "stream",
     "text": [
      "{'name': '호영', 'phone': '010-1234-5678'}\n"
     ]
    }
   ],
   "source": [
    "# -> key가 birth인 데이터 삭제\n",
    "del(dic[\"birth\"])\n",
    "print(dic)"
   ]
  },
  {
   "cell_type": "markdown",
   "id": "0522826b-a616-4afc-b3a2-763ed1340e65",
   "metadata": {},
   "source": [
    "#### 리스트 사용 제약"
   ]
  },
  {
   "cell_type": "code",
   "execution_count": 7,
   "id": "403a4610-e54a-4fb8-9e15-892fa15a3f2a",
   "metadata": {},
   "outputs": [
    {
     "ename": "KeyError",
     "evalue": "'weight'",
     "output_type": "error",
     "traceback": [
      "\u001b[1;31m---------------------------------------------------------------------------\u001b[0m",
      "\u001b[1;31mKeyError\u001b[0m                                  Traceback (most recent call last)",
      "\u001b[1;32mC:\\Users\\Public\\Documents\\ESTsoft\\CreatorTemp/ipykernel_1424/2367112549.py\u001b[0m in \u001b[0;36m<module>\u001b[1;34m\u001b[0m\n\u001b[0;32m      1\u001b[0m \u001b[1;31m# 존재하지 않는 키의 값을 사용하면 에러\u001b[0m\u001b[1;33m\u001b[0m\u001b[1;33m\u001b[0m\u001b[1;33m\u001b[0m\u001b[0m\n\u001b[1;32m----> 2\u001b[1;33m \u001b[0mprint\u001b[0m\u001b[1;33m(\u001b[0m\u001b[0mdic\u001b[0m\u001b[1;33m[\u001b[0m\u001b[1;34m\"weight\"\u001b[0m\u001b[1;33m]\u001b[0m\u001b[1;33m)\u001b[0m\u001b[1;33m\u001b[0m\u001b[1;33m\u001b[0m\u001b[0m\n\u001b[0m",
      "\u001b[1;31mKeyError\u001b[0m: 'weight'"
     ]
    }
   ],
   "source": [
    "# 존재하지 않는 키의 값을 사용하면 에러\n",
    "print(dic[\"weight\"])"
   ]
  },
  {
   "cell_type": "code",
   "execution_count": 8,
   "id": "60dd20c1-7a87-4103-91f4-dec3a3a8bb21",
   "metadata": {},
   "outputs": [
    {
     "name": "stdout",
     "output_type": "stream",
     "text": [
      "{'name': '호영', 'phone': '010-1234-5678', 'height': 173}\n"
     ]
    }
   ],
   "source": [
    "# 존재하지 않는 키에 값을 할당하면 확장\n",
    "dic[\"height\"] = 173\n",
    "print(dic)"
   ]
  },
  {
   "cell_type": "code",
   "execution_count": 10,
   "id": "edf53f44-1877-477f-ba12-b54f5bb0a69c",
   "metadata": {},
   "outputs": [
    {
     "name": "stdout",
     "output_type": "stream",
     "text": [
      "python\n"
     ]
    }
   ],
   "source": [
    "# 키가 중복될 경우 하나를 제외한 나머지는 무시됨.\n",
    "# -> 일반적으로 나중에 정의된 항목이 이전에 정의된 항목을 덮어씀\n",
    "data = {\"msg\": \"hello\", \"msg\": \"world\", \"msg\": \"python\"}\n",
    "print(data[\"msg\"])"
   ]
  },
  {
   "cell_type": "markdown",
   "id": "5829e487-ebde-4f93-be52-d295daeefee4",
   "metadata": {},
   "source": [
    "#### 정보의 계층적 표현 (1)"
   ]
  },
  {
   "cell_type": "code",
   "execution_count": 12,
   "id": "229f3316-a527-4cf9-9d36-5f096bf64ece",
   "metadata": {},
   "outputs": [
    {
     "name": "stdout",
     "output_type": "stream",
     "text": [
      "{'userid': 'python', 'age': 20, 'addr': ['서울', '서초구', '강남대로'], 'grade': {'korean': 98, 'math': 77, 'english': 82}}\n"
     ]
    }
   ],
   "source": [
    "# 딕셔너리는 리스트나 다른 딕셔너리를 포함할 수 있다.\n",
    "# -> 정보를 계층화 해서 표현 가능함\n",
    "addr = [\"서울\", \"서초구\", \"강남대로\"]\n",
    "grade = {\"korean\": 98, \"math\": 77, \"english\": 82}\n",
    "\n",
    "# 서로 다른 종류의 데이터를 저장할 수 있다.\n",
    "member = {\n",
    "    \"userid\": \"python\", # 문자열 데이터\n",
    "    \"age\": 20,          # 정수형 데이터\n",
    "    \"addr\": addr,       # 리스트 데이터\n",
    "    \"grade\": grade      # 딕셔너리 데이터\n",
    "}\n",
    "\n",
    "print(member)"
   ]
  },
  {
   "cell_type": "code",
   "execution_count": 13,
   "id": "c5f11fd1-5cc2-4417-ac4a-853410887f27",
   "metadata": {},
   "outputs": [
    {
     "name": "stdout",
     "output_type": "stream",
     "text": [
      "서울\n",
      "98\n"
     ]
    }
   ],
   "source": [
    "# 계층화된 값에 접근하기\n",
    "print(member[\"addr\"][0])\n",
    "print(member[\"grade\"][\"korean\"])"
   ]
  },
  {
   "cell_type": "markdown",
   "id": "9679f31d-7fee-44aa-9321-25861e15047e",
   "metadata": {},
   "source": [
    "#### 정보의 계층적 표현 (2)"
   ]
  },
  {
   "cell_type": "code",
   "execution_count": 16,
   "id": "42c873f3-3e3a-4b12-bceb-9ed45ce11745",
   "metadata": {},
   "outputs": [
    {
     "name": "stdout",
     "output_type": "stream",
     "text": [
      "{'total': 1962, 'city': ['서울', '대전', '광주'], 'population': [987, 654, 321], 'date': {'yy': 2018, 'mm': 9, 'dd': 10}}\n"
     ]
    }
   ],
   "source": [
    "# 딕셔너리의 계층화 직접 표현\n",
    "mydic = {\n",
    "    \"total\": 1962,\n",
    "    \"city\": [\"서울\", \"대전\", \"광주\"],\n",
    "    \"population\": [987, 654, 321],\n",
    "    \"date\": {\"yy\": 2018, \"mm\": 9, \"dd\": 10}\n",
    "}\n",
    "\n",
    "print(mydic)"
   ]
  },
  {
   "cell_type": "code",
   "execution_count": 17,
   "id": "8a96bf1c-68b0-4383-8198-39da816c61e2",
   "metadata": {},
   "outputs": [
    {
     "name": "stdout",
     "output_type": "stream",
     "text": [
      "서울\n",
      "987\n",
      "2018\n"
     ]
    }
   ],
   "source": [
    "print(mydic[\"city\"][0])\n",
    "print(mydic[\"population\"][0])\n",
    "print(mydic[\"date\"][\"yy\"])"
   ]
  },
  {
   "cell_type": "markdown",
   "id": "4f090858-1ee9-433c-a7e0-ea62c20acc2f",
   "metadata": {},
   "source": [
    "#### 딕셔너리를 원소로 갖는 리스트"
   ]
  },
  {
   "cell_type": "code",
   "execution_count": 18,
   "id": "3c7f3548-777a-4672-8a4f-f144bcd00ec0",
   "metadata": {},
   "outputs": [
    {
     "name": "stdout",
     "output_type": "stream",
     "text": [
      "철수의 국어점수:95, 영어점수: 88\n",
      "영희의 국어점수:92, 영어점수: 90\n",
      "철민의 국어점수:88, 영어점수: 76\n"
     ]
    }
   ],
   "source": [
    "# 리스트의 원소가 딕셔너리가 되는 경우 --> 표 자료형\n",
    "grade = [\n",
    "    {\"name\": \"철수\", \"kor\": 95, \"eng\": 88},\n",
    "    {\"name\": \"영희\", \"kor\": 92, \"eng\": 90},\n",
    "    {\"name\": \"철민\", \"kor\": 88, \"eng\": 76},\n",
    "]\n",
    "\n",
    "tpl = \"{0}의 국어점수:{1}, 영어점수: {2}\"\n",
    "print(tpl.format(grade[0][\"name\"], grade[0][\"kor\"], grade[0][\"eng\"]))\n",
    "print(tpl.format(grade[1][\"name\"], grade[1][\"kor\"], grade[1][\"eng\"]))\n",
    "print(tpl.format(grade[2][\"name\"], grade[2][\"kor\"], grade[2][\"eng\"]))"
   ]
  },
  {
   "cell_type": "markdown",
   "id": "a2c5ceee-200c-4b49-8ec1-ba15832f4607",
   "metadata": {},
   "source": [
    "#### 딕셔너리의 값을 반환하는 함수"
   ]
  },
  {
   "cell_type": "code",
   "execution_count": 19,
   "id": "8310cc71-8e25-43ea-a5be-40178f99cfab",
   "metadata": {},
   "outputs": [],
   "source": [
    "# 샘플 데이터\n",
    "dic = {\"name\": \"철수\", \"phone\": \"010-1234-5678\", \"birth\": \"0115\"}"
   ]
  },
  {
   "cell_type": "code",
   "execution_count": 20,
   "id": "af05a228-19a4-4912-99e8-cb041cbb2cff",
   "metadata": {},
   "outputs": [
    {
     "name": "stdout",
     "output_type": "stream",
     "text": [
      "철수\n"
     ]
    }
   ],
   "source": [
    "# 특정 key에 대응하는 값 얻기\n",
    "# -> dic[\"name\"]과 동일\n",
    "print(dic.get(\"name\"))"
   ]
  },
  {
   "cell_type": "code",
   "execution_count": 21,
   "id": "bd3c882b-ff86-4fa8-9e58-4ae84721f641",
   "metadata": {},
   "outputs": [
    {
     "name": "stdout",
     "output_type": "stream",
     "text": [
      "None\n"
     ]
    }
   ],
   "source": [
    "# 존재하지 않는 key에 접근하는경우 --> None이 반환됨\n",
    "print(dic.get(\"gender\"))"
   ]
  },
  {
   "cell_type": "code",
   "execution_count": 22,
   "id": "fab0d24c-73a2-4a10-ba1b-435ffb376b33",
   "metadata": {},
   "outputs": [
    {
     "name": "stdout",
     "output_type": "stream",
     "text": [
      "남자\n"
     ]
    }
   ],
   "source": [
    "# get함수는 전달하는 key가 존재하지 않을경우\n",
    "# 대신 반환될 값을 함께 설정할 수 있다.\n",
    "print(dic.get(\"gender\", \"남자\"))"
   ]
  },
  {
   "cell_type": "markdown",
   "id": "76ec9294-6d3b-4865-8cc4-853716a6b29b",
   "metadata": {},
   "source": [
    "#### key를 분리하기"
   ]
  },
  {
   "cell_type": "code",
   "execution_count": 24,
   "id": "c799200f-de01-4afc-b0fc-468283d2d718",
   "metadata": {},
   "outputs": [
    {
     "name": "stdout",
     "output_type": "stream",
     "text": [
      "dict_keys(['name', 'phone', 'birth'])\n"
     ]
    }
   ],
   "source": [
    "# Key만 모아서 dict_keys라는 객체로 반환\n",
    "keys = dic.keys()\n",
    "print(keys)"
   ]
  },
  {
   "cell_type": "code",
   "execution_count": 25,
   "id": "7160f549-0867-4ebc-b25a-2818596060a5",
   "metadata": {},
   "outputs": [
    {
     "name": "stdout",
     "output_type": "stream",
     "text": [
      "['name', 'phone', 'birth']\n"
     ]
    }
   ],
   "source": [
    "# dict_keys를 list로 변환\n",
    "key_list = list(keys)\n",
    "print(key_list)"
   ]
  },
  {
   "cell_type": "markdown",
   "id": "a84c9738-bea6-4d65-bacc-6b42e7af2a3e",
   "metadata": {},
   "source": [
    "#### value를 분리하기"
   ]
  },
  {
   "cell_type": "code",
   "execution_count": 26,
   "id": "756573d8-0d62-4e0c-bcf8-ba63f91968b2",
   "metadata": {},
   "outputs": [
    {
     "name": "stdout",
     "output_type": "stream",
     "text": [
      "dict_values(['철수', '010-1234-5678', '0115'])\n"
     ]
    }
   ],
   "source": [
    "# Values만 모아서 dic_values 객체로 반환\n",
    "values = dic.values()\n",
    "print(values)"
   ]
  },
  {
   "cell_type": "code",
   "execution_count": 27,
   "id": "56107d8c-2f78-44af-a7ab-ee48dc626745",
   "metadata": {},
   "outputs": [
    {
     "name": "stdout",
     "output_type": "stream",
     "text": [
      "['철수', '010-1234-5678', '0115']\n"
     ]
    }
   ],
   "source": [
    "# dic_values를 list로 변환\n",
    "value_list = list(values)\n",
    "print(value_list)"
   ]
  },
  {
   "cell_type": "markdown",
   "id": "118888c9-c0fc-4945-8869-4a825ab15c58",
   "metadata": {},
   "source": [
    "#### key와 value를 쌍으로 분리하기"
   ]
  },
  {
   "cell_type": "code",
   "execution_count": 30,
   "id": "3e9146a5-fd86-4f72-a65b-10845f06b8ba",
   "metadata": {},
   "outputs": [
    {
     "name": "stdout",
     "output_type": "stream",
     "text": [
      "dict_items([('name', '철수'), ('phone', '010-1234-5678'), ('birth', '0115')])\n"
     ]
    }
   ],
   "source": [
    "# key-value를 쌍으로 묶은 튜플들의 모음인 dict_items객체 얻기\n",
    "items = dic.items()\n",
    "print(items)"
   ]
  },
  {
   "cell_type": "code",
   "execution_count": 31,
   "id": "337a114c-ea39-4e83-be74-4a5af6e3d977",
   "metadata": {},
   "outputs": [
    {
     "name": "stdout",
     "output_type": "stream",
     "text": [
      "[('name', '철수'), ('phone', '010-1234-5678'), ('birth', '0115')]\n"
     ]
    }
   ],
   "source": [
    "lists = list(items)\n",
    "print(lists)"
   ]
  },
  {
   "cell_type": "code",
   "execution_count": null,
   "id": "a0c26dd3-8643-4468-838c-4d012551f33d",
   "metadata": {},
   "outputs": [],
   "source": []
  }
 ],
 "metadata": {
  "kernelspec": {
   "display_name": "Python 3 (ipykernel)",
   "language": "python",
   "name": "python3"
  },
  "language_info": {
   "codemirror_mode": {
    "name": "ipython",
    "version": 3
   },
   "file_extension": ".py",
   "mimetype": "text/x-python",
   "name": "python",
   "nbconvert_exporter": "python",
   "pygments_lexer": "ipython3",
   "version": "3.9.5"
  },
  "toc-autonumbering": false,
  "toc-showmarkdowntxt": false
 },
 "nbformat": 4,
 "nbformat_minor": 5
}
