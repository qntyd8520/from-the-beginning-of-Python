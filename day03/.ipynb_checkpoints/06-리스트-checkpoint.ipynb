{
 "cells": [
  {
   "cell_type": "markdown",
   "id": "198037f3-7493-4430-9364-4382ed134483",
   "metadata": {},
   "source": [
    "#### 리스트 자료형 생성하기"
   ]
  },
  {
   "cell_type": "code",
   "execution_count": 1,
   "id": "eea8bf5b-bd5b-446a-a7f1-17502c177a58",
   "metadata": {},
   "outputs": [
    {
     "name": "stdout",
     "output_type": "stream",
     "text": [
      "[98, 82, 73, 64, 100]\n"
     ]
    }
   ],
   "source": [
    "# 5명의 학생에 대한 성적 나열.\n",
    "grade = [98, 82, 73, 64, 100]\n",
    "print(grade)"
   ]
  },
  {
   "cell_type": "code",
   "execution_count": 2,
   "id": "44e1938f-192b-47bd-a3c1-f1b7858d720f",
   "metadata": {},
   "outputs": [
    {
     "name": "stdout",
     "output_type": "stream",
     "text": [
      "['철수', '영희', '나영', '민식', '호영']\n"
     ]
    }
   ],
   "source": [
    "# 각 학생의 이름에 대한 나열\n",
    "names = [\"철수\", \"영희\", \"나영\", \"민식\", \"호영\"]\n",
    "print(names)"
   ]
  },
  {
   "cell_type": "code",
   "execution_count": 3,
   "id": "78cf64eb-ed84-4f08-ab92-1d18cf5cdf3d",
   "metadata": {},
   "outputs": [
    {
     "name": "stdout",
     "output_type": "stream",
     "text": [
      "['철수', 98]\n",
      "['영희', 82]\n",
      "['나영', 73]\n"
     ]
    }
   ],
   "source": [
    "# 서로다른 자료형들을 함께 사용가능\n",
    "stud1 = [\"철수\", 98]\n",
    "stud2 = [\"영희\", 82]\n",
    "stud3 = [\"나영\", 73]\n",
    "\n",
    "print(stud1)\n",
    "print(stud2)\n",
    "print(stud3)"
   ]
  },
  {
   "cell_type": "markdown",
   "id": "1549dbc8-6125-407b-9d2a-6321ab2212ba",
   "metadata": {},
   "source": [
    "#### 인덱스 번호를 통해 리스트의 각 원소 사용하기"
   ]
  },
  {
   "cell_type": "code",
   "execution_count": 4,
   "id": "ee08520d-b742-4a2f-b165-ad7bf88f47b7",
   "metadata": {},
   "outputs": [
    {
     "name": "stdout",
     "output_type": "stream",
     "text": [
      "철수\n",
      "98\n"
     ]
    }
   ],
   "source": [
    "# 인덱스 번호를 통해 각 원소에 접근\n",
    "name = stud1[0]\n",
    "point = stud1[1]\n",
    "print(name)\n",
    "print(point)"
   ]
  },
  {
   "cell_type": "code",
   "execution_count": 5,
   "id": "12d8a376-c298-49b8-ab4d-1ce6161b438c",
   "metadata": {},
   "outputs": [
    {
     "name": "stdout",
     "output_type": "stream",
     "text": [
      "['철호', 100]\n"
     ]
    }
   ],
   "source": [
    "# 값의 변경\n",
    "stud1[0] = \"철호\"\n",
    "stud1[1] = 100\n",
    "print(stud1)"
   ]
  },
  {
   "cell_type": "code",
   "execution_count": 6,
   "id": "130bf088-1856-46dd-a132-205b795224de",
   "metadata": {},
   "outputs": [
    {
     "name": "stdout",
     "output_type": "stream",
     "text": [
      "철호(이)의 점수는 100점입니다.\n",
      "영희(이)의 점수는 82점입니다.\n",
      "나영(이)의 점수는 73점입니다.\n"
     ]
    }
   ],
   "source": [
    "# 리스트의 원소를 직접 출력하는 활용예시\n",
    "msg = \"{0}(이)의 점수는 {1}점입니다.\"\n",
    "print(msg.format(stud1[0], stud1[1]))\n",
    "print(msg.format(stud2[0], stud2[1]))\n",
    "print(msg.format(stud3[0], stud3[1]))"
   ]
  },
  {
   "cell_type": "markdown",
   "id": "acf4177e-22c4-45fe-a4d6-8277a92b79b3",
   "metadata": {},
   "source": [
    "####  2차원 리스트의 생성"
   ]
  },
  {
   "cell_type": "code",
   "execution_count": 7,
   "id": "fcf9afe8-c954-415a-b9c9-bb57b28e8aba",
   "metadata": {},
   "outputs": [
    {
     "name": "stdout",
     "output_type": "stream",
     "text": [
      "[['철수', 98], ['영희', 82], ['나영', 73]]\n"
     ]
    }
   ],
   "source": [
    "# 각 학생별 이름, 점수 정의\n",
    "stud1 = [\"철수\", 98]\n",
    "stud2 = [\"영희\", 82]\n",
    "stud3 = [\"나영\", 73]\n",
    "\n",
    "# 2차원 리스트 -> 새로운 리스트 sutd-group의 각원소가 리스트가 되는 형태\n",
    "stud_group = [stud1, stud2, stud3]\n",
    "print(stud_group)"
   ]
  },
  {
   "cell_type": "code",
   "execution_count": 8,
   "id": "1bff2345-1489-436a-a516-82f445d4a875",
   "metadata": {},
   "outputs": [
    {
     "name": "stdout",
     "output_type": "stream",
     "text": [
      "[['민식', 64], ['호영', 100]]\n"
     ]
    }
   ],
   "source": [
    "# 2차원 리스트 일괄 생성\n",
    "grade = [\n",
    "    [\"민식\", 64],\n",
    "    [\"호영\", 100]\n",
    "]\n",
    "print(grade)"
   ]
  },
  {
   "cell_type": "markdown",
   "id": "e4598be3-aaba-4ede-8d08-8bed8417c1b1",
   "metadata": {},
   "source": [
    "#### 각원소에 접근하여 출력"
   ]
  },
  {
   "cell_type": "code",
   "execution_count": 9,
   "id": "649d9d71-ec96-406c-996a-1865b2f9ce59",
   "metadata": {},
   "outputs": [
    {
     "name": "stdout",
     "output_type": "stream",
     "text": [
      "['철수', 98]\n",
      "['영희', 82]\n"
     ]
    }
   ],
   "source": [
    "# 1차원 원소에 접근하기\n",
    "print(stud_group[0])\n",
    "print(stud_group[1])"
   ]
  },
  {
   "cell_type": "code",
   "execution_count": 10,
   "id": "3d91650b-ab4e-45d9-b3c4-b36219b45369",
   "metadata": {},
   "outputs": [
    {
     "name": "stdout",
     "output_type": "stream",
     "text": [
      "철수\n",
      "98\n",
      "영희\n",
      "82\n"
     ]
    }
   ],
   "source": [
    "# 2차원 원소에 접근하기\n",
    "print(stud_group[0][0])\n",
    "print(stud_group[0][1])\n",
    "print(stud_group[1][0])\n",
    "print(stud_group[1][1])"
   ]
  },
  {
   "cell_type": "markdown",
   "id": "259a4d7d-dcf1-489e-a8bc-76dd06e11647",
   "metadata": {},
   "source": [
    "#### 리스트의 인덱싱"
   ]
  },
  {
   "cell_type": "code",
   "execution_count": 11,
   "id": "3df1696d-1f24-4e3c-96d2-7f6433af77b1",
   "metadata": {},
   "outputs": [],
   "source": [
    "mylist = [10, 20, 30, 40, 50]"
   ]
  },
  {
   "cell_type": "code",
   "execution_count": 12,
   "id": "61589bcd-a91d-40e1-8c73-41db247a7ad8",
   "metadata": {},
   "outputs": [
    {
     "name": "stdout",
     "output_type": "stream",
     "text": [
      "20\n"
     ]
    }
   ],
   "source": [
    "# 1번째 원소에 접근 -> 0부터 카운트\n",
    "print(mylist[1])"
   ]
  },
  {
   "cell_type": "code",
   "execution_count": 13,
   "id": "d8db6cdc-d9cb-4ee3-b996-e66ba0ad14f9",
   "metadata": {},
   "outputs": [
    {
     "name": "stdout",
     "output_type": "stream",
     "text": [
      "50\n"
     ]
    }
   ],
   "source": [
    "# 뒤에서 1번째 원소에 접근 -> 1부터 카운트\n",
    "print(mylist[-1])"
   ]
  },
  {
   "cell_type": "markdown",
   "id": "872f6853-e0cf-4535-b96e-e207fb1c8c30",
   "metadata": {},
   "source": [
    "#### 리스트의 슬라이싱(1)"
   ]
  },
  {
   "cell_type": "code",
   "execution_count": 14,
   "id": "2afb2303-e193-4a3c-9a45-3789cd24fa64",
   "metadata": {},
   "outputs": [],
   "source": [
    "mylist = [60, 70, 80, 90, 100]"
   ]
  },
  {
   "cell_type": "code",
   "execution_count": 15,
   "id": "65b2f74e-107c-4bca-956e-67cbcca92076",
   "metadata": {},
   "outputs": [
    {
     "name": "stdout",
     "output_type": "stream",
     "text": [
      "[70, 80]\n"
     ]
    }
   ],
   "source": [
    "# list에서 1번째 부터 3번째 전까지 -> 3번째 원소포함안됨\n",
    "print(mylist[1:3])"
   ]
  },
  {
   "cell_type": "code",
   "execution_count": 16,
   "id": "5ce59ba0-3a46-4360-91ca-dfbfe03d1867",
   "metadata": {},
   "outputs": [
    {
     "name": "stdout",
     "output_type": "stream",
     "text": [
      "[60, 70, 80]\n"
     ]
    }
   ],
   "source": [
    "# 처음부터 3번째 전까지 --> 3번째 원소 포함안됨\n",
    "print(mylist[:3])"
   ]
  },
  {
   "cell_type": "code",
   "execution_count": 17,
   "id": "e1dc1beb-6c15-4ae4-ba4a-5d194e153f8d",
   "metadata": {},
   "outputs": [
    {
     "name": "stdout",
     "output_type": "stream",
     "text": [
      "[90, 100]\n"
     ]
    }
   ],
   "source": [
    "# list[3]부터 끝까지 -> 3번째 원소 포함됨\n",
    "print(mylist[3:])"
   ]
  },
  {
   "cell_type": "markdown",
   "id": "202e7c63-ae08-40b0-983f-dfc3f0130b89",
   "metadata": {},
   "source": [
    "#### 리스트의 슬라이싱(2)"
   ]
  },
  {
   "cell_type": "code",
   "execution_count": 18,
   "id": "54bea9a6-74ef-47d5-9b20-aef9b668a65b",
   "metadata": {},
   "outputs": [
    {
     "name": "stdout",
     "output_type": "stream",
     "text": [
      "[60, 70, 80, 90, 100]\n"
     ]
    }
   ],
   "source": [
    "# list의 모든원소\n",
    "print(mylist[:])"
   ]
  },
  {
   "cell_type": "code",
   "execution_count": 19,
   "id": "fd1e1dde-841a-4576-9178-10bd4bc4d444",
   "metadata": {},
   "outputs": [
    {
     "name": "stdout",
     "output_type": "stream",
     "text": [
      "[70, 80]\n"
     ]
    }
   ],
   "source": [
    "# list에서 1번째부터 뒤에서 부터 2번쨰 다음까지\n",
    "# --> 마이너스 값을 사용하여 지정할경우 \"다음까지\"의 의미\n",
    "print(mylist[1:-2])"
   ]
  },
  {
   "cell_type": "markdown",
   "id": "d2d728e6-1879-494b-878c-c80b13bbd725",
   "metadata": {},
   "source": [
    "#### 리스트의 연산"
   ]
  },
  {
   "cell_type": "code",
   "execution_count": 20,
   "id": "3d0d4146-425d-4660-90eb-a27f706fcaeb",
   "metadata": {},
   "outputs": [],
   "source": [
    "# 실습을 위한 리스트 정의\n",
    "list1 = [1, 2, 3]\n",
    "list2 = [4, 5, 6]"
   ]
  },
  {
   "cell_type": "code",
   "execution_count": 21,
   "id": "bc4c22fa-5ab1-4e49-b809-b8d374c40d74",
   "metadata": {},
   "outputs": [
    {
     "name": "stdout",
     "output_type": "stream",
     "text": [
      "[1, 2, 3, 4, 5, 6]\n"
     ]
    }
   ],
   "source": [
    "# 리스트끼리의 덧셈은 단순 병합\n",
    "list3 = list1 + list2\n",
    "print(list3)"
   ]
  },
  {
   "cell_type": "code",
   "execution_count": 22,
   "id": "d8bc6abb-35d4-478a-8afb-3556d3332edc",
   "metadata": {},
   "outputs": [
    {
     "name": "stdout",
     "output_type": "stream",
     "text": [
      "[1, 2, 3, 1, 2, 3, 1, 2, 3]\n"
     ]
    }
   ],
   "source": [
    "# 리스트와 정수의 곱셈은 동일 내용을 반복한다.\n",
    "list4 = list1 * 3\n",
    "print(list4)"
   ]
  },
  {
   "cell_type": "markdown",
   "id": "8afe7b93-01da-45ec-a710-72cdd264e428",
   "metadata": {},
   "source": [
    "#### 리스트의 원소 수정하기"
   ]
  },
  {
   "cell_type": "code",
   "execution_count": 23,
   "id": "cbba3d16-b704-4939-a3e4-451bcbc6b636",
   "metadata": {},
   "outputs": [
    {
     "name": "stdout",
     "output_type": "stream",
     "text": [
      "[1, 2, 4]\n"
     ]
    }
   ],
   "source": [
    "# 대입연산자를 이용한 단일 값 수정\n",
    "mylist = [1, 2, 3]\n",
    "mylist[2] = 4\n",
    "print(mylist)"
   ]
  },
  {
   "cell_type": "code",
   "execution_count": 24,
   "id": "482f3a38-b88f-4390-a68f-721990318277",
   "metadata": {},
   "outputs": [
    {
     "name": "stdout",
     "output_type": "stream",
     "text": [
      "[1, 20, 30]\n"
     ]
    }
   ],
   "source": [
    "# 대입연산자를 이용하여 주어진 범위를 수정\n",
    "mylist =  [1, 2, 3]\n",
    "mylist[1:3] = [20, 30]\n",
    "print(mylist)"
   ]
  },
  {
   "cell_type": "markdown",
   "id": "536fdb3d-4b6e-44ab-8b7d-e75f6adc9f32",
   "metadata": {},
   "source": [
    "#### 리스트의 확장, 축소 (1)"
   ]
  },
  {
   "cell_type": "code",
   "execution_count": 25,
   "id": "9cb8e64e-0211-4bbf-976f-78a9d6f51505",
   "metadata": {},
   "outputs": [
    {
     "name": "stdout",
     "output_type": "stream",
     "text": [
      "[1, 1000]\n"
     ]
    }
   ],
   "source": [
    "# 주어진 범위보다 작은 개수를 갖는 리스트 지정 --> 리스트가 짤림\n",
    "mylist = [1, 2, 3]\n",
    "mylist[1:3] = [1000]\n",
    "print(mylist)"
   ]
  },
  {
   "cell_type": "code",
   "execution_count": 26,
   "id": "8081e4ce-8252-4fef-9106-4c5aee5fd2e1",
   "metadata": {},
   "outputs": [
    {
     "name": "stdout",
     "output_type": "stream",
     "text": [
      "[1, 7, 8, 9, 0, 3]\n"
     ]
    }
   ],
   "source": [
    "# 주어진 범위보다 많은 개수를 갖는 리스트 지정 --> 리스트가 확장\n",
    "mylist = [1, 2, 3]\n",
    "mylist[1:2] = [7, 8 ,9, 0]\n",
    "print(mylist)"
   ]
  },
  {
   "cell_type": "markdown",
   "id": "f874bdd8-b51f-45b4-98dc-cdb5af2e4767",
   "metadata": {},
   "source": [
    "#### 리스트의 확장, 축소 (2)"
   ]
  },
  {
   "cell_type": "code",
   "execution_count": 27,
   "id": "e235c5ad-e54e-4d0c-8bbd-d416a8bfbb4b",
   "metadata": {},
   "outputs": [
    {
     "name": "stdout",
     "output_type": "stream",
     "text": [
      "[1, 2, 3, 4, 5]\n",
      "[1, [100, 200], 3, 4, 5]\n"
     ]
    }
   ],
   "source": [
    "# 인덱싱으로 접근하는 경우 -> 단순삽입\n",
    "# -> 1번째 원소에 다른 리스트 \"삽입\"\n",
    "mylist = [1, 2, 3, 4, 5]\n",
    "print(mylist)\n",
    "\n",
    "mylist[1] = [100, 200]\n",
    "print(mylist)"
   ]
  },
  {
   "cell_type": "code",
   "execution_count": 28,
   "id": "74299360-6602-4a60-a3dd-cec2a7daf271",
   "metadata": {},
   "outputs": [
    {
     "name": "stdout",
     "output_type": "stream",
     "text": [
      "[1, 2, 3, 4, 5]\n",
      "[1, 100, 200, 3, 4, 5]\n"
     ]
    }
   ],
   "source": [
    "# 슬라이싱으로 접근하는 경우 -> 주어진범위를 \"확장\"\n",
    "# -> 1번째 위치에는 100이 저장, 그다음 원소에 200이 저장\n",
    "# 원래의 2번째 위치로부터는 뒤로 밀려난다.\n",
    "mylist = [1, 2, 3, 4, 5]\n",
    "print(mylist)\n",
    "\n",
    "mylist[1:2] = [100, 200]\n",
    "print(mylist)"
   ]
  },
  {
   "cell_type": "markdown",
   "id": "7f5d5fdb-c3bb-4dee-b86f-5ab395b996db",
   "metadata": {},
   "source": [
    "#### 리스트의 원소 삭제"
   ]
  },
  {
   "cell_type": "code",
   "execution_count": 29,
   "id": "792fcf5e-721b-437a-96a6-2a2435790eba",
   "metadata": {},
   "outputs": [
    {
     "name": "stdout",
     "output_type": "stream",
     "text": [
      "[1, 3, 4, 5]\n"
     ]
    }
   ],
   "source": [
    "# 특정 위치의 원소 삭제\n",
    "# -> 삭제 후 빈자리가 매워짐\n",
    "mylist = [1, 2, 3, 4, 5]\n",
    "del(mylist[1])\n",
    "print(mylist)"
   ]
  },
  {
   "cell_type": "code",
   "execution_count": 30,
   "id": "843f7578-948d-4672-809b-39f41074739f",
   "metadata": {},
   "outputs": [
    {
     "name": "stdout",
     "output_type": "stream",
     "text": [
      "[1, 4, 5]\n"
     ]
    }
   ],
   "source": [
    "# 특정범위 (1번부터 3번째 전까지)의 원소 삭제\n",
    "# -> 삭제 후 빈자리가 매워짐\n",
    "mylist = [1, 2, 3, 4, 5]\n",
    "del(mylist[1:3])\n",
    "print(mylist)"
   ]
  },
  {
   "cell_type": "code",
   "execution_count": 31,
   "id": "71a36802-b57a-45d1-86be-75153b77905e",
   "metadata": {},
   "outputs": [
    {
     "name": "stdout",
     "output_type": "stream",
     "text": [
      "[1, 4, 5]\n"
     ]
    }
   ],
   "source": [
    "# 특정 범위를 삭제하는 또다른 방법\n",
    "mylist = [1, 2, 3, 4, 5]\n",
    "mylist[1:3] = []\n",
    "print(mylist)"
   ]
  },
  {
   "cell_type": "markdown",
   "id": "c94282ad-c8fa-435a-82e0-974a2f5f33e2",
   "metadata": {},
   "source": [
    "#### 리스트의 원소 세기"
   ]
  },
  {
   "cell_type": "code",
   "execution_count": 32,
   "id": "8227c994-7a99-4931-bd37-c98d71bef943",
   "metadata": {},
   "outputs": [
    {
     "name": "stdout",
     "output_type": "stream",
     "text": [
      "3\n"
     ]
    }
   ],
   "source": [
    "# 전체원소의 개수 조회\n",
    "my_list = [1, 2, 3]\n",
    "size = len(my_list)\n",
    "print(size)"
   ]
  },
  {
   "cell_type": "code",
   "execution_count": 33,
   "id": "3949a423-6681-4346-a835-3136e680231e",
   "metadata": {},
   "outputs": [
    {
     "name": "stdout",
     "output_type": "stream",
     "text": [
      "2\n"
     ]
    }
   ],
   "source": [
    "# 주어진 값과 일치하는 원소의 개수 세기\n",
    "my_list = [1, 2, 3, 2]\n",
    "c = my_list.count(2)\n",
    "print(c)"
   ]
  },
  {
   "cell_type": "code",
   "execution_count": 34,
   "id": "d6744adf-20b9-45bf-8b05-9a380949ba2b",
   "metadata": {},
   "outputs": [
    {
     "name": "stdout",
     "output_type": "stream",
     "text": [
      "3\n"
     ]
    }
   ],
   "source": [
    "# 해당 값이 가장 처음 나타나는 위치(인덱스 반환)\n",
    "my_list = [1, 2, 3, 10, 1, 2, 3, 10]\n",
    "x = my_list.index(10)\n",
    "print(x)"
   ]
  },
  {
   "cell_type": "markdown",
   "id": "0ce54062-2507-424a-88b2-632b56a1b8f3",
   "metadata": {},
   "source": [
    "#### 리스트의 원소 추가"
   ]
  },
  {
   "cell_type": "code",
   "execution_count": 35,
   "id": "561cd377-10cf-43ff-8335-188447d84d14",
   "metadata": {},
   "outputs": [
    {
     "name": "stdout",
     "output_type": "stream",
     "text": [
      "[1, 2, 3, 4]\n"
     ]
    }
   ],
   "source": [
    "# 맨 뒤에 내용 추가\n",
    "my_list = [1, 2, 3]\n",
    "my_list.append(4)\n",
    "print(my_list)"
   ]
  },
  {
   "cell_type": "code",
   "execution_count": 36,
   "id": "3522323e-d478-43b5-a818-0cff3c2257dd",
   "metadata": {},
   "outputs": [
    {
     "name": "stdout",
     "output_type": "stream",
     "text": [
      "[1, 2, 3, [5, 6]]\n"
     ]
    }
   ],
   "source": [
    "# 리스트를 append할 경우 2차 리스트로 삽입.\n",
    "my_list = [1, 2, 3]\n",
    "my_list.append([5, 6])\n",
    "print(my_list)"
   ]
  },
  {
   "cell_type": "code",
   "execution_count": 37,
   "id": "6ad70bc1-5b85-4479-a90d-f19b1b4a535f",
   "metadata": {},
   "outputs": [
    {
     "name": "stdout",
     "output_type": "stream",
     "text": [
      "[1, 10, 2, 3]\n"
     ]
    }
   ],
   "source": [
    "# 중간삽입\n",
    "# -> 1번째 위치에 10을 삽입. 기존항목들은 뒤로 밀려난다.\n",
    "my_list = [1, 2, 3]\n",
    "my_list.insert(1, 10)\n",
    "print(my_list)"
   ]
  },
  {
   "cell_type": "markdown",
   "id": "9748ecf2-642f-4561-8ac4-fa1aacc5fe98",
   "metadata": {},
   "source": [
    "#### 리스트의 확장"
   ]
  },
  {
   "cell_type": "code",
   "execution_count": 38,
   "id": "0e2a5998-e8ea-47ac-8817-85d15df85714",
   "metadata": {},
   "outputs": [
    {
     "name": "stdout",
     "output_type": "stream",
     "text": [
      "[1, 2, 3, 10, 9, 8, 7]\n"
     ]
    }
   ],
   "source": [
    "# extend() 함수를 호출한 원본에 파라미터로 전달된 리스트를 덧붙인다.\n",
    "my_list = [1, 2, 3]\n",
    "addon = [10, 9, 8, 7]\n",
    "my_list.extend(addon)\n",
    "print(my_list)"
   ]
  },
  {
   "cell_type": "markdown",
   "id": "c1ddac51-3134-4f7f-951b-595729ed098d",
   "metadata": {},
   "source": [
    "#### 리스트의 원소삭제"
   ]
  },
  {
   "cell_type": "code",
   "execution_count": 39,
   "id": "f30b4fb7-6884-4550-9ec1-5321ff7bd8b4",
   "metadata": {},
   "outputs": [
    {
     "name": "stdout",
     "output_type": "stream",
     "text": [
      "3\n",
      "[1, 2]\n"
     ]
    }
   ],
   "source": [
    "# 맨 마지막 요소를 꺼내고 삭제\n",
    "# --> 마지막 요소를 리턴한다,\n",
    "my_list = [1, 2, 3]\n",
    "k = my_list.pop()\n",
    "print(k)\n",
    "print(my_list)"
   ]
  },
  {
   "cell_type": "code",
   "execution_count": 40,
   "id": "68bff7eb-8e19-4195-9a0c-c8f18590f051",
   "metadata": {},
   "outputs": [
    {
     "name": "stdout",
     "output_type": "stream",
     "text": [
      "2\n",
      "[1]\n"
     ]
    }
   ],
   "source": [
    "print(my_list.pop())\n",
    "print(my_list)"
   ]
  },
  {
   "cell_type": "code",
   "execution_count": 41,
   "id": "98f14afa-4a59-4514-8dae-8cd97d23fce6",
   "metadata": {},
   "outputs": [
    {
     "name": "stdout",
     "output_type": "stream",
     "text": [
      "[1, 2, 3, 1, 2, 3, 10]\n"
     ]
    }
   ],
   "source": [
    "# 주어진 값과 일치하는 첫 번쨰 원소를 삭제\n",
    "my_list = [1, 2, 3, 10, 1, 2, 3, 10]\n",
    "my_list.remove(10)\n",
    "print(my_list)"
   ]
  },
  {
   "cell_type": "markdown",
   "id": "74591b1f-f71b-4b7a-9ee8-fecc28b7f1ee",
   "metadata": {},
   "source": [
    "#### 리스트 정렬하기"
   ]
  },
  {
   "cell_type": "code",
   "execution_count": 42,
   "id": "a6ad46c2-53b3-4a8f-be88-3a360f2ba03a",
   "metadata": {},
   "outputs": [
    {
     "name": "stdout",
     "output_type": "stream",
     "text": [
      "[9, 3, 5, 7, 1]\n"
     ]
    }
   ],
   "source": [
    "# 순서 뒤집기\n",
    "my_list = [1, 7, 5, 3, 9]\n",
    "my_list.reverse()\n",
    "print(my_list)"
   ]
  },
  {
   "cell_type": "code",
   "execution_count": 44,
   "id": "195e650e-d044-4c86-8e3b-b8e55bcc46a0",
   "metadata": {},
   "outputs": [
    {
     "name": "stdout",
     "output_type": "stream",
     "text": [
      "[1, 2, 3, 4, 5]\n"
     ]
    }
   ],
   "source": [
    "# 순차정렬\n",
    "my_list = [2, 5, 1, 4 , 3]\n",
    "my_list.sort()\n",
    "print(my_list)"
   ]
  },
  {
   "cell_type": "code",
   "execution_count": 45,
   "id": "471f8591-68df-4e04-bab0-5c7cbe96312f",
   "metadata": {},
   "outputs": [
    {
     "name": "stdout",
     "output_type": "stream",
     "text": [
      "[5, 4, 3, 2, 1]\n"
     ]
    }
   ],
   "source": [
    "# 역순정렬\n",
    "my_list = [2, 5, 1, 4, 3]\n",
    "my_list.sort(reverse=True)\n",
    "print(my_list)"
   ]
  },
  {
   "cell_type": "markdown",
   "id": "a2dc0ec1-fb6a-4763-b87a-4ac3c12effa4",
   "metadata": {},
   "source": [
    "#### 문자열을 잘라서 리스트로 변환하는 함수"
   ]
  },
  {
   "cell_type": "code",
   "execution_count": 46,
   "id": "246d5108-3875-4021-ace4-b5fddef7132d",
   "metadata": {},
   "outputs": [
    {
     "name": "stdout",
     "output_type": "stream",
     "text": [
      "['Hello', ' Python', ' Wrold', ' Good']\n"
     ]
    }
   ],
   "source": [
    "# 문자열을 주어진 글자를 기준으로 잘라서 리스트로 변환\n",
    "# -> 문자열 객체에 포함된함수 사용\n",
    "text = \"Hello, Python, Wrold, Good\"\n",
    "mylist = text.split(\",\")\n",
    "print(mylist)"
   ]
  },
  {
   "cell_type": "markdown",
   "id": "2a8a867d-0fd3-493e-a73c-193c62dafaf6",
   "metadata": {},
   "source": [
    "#### 튜플\n",
    "기본적으로 리스트와 동일한 특성을 갖는다"
   ]
  },
  {
   "cell_type": "code",
   "execution_count": 47,
   "id": "af20c83e-5796-448f-b0d6-c5f49fb9c9f6",
   "metadata": {},
   "outputs": [
    {
     "name": "stdout",
     "output_type": "stream",
     "text": [
      "(98, 82, 73, 64, 100)\n"
     ]
    }
   ],
   "source": [
    "# 5명의 학생에 대한 성적 나열\n",
    "grade = (98, 82, 73, 64, 100)\n",
    "print(grade)"
   ]
  },
  {
   "cell_type": "code",
   "execution_count": 48,
   "id": "15cddd5e-9a7a-4bb2-a73e-17a53bcb63c0",
   "metadata": {},
   "outputs": [
    {
     "name": "stdout",
     "output_type": "stream",
     "text": [
      "('철수', '영희', '나영', '민식', '호영')\n"
     ]
    }
   ],
   "source": [
    "# 각 학생의 이름에대한 나열\n",
    "names = (\"철수\", \"영희\", \"나영\", \"민식\", \"호영\")\n",
    "print(names)"
   ]
  },
  {
   "cell_type": "code",
   "execution_count": 49,
   "id": "3f118e71-cd7c-4a27-8078-13c9a933a82d",
   "metadata": {},
   "outputs": [
    {
     "name": "stdout",
     "output_type": "stream",
     "text": [
      "('철수', 98)\n"
     ]
    }
   ],
   "source": [
    "# 자료형에 대한 혼합 사용도 가능\n",
    "stud1 = (\"철수\", 98)\n",
    "print(stud1)"
   ]
  },
  {
   "cell_type": "code",
   "execution_count": 50,
   "id": "eb19da28-6a02-4381-9145-b5372fe6e9be",
   "metadata": {},
   "outputs": [
    {
     "name": "stdout",
     "output_type": "stream",
     "text": [
      "철수\n",
      "98\n"
     ]
    }
   ],
   "source": [
    "# 값 읽기\n",
    "print(stud1[0])\n",
    "print(stud1[1])"
   ]
  },
  {
   "cell_type": "code",
   "execution_count": null,
   "id": "164c7754-add8-421b-bb0a-3854e34dcfbb",
   "metadata": {},
   "outputs": [],
   "source": []
  }
 ],
 "metadata": {
  "kernelspec": {
   "display_name": "Python 3 (ipykernel)",
   "language": "python",
   "name": "python3"
  },
  "language_info": {
   "codemirror_mode": {
    "name": "ipython",
    "version": 3
   },
   "file_extension": ".py",
   "mimetype": "text/x-python",
   "name": "python",
   "nbconvert_exporter": "python",
   "pygments_lexer": "ipython3",
   "version": "3.9.5"
  }
 },
 "nbformat": 4,
 "nbformat_minor": 5
}
