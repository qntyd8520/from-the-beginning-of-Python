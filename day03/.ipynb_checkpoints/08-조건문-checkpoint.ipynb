{
 "cells": [
  {
   "cell_type": "markdown",
   "id": "f8395ecb-8bb7-4bfb-a8f8-c0452ec1c359",
   "metadata": {},
   "source": [
    "### 조건문 (if문)"
   ]
  },
  {
   "cell_type": "markdown",
   "id": "bf660499-f020-45b0-867b-2d9b76893109",
   "metadata": {},
   "source": [
    "#### 조건문 이해하기"
   ]
  },
  {
   "cell_type": "code",
   "execution_count": 3,
   "id": "e3933fa8-a01b-4bcf-b499-8dbaa2eff19d",
   "metadata": {},
   "outputs": [
    {
     "name": "stdout",
     "output_type": "stream",
     "text": [
      "배고픈데\n",
      "식당에서\n",
      "밥을 먹자\n"
     ]
    }
   ],
   "source": [
    "# 일반구문\n",
    "print(\"배고픈데\")\n",
    "\n",
    "# 조건문 --> if 조건식:\n",
    "have_money = True\n",
    "#have_money = False\n",
    "\n",
    "if have_money:\n",
    "    # 조건문에 속하 명령어는 반드시 들여쓰기 적용해야함\n",
    "    # -> tab키 혹은 space x 1개 이상\n",
    "    # -> tab키와 space를 혼용해서 사용할 수 없다.\n",
    "    print(\"식당에서\")\n",
    "\n",
    "# 일반구문\n",
    "print(\"밥을 먹자\")"
   ]
  },
  {
   "cell_type": "markdown",
   "id": "6a65b399-762b-4226-9ea6-23caa49d248b",
   "metadata": {},
   "source": [
    "#### 숫자형 변수에 대한 조건 처리"
   ]
  },
  {
   "cell_type": "code",
   "execution_count": 7,
   "id": "b46cff9c-b454-4bc0-8693-b4f90d754d10",
   "metadata": {},
   "outputs": [
    {
     "name": "stdout",
     "output_type": "stream",
     "text": [
      "택시를 타고\n",
      "집에가자\n"
     ]
    }
   ],
   "source": [
    "# 숫자형 변수인 경우 0은 False 그외의 값은 True로 판별한다\n",
    "money = 10000\n",
    "# money = 0\n",
    "\n",
    "if money:\n",
    "    print(\"택시를 타고\")\n",
    "\n",
    "print(\"집에가자\")"
   ]
  },
  {
   "cell_type": "markdown",
   "id": "b7c37c35-3192-413a-8230-a1c4b083caf1",
   "metadata": {},
   "source": [
    "#### 문자열 변수에대한 조건처리"
   ]
  },
  {
   "cell_type": "code",
   "execution_count": 8,
   "id": "72ffc543-70fa-44db-93c7-b7169e5fdc0b",
   "metadata": {},
   "outputs": [
    {
     "name": "stdout",
     "output_type": "stream",
     "text": [
      "Python\n",
      "프로그래밍\n"
     ]
    }
   ],
   "source": [
    "# 빈문자열은 False 한글자라도 존재하는 문자열은 True\n",
    "name = \"Python\"\n",
    "# name = \"\"\n",
    "\n",
    "if name:\n",
    "    print(name)\n",
    "\n",
    "print(\"프로그래밍\")"
   ]
  },
  {
   "cell_type": "markdown",
   "id": "352341ac-2cd4-4457-98b0-69c8d94fea41",
   "metadata": {},
   "source": [
    "#### 리스트에 대한 조건식 판별"
   ]
  },
  {
   "cell_type": "code",
   "execution_count": 10,
   "id": "6c20fcc3-6beb-418b-afe0-2870172b8235",
   "metadata": {},
   "outputs": [
    {
     "name": "stdout",
     "output_type": "stream",
     "text": [
      "국어: 100, 영어: 80, 수학: 70\n",
      "성적처리\n"
     ]
    }
   ],
   "source": [
    "# 원소가 하나라도 포함되어있으면 True, 원소없이 빈 리스트라면 False\n",
    "grade = [100, 80, 70]\n",
    "# grade = []\n",
    "\n",
    "if grade:\n",
    "    msg = \"국어: {0}, 영어: {1}, 수학: {2}\"\n",
    "    print(msg.format(grade[0], grade[1], grade[2]))\n",
    "    \n",
    "print(\"성적처리\")"
   ]
  },
  {
   "cell_type": "markdown",
   "id": "ce5ff935-ba1f-496c-bf19-d3f16ace80dd",
   "metadata": {},
   "source": [
    "#### 비교식과 논리식에 대한 조건식 판별"
   ]
  },
  {
   "cell_type": "code",
   "execution_count": 11,
   "id": "fc5b5450-73db-41c5-8927-2045319c554c",
   "metadata": {},
   "outputs": [],
   "source": [
    "# 연산결과가 True라면 if문에 속한 블록이 실행된다.\n",
    "# 조건으로 사용할 변수\n",
    "money = 12000"
   ]
  },
  {
   "cell_type": "code",
   "execution_count": 12,
   "id": "c8b85082-ae77-4ff3-ae7e-cdb6dc64a81d",
   "metadata": {},
   "outputs": [
    {
     "name": "stdout",
     "output_type": "stream",
     "text": [
      "돈이 있다.\n"
     ]
    }
   ],
   "source": [
    "# -> money가 0이 아닌경우\n",
    "if money:\n",
    "    print(\"돈이 있다.\")"
   ]
  },
  {
   "cell_type": "code",
   "execution_count": 13,
   "id": "e33ef84e-1722-4194-955a-7d56fefc47e7",
   "metadata": {},
   "outputs": [
    {
     "name": "stdout",
     "output_type": "stream",
     "text": [
      "선물을 사고 7000원 남는다.\n"
     ]
    }
   ],
   "source": [
    "# money가 5000 이상인경우\n",
    "if money >= 5000:\n",
    "    print(\"선물을 사고 %d원 남는다.\" % (money-5000))"
   ]
  },
  {
   "cell_type": "code",
   "execution_count": 14,
   "id": "19dadf6b-6446-4fd6-b9e7-e80c7968154f",
   "metadata": {},
   "outputs": [
    {
     "name": "stdout",
     "output_type": "stream",
     "text": [
      "돈이 있지만 3000원 부족하다.\n"
     ]
    }
   ],
   "source": [
    "# money가 0이 아니고  15000 보다 작은경우\n",
    "# -> and 연산은 두 항이 모두 참인 경우만 전체가 참.\n",
    "# -> or연산은 두 항중 하나라도 참이면 전체가 참\n",
    "if money and money < 15000:\n",
    "    print(\"돈이 있지만 %d원 부족하다.\" % (15000-money))"
   ]
  },
  {
   "cell_type": "markdown",
   "id": "91b4e469-105b-4cd6-8188-4c0e65aed6db",
   "metadata": {},
   "source": [
    "#### is 연산자를 통한 조건식 구성"
   ]
  },
  {
   "cell_type": "code",
   "execution_count": 15,
   "id": "3f5c60a5-355c-4e3b-97d2-33f6fa84aac4",
   "metadata": {},
   "outputs": [
    {
     "name": "stdout",
     "output_type": "stream",
     "text": [
      "a와 b는 같다.\n"
     ]
    }
   ],
   "source": [
    "# 기본적으로는 == 연산자와 동일하게 동작한다.\n",
    "a = 123\n",
    "b = 123 \n",
    "c = 234\n",
    "\n",
    "if a is b:\n",
    "    print(\"a와 b는 같다.\")\n",
    "    \n",
    "if b is c:\n",
    "    print(\"b와 c는 같다.\")"
   ]
  },
  {
   "cell_type": "markdown",
   "id": "11a43e34-3340-43ed-8e79-0a91b8b91ae1",
   "metadata": {},
   "source": [
    "#### ==와 is의 차이"
   ]
  },
  {
   "cell_type": "code",
   "execution_count": 16,
   "id": "64128cf8-3977-49eb-b3e8-b416133f1a29",
   "metadata": {},
   "outputs": [
    {
     "name": "stdout",
     "output_type": "stream",
     "text": [
      "x와 z는 같다.\n"
     ]
    }
   ],
   "source": [
    "x = 1\n",
    "y = 1\n",
    "z = 1.0\n",
    "\n",
    "# 조건을 참으로 인식함\n",
    "if x == z:\n",
    "    print(\"x와 z는 같다.\")\n",
    "    \n",
    "# 조건을 거짓으로 인식함\n",
    "if y is z:\n",
    "    print(\"y와 z는 같다\")"
   ]
  },
  {
   "cell_type": "markdown",
   "id": "b6b729d8-66e5-48a1-9eab-fc345b34bd9e",
   "metadata": {},
   "source": [
    "#### is not 연산자"
   ]
  },
  {
   "cell_type": "code",
   "execution_count": 17,
   "id": "95458f99-4bbe-4312-a1ef-c030d54c0a00",
   "metadata": {},
   "outputs": [
    {
     "name": "stdout",
     "output_type": "stream",
     "text": [
      "a와 b는 다르다\n",
      "b와 c는 다르다\n"
     ]
    }
   ],
   "source": [
    "# 두 값이 서로 다르다면 참인 is not\n",
    "a = 123.0\n",
    "b = 123\n",
    "c = 234\n",
    "\n",
    "if a is not b:\n",
    "    print(\"a와 b는 다르다\")\n",
    "\n",
    "if b is not c:\n",
    "    print(\"b와 c는 다르다\")"
   ]
  },
  {
   "cell_type": "markdown",
   "id": "ae0f27c0-f5bb-4962-a405-a35babd445e1",
   "metadata": {},
   "source": [
    "#### 포함 여부를 검사하는 in 연산자"
   ]
  },
  {
   "cell_type": "code",
   "execution_count": 18,
   "id": "1928bbd7-9cf2-43b3-9833-fac3517fb3dd",
   "metadata": {},
   "outputs": [],
   "source": [
    "# 예제를 위한 변수 준비\n",
    "user1 = \"hello\"\n",
    "user2 = \"world\"\n",
    "member_list = ['hello', 'python', 'life']"
   ]
  },
  {
   "cell_type": "code",
   "execution_count": 19,
   "id": "d9da6741-bc5a-40c4-9fce-6e024230a92e",
   "metadata": {},
   "outputs": [
    {
     "name": "stdout",
     "output_type": "stream",
     "text": [
      "True\n"
     ]
    }
   ],
   "source": [
    "# 왼쪽의 변수가 오른쪽의 리스트에 속한 값이므로 참\n",
    "a = user1 in member_list\n",
    "print(a)"
   ]
  },
  {
   "cell_type": "code",
   "execution_count": 20,
   "id": "62a7abf5-5048-4b6d-a452-62d5e8a577d9",
   "metadata": {},
   "outputs": [
    {
     "name": "stdout",
     "output_type": "stream",
     "text": [
      "False\n"
     ]
    }
   ],
   "source": [
    "# 왼쪽의 변수가 오른쪽 리스트에 속해있지 않으므로 거짓\n",
    "b = user2 in member_list\n",
    "print(b)"
   ]
  },
  {
   "cell_type": "markdown",
   "id": "80afde57-8f9c-4d9c-8b18-473725437fa4",
   "metadata": {},
   "source": [
    "#### in 연산자를 활용한 조건문"
   ]
  },
  {
   "cell_type": "code",
   "execution_count": 21,
   "id": "26fcec27-138f-4bf4-9e5e-0af9a8d1ab7b",
   "metadata": {},
   "outputs": [
    {
     "name": "stdout",
     "output_type": "stream",
     "text": [
      "hello(은)는 이미 가입되어 있습니다.\n"
     ]
    }
   ],
   "source": [
    "# 조건이 참이므로 결과가 출력됨\n",
    "if user1 in member_list:\n",
    "    print(user1 + \"(은)는 이미 가입되어 있습니다.\")"
   ]
  },
  {
   "cell_type": "code",
   "execution_count": 23,
   "id": "1facceee-2be8-4fbf-a11b-0d29a3c6f40d",
   "metadata": {},
   "outputs": [],
   "source": [
    "# 조건이 거짓이므로 결과가 출력되지 않음\n",
    "if user2 in member_list:\n",
    "    print(user2 + \"(은)는 이미 가입되어 있습니다.\")"
   ]
  },
  {
   "cell_type": "markdown",
   "id": "eedb7dde-cbb4-4ab4-a5d4-bed3b96f734f",
   "metadata": {},
   "source": [
    "#### 포함되지 않았음을 검사하는 not in 연산자"
   ]
  },
  {
   "cell_type": "code",
   "execution_count": 25,
   "id": "a0cb2268-da9b-4d2e-9626-71e941b6c19b",
   "metadata": {},
   "outputs": [],
   "source": [
    "# 조건이 거짓이므로 결과가 출력되지 않음\n",
    "if user1 not in member_list:\n",
    "    print(user1 + \"(은)는 가입되어 있지 않습니다.\")"
   ]
  },
  {
   "cell_type": "code",
   "execution_count": 26,
   "id": "0cd1e564-caa7-4bfe-9702-965c7444bc80",
   "metadata": {},
   "outputs": [
    {
     "name": "stdout",
     "output_type": "stream",
     "text": [
      "world(은)는 가입되어 있지 않습니다.\n"
     ]
    }
   ],
   "source": [
    "# 조건이 참이므로 결과가 출력됨\n",
    "if user2 not in member_list:\n",
    "    print(user2 + \"(은)는 가입되어 있지 않습니다.\")"
   ]
  },
  {
   "cell_type": "markdown",
   "id": "2b54a2ac-911a-45d0-a19b-43293804c299",
   "metadata": {},
   "source": [
    "#### else 절 사용하기"
   ]
  },
  {
   "cell_type": "code",
   "execution_count": 28,
   "id": "b26a3de0-ae6c-4f1d-a008-edeb1bf3a011",
   "metadata": {},
   "outputs": [
    {
     "name": "stdout",
     "output_type": "stream",
     "text": [
      "성인이 아닙니다.\n"
     ]
    }
   ],
   "source": [
    "# 그렇지 않으면의 의미\n",
    "# 독립적으로 사용될수 없고 반드시 if문 뒤에만 위치\n",
    "age = 19\n",
    "if age > 19:\n",
    "    print(\"성인입니다.\")\n",
    "else:\n",
    "    print(\"성인이 아닙니다.\")"
   ]
  },
  {
   "cell_type": "markdown",
   "id": "6100f0f3-f10c-45f1-9dbb-541e39379938",
   "metadata": {},
   "source": [
    "#### else절의 활용 예시\n",
    "in 연산자는 왼쪽의 값이 오른쪽에 포함되어있으면 True이다."
   ]
  },
  {
   "cell_type": "code",
   "execution_count": 29,
   "id": "7b3af117-05b1-4dda-83e5-f1d657590976",
   "metadata": {},
   "outputs": [],
   "source": [
    "# 샘플데이터\n",
    "user1 = \"hello\"\n",
    "user2 = \"world\"\n",
    "member_list = [\"hello\", \"python\", \"life\"]"
   ]
  },
  {
   "cell_type": "code",
   "execution_count": 31,
   "id": "e58cc8ce-6da4-4f6f-8c0f-3c681411802f",
   "metadata": {},
   "outputs": [
    {
     "name": "stdout",
     "output_type": "stream",
     "text": [
      "hello는 이미 가입되어 있습니다.\n"
     ]
    }
   ],
   "source": [
    "if user1 in member_list:\n",
    "    # 조건이 참이므로 if절이 실행된다 .\n",
    "     print(\"%s는 이미 가입되어 있습니다.\" % user1)\n",
    "else:\n",
    "    # 조건이 거짓이 아니므로 else절은 실행되지 않는다.\n",
    "    print(\"%s는 이미 가입되어 있지 있습니다.\" % user1)"
   ]
  },
  {
   "cell_type": "code",
   "execution_count": 33,
   "id": "e3a134e2-78b6-48eb-a750-57c89aa7412a",
   "metadata": {},
   "outputs": [
    {
     "name": "stdout",
     "output_type": "stream",
     "text": [
      "world는 이미 가입되어 있지 있습니다.\n"
     ]
    }
   ],
   "source": [
    "if user2 in member_list:\n",
    "    # 조건이 거짓이 아니므로 if절 실행되지 않는다.\n",
    "     print(\"%s는 이미 가입되어 있습니다.\" % user2)\n",
    "else:\n",
    "    # 조건이 거짓이므로 else절이 실행된다\n",
    "    print(\"%s는 이미 가입되어 있지 있습니다.\" % user2)"
   ]
  },
  {
   "cell_type": "markdown",
   "id": "c5bfb88f-6781-4ed9-a343-ab8645ae41a2",
   "metadata": {},
   "source": [
    "#### elif를 활용한 다양한 경우의수 나열"
   ]
  },
  {
   "cell_type": "code",
   "execution_count": 35,
   "id": "1e6410cb-c0eb-4643-b3c7-248befc21b61",
   "metadata": {},
   "outputs": [
    {
     "name": "stdout",
     "output_type": "stream",
     "text": [
      "C학점\n"
     ]
    }
   ],
   "source": [
    "# elif는 if와 else사이에서 나열된 조건중 처음으로 만나는 \n",
    "# 참인 조건에 대한 블록을 수행하고 나머지 조건은 무시하고 종료한다.\n",
    "\n",
    "point = 72\n",
    "\n",
    "if point > 90:\n",
    "    print(\"A학점\")\n",
    "elif point > 80:\n",
    "    print(\"B학점\")\n",
    "elif point > 70:\n",
    "    print(\"C학점\")\n",
    "elif point > 60:\n",
    "    print(\"D학점\")\n",
    "else:\n",
    "    print(\"F학점\")"
   ]
  },
  {
   "cell_type": "code",
   "execution_count": null,
   "id": "7f7d6a3b-975b-4b38-a56e-8281e3d15f99",
   "metadata": {},
   "outputs": [],
   "source": []
  }
 ],
 "metadata": {
  "kernelspec": {
   "display_name": "Python 3 (ipykernel)",
   "language": "python",
   "name": "python3"
  },
  "language_info": {
   "codemirror_mode": {
    "name": "ipython",
    "version": 3
   },
   "file_extension": ".py",
   "mimetype": "text/x-python",
   "name": "python",
   "nbconvert_exporter": "python",
   "pygments_lexer": "ipython3",
   "version": "3.9.5"
  }
 },
 "nbformat": 4,
 "nbformat_minor": 5
}
