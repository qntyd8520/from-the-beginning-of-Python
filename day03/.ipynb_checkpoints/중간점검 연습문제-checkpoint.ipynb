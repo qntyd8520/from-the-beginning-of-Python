{
 "cells": [
  {
   "cell_type": "markdown",
   "id": "c22db8f8-ff16-44f5-b039-2f3befe160dc",
   "metadata": {},
   "source": [
    "### 문제 1"
   ]
  },
  {
   "cell_type": "code",
   "execution_count": 19,
   "id": "781524db-cfe8-4c7d-99c2-6426a4e99428",
   "metadata": {},
   "outputs": [
    {
     "name": "stdout",
     "output_type": "stream",
     "text": [
      "주식의 총액 : 23920000\n"
     ]
    }
   ],
   "source": [
    "daum = 89000\n",
    "naver = 751000\n",
    "\n",
    "money = daum * 100\n",
    "money += naver * 20\n",
    "\n",
    "print(\"주식의 총액 : %d\" % money)"
   ]
  },
  {
   "cell_type": "markdown",
   "id": "08b9b316-366f-401c-b06c-7dce0bd84258",
   "metadata": {},
   "source": [
    "### 문제 2"
   ]
  },
  {
   "cell_type": "code",
   "execution_count": 20,
   "id": "670d3b50-088b-4a08-be34-213c3424611b",
   "metadata": {},
   "outputs": [
    {
     "name": "stdout",
     "output_type": "stream",
     "text": [
      "주식 손실액 : 1947000\n"
     ]
    }
   ],
   "source": [
    "down_daum = daum * 0.95\n",
    "down_naver = naver * 0.90\n",
    "\n",
    "down_money = down_daum * 100\n",
    "down_money += down_naver * 20\n",
    "\n",
    "down_money = money - down_money\n",
    "\n",
    "print(\"주식 손실액 : %d\" % down_money)"
   ]
  },
  {
   "cell_type": "markdown",
   "id": "a93cf024-a1fd-4f67-8ba0-a46f93399055",
   "metadata": {},
   "source": [
    "### 문제 3"
   ]
  },
  {
   "cell_type": "code",
   "execution_count": 23,
   "id": "ab380739-2562-4f2f-931b-b342fdda1690",
   "metadata": {},
   "outputs": [
    {
     "name": "stdout",
     "output_type": "stream",
     "text": [
      "화씨 온도가 50 일때 섭씨 온도는 10 이다.\n"
     ]
    }
   ],
   "source": [
    "f = 50  # 화씨\n",
    "\n",
    "f_to_c_change = (f - 32) / 1.8 # 화씨에서 섭씨로 변환공식\n",
    "\n",
    "c = f_to_c_change # 섭씨 온도\n",
    "\n",
    "print(\"화씨 온도가 %d 일때 섭씨 온도는 %d 이다.\" % (f, c))"
   ]
  },
  {
   "cell_type": "markdown",
   "id": "9a99f7a3-9044-4b21-b1c2-8b44f1116584",
   "metadata": {},
   "source": [
    "### 문제 4"
   ]
  },
  {
   "cell_type": "code",
   "execution_count": 49,
   "id": "1d8c1fb5-9b72-4847-82b4-d858ec045ca6",
   "metadata": {},
   "outputs": [
    {
     "name": "stdout",
     "output_type": "stream",
     "text": [
      "KaKao Daum\n"
     ]
    }
   ],
   "source": [
    "s = \"Daum KaKao\"\n",
    "\n",
    "right = s[:4]\n",
    "left = s[5:]\n",
    "trim = s[4:5]\n",
    "\n",
    "s = left +trim + right\n",
    "print(s)"
   ]
  },
  {
   "cell_type": "markdown",
   "id": "4d71275e-706e-4257-88e5-d061f73a6523",
   "metadata": {},
   "source": [
    "### 문제 5"
   ]
  },
  {
   "cell_type": "code",
   "execution_count": 50,
   "id": "a1647a12-2310-433e-a190-c1be02869643",
   "metadata": {},
   "outputs": [
    {
     "name": "stdin",
     "output_type": "stream",
     "text": [
      "아무 내용이나 입력하세요 :  가나다\n"
     ]
    },
    {
     "name": "stdout",
     "output_type": "stream",
     "text": [
      "입력하신 내용 :  가나다\n"
     ]
    }
   ],
   "source": [
    "myinput = input(\"아무 내용이나 입력하세요 : \")\n",
    "print(\"입력하신 내용 : \" , myinput)"
   ]
  },
  {
   "cell_type": "code",
   "execution_count": 51,
   "id": "5aa01c3a-62fa-44e6-9e53-347344bb99ad",
   "metadata": {},
   "outputs": [
    {
     "name": "stdin",
     "output_type": "stream",
     "text": [
      "숫자를 입력하세요 :  200\n"
     ]
    },
    {
     "name": "stdout",
     "output_type": "stream",
     "text": [
      "입력값에 100을 더한 결과 :  300\n"
     ]
    }
   ],
   "source": [
    "myinput = input(\"숫자를 입력하세요 : \")\n",
    "mynumber = int(myinput)\n",
    "x = mynumber + 100\n",
    "print(\"입력값에 100을 더한 결과 : \" , x)"
   ]
  },
  {
   "cell_type": "code",
   "execution_count": 57,
   "id": "0d786a72-9d41-41d0-9b01-5831289ffa0b",
   "metadata": {},
   "outputs": [
    {
     "name": "stdin",
     "output_type": "stream",
     "text": [
      "현재 년도를 입력하세요 :  2021\n",
      "태어난 년도를 입력하세요 :  1996\n"
     ]
    },
    {
     "name": "stdout",
     "output_type": "stream",
     "text": [
      "당신은 성인입니다.\n"
     ]
    }
   ],
   "source": [
    "now_year = int(input(\"현재 년도를 입력하세요 : \"))\n",
    "birth_year = int(input(\"태어난 년도를 입력하세요 : \"))\n",
    "\n",
    "age = now_year - birth_year + 1\n",
    "\n",
    "if age >= 20:\n",
    "    print(\"당신은 성인입니다.\")\n",
    "else:\n",
    "    print(\"당신은 성인이 아닙니다.\")"
   ]
  },
  {
   "cell_type": "markdown",
   "id": "89516914-67c1-4101-825b-bb3f56d45526",
   "metadata": {},
   "source": [
    "### 문제 6"
   ]
  },
  {
   "cell_type": "code",
   "execution_count": 65,
   "id": "e9fe4b24-5435-4501-89da-bc211ecf3f91",
   "metadata": {},
   "outputs": [
    {
     "name": "stdin",
     "output_type": "stream",
     "text": [
      "당신의 키를 입력하세요(cm단위) :  171\n"
     ]
    },
    {
     "name": "stdout",
     "output_type": "stream",
     "text": [
      "당신의 키는 1m 71cm입니다.\n"
     ]
    }
   ],
   "source": [
    "height = int(input(\"당신의 키를 입력하세요(cm단위) : \"))\n",
    "\n",
    "cm = height - 100\n",
    "m = height - cm - 99\n",
    "\n",
    "print(\"당신의 키는 %dm %dcm입니다.\" % (m, cm))"
   ]
  },
  {
   "cell_type": "markdown",
   "id": "925b1f6c-8df1-465c-bfe6-34f7215e8ea6",
   "metadata": {},
   "source": [
    "### 문제 7"
   ]
  },
  {
   "cell_type": "code",
   "execution_count": 79,
   "id": "e73ae028-ee63-4546-9882-848f8e84220f",
   "metadata": {},
   "outputs": [
    {
     "name": "stdout",
     "output_type": "stream",
     "text": [
      "폴더의 위치 : C:\\myphot\n",
      "파일이름 : helloworld\n",
      "확장자 : jpg\n"
     ]
    }
   ],
   "source": [
    "image_url = \"C:\\myphoto\\helloworld.jpg\"\n",
    "\n",
    "folder = image_url[:9]\n",
    "filename = image_url[11:-4]\n",
    "ext = image_url[-3:]\n",
    "\n",
    "print(\"폴더의 위치 :\", folder)\n",
    "print(\"파일이름 :\", filename)\n",
    "print(\"확장자 :\", ext)"
   ]
  },
  {
   "cell_type": "markdown",
   "id": "51b32bd5-351f-4011-86c9-37d5c7f83b86",
   "metadata": {},
   "source": [
    "### 문제 8"
   ]
  },
  {
   "cell_type": "code",
   "execution_count": 85,
   "id": "70957fc1-c106-4d8a-98f4-e3e7fddcf2e8",
   "metadata": {},
   "outputs": [
    {
     "name": "stdin",
     "output_type": "stream",
     "text": [
      "숫자를 입력해주세요 :  11\n"
     ]
    },
    {
     "name": "stdout",
     "output_type": "stream",
     "text": [
      "홀수 입니다.\n"
     ]
    }
   ],
   "source": [
    "number = int(input(\"숫자를 입력해주세요 : \"))\n",
    "\n",
    "if number % 2 == 0:\n",
    "    print(\"짝수 입니다.\")\n",
    "else:\n",
    "    print(\"홀수 입니다.\")"
   ]
  },
  {
   "cell_type": "markdown",
   "id": "beff6879-81bb-41f4-a926-47ba78ad64db",
   "metadata": {},
   "source": [
    "### 문제 9"
   ]
  },
  {
   "cell_type": "code",
   "execution_count": 87,
   "id": "07706ee9-82a3-4161-a7f0-7a9aa67f620a",
   "metadata": {},
   "outputs": [
    {
     "name": "stdin",
     "output_type": "stream",
     "text": [
      "반복할 숫자를 입력해 주세요 : 2\n"
     ]
    },
    {
     "name": "stdout",
     "output_type": "stream",
     "text": [
      "HelloPythonHelloPython\n"
     ]
    }
   ],
   "source": [
    "number = int(input(\"반복할 숫자를 입력해 주세요 :\"))\n",
    "\n",
    "HelloPython = \"HelloPython\"\n",
    "print(HelloPython * number)"
   ]
  },
  {
   "cell_type": "code",
   "execution_count": null,
   "id": "4ff2fc72-8417-44de-9ac4-29d138a2c51d",
   "metadata": {},
   "outputs": [],
   "source": []
  }
 ],
 "metadata": {
  "kernelspec": {
   "display_name": "Python 3 (ipykernel)",
   "language": "python",
   "name": "python3"
  },
  "language_info": {
   "codemirror_mode": {
    "name": "ipython",
    "version": 3
   },
   "file_extension": ".py",
   "mimetype": "text/x-python",
   "name": "python",
   "nbconvert_exporter": "python",
   "pygments_lexer": "ipython3",
   "version": "3.9.5"
  }
 },
 "nbformat": 4,
 "nbformat_minor": 5
}
