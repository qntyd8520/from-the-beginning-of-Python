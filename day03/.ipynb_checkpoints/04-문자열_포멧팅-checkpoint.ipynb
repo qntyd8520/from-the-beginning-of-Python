{
 "cells": [
  {
   "cell_type": "markdown",
   "id": "9ecb299b-60c9-4406-a43d-bd1c413832d0",
   "metadata": {},
   "source": [
    "#### 정수값과 문자열을 표현하는 형식문자 %d, %s 사용하기"
   ]
  },
  {
   "cell_type": "code",
   "execution_count": 2,
   "id": "4d5003d7-f1ad-4c01-8122-1d30dc13d06f",
   "metadata": {},
   "outputs": [
    {
     "name": "stdout",
     "output_type": "stream",
     "text": [
      "나는 10000원을 갖고 있다.\n"
     ]
    }
   ],
   "source": [
    "# \"%\"연산자 뒤의 값이 \"%d를 치환한다.\"\n",
    "str1 = \"나는 %d원을 갖고 있다.\" % 10000\n",
    "print(str1)"
   ]
  },
  {
   "cell_type": "code",
   "execution_count": 3,
   "id": "d5b873c9-13f0-4ada-b82e-6a2562097860",
   "metadata": {},
   "outputs": [
    {
     "name": "stdout",
     "output_type": "stream",
     "text": [
      "정모 날짜는 2018년 1월 1일 입니다.\n",
      "약속 날짜는 2018년 3월 5일 입니다.\n"
     ]
    }
   ],
   "source": [
    "# 포멧문자를 포함한 문자만 별도의 변수로 지정\n",
    "str2 = \"%s 날짜는 %d년 %d월 %d일 입니다.\"\n",
    "\n",
    "# 여러 포멧문자를 치환할 경우 값들을 괄호로 묶는다.\n",
    "msg1 = str2 % (\"정모\", 2018, 1, 1)\n",
    "print(msg1)\n",
    "\n",
    "msg2 = str2 % (\"약속\", 2018, 3, 5)\n",
    "print(msg2)"
   ]
  },
  {
   "cell_type": "markdown",
   "id": "e6c3cf71-490c-4aaa-8ddb-09c157250e93",
   "metadata": {},
   "source": [
    "#### 정수의 자리수 표현과 정렬"
   ]
  },
  {
   "cell_type": "code",
   "execution_count": 4,
   "id": "59818098-c0c1-473e-9ca6-1e1f72660abf",
   "metadata": {},
   "outputs": [
    {
     "name": "stdout",
     "output_type": "stream",
     "text": [
      "     12000원을 입금했습니다.\n"
     ]
    }
   ],
   "source": [
    "# 자리수 지정하기 -> 오른쪽 정렬, 빈자리는 공백으로 지정\n",
    "print(\"%10d원을 입금했습니다.\" % 12000)"
   ]
  },
  {
   "cell_type": "code",
   "execution_count": 6,
   "id": "43531d6d-3df4-4e44-8eb7-375b51964f47",
   "metadata": {},
   "outputs": [
    {
     "name": "stdout",
     "output_type": "stream",
     "text": [
      "0000012000원을 입금했습니다.\n"
     ]
    }
   ],
   "source": [
    "# 자리수 지정하기 -> 오른쪽 정렬, 빈자리는 0으로 지정\n",
    "print(\"%010d원을 입금했습니다.\" % 12000) "
   ]
  },
  {
   "cell_type": "code",
   "execution_count": 7,
   "id": "6ba72815-7cf9-4b4d-bb7a-ceafec68e45e",
   "metadata": {},
   "outputs": [
    {
     "name": "stdout",
     "output_type": "stream",
     "text": [
      "12000     원을 입금했습니다.\n"
     ]
    }
   ],
   "source": [
    "# 자리수 지정하기 -> 왼쪽 정렬, 빈자리는 공백으로 지정 (0불가)\n",
    "print(\"%-10d원을 입금했습니다.\" % 12000) "
   ]
  },
  {
   "cell_type": "markdown",
   "id": "9cb02dac-705d-4e67-968b-9182e43b3804",
   "metadata": {},
   "source": [
    "#### 문자열의 자리수 표현과 정렬"
   ]
  },
  {
   "cell_type": "code",
   "execution_count": 8,
   "id": "d640fac6-842f-458d-a19f-821d6583299c",
   "metadata": {},
   "outputs": [
    {
     "name": "stdout",
     "output_type": "stream",
     "text": [
      "      대한민국에 살고 있습니다.\n",
      "대한민국      에 살고 있습니다.\n"
     ]
    }
   ],
   "source": [
    "# 문자열의 자리수 지정하기 -> 빈자리는 공백지정만 가능함.\n",
    "print(\"%10s에 살고 있습니다.\" % \"대한민국\")\n",
    "print(\"%-10s에 살고 있습니다.\" % \"대한민국\")"
   ]
  },
  {
   "cell_type": "markdown",
   "id": "d50b36f3-f232-4707-bb49-c9b09f3817d1",
   "metadata": {},
   "source": [
    "#### 소수점 표현하기"
   ]
  },
  {
   "cell_type": "code",
   "execution_count": 9,
   "id": "a9249607-c6d8-4887-b29b-16119fd02d3d",
   "metadata": {},
   "outputs": [
    {
     "name": "stdout",
     "output_type": "stream",
     "text": [
      "123.456789원 입니다.\n"
     ]
    }
   ],
   "source": [
    "# 실수값 표현하기\n",
    "money = 123.456789\n",
    "print(\"%f원 입니다.\" % money)"
   ]
  },
  {
   "cell_type": "code",
   "execution_count": 11,
   "id": "9a1a8e12-b492-40b9-8cba-9452b315ae0f",
   "metadata": {},
   "outputs": [
    {
     "name": "stdout",
     "output_type": "stream",
     "text": [
      "123.457원 입니다.\n"
     ]
    }
   ],
   "source": [
    "#소수점 3자리까지 표현하기 -> 소수점 4째자리에서 반올림.\n",
    "print(\"%0.3f원 입니다.\" % money)"
   ]
  },
  {
   "cell_type": "markdown",
   "id": "e54728f7-4eb2-42e8-b430-2d6a3b12d30f",
   "metadata": {},
   "source": [
    "#### 실수값 정렬하기"
   ]
  },
  {
   "cell_type": "code",
   "execution_count": 12,
   "id": "534f1b02-0f5b-4839-958c-72263b34fda7",
   "metadata": {},
   "outputs": [
    {
     "name": "stdout",
     "output_type": "stream",
     "text": [
      "   123.457원 입니다.\n",
      "123.457   원 입니다.\n"
     ]
    }
   ],
   "source": [
    "# 소수점 3자리까지 표현하되 전체 글자수는 10 글자 (빈자리 공백)\n",
    "# 소수점이 자리수에 표함됨\n",
    "# -> 오른쪽 정렬\n",
    "print(\"%10.3f원 입니다.\" % money)\n",
    "\n",
    "# -> 왼쪽 정렬\n",
    "print(\"%-10.3f원 입니다.\" % money)"
   ]
  },
  {
   "cell_type": "code",
   "execution_count": 13,
   "id": "8855506d-f97b-4f05-8acd-0ab5401b61e2",
   "metadata": {},
   "outputs": [
    {
     "name": "stdout",
     "output_type": "stream",
     "text": [
      "000123.457원 입니다.\n"
     ]
    }
   ],
   "source": [
    "# 소수점 3자리까지 표현하되 전체 글자수는 10글자 (빈자리 0)\n",
    "# -> 빈자리를 0으로 채우는 경우는 오른쪽 정렬만 가능함.\n",
    "print(\"%010.3f원 입니다.\" % money)"
   ]
  },
  {
   "cell_type": "markdown",
   "id": "0ddb43e5-92d4-42bf-a377-3780764aebc8",
   "metadata": {},
   "source": [
    "#### 인데스 번호를 사용한 포메팅"
   ]
  },
  {
   "cell_type": "code",
   "execution_count": 14,
   "id": "6822bd94-95a5-4434-9192-ab7f0db49a87",
   "metadata": {},
   "outputs": [
    {
     "name": "stdout",
     "output_type": "stream",
     "text": [
      "I eat 3 apples\n"
     ]
    }
   ],
   "source": [
    "# 0번째 위치에 format()함수에 전달될 0번째 값을 대입\n",
    "msg1 = \"I eat {0} apples\"\n",
    "print(msg1.format(3))"
   ]
  },
  {
   "cell_type": "code",
   "execution_count": 15,
   "id": "41f9d7be-97ed-4b02-ad9f-d5d46cc4eb4a",
   "metadata": {},
   "outputs": [
    {
     "name": "stdout",
     "output_type": "stream",
     "text": [
      "개강일은 2018년 8월 12일 입니다.\n"
     ]
    }
   ],
   "source": [
    "# 여러 개의 값을 혼용하기\n",
    "msg2 = \"{0}은 {1}년 {2}월 {3}일 입니다.\"\n",
    "print(msg2.format(\"개강일\", 2018, 8, 12))"
   ]
  },
  {
   "cell_type": "markdown",
   "id": "5fc4d07d-caf7-48be-b2b6-f1387218ea0d",
   "metadata": {},
   "source": [
    "#### 인덱스 이름을 사용한 포메팅"
   ]
  },
  {
   "cell_type": "code",
   "execution_count": 17,
   "id": "fb363de1-e977-45a7-b7ed-1e9ca9b33f97",
   "metadata": {},
   "outputs": [
    {
     "name": "stdout",
     "output_type": "stream",
     "text": [
      "종강일은 2021년 10월 20일 입니다.\n"
     ]
    }
   ],
   "source": [
    "# 이름으로 넣기\n",
    "msg3 = \"{name}은 {yy}년 {mm}월 {dd}일 입니다.\"\n",
    "print(msg3.format(name=\"종강일\", yy=2021, mm=10, dd=20))"
   ]
  },
  {
   "cell_type": "code",
   "execution_count": 19,
   "id": "8183a81a-f4af-46fc-8724-5e85c77aabb4",
   "metadata": {},
   "outputs": [
    {
     "name": "stdout",
     "output_type": "stream",
     "text": [
      "생일은 2021년 1월 31일 입니다.\n"
     ]
    }
   ],
   "source": [
    "# 혼합사용 -> 숫자형식의 치환자가 먼저 위치해야 한다.\n",
    "msg4 = \"{0}은 {yy}년 {mm}월 {dd}일 입니다.\"\n",
    "print(msg4.format(\"생일\", yy=2021, mm=1, dd=31))"
   ]
  },
  {
   "cell_type": "markdown",
   "id": "31c11cd4-9f1c-43f3-a63e-7635b65da80f",
   "metadata": {},
   "source": [
    "#### 출력값 정렬하기"
   ]
  },
  {
   "cell_type": "code",
   "execution_count": 20,
   "id": "b4b60687-35f6-4b74-a2cc-991421041f73",
   "metadata": {},
   "outputs": [
    {
     "name": "stdout",
     "output_type": "stream",
     "text": [
      "   Hi!!Python,   Welcome~Python\n"
     ]
    }
   ],
   "source": [
    "# 5글자 오른쪽 정렬 -> \"%5s\" 와 동일\n",
    "msg5 = \"{0:>5}!!Python, {1:>9}~Python\"\n",
    "print(msg5.format(\"Hi\", \"Welcome\"))"
   ]
  },
  {
   "cell_type": "code",
   "execution_count": 21,
   "id": "61ad9c05-9767-4afe-8fd4-d6aae8a327c9",
   "metadata": {},
   "outputs": [
    {
     "name": "stdout",
     "output_type": "stream",
     "text": [
      "Hi   !!Python, Welcome  ~Python\n"
     ]
    }
   ],
   "source": [
    "# 5글자 왼쪽 정렬 -> \"%-5s\" 와 동일\n",
    "msg6 = \"{0:<5}!!Python, {1:<9}~Python\"\n",
    "print(msg6.format(\"Hi\", \"Welcome\"))"
   ]
  },
  {
   "cell_type": "code",
   "execution_count": 22,
   "id": "de94fa9f-cbff-4db7-98a1-024df6770b45",
   "metadata": {},
   "outputs": [
    {
     "name": "stdout",
     "output_type": "stream",
     "text": [
      " Hi  !!Python,  Welcome ~Python\n"
     ]
    }
   ],
   "source": [
    "# 가운데 정렬\n",
    "msg7 = \"{0:^5}!!Python, {1:^9}~Python\"\n",
    "print(msg7.format(\"Hi\", \"Welcome\"))"
   ]
  },
  {
   "cell_type": "markdown",
   "id": "3ca489e1-e4ed-4e01-97a9-f27ecbbe0832",
   "metadata": {},
   "source": [
    "#### 공백을 특정 글자로 채우기"
   ]
  },
  {
   "cell_type": "code",
   "execution_count": 23,
   "id": "45163c4b-e74e-4b6f-bf87-78510629eef0",
   "metadata": {},
   "outputs": [
    {
     "name": "stdout",
     "output_type": "stream",
     "text": [
      "Hi~~~!!Python!! **Hello**!!Python\n"
     ]
    }
   ],
   "source": [
    "msg8 = \"{0:~<5}!!Python!! {1:*^9}!!Python\"\n",
    "print(msg8.format(\"Hi\", \"Hello\"))"
   ]
  },
  {
   "cell_type": "markdown",
   "id": "5714fa98-3bd3-4206-9846-2c30558365af",
   "metadata": {},
   "source": [
    "#### 중괄호 출력하기"
   ]
  },
  {
   "cell_type": "code",
   "execution_count": 24,
   "id": "e70cab30-1c31-4bc8-97ec-ed3bebaa2a11",
   "metadata": {},
   "outputs": [
    {
     "name": "stdout",
     "output_type": "stream",
     "text": [
      "{Python}은 쉽다\n",
      "{Python}은 좋다\n"
     ]
    }
   ],
   "source": [
    "# 문자열에 {} 를 포함시키기 --> 두겹으로 사용\n",
    "msg12 = \"{{Python}}은 {0}다\"\n",
    "print(msg12.format(\"쉽\"))\n",
    "print(msg12.format(\"좋\"))"
   ]
  },
  {
   "cell_type": "markdown",
   "id": "ec670a2d-1efa-4bdf-9751-6f6fa0055070",
   "metadata": {},
   "source": [
    "#### 소수점 표현하기"
   ]
  },
  {
   "cell_type": "code",
   "execution_count": 25,
   "id": "34b8cde4-983b-42dd-abe2-2c2697c654ad",
   "metadata": {},
   "outputs": [
    {
     "name": "stdout",
     "output_type": "stream",
     "text": [
      "123.4568\n"
     ]
    }
   ],
   "source": [
    "# 소수점 4번째자리까지 표현하기 -> 5쨰리에서 반올림\n",
    "msg9 = \"{0:0.4f}\"\n",
    "print(msg9.format(123.456789))"
   ]
  },
  {
   "cell_type": "code",
   "execution_count": 26,
   "id": "56622cff-193b-4374-92c2-94cf2cdf57f0",
   "metadata": {},
   "outputs": [
    {
     "name": "stdout",
     "output_type": "stream",
     "text": [
      "  123.4568\n"
     ]
    }
   ],
   "source": [
    "# 전체 10글자, 소수점 4짜리까지 표현하기 -> 5짜리에서 반올림\n",
    "msg10 = \"{0:10.4f}\"\n",
    "print(msg10.format(123.456789))"
   ]
  },
  {
   "cell_type": "code",
   "execution_count": 28,
   "id": "65cf4f64-1cda-45bc-94bd-d744fefe8f6a",
   "metadata": {},
   "outputs": [
    {
     "name": "stdout",
     "output_type": "stream",
     "text": [
      "00123.4568\n"
     ]
    }
   ],
   "source": [
    "# 전체 10글자, 공백은 0, 소수점 4째자리까지 표현하기\n",
    "# -> 5째자리에서 반올림\n",
    "msg11 = \"{0:010.4f}\"\n",
    "print(msg11.format(123.456789))"
   ]
  },
  {
   "cell_type": "code",
   "execution_count": null,
   "id": "80f56fa5-b477-49bc-ac5d-bda906c7c860",
   "metadata": {},
   "outputs": [],
   "source": []
  }
 ],
 "metadata": {
  "kernelspec": {
   "display_name": "Python 3 (ipykernel)",
   "language": "python",
   "name": "python3"
  },
  "language_info": {
   "codemirror_mode": {
    "name": "ipython",
    "version": 3
   },
   "file_extension": ".py",
   "mimetype": "text/x-python",
   "name": "python",
   "nbconvert_exporter": "python",
   "pygments_lexer": "ipython3",
   "version": "3.9.5"
  }
 },
 "nbformat": 4,
 "nbformat_minor": 5
}
