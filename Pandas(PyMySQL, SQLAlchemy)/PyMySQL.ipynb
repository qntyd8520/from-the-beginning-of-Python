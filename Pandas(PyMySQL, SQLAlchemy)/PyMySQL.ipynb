{
 "cells": [
  {
   "cell_type": "code",
   "execution_count": 1,
   "id": "28635e3f-64fd-48a5-9ee5-3c03d3e2b113",
   "metadata": {},
   "outputs": [],
   "source": [
    "import pymysql\n",
    "import pandas as pd"
   ]
  },
  {
   "cell_type": "markdown",
   "id": "e9a6eba5-67e7-4a39-b61e-d436eb94784a",
   "metadata": {},
   "source": [
    "#### 데이터베이스 접속하기"
   ]
  },
  {
   "cell_type": "code",
   "execution_count": 2,
   "id": "141ffaa5-3bee-4a7e-9146-e3ac90ffde0c",
   "metadata": {},
   "outputs": [],
   "source": [
    "dbcon = pymysql.connect(host=\"localhost\", \n",
    "                        port=3306, \n",
    "                        user=\"root\", \n",
    "                        password=\"root\", \n",
    "                        db=\"myschool\", charset=\"utf8\")"
   ]
  },
  {
   "cell_type": "markdown",
   "id": "ea78b17b-303d-45cc-82f1-217bad9922d7",
   "metadata": {},
   "source": [
    "#### 커서객체 생성\n",
    "SQL을 실행하는 기능을 갖는 커서 객체를 생성하고, \n",
    "커서 객체의 execute() 함수에 사용하여 SQL문을 파라미터로 전달한다."
   ]
  },
  {
   "cell_type": "code",
   "execution_count": 3,
   "id": "1fa7c6e4-a782-4932-9daf-3b9a2bf0353d",
   "metadata": {},
   "outputs": [],
   "source": [
    "cursor = dbcon.cursor()"
   ]
  },
  {
   "cell_type": "markdown",
   "id": "df3b6e44-9074-44c5-b0d2-b3dd33d50920",
   "metadata": {},
   "source": [
    "#### 데이터 저장하기"
   ]
  },
  {
   "cell_type": "code",
   "execution_count": 4,
   "id": "75943e97-62a0-4ef8-91cb-e6de86631eb1",
   "metadata": {},
   "outputs": [
    {
     "name": "stdout",
     "output_type": "stream",
     "text": [
      "생성된 학과 번호 : 341\n"
     ]
    }
   ],
   "source": [
    "# 1401호의 Python 학과 데이터 저장하기\n",
    "\n",
    "# 저장할 데이터 설정\n",
    "dname = 'python'\n",
    "loc = '1401호'\n",
    "\n",
    "# 저장을 위한 SQL 실행(문자열 데이터도 홑따옴표 사용 안함)\n",
    "sql = \"INSERT INTO department (dname, loc) VALUES (%s, %s)\"\n",
    "cursor.execute(sql, (dname, loc))\n",
    "\n",
    "# insert시에 생성된 Primary key 얻기\n",
    "# -> 반드시 commit전에 조회해야 한다. (UPDATE, DELETE는 불필요)\n",
    "new_deptno = dbcon.insert_id()\n",
    "print(\"생성된 학과 번호 : %d\" % new_deptno)\n",
    "\n",
    "# 변경사항 저장하기\n",
    "dbcon.commit()"
   ]
  },
  {
   "cell_type": "markdown",
   "id": "75bd8740-103a-4e8e-b222-53a8b685f821",
   "metadata": {},
   "source": [
    "#### 데이터 수정하기"
   ]
  },
  {
   "cell_type": "code",
   "execution_count": 5,
   "id": "8e229f14-f739-4003-bddb-87162a4e221d",
   "metadata": {},
   "outputs": [
    {
     "name": "stdout",
     "output_type": "stream",
     "text": [
      "수정된 데이터 수: 1\n"
     ]
    }
   ],
   "source": [
    "# 1401호 Python학과의 데이터 수정하기\n",
    "\n",
    "# 수정할 데이터 설정\n",
    "dname = '빅데이터'\n",
    "loc = '공학관'\n",
    "\n",
    "# 수정을 위한 SQL 실행(문자열 데이터도 홑따옴표 사용 안함)\n",
    "sql = \"UPDATE department SET dname=%s, loc=%s WHERE deptno=%s\"\n",
    "edit_count = cursor.execute(sql, (dname, loc, new_deptno))\n",
    "\n",
    "print(\"수정된 데이터 수: %d\" % edit_count)\n",
    "\n",
    "# 변경사항 저장하기\n",
    "dbcon.commit()"
   ]
  },
  {
   "cell_type": "markdown",
   "id": "368972cd-b3da-4e5b-a780-31060e9bbb10",
   "metadata": {},
   "source": [
    "#### 데이터 삭제하기"
   ]
  },
  {
   "cell_type": "code",
   "execution_count": 6,
   "id": "a9855750-a874-45d1-85ff-f80e440b8515",
   "metadata": {},
   "outputs": [
    {
     "name": "stdout",
     "output_type": "stream",
     "text": [
      "삭제된 데이터 수 : 1\n"
     ]
    }
   ],
   "source": [
    "# 1401호 Python 학과의 데이터 삭제하기\n",
    "\n",
    "# 삭제를 위한 SQL 실행\n",
    "sql = \"DELETE FROM department WHERE deptno=%s\"\n",
    "delete_count = cursor.execute(sql, (new_deptno))\n",
    "print(\"삭제된 데이터 수 : %d\" % delete_count)\n",
    "\n",
    "# 변경사항 저장하기\n",
    "dbcon.commit()"
   ]
  },
  {
   "cell_type": "markdown",
   "id": "27b3f3e0-4813-43da-b0e5-4697efecc944",
   "metadata": {},
   "source": [
    "#### 다중행 데이터 조회하기"
   ]
  },
  {
   "cell_type": "code",
   "execution_count": 7,
   "id": "2faec9c5-cc25-4fb6-8b03-d755f52eeed6",
   "metadata": {},
   "outputs": [
    {
     "data": {
      "text/plain": [
       "((101, '인터넷통신학과', '7호관'),\n",
       " (102, '멀티미디어학과', '2호관'),\n",
       " (103, '인터넷정보과', '5호관'),\n",
       " (201, '정보통신학과', '통신관'),\n",
       " (202, '기계공학과', '4호관'),\n",
       " (205, 'MySQL학과', '5호관'),\n",
       " (305, '정보통신과', '공학관'),\n",
       " (328, '신규학과', None),\n",
       " (329, '신규학과', None),\n",
       " (330, '신규학과', None),\n",
       " (331, '신규학과', None),\n",
       " (332, '신규학과', None),\n",
       " (334, '신규학과', None),\n",
       " (335, '기계공학과', '공학관'),\n",
       " (336, '스프링학과', '2강의실'),\n",
       " (337, '스프링학과', '2강의실'),\n",
       " (338, '신규학과', None),\n",
       " (339, 'python', '1401호'))"
      ]
     },
     "execution_count": 7,
     "metadata": {},
     "output_type": "execute_result"
    }
   ],
   "source": [
    "# 전체 학과 목록 조회하기\n",
    "# SQL 실행 후 cursor 객체의 fetchall() 함수를 호출하면 \n",
    "# 조회 결과를 2차원 튜플 타입으로 리턴받을 수 있다.\n",
    "\n",
    "# e다중행 조회를 위한 SQL 실행\n",
    "sql = \"SELECT deptno, dname, loc FROM department\"\n",
    "cursor.execute(sql)\n",
    "\n",
    "# 조회 결과 전체를 딕셔너리를 원소로 갖는 리스트로 변환\n",
    "result = cursor.fetchall()\n",
    "result"
   ]
  },
  {
   "cell_type": "markdown",
   "id": "b8b7501d-9c15-46f2-9062-892c52e113b3",
   "metadata": {},
   "source": [
    "#### 데이터 조회 결과를 딕셔너리 형태로 반환받기"
   ]
  },
  {
   "cell_type": "code",
   "execution_count": 8,
   "id": "39035a3f-4bff-4ed9-b0d6-fce017661327",
   "metadata": {},
   "outputs": [],
   "source": [
    "# 딕셔너리를 반환받기 위한 커서 객체 생성하기\n",
    "cursor = dbcon.cursor(pymysql.cursors.DictCursor)"
   ]
  },
  {
   "cell_type": "markdown",
   "id": "c7df0cdc-f5f8-4dc8-aeaa-f7b6eda6663c",
   "metadata": {},
   "source": [
    "#### 단일행 데이터 조회"
   ]
  },
  {
   "cell_type": "code",
   "execution_count": 10,
   "id": "a9fccac1-29c7-4ac4-be95-c5e2156fccfe",
   "metadata": {},
   "outputs": [
    {
     "data": {
      "text/plain": [
       "{'학과번호': 202, '학과이름': '기계공학과', '학과위치': '4호관'}"
      ]
     },
     "execution_count": 10,
     "metadata": {},
     "output_type": "execute_result"
    }
   ],
   "source": [
    "# DictCursor는 SELECT 조회 결과에 대해 컬럼이름이 KEY가 되고\n",
    "# 데이터가 value가 되는 딕셔너리를 반환한다.\n",
    "\n",
    "# 단일행 조회를 위한 SQL구문 형식 설정\n",
    "# -> 변수로 치환할 부분은 무조건 %s사용 (숫자값이더라도 %s)\n",
    "sql = \"\"\"SELECT deptno AS `학과번호`, dname AS `학과이름`, loc AS `학과위치` \n",
    "       FROM department WHERE deptno=%s\"\"\"\n",
    "\n",
    "# %d에 101이라는 값을 적용하여 SQL 실행\n",
    "# -> sql구문에 치환문자가 없을 경우 두 번째 파라미터는 생략 가능함.\n",
    "cursor.execute(sql, (202))\n",
    "\n",
    "# 조회 결과 한 줄을 딕셔너리로 변환\n",
    "result = cursor.fetchone()\n",
    "result"
   ]
  },
  {
   "cell_type": "markdown",
   "id": "24d79031-a198-4e3d-b946-9e771439c78e",
   "metadata": {},
   "source": [
    "#### 다중행 데이터 조회"
   ]
  },
  {
   "cell_type": "code",
   "execution_count": 11,
   "id": "ab909a85-9509-4409-8c28-a1eb8fecca51",
   "metadata": {},
   "outputs": [
    {
     "data": {
      "text/plain": [
       "[{'deptno': 101, 'dname': '인터넷통신학과', 'loc': '7호관'},\n",
       " {'deptno': 102, 'dname': '멀티미디어학과', 'loc': '2호관'},\n",
       " {'deptno': 103, 'dname': '인터넷정보과', 'loc': '5호관'},\n",
       " {'deptno': 201, 'dname': '정보통신학과', 'loc': '통신관'},\n",
       " {'deptno': 202, 'dname': '기계공학과', 'loc': '4호관'},\n",
       " {'deptno': 205, 'dname': 'MySQL학과', 'loc': '5호관'},\n",
       " {'deptno': 305, 'dname': '정보통신과', 'loc': '공학관'},\n",
       " {'deptno': 328, 'dname': '신규학과', 'loc': None},\n",
       " {'deptno': 329, 'dname': '신규학과', 'loc': None},\n",
       " {'deptno': 330, 'dname': '신규학과', 'loc': None},\n",
       " {'deptno': 331, 'dname': '신규학과', 'loc': None},\n",
       " {'deptno': 332, 'dname': '신규학과', 'loc': None},\n",
       " {'deptno': 334, 'dname': '신규학과', 'loc': None},\n",
       " {'deptno': 335, 'dname': '기계공학과', 'loc': '공학관'},\n",
       " {'deptno': 336, 'dname': '스프링학과', 'loc': '2강의실'},\n",
       " {'deptno': 337, 'dname': '스프링학과', 'loc': '2강의실'},\n",
       " {'deptno': 338, 'dname': '신규학과', 'loc': None},\n",
       " {'deptno': 339, 'dname': 'python', 'loc': '1401호'}]"
      ]
     },
     "execution_count": 11,
     "metadata": {},
     "output_type": "execute_result"
    }
   ],
   "source": [
    "# 다중행 조회에 대한 결과는 딕셔너리를 원소로갖는 리스트를 반환한다.\n",
    "\n",
    "# 다중행 조회를 위한 SQL 실행\n",
    "sql = \"SELECT deptno, dname, loc FROM department\"\n",
    "cursor.execute(sql)\n",
    "\n",
    "# 조회 결과 전체를 딕셔너리를 원소로 갖는 리스트로 변환\n",
    "result = cursor.fetchall()\n",
    "result"
   ]
  },
  {
   "cell_type": "markdown",
   "id": "5554586b-46f4-46f7-9f5a-da4a25adf212",
   "metadata": {},
   "source": [
    "#### 데이터 조회 결과를 데이터프레임으로 변환하기"
   ]
  },
  {
   "cell_type": "code",
   "execution_count": 13,
   "id": "8e204409-56f0-48f9-9b43-6f5e32246bf1",
   "metadata": {},
   "outputs": [
    {
     "data": {
      "text/html": [
       "<div>\n",
       "<style scoped>\n",
       "    .dataframe tbody tr th:only-of-type {\n",
       "        vertical-align: middle;\n",
       "    }\n",
       "\n",
       "    .dataframe tbody tr th {\n",
       "        vertical-align: top;\n",
       "    }\n",
       "\n",
       "    .dataframe thead th {\n",
       "        text-align: right;\n",
       "    }\n",
       "</style>\n",
       "<table border=\"1\" class=\"dataframe\">\n",
       "  <thead>\n",
       "    <tr style=\"text-align: right;\">\n",
       "      <th></th>\n",
       "      <th>dname</th>\n",
       "      <th>loc</th>\n",
       "    </tr>\n",
       "    <tr>\n",
       "      <th>deptno</th>\n",
       "      <th></th>\n",
       "      <th></th>\n",
       "    </tr>\n",
       "  </thead>\n",
       "  <tbody>\n",
       "    <tr>\n",
       "      <th>101</th>\n",
       "      <td>인터넷통신학과</td>\n",
       "      <td>7호관</td>\n",
       "    </tr>\n",
       "    <tr>\n",
       "      <th>102</th>\n",
       "      <td>멀티미디어학과</td>\n",
       "      <td>2호관</td>\n",
       "    </tr>\n",
       "    <tr>\n",
       "      <th>103</th>\n",
       "      <td>인터넷정보과</td>\n",
       "      <td>5호관</td>\n",
       "    </tr>\n",
       "    <tr>\n",
       "      <th>201</th>\n",
       "      <td>정보통신학과</td>\n",
       "      <td>통신관</td>\n",
       "    </tr>\n",
       "    <tr>\n",
       "      <th>202</th>\n",
       "      <td>기계공학과</td>\n",
       "      <td>4호관</td>\n",
       "    </tr>\n",
       "    <tr>\n",
       "      <th>205</th>\n",
       "      <td>MySQL학과</td>\n",
       "      <td>5호관</td>\n",
       "    </tr>\n",
       "    <tr>\n",
       "      <th>305</th>\n",
       "      <td>정보통신과</td>\n",
       "      <td>공학관</td>\n",
       "    </tr>\n",
       "    <tr>\n",
       "      <th>328</th>\n",
       "      <td>신규학과</td>\n",
       "      <td>None</td>\n",
       "    </tr>\n",
       "    <tr>\n",
       "      <th>329</th>\n",
       "      <td>신규학과</td>\n",
       "      <td>None</td>\n",
       "    </tr>\n",
       "    <tr>\n",
       "      <th>330</th>\n",
       "      <td>신규학과</td>\n",
       "      <td>None</td>\n",
       "    </tr>\n",
       "    <tr>\n",
       "      <th>331</th>\n",
       "      <td>신규학과</td>\n",
       "      <td>None</td>\n",
       "    </tr>\n",
       "    <tr>\n",
       "      <th>332</th>\n",
       "      <td>신규학과</td>\n",
       "      <td>None</td>\n",
       "    </tr>\n",
       "    <tr>\n",
       "      <th>334</th>\n",
       "      <td>신규학과</td>\n",
       "      <td>None</td>\n",
       "    </tr>\n",
       "    <tr>\n",
       "      <th>335</th>\n",
       "      <td>기계공학과</td>\n",
       "      <td>공학관</td>\n",
       "    </tr>\n",
       "    <tr>\n",
       "      <th>336</th>\n",
       "      <td>스프링학과</td>\n",
       "      <td>2강의실</td>\n",
       "    </tr>\n",
       "    <tr>\n",
       "      <th>337</th>\n",
       "      <td>스프링학과</td>\n",
       "      <td>2강의실</td>\n",
       "    </tr>\n",
       "    <tr>\n",
       "      <th>338</th>\n",
       "      <td>신규학과</td>\n",
       "      <td>None</td>\n",
       "    </tr>\n",
       "    <tr>\n",
       "      <th>339</th>\n",
       "      <td>python</td>\n",
       "      <td>1401호</td>\n",
       "    </tr>\n",
       "  </tbody>\n",
       "</table>\n",
       "</div>"
      ],
      "text/plain": [
       "          dname    loc\n",
       "deptno                \n",
       "101     인터넷통신학과    7호관\n",
       "102     멀티미디어학과    2호관\n",
       "103      인터넷정보과    5호관\n",
       "201      정보통신학과    통신관\n",
       "202       기계공학과    4호관\n",
       "205     MySQL학과    5호관\n",
       "305       정보통신과    공학관\n",
       "328        신규학과   None\n",
       "329        신규학과   None\n",
       "330        신규학과   None\n",
       "331        신규학과   None\n",
       "332        신규학과   None\n",
       "334        신규학과   None\n",
       "335       기계공학과    공학관\n",
       "336       스프링학과   2강의실\n",
       "337       스프링학과   2강의실\n",
       "338        신규학과   None\n",
       "339      python  1401호"
      ]
     },
     "execution_count": 13,
     "metadata": {},
     "output_type": "execute_result"
    }
   ],
   "source": [
    "# 학과 목록 데이터 프레임 생성하기\n",
    "df = pd.DataFrame(result)\n",
    "df2 = df.set_index('deptno')\n",
    "df2"
   ]
  },
  {
   "cell_type": "code",
   "execution_count": null,
   "id": "c1a7594e-7e0f-4091-a1b3-2966e638185e",
   "metadata": {},
   "outputs": [],
   "source": []
  }
 ],
 "metadata": {
  "kernelspec": {
   "display_name": "Python 3 (ipykernel)",
   "language": "python",
   "name": "python3"
  },
  "language_info": {
   "codemirror_mode": {
    "name": "ipython",
    "version": 3
   },
   "file_extension": ".py",
   "mimetype": "text/x-python",
   "name": "python",
   "nbconvert_exporter": "python",
   "pygments_lexer": "ipython3",
   "version": "3.8.10"
  }
 },
 "nbformat": 4,
 "nbformat_minor": 5
}
