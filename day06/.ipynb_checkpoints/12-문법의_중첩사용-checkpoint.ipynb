{
 "cells": [
  {
   "cell_type": "markdown",
   "metadata": {},
   "source": [
    "# 문법의 중첩 사용\n",
    "\n",
    "## 사용자의 입력값 처리하기\n",
    "\n",
    "`input()` 함수는 파라미터로 지정된 문자열을 출력하고 사용자의 입력값을 변수에 반환하는 기능을 한다."
   ]
  },
  {
   "cell_type": "code",
   "execution_count": 20,
   "metadata": {},
   "outputs": [
    {
     "name": "stdin",
     "output_type": "stream",
     "text": [
      "내용을 입력하세요:  안녕하세요. 파이썬\n"
     ]
    },
    {
     "name": "stdout",
     "output_type": "stream",
     "text": [
      "안녕하세요. 파이썬\n"
     ]
    }
   ],
   "source": [
    "msg = input(\"내용을 입력하세요: \")\n",
    "print(msg)"
   ]
  },
  {
   "cell_type": "markdown",
   "metadata": {},
   "source": [
    "## 입력값에 대한 연산\n",
    "\n",
    "입력값은 무조건 문자열이므로 숫자를 더할 경우 에러가 발생한다."
   ]
  },
  {
   "cell_type": "code",
   "execution_count": 13,
   "metadata": {},
   "outputs": [
    {
     "name": "stdin",
     "output_type": "stream",
     "text": [
      "숫자를 입력하세요:  100\n"
     ]
    },
    {
     "ename": "TypeError",
     "evalue": "can only concatenate str (not \"int\") to str",
     "output_type": "error",
     "traceback": [
      "\u001b[0;31m---------------------------------------------------------------------------\u001b[0m",
      "\u001b[0;31mTypeError\u001b[0m                                 Traceback (most recent call last)",
      "\u001b[0;32m<ipython-input-13-f2eccbfed483>\u001b[0m in \u001b[0;36m<module>\u001b[0;34m\u001b[0m\n\u001b[1;32m      1\u001b[0m \u001b[0mmsg\u001b[0m \u001b[0;34m=\u001b[0m \u001b[0minput\u001b[0m\u001b[0;34m(\u001b[0m\u001b[0;34m\"숫자를 입력하세요: \"\u001b[0m\u001b[0;34m)\u001b[0m\u001b[0;34m\u001b[0m\u001b[0;34m\u001b[0m\u001b[0m\n\u001b[0;32m----> 2\u001b[0;31m \u001b[0mprint\u001b[0m\u001b[0;34m(\u001b[0m\u001b[0mmsg\u001b[0m \u001b[0;34m+\u001b[0m \u001b[0;36m100\u001b[0m\u001b[0;34m)\u001b[0m\u001b[0;34m\u001b[0m\u001b[0;34m\u001b[0m\u001b[0m\n\u001b[0m",
      "\u001b[0;31mTypeError\u001b[0m: can only concatenate str (not \"int\") to str"
     ]
    }
   ],
   "source": [
    "msg = input(\"숫자를 입력하세요: \")\n",
    "print(msg + 100)"
   ]
  },
  {
   "cell_type": "markdown",
   "metadata": {},
   "source": [
    "## `int()` 함수를 사용한 숫자 형변환\n",
    "\n",
    "문자열을 숫자로 변환하기 위해서는 int()함수를 사용해야 한다."
   ]
  },
  {
   "cell_type": "code",
   "execution_count": 14,
   "metadata": {},
   "outputs": [
    {
     "name": "stdin",
     "output_type": "stream",
     "text": [
      "숫자를 입력하세요:  12345\n"
     ]
    },
    {
     "name": "stdout",
     "output_type": "stream",
     "text": [
      "12445\n"
     ]
    }
   ],
   "source": [
    "msg = input(\"숫자를 입력하세요: \")\n",
    "num = int(msg)\n",
    "print(num + 100)"
   ]
  },
  {
   "cell_type": "markdown",
   "metadata": {},
   "source": [
    "## 숫자를 문자열로 변환하기\n",
    "\n",
    "숫자를 문자열로 변환하기 위해서는 `str()` 함수를 사용한다."
   ]
  },
  {
   "cell_type": "code",
   "execution_count": 15,
   "metadata": {},
   "outputs": [
    {
     "name": "stdout",
     "output_type": "stream",
     "text": [
      "100200\n"
     ]
    }
   ],
   "source": [
    "num = 100\n",
    "msg = str(num)\n",
    "print(msg + \"200\")"
   ]
  },
  {
   "cell_type": "markdown",
   "metadata": {},
   "source": [
    "## `if문`의 중첩 사용\n",
    "\n",
    "특정 조건을 좀 더 상세하게 판단하기 위해 사용한다."
   ]
  },
  {
   "cell_type": "code",
   "execution_count": 17,
   "metadata": {},
   "outputs": [
    {
     "name": "stdin",
     "output_type": "stream",
     "text": [
      "점수를 입력하세요:  82\n"
     ]
    },
    {
     "name": "stdout",
     "output_type": "stream",
     "text": [
      "패스입니다.\n",
      "B입니다.\n"
     ]
    }
   ],
   "source": [
    "point = int(input(\"점수를 입력하세요: \"))\n",
    "\n",
    "if point > 70:\n",
    "    print (\"패스입니다.\")\n",
    "\n",
    "    if point > 90:\n",
    "        print(\"A입니다.\")\n",
    "    elif point > 80:\n",
    "        print(\"B입니다.\")\n",
    "    else:\n",
    "        print(\"C입니다.\")\n",
    "\n",
    "else:\n",
    "    print(\"패스하지 못했습니다.\")"
   ]
  },
  {
   "cell_type": "markdown",
   "metadata": {},
   "source": [
    "## for문과 if문의 중첩\n",
    "\n",
    "반복 수행 1회마다 조건을 판별한다.\n",
    "\n",
    "주로 반복문에서 설정되는 조건값에 대한 검사를 수행한다."
   ]
  },
  {
   "cell_type": "code",
   "execution_count": 18,
   "metadata": {},
   "outputs": [
    {
     "name": "stdin",
     "output_type": "stream",
     "text": [
      "숫자를 입력하세요:  15\n"
     ]
    },
    {
     "name": "stdout",
     "output_type": "stream",
     "text": [
      "1(은)는 홀수\n",
      "2(은)는 짝수\n",
      "3(은)는 홀수\n",
      "4(은)는 짝수\n",
      "5(은)는 홀수\n",
      "6(은)는 짝수\n",
      "7(은)는 홀수\n",
      "8(은)는 짝수\n",
      "9(은)는 홀수\n",
      "10(은)는 짝수\n",
      "11(은)는 홀수\n",
      "12(은)는 짝수\n",
      "13(은)는 홀수\n",
      "14(은)는 짝수\n",
      "15(은)는 홀수\n",
      "1~15까지 짝수들의 합: 56\n",
      "1~15까지 홀수들의 합: 64\n"
     ]
    }
   ],
   "source": [
    "number = int(input(\"숫자를 입력하세요: \"))\n",
    "\n",
    "# 총 합을 구하기 위해서는 반복문 시작 전에 0으로 초기화 된 변수가 필요하다.\n",
    "x = 0\n",
    "y = 0\n",
    "\n",
    "# -> 1~number까지 반복 수행\n",
    "for i in range(1, number+1):\n",
    "    # 어떤 수를 2로 나눈 나머지가 0이면 짝수\n",
    "    if i % 2 == 0:\n",
    "        print(\"%d(은)는 짝수\" % i)\n",
    "        x += i\n",
    "    # 그렇지 않으면 홀수\n",
    "    else:\n",
    "        print(\"%d(은)는 홀수\" % i)\n",
    "        y += i\n",
    "\n",
    "print(\"1~%d까지 짝수들의 합: %d\" % (number, x))\n",
    "print(\"1~%d까지 홀수들의 합: %d\" % (number, y))"
   ]
  },
  {
   "cell_type": "markdown",
   "metadata": {},
   "source": [
    "## 2중 반복문 --> 구구단"
   ]
  },
  {
   "cell_type": "code",
   "execution_count": 19,
   "metadata": {},
   "outputs": [
    {
     "name": "stdout",
     "output_type": "stream",
     "text": [
      "2 x 1 = 2\n",
      "2 x 2 = 4\n",
      "2 x 3 = 6\n",
      "2 x 4 = 8\n",
      "2 x 5 = 10\n",
      "2 x 6 = 12\n",
      "2 x 7 = 14\n",
      "2 x 8 = 16\n",
      "2 x 9 = 18\n",
      "------------------------------\n",
      "3 x 1 = 3\n",
      "3 x 2 = 6\n",
      "3 x 3 = 9\n",
      "3 x 4 = 12\n",
      "3 x 5 = 15\n",
      "3 x 6 = 18\n",
      "3 x 7 = 21\n",
      "3 x 8 = 24\n",
      "3 x 9 = 27\n",
      "------------------------------\n",
      "4 x 1 = 4\n",
      "4 x 2 = 8\n",
      "4 x 3 = 12\n",
      "4 x 4 = 16\n",
      "4 x 5 = 20\n",
      "4 x 6 = 24\n",
      "4 x 7 = 28\n",
      "4 x 8 = 32\n",
      "4 x 9 = 36\n",
      "------------------------------\n",
      "5 x 1 = 5\n",
      "5 x 2 = 10\n",
      "5 x 3 = 15\n",
      "5 x 4 = 20\n",
      "5 x 5 = 25\n",
      "5 x 6 = 30\n",
      "5 x 7 = 35\n",
      "5 x 8 = 40\n",
      "5 x 9 = 45\n",
      "------------------------------\n",
      "6 x 1 = 6\n",
      "6 x 2 = 12\n",
      "6 x 3 = 18\n",
      "6 x 4 = 24\n",
      "6 x 5 = 30\n",
      "6 x 6 = 36\n",
      "6 x 7 = 42\n",
      "6 x 8 = 48\n",
      "6 x 9 = 54\n",
      "------------------------------\n",
      "7 x 1 = 7\n",
      "7 x 2 = 14\n",
      "7 x 3 = 21\n",
      "7 x 4 = 28\n",
      "7 x 5 = 35\n",
      "7 x 6 = 42\n",
      "7 x 7 = 49\n",
      "7 x 8 = 56\n",
      "7 x 9 = 63\n",
      "------------------------------\n",
      "8 x 1 = 8\n",
      "8 x 2 = 16\n",
      "8 x 3 = 24\n",
      "8 x 4 = 32\n",
      "8 x 5 = 40\n",
      "8 x 6 = 48\n",
      "8 x 7 = 56\n",
      "8 x 8 = 64\n",
      "8 x 9 = 72\n",
      "------------------------------\n",
      "9 x 1 = 9\n",
      "9 x 2 = 18\n",
      "9 x 3 = 27\n",
      "9 x 4 = 36\n",
      "9 x 5 = 45\n",
      "9 x 6 = 54\n",
      "9 x 7 = 63\n",
      "9 x 8 = 72\n",
      "9 x 9 = 81\n",
      "------------------------------\n"
     ]
    }
   ],
   "source": [
    "tpl = \"{0} x {1} = {2}\"\n",
    "\n",
    "# i의 변화범위 2~9\n",
    "for i in range(2, 10):\n",
    "\n",
    "    # i가 1 증가하는 동안 j의 값이 매번 1~9까지 새로 시작\n",
    "    for j in range(1, 10):\n",
    "        k = i * j\n",
    "        print(tpl.format(i, j, k))\n",
    "\n",
    "    # 바깥의 반복문에 속한 명령이다.(들여쓰기 주의)\n",
    "    print(\"-\" * 30)"
   ]
  },
  {
   "cell_type": "markdown",
   "metadata": {},
   "source": [
    "## 무한루프\n",
    "\n",
    "반복 조건이 잘못 설정되어 중단되지 않고 영원히 수행되는 반복문\n",
    "\n",
    "구사해야 하는 스킬이 아닌 피해가야 하는 현상이다."
   ]
  },
  {
   "cell_type": "code",
   "execution_count": 9,
   "metadata": {},
   "outputs": [],
   "source": [
    "x = 1\n",
    "\n",
    "# 실행시에 종료되지 않기 때문에 주석으로 막아둠.\n",
    "# while x < 10:\n",
    "#    print(x)\n",
    "#    x -= 1"
   ]
  },
  {
   "cell_type": "markdown",
   "metadata": {},
   "source": [
    "## 반복문의 흐름 제어\n",
    "\n",
    "반복의 횟수를 가늠할 수 없을 때 의도적으로 무한루프를 설정하게 된다.\n",
    "\n",
    "이 때, `continue`, `break` 명령으로 반복문 내에서의 흐름을 제어할 수 있다."
   ]
  },
  {
   "cell_type": "code",
   "execution_count": 11,
   "metadata": {},
   "outputs": [
    {
     "name": "stdout",
     "output_type": "stream",
     "text": [
      "Hello Python (1)\n",
      "Hello Python (3)\n",
      "Hello Python (5)\n",
      "Hello Python (7)\n",
      "Hello Python (9)\n"
     ]
    }
   ],
   "source": [
    "y = 0\n",
    "while True:\n",
    "    y += 1\n",
    "\n",
    "    if y % 2 == 0:\n",
    "        continue    # 조건식으로 강제 이동\n",
    "\n",
    "    if y > 10:\n",
    "        break       # 반복문을 강제로 종료\n",
    "\n",
    "    print(\"Hello Python (%d)\" % y)"
   ]
  },
  {
   "cell_type": "code",
   "execution_count": null,
   "metadata": {},
   "outputs": [],
   "source": []
  }
 ],
 "metadata": {
  "kernelspec": {
   "display_name": "Python 3",
   "language": "python",
   "name": "python3"
  },
  "language_info": {
   "codemirror_mode": {
    "name": "ipython",
    "version": 3
   },
   "file_extension": ".py",
   "mimetype": "text/x-python",
   "name": "python",
   "nbconvert_exporter": "python",
   "pygments_lexer": "ipython3",
   "version": "3.8.6"
  }
 },
 "nbformat": 4,
 "nbformat_minor": 4
}
