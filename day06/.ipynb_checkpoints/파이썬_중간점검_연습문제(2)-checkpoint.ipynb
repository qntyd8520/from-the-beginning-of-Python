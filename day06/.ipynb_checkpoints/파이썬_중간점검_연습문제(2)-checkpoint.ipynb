{
 "cells": [
  {
   "cell_type": "markdown",
   "metadata": {},
   "source": [
    "# 파이썬 중간점검 연습문제 (2)\n",
    "\n",
    "----"
   ]
  },
  {
   "cell_type": "markdown",
   "metadata": {},
   "source": [
    "## 문제1\n",
    "\n",
    "1부터 100까지의 자연수 중에서 3의 배수의 총 합은 얼마인지 구하시오."
   ]
  },
  {
   "cell_type": "code",
   "execution_count": null,
   "metadata": {},
   "outputs": [],
   "source": []
  },
  {
   "cell_type": "markdown",
   "metadata": {},
   "source": [
    "---\n",
    "\n",
    "## 문제2\n",
    "\n",
    "숫자 x를 입력받은 후 x에 대한 팩토리얼을 for문을 활용하여 구하시오."
   ]
  },
  {
   "cell_type": "code",
   "execution_count": null,
   "metadata": {},
   "outputs": [],
   "source": []
  },
  {
   "cell_type": "markdown",
   "metadata": {},
   "source": [
    "---\n",
    "\n",
    "## 문제 3.\n",
    "\n",
    "0부터 100 사이에 있는 짝수의 합을 while 문으로 구현하시오. 단, if문을 사용해서는 안된다."
   ]
  },
  {
   "cell_type": "code",
   "execution_count": null,
   "metadata": {},
   "outputs": [],
   "source": []
  },
  {
   "cell_type": "markdown",
   "metadata": {},
   "source": [
    "---\n",
    "\n",
    "## 문제 4.\n",
    "\n",
    "다음은 학생의 점수를 나타내는 리스트이다.\n",
    "\n",
    "```\n",
    "students = [85, 65, 77, 83, 75, 22, 98, 88, 38, 100]\n",
    "```\n",
    "\n",
    "for문을 사용하여 80점 이상의 점수들의 총합을 구하시오."
   ]
  },
  {
   "cell_type": "code",
   "execution_count": null,
   "metadata": {},
   "outputs": [],
   "source": []
  },
  {
   "cell_type": "markdown",
   "metadata": {},
   "source": [
    "---\n",
    "\n",
    "### 문제5\n",
    "\n",
    "정수를 한 개 입력받아, 1부터 입력받은 수까지 각각에 대해 제곱을 구해 프린트하는 프로그램을 작성해 보세요. \n",
    "\n",
    "단, while 문을 사용하세요.\n",
    "\n",
    "#### 예 1\n",
    "\n",
    "입력:3\n",
    "```\n",
    "1 1\n",
    "2 4\n",
    "3 9\n",
    "```\n",
    "\n",
    "#### 예 2\n",
    "입력: 5\n",
    "```\n",
    "1 1\n",
    "2 4\n",
    "3 9\n",
    "4 16\n",
    "5 25\n",
    "```"
   ]
  },
  {
   "cell_type": "code",
   "execution_count": null,
   "metadata": {},
   "outputs": [],
   "source": []
  },
  {
   "cell_type": "markdown",
   "metadata": {},
   "source": [
    "---\n",
    "\n",
    "## 문제 6\n",
    "\n",
    "`[9, 8, 6, 1, 4, 5]` 에서 가장 큰 값을 for 문을 사용하여 구하시오."
   ]
  },
  {
   "cell_type": "code",
   "execution_count": null,
   "metadata": {},
   "outputs": [],
   "source": []
  },
  {
   "cell_type": "markdown",
   "metadata": {},
   "source": [
    "---\n",
    "\n",
    "## 문제7\n",
    "\n",
    "위 6번 문제의 로직을 응용하여 동일한 리스트 안에서 가장 작은 값을 for문을 사용하여 구하시오."
   ]
  },
  {
   "cell_type": "code",
   "execution_count": null,
   "metadata": {},
   "outputs": [],
   "source": []
  }
 ],
 "metadata": {
  "kernelspec": {
   "display_name": "Python 3",
   "language": "python",
   "name": "python3"
  },
  "language_info": {
   "codemirror_mode": {
    "name": "ipython",
    "version": 3
   },
   "file_extension": ".py",
   "mimetype": "text/x-python",
   "name": "python",
   "nbconvert_exporter": "python",
   "pygments_lexer": "ipython3",
   "version": "3.8.6"
  }
 },
 "nbformat": 4,
 "nbformat_minor": 4
}
