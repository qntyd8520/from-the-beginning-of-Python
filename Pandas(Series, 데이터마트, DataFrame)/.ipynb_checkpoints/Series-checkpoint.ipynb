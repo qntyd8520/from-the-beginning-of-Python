{
 "cells": [
  {
   "cell_type": "code",
   "execution_count": 1,
   "id": "652c46a2-6942-4e1c-8452-cabadb193cb5",
   "metadata": {},
   "outputs": [],
   "source": [
    "from pandas import Series\n",
    "from matplotlib import pyplot\n",
    "import pandas as pd"
   ]
  },
  {
   "cell_type": "markdown",
   "id": "8131420c-13e3-4223-bbb5-9c4b8cdcf107",
   "metadata": {},
   "source": [
    "### Series 객체 생성하기\n",
    "Series 클래스의 생성자 파라미터로 리스트나 Numpy 배열을 전달한다.\n",
    "리스트(혹은 배열)과 다른점은 리스트의 경우 인덱스가 개념적으로만 존재하지만 Series는 인덱스가 명시적으로 존재한다."
   ]
  },
  {
   "cell_type": "code",
   "execution_count": 3,
   "id": "1e2727b7-36d2-4fd9-b7d9-f6894eddb605",
   "metadata": {},
   "outputs": [
    {
     "data": {
      "text/plain": [
       "0    10\n",
       "1    30\n",
       "2    50\n",
       "3    70\n",
       "4    90\n",
       "dtype: int64"
      ]
     },
     "execution_count": 3,
     "metadata": {},
     "output_type": "execute_result"
    }
   ],
   "source": [
    "# 리스트 데이터를 Series 객체로 생성하기\n",
    "items = [10, 30, 50, 70, 90]\n",
    "column = Series(items)\n",
    "column"
   ]
  },
  {
   "cell_type": "markdown",
   "id": "41652e72-7748-48d8-88b7-eff05bbec745",
   "metadata": {},
   "source": [
    "### Series 데이터에 접근하기"
   ]
  },
  {
   "cell_type": "code",
   "execution_count": 4,
   "id": "b6bffd44-2a3f-4987-a805-18e6f1cb289f",
   "metadata": {},
   "outputs": [
    {
     "name": "stdout",
     "output_type": "stream",
     "text": [
      "10\n",
      "50\n",
      "90\n"
     ]
    }
   ],
   "source": [
    "# 1) 인덱스를 활용한 개별값 확인\n",
    "# 시리즈의 인덱스를 통한 개별 값 확인하기\n",
    "print(column[0])\n",
    "print(column[2])\n",
    "print(column[4])"
   ]
  },
  {
   "cell_type": "code",
   "execution_count": 5,
   "id": "23af67db-aab1-44a3-bb9c-6a6383092514",
   "metadata": {},
   "outputs": [
    {
     "name": "stdout",
     "output_type": "stream",
     "text": [
      "<class 'numpy.ndarray'>\n"
     ]
    },
    {
     "data": {
      "text/plain": [
       "array([10, 30, 50, 70, 90], dtype=int64)"
      ]
     },
     "execution_count": 5,
     "metadata": {},
     "output_type": "execute_result"
    }
   ],
   "source": [
    "# 2) 시리즈의 값 추출\n",
    "# 시리즈의 값만 추출하기\n",
    "v = column.values\n",
    "print(type(v)) # 타입을 확인해보니 Numpy배열임을 알수있다\n",
    "v"
   ]
  },
  {
   "cell_type": "code",
   "execution_count": 7,
   "id": "84bee253-6551-4eda-be73-753803ae3952",
   "metadata": {},
   "outputs": [
    {
     "name": "stdout",
     "output_type": "stream",
     "text": [
      "<class 'list'>\n"
     ]
    },
    {
     "data": {
      "text/plain": [
       "[10, 30, 50, 70, 90]"
      ]
     },
     "execution_count": 7,
     "metadata": {},
     "output_type": "execute_result"
    }
   ],
   "source": [
    "# 3) 시리즈의 값을 저장하고 있는 numpy배열을 list로 변환\n",
    "# 시리즈 객체를 numpy배열로 변환하기\n",
    "v = column.values\n",
    "value_list = list(v)\n",
    "print(type(value_list))\n",
    "value_list"
   ]
  },
  {
   "cell_type": "code",
   "execution_count": 8,
   "id": "92dc70c9-84d0-4114-ad80-52a10a6cf601",
   "metadata": {},
   "outputs": [
    {
     "name": "stdout",
     "output_type": "stream",
     "text": [
      "<class 'list'>\n"
     ]
    },
    {
     "data": {
      "text/plain": [
       "[10, 30, 50, 70, 90]"
      ]
     },
     "execution_count": 8,
     "metadata": {},
     "output_type": "execute_result"
    }
   ],
   "source": [
    "# 4) 시리즈를 리스트로 직접 변환\n",
    "# 시리즈 객체를 리스트로 변화하기\n",
    "value_list2 = list(column)\n",
    "print(type(value_list2))\n",
    "value_list2"
   ]
  },
  {
   "cell_type": "code",
   "execution_count": 10,
   "id": "4747c436-6dd5-4044-bc30-f9930763ca5a",
   "metadata": {},
   "outputs": [
    {
     "name": "stdout",
     "output_type": "stream",
     "text": [
      "<class 'pandas.core.indexes.range.RangeIndex'>\n"
     ]
    },
    {
     "data": {
      "text/plain": [
       "RangeIndex(start=0, stop=5, step=1)"
      ]
     },
     "execution_count": 10,
     "metadata": {},
     "output_type": "execute_result"
    }
   ],
   "source": [
    "# 5) 시리즈의 색인(index)만 추출\n",
    "# 시리즈의 색인추출하기\n",
    "i = column.index\n",
    "print(type(i))\n",
    "i"
   ]
  },
  {
   "cell_type": "code",
   "execution_count": 11,
   "id": "913cf8a4-2de8-4c51-845a-13b0c75f2307",
   "metadata": {},
   "outputs": [
    {
     "name": "stdout",
     "output_type": "stream",
     "text": [
      "<class 'list'>\n"
     ]
    },
    {
     "data": {
      "text/plain": [
       "[0, 1, 2, 3, 4]"
      ]
     },
     "execution_count": 11,
     "metadata": {},
     "output_type": "execute_result"
    }
   ],
   "source": [
    "# 6) 시리즈의 색인(index)를 list로 변환\n",
    "# 시리즈의 색인을 리스트로 변환하기\n",
    "index_list = list(i)\n",
    "print(type(index_list))\n",
    "index_list"
   ]
  },
  {
   "cell_type": "code",
   "execution_count": 12,
   "id": "4a967d97-5ff7-45de-b4fe-f9feda09fbbf",
   "metadata": {},
   "outputs": [
    {
     "data": {
      "image/png": "[encoded data removed]",
      "text/plain": [
       "<Figure size 432x288 with 1 Axes>"
      ]
     },
     "metadata": {
      "needs_background": "light"
     },
     "output_type": "display_data"
    }
   ],
   "source": [
    "# 7) 시리즈 객체 시각화\n",
    "# index는 x축이되고 value는 y축이 된다.\n",
    "# 시리즈를 활용하여 그래프 그리기\n",
    "pyplot.figure()\n",
    "pyplot.plot(column)\n",
    "pyplot.show()"
   ]
  },
  {
   "cell_type": "markdown",
   "id": "a142c467-956f-4374-8d2e-90a4abc6e82a",
   "metadata": {},
   "source": [
    "### 조건에 따른 데이터 접근"
   ]
  },
  {
   "cell_type": "code",
   "execution_count": 13,
   "id": "6fab46ee-4c6b-4d84-88a0-05efb062e511",
   "metadata": {},
   "outputs": [
    {
     "data": {
      "text/plain": [
       "2    50\n",
       "3    70\n",
       "4    90\n",
       "dtype: int64"
      ]
     },
     "execution_count": 13,
     "metadata": {},
     "output_type": "execute_result"
    }
   ],
   "source": [
    "# 1) 특정 조건에 맞는 항목들만 추출\n",
    "# 시리즈 객체 조건 검색\n",
    "in1 = column[column > 30]\n",
    "in1"
   ]
  },
  {
   "cell_type": "code",
   "execution_count": 14,
   "id": "d5fa66e2-681f-42e3-8049-20709818e5d5",
   "metadata": {},
   "outputs": [
    {
     "data": {
      "text/plain": [
       "1    30\n",
       "2    50\n",
       "3    70\n",
       "dtype: int64"
      ]
     },
     "execution_count": 14,
     "metadata": {},
     "output_type": "execute_result"
    }
   ],
   "source": [
    "# 2) AND 조건 \n",
    "# 대괄호 []를 조건수만큼 나열한다.\n",
    "# AND 조건검색\n",
    "in2  = column[column <= 70][column > 10]\n",
    "in2"
   ]
  },
  {
   "cell_type": "code",
   "execution_count": 15,
   "id": "78b0d0c5-9205-4dec-bf84-880569338863",
   "metadata": {},
   "outputs": [
    {
     "data": {
      "text/plain": [
       "0    10\n",
       "3    70\n",
       "4    90\n",
       "dtype: int64"
      ]
     },
     "execution_count": 15,
     "metadata": {},
     "output_type": "execute_result"
    }
   ],
   "source": [
    "# 3) OR 조건\n",
    "# 대괄호 []안에 각 조건을 소괄호()로 묶고 파이프라인 | 으로 구분한다.\n",
    "# OR 조건검색\n",
    "in3  = column[(column <= 10 ) | (column >= 70)]\n",
    "in3"
   ]
  },
  {
   "cell_type": "markdown",
   "id": "dd42f3b0-757d-4a17-9d21-52eb82e67f63",
   "metadata": {},
   "source": [
    "### 인데스를 직접 지정하기"
   ]
  },
  {
   "cell_type": "code",
   "execution_count": 20,
   "id": "5a08c4c4-2fcf-4f12-a529-2b8a910683a7",
   "metadata": {},
   "outputs": [
    {
     "name": "stdout",
     "output_type": "stream",
     "text": [
      "토    290000\n",
      "일    310000\n",
      "dtype: int64\n",
      "\n",
      "일    120000\n",
      "토    220000\n",
      "dtype: int64\n"
     ]
    }
   ],
   "source": [
    "# 1) 인덱스를 직접 정의하기\n",
    "# 문자열 형식의 인덱스 지정이 가능하다.\n",
    "# 인덱스를 직접 지정\n",
    "week1 = Series([290000, 310000], index=['토', '일'])\n",
    "week2 = Series([120000, 220000], index=['일', '토'])\n",
    "\n",
    "print(week1)\n",
    "print()\n",
    "print(week2)"
   ]
  },
  {
   "cell_type": "code",
   "execution_count": 21,
   "id": "8513c083-c66c-4d80-b66d-411ad0cba11c",
   "metadata": {},
   "outputs": [
    {
     "data": {
      "text/plain": [
       "일    430000\n",
       "토    510000\n",
       "dtype: int64"
      ]
     },
     "execution_count": 21,
     "metadata": {},
     "output_type": "execute_result"
    }
   ],
   "source": [
    "# 2) 시리즈 객체의 사칙연산\n",
    "# index가 동일한 항목끼리 연산이 수행된다.\n",
    "# 시리즈 객체간 사칙연산\n",
    "value = week1 + week2\n",
    "value"
   ]
  },
  {
   "cell_type": "code",
   "execution_count": null,
   "id": "e6b71a93-be84-494c-afb9-0661b02cef77",
   "metadata": {},
   "outputs": [],
   "source": []
  }
 ],
 "metadata": {
  "kernelspec": {
   "display_name": "Python 3 (ipykernel)",
   "language": "python",
   "name": "python3"
  },
  "language_info": {
   "codemirror_mode": {
    "name": "ipython",
    "version": 3
   },
   "file_extension": ".py",
   "mimetype": "text/x-python",
   "name": "python",
   "nbconvert_exporter": "python",
   "pygments_lexer": "ipython3",
   "version": "3.9.5"
  }
 },
 "nbformat": 4,
 "nbformat_minor": 5
}
