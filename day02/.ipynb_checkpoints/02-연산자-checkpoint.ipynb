{
 "cells": [
  {
   "cell_type": "markdown",
   "id": "24336d66-d9f3-4261-95c8-75b6464cbf81",
   "metadata": {},
   "source": [
    "## 연산자 "
   ]
  },
  {
   "cell_type": "code",
   "execution_count": 2,
   "id": "dc062214-2cb8-4d71-8e01-95a984e02216",
   "metadata": {},
   "outputs": [
    {
     "name": "stdout",
     "output_type": "stream",
     "text": [
      "7\n"
     ]
    }
   ],
   "source": [
    "#연산 결과는 새로운 변수에 할당하거나 직접 출력 가능\n",
    "a = 3\n",
    "b = 4\n",
    "c = a + b\n",
    "print(c)"
   ]
  },
  {
   "cell_type": "code",
   "execution_count": 3,
   "id": "140976c2-a8af-47ed-9eba-fcaa7a1a7b98",
   "metadata": {},
   "outputs": [
    {
     "name": "stdout",
     "output_type": "stream",
     "text": [
      "-1\n",
      "12\n",
      "0.75\n"
     ]
    }
   ],
   "source": [
    "# 연산결과 직접 출력\n",
    "print(a - b)\n",
    "print(a * b)\n",
    "print(a / b)"
   ]
  },
  {
   "cell_type": "code",
   "execution_count": 4,
   "id": "bbe6ac8f-9e8f-4a97-9a92-75585369b820",
   "metadata": {},
   "outputs": [
    {
     "name": "stdout",
     "output_type": "stream",
     "text": [
      "3.3333333333333335\n"
     ]
    }
   ],
   "source": [
    "#나눗셈의 몫을 구한다\n",
    "# --> 처리가능한 단위까지 게산함 (마지막 오차 발생)\n",
    "print(10/3)"
   ]
  },
  {
   "cell_type": "code",
   "execution_count": 5,
   "id": "397a5f4a-451d-4360-a697-7c9ae1c94eba",
   "metadata": {},
   "outputs": [
    {
     "name": "stdout",
     "output_type": "stream",
     "text": [
      "3\n"
     ]
    }
   ],
   "source": [
    "# 나눗셈에서 소수점 아래를 버리고 몫만 게산\n",
    "print(10 // 3)"
   ]
  },
  {
   "cell_type": "code",
   "execution_count": 6,
   "id": "2542fa1a-d226-4f77-9e1e-032f01e6fbfa",
   "metadata": {},
   "outputs": [
    {
     "name": "stdout",
     "output_type": "stream",
     "text": [
      "1\n"
     ]
    }
   ],
   "source": [
    "# 나눗셈의 나머지를 구한다.\n",
    "# --> 정수 단위에서만 연산후 종료\n",
    "print(10 % 3)"
   ]
  },
  {
   "cell_type": "code",
   "execution_count": 7,
   "id": "4f2ebafa-f9d5-4f82-845c-005f444888c7",
   "metadata": {},
   "outputs": [
    {
     "name": "stdout",
     "output_type": "stream",
     "text": [
      "243\n"
     ]
    }
   ],
   "source": [
    "# 거듭제곱 연산자\n",
    "print(3 ** 5)"
   ]
  },
  {
   "cell_type": "code",
   "execution_count": 8,
   "id": "bb41bdac-aad9-46e3-846a-a0caba459c5f",
   "metadata": {},
   "outputs": [
    {
     "name": "stdout",
     "output_type": "stream",
     "text": [
      "1\n"
     ]
    }
   ],
   "source": [
    "# 단항연선자\n",
    "a = 1\n",
    "a += 100  # 100 + 1 = 101\n",
    "a *= 100  # 101 * 10 = 1010\n",
    "a //= 3   # 1010 // 3 = 336\n",
    "a %= 5    # 336 % 5 = 1\n",
    "print(a)"
   ]
  },
  {
   "cell_type": "code",
   "execution_count": 10,
   "id": "7f469b8a-6764-4425-8a06-d080416f6d6f",
   "metadata": {},
   "outputs": [
    {
     "name": "stdout",
     "output_type": "stream",
     "text": [
      "False\n",
      "True\n",
      "False\n",
      "True\n",
      "False\n",
      "True\n"
     ]
    }
   ],
   "source": [
    "# 비교연산자\n",
    "print(100 == 50)\n",
    "print(100 != 50)\n",
    "print(100 <= 50)\n",
    "print(100 > 50)\n",
    "print(100 < 50)\n",
    "print(100 >= 50)"
   ]
  },
  {
   "cell_type": "code",
   "execution_count": 11,
   "id": "8eb1ec0c-f259-42e4-a9f5-b19731371802",
   "metadata": {},
   "outputs": [
    {
     "name": "stdout",
     "output_type": "stream",
     "text": [
      "True\n"
     ]
    }
   ],
   "source": [
    "# 비교연산도 하나의 수식이므로 결과를 다른변수에 할당 가능\n",
    "result = 100 > 50\n",
    "print(result)"
   ]
  },
  {
   "cell_type": "code",
   "execution_count": 3,
   "id": "9bbb39fb-b8c9-4ed4-9549-a000ed607b4a",
   "metadata": {},
   "outputs": [
    {
     "name": "stdout",
     "output_type": "stream",
     "text": [
      "True\n",
      "False\n",
      "False\n",
      "False\n"
     ]
    }
   ],
   "source": [
    "# 논리연산자 (and)\n",
    "print(True and True)\n",
    "print(True and False)\n",
    "print(False and True)\n",
    "print(False and False)"
   ]
  },
  {
   "cell_type": "code",
   "execution_count": 4,
   "id": "7cd4e84c-c00a-4259-967d-62b120b4e901",
   "metadata": {},
   "outputs": [
    {
     "name": "stdout",
     "output_type": "stream",
     "text": [
      "True\n",
      "True\n",
      "True\n",
      "False\n"
     ]
    }
   ],
   "source": [
    "# 논리연산자 (or)\n",
    "print(True or True)\n",
    "print(True or False)\n",
    "print(False or True)\n",
    "print(False or False)"
   ]
  },
  {
   "cell_type": "code",
   "execution_count": 5,
   "id": "d5b863a2-3258-48d1-aba1-2a9c5e2bb9ac",
   "metadata": {},
   "outputs": [
    {
     "name": "stdout",
     "output_type": "stream",
     "text": [
      "True\n"
     ]
    }
   ],
   "source": [
    "# 비교연산의 결과값은 bool형식이므로 논리연산이 가능함\n",
    "a = 100 > 50\n",
    "b = 20 > 10\n",
    "print(a and b)"
   ]
  },
  {
   "cell_type": "code",
   "execution_count": 6,
   "id": "1f439863-0e13-46e6-a021-ddd3420136df",
   "metadata": {},
   "outputs": [
    {
     "name": "stdout",
     "output_type": "stream",
     "text": [
      "False\n"
     ]
    }
   ],
   "source": [
    "c = 100 >= 100 and 50 == 10\n",
    "print(c)"
   ]
  },
  {
   "cell_type": "code",
   "execution_count": 7,
   "id": "bac9a64f-983f-4625-952f-bc074d8d6f17",
   "metadata": {},
   "outputs": [
    {
     "name": "stdout",
     "output_type": "stream",
     "text": [
      "True\n"
     ]
    }
   ],
   "source": [
    "print(100 != 200 and 100 == 100)"
   ]
  },
  {
   "cell_type": "code",
   "execution_count": 8,
   "id": "94c9479b-9062-41a7-aa13-5821f265cbfa",
   "metadata": {},
   "outputs": [
    {
     "name": "stdout",
     "output_type": "stream",
     "text": [
      "True\n",
      "False\n"
     ]
    }
   ],
   "source": [
    "# is 연산자\n",
    "# 두 변수가 동일한지 판별하는 is연산자\n",
    "s1 = a is b\n",
    "print(s1)\n",
    "s2 = a is c\n",
    "print(s2)"
   ]
  },
  {
   "cell_type": "code",
   "execution_count": 9,
   "id": "7e2434d4-c34e-4462-9812-27551f08d881",
   "metadata": {},
   "outputs": [
    {
     "name": "stdout",
     "output_type": "stream",
     "text": [
      "True\n",
      "False\n"
     ]
    }
   ],
   "source": [
    "# \"==\" 연산과 \"is\" 연산의 차이\n",
    "x = 100\n",
    "y = 100.0\n",
    "\n",
    "# 단순히 값만 비교하므로 두 값이 같다고 판단함\n",
    "print(x == y)\n",
    "\n",
    "# 데이터 타입까지 비교하므로 정수와 실수는 다르다고 판단함\n",
    "print(x is y)"
   ]
  },
  {
   "cell_type": "code",
   "execution_count": null,
   "id": "758ebb6b-3cb0-45b5-b3df-519e85cd4d7b",
   "metadata": {},
   "outputs": [],
   "source": []
  }
 ],
 "metadata": {
  "kernelspec": {
   "display_name": "Python 3 (ipykernel)",
   "language": "python",
   "name": "python3"
  },
  "language_info": {
   "codemirror_mode": {
    "name": "ipython",
    "version": 3
   },
   "file_extension": ".py",
   "mimetype": "text/x-python",
   "name": "python",
   "nbconvert_exporter": "python",
   "pygments_lexer": "ipython3",
   "version": "3.9.5"
  }
 },
 "nbformat": 4,
 "nbformat_minor": 5
}
