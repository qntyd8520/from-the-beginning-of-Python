{
 "cells": [
  {
   "cell_type": "markdown",
   "id": "35deabc7-e650-4f9f-8f86-930f2107162e",
   "metadata": {},
   "source": [
    "# 변수의 이해\n",
    "\n",
    "## 다양한 숫자형 변수의 정의"
   ]
  },
  {
   "cell_type": "code",
   "execution_count": 2,
   "id": "3fb23fed-192d-4960-b71e-35b63484b764",
   "metadata": {},
   "outputs": [
    {
     "name": "stdout",
     "output_type": "stream",
     "text": [
      "123\n",
      "-456\n"
     ]
    }
   ],
   "source": [
    "# 변수 만들기 (오른쪽에서 왼쪽으로 대입 -> 할당)\n",
    "# -> 이름 = 값\n",
    "a = 123\n",
    "b = -456\n",
    "print(a)\n",
    "print(b)"
   ]
  },
  {
   "cell_type": "code",
   "execution_count": 3,
   "id": "77b6cb16-d175-459a-a2cb-b99bf2b39cad",
   "metadata": {},
   "outputs": [
    {
     "name": "stdout",
     "output_type": "stream",
     "text": [
      "10000\n"
     ]
    }
   ],
   "source": [
    "# 한번 할당되는 변수는 다른 값으로 변경 가능\n",
    "a = 10000\n",
    "print(a)"
   ]
  },
  {
   "cell_type": "code",
   "execution_count": 5,
   "id": "9b77c63f-b97b-4291-984f-322e6f56b82f",
   "metadata": {},
   "outputs": [
    {
     "name": "stdout",
     "output_type": "stream",
     "text": [
      "1.2\n",
      "-3.45\n"
     ]
    }
   ],
   "source": [
    "# 실수형 변수 만들기\n",
    "c = 1.2\n",
    "d = -3.45\n",
    "print(c)\n",
    "print(d)"
   ]
  },
  {
   "cell_type": "code",
   "execution_count": 8,
   "id": "8b0cac1e-689d-470b-a193-5f9cde20ab3e",
   "metadata": {},
   "outputs": [
    {
     "name": "stdout",
     "output_type": "stream",
     "text": [
      "1.2\n",
      "-3.45\n"
     ]
    }
   ],
   "source": [
    "# 지수형태(알파벳e 혹은 E사용)\n",
    "e = 4.24e10\n",
    "f = 4.24e-10\n",
    "print(c)\n",
    "print(d)"
   ]
  },
  {
   "cell_type": "code",
   "execution_count": 9,
   "id": "2c4b2a23-abe9-425c-910c-37ce9b9ec8a1",
   "metadata": {},
   "outputs": [
    {
     "name": "stdout",
     "output_type": "stream",
     "text": [
      "127\n"
     ]
    }
   ],
   "source": [
    "# 8진수 표현 (숫자 0 + 알파벳o + 숫자값)\n",
    "g = 0o177\n",
    "print(g)"
   ]
  },
  {
   "cell_type": "code",
   "execution_count": 10,
   "id": "5f4c16f1-f418-4b99-a30b-bb5cd683f0e5",
   "metadata": {},
   "outputs": [
    {
     "name": "stdout",
     "output_type": "stream",
     "text": [
      "2748\n"
     ]
    }
   ],
   "source": [
    "# 16진수 표현 (숫자 0 + 알파벳x + 숫자값)\n",
    "h = 0xABC\n",
    "print(h)"
   ]
  },
  {
   "cell_type": "code",
   "execution_count": 12,
   "id": "655ffa3b-b77e-49cf-94bf-00d10c96e371",
   "metadata": {},
   "outputs": [
    {
     "name": "stdout",
     "output_type": "stream",
     "text": [
      "(1+2j)\n"
     ]
    }
   ],
   "source": [
    "# 복소수 (알파벳 j 사용)\n",
    "i = 1+2j\n",
    "print(i)"
   ]
  },
  {
   "cell_type": "code",
   "execution_count": 13,
   "id": "71238e6b-df92-402e-ba7b-7c60c48b81c0",
   "metadata": {},
   "outputs": [
    {
     "name": "stdout",
     "output_type": "stream",
     "text": [
      "1.0\n"
     ]
    }
   ],
   "source": [
    "# 복소수의 실수 부분 조회 -> 객체 i에 포함되는 하위 변수에 접근\n",
    "print(i.real)"
   ]
  },
  {
   "cell_type": "code",
   "execution_count": 14,
   "id": "95f5c8da-64e0-4ff9-b40e-e5a8962d8ea8",
   "metadata": {},
   "outputs": [
    {
     "name": "stdout",
     "output_type": "stream",
     "text": [
      "2.0\n"
     ]
    }
   ],
   "source": [
    "# 복소수의 허수 부분 조회 -> 객체 i에포함되는 하위 변수에 접근\n",
    "print(i.imag)"
   ]
  },
  {
   "cell_type": "code",
   "execution_count": 16,
   "id": "2423a28d-b965-460f-91c4-16b0dc66478f",
   "metadata": {},
   "outputs": [
    {
     "name": "stdout",
     "output_type": "stream",
     "text": [
      "(1-2j)\n"
     ]
    }
   ],
   "source": [
    "# 복소수의 켤레복소수 -> 객체 i에 포함되는 하위 함수에 접근\n",
    "print(i.conjugate())"
   ]
  },
  {
   "cell_type": "code",
   "execution_count": 18,
   "id": "5691f168-2591-4dbe-aac3-4fe3a8d35e3a",
   "metadata": {},
   "outputs": [
    {
     "name": "stdout",
     "output_type": "stream",
     "text": [
      "True\n"
     ]
    }
   ],
   "source": [
    "a = True\n",
    "print(a)"
   ]
  },
  {
   "cell_type": "code",
   "execution_count": 19,
   "id": "3da40b9c-b9b6-48a0-ba4a-4e18d1f3008b",
   "metadata": {},
   "outputs": [
    {
     "name": "stdout",
     "output_type": "stream",
     "text": [
      "False\n"
     ]
    }
   ],
   "source": [
    "b = False\n",
    "print(b)"
   ]
  },
  {
   "cell_type": "code",
   "execution_count": 20,
   "id": "1feaaaa2-b1f9-4ec8-a19a-fb08d14e5dc8",
   "metadata": {},
   "outputs": [
    {
     "name": "stdout",
     "output_type": "stream",
     "text": [
      "False\n"
     ]
    }
   ],
   "source": [
    "c = not a\n",
    "print(c)"
   ]
  },
  {
   "cell_type": "code",
   "execution_count": 21,
   "id": "0c8dd669-865b-450e-a05d-ca9fc9392537",
   "metadata": {},
   "outputs": [
    {
     "name": "stdout",
     "output_type": "stream",
     "text": [
      "True\n"
     ]
    }
   ],
   "source": [
    "d = not b\n",
    "print(d)"
   ]
  },
  {
   "cell_type": "code",
   "execution_count": null,
   "id": "10d1f107-c945-4c8a-bfd9-8744b8b289d0",
   "metadata": {},
   "outputs": [],
   "source": []
  }
 ],
 "metadata": {
  "kernelspec": {
   "display_name": "Python 3 (ipykernel)",
   "language": "python",
   "name": "python3"
  },
  "language_info": {
   "codemirror_mode": {
    "name": "ipython",
    "version": 3
   },
   "file_extension": ".py",
   "mimetype": "text/x-python",
   "name": "python",
   "nbconvert_exporter": "python",
   "pygments_lexer": "ipython3",
   "version": "3.9.5"
  }
 },
 "nbformat": 4,
 "nbformat_minor": 5
}
