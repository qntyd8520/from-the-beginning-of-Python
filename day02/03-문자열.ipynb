{
 "cells": [
  {
   "cell_type": "markdown",
   "id": "dabe5f1f-226d-44f7-bf71-d0873aa1613b",
   "metadata": {},
   "source": [
    "## 문자열"
   ]
  },
  {
   "cell_type": "code",
   "execution_count": 1,
   "id": "13c893c1-f7af-439a-9376-2340f5099130",
   "metadata": {},
   "outputs": [
    {
     "name": "stdout",
     "output_type": "stream",
     "text": [
      "life is too short\n",
      "You need Python\n"
     ]
    }
   ],
   "source": [
    "# 쌍따옴표나 홑따옴표로 감싸야 한다. -> 따옴표의 혼용은 불가.\n",
    "msg1 = \"life is too short\"\n",
    "msg2 = \"You need Python\"\n",
    "print(msg1)\n",
    "print(msg2)"
   ]
  },
  {
   "cell_type": "code",
   "execution_count": 2,
   "id": "d1d2b81a-b522-42cf-80f2-2c994efcf4ea",
   "metadata": {},
   "outputs": [
    {
     "name": "stdout",
     "output_type": "stream",
     "text": [
      "life is too short,You need Python\n"
     ]
    }
   ],
   "source": [
    "# 문자열의 덧셈은 문자열을 연결하는 기능\n",
    "print(msg1 + \",\" + msg2)"
   ]
  },
  {
   "cell_type": "code",
   "execution_count": 3,
   "id": "b047449c-e405-4d39-a188-48e160a80ba3",
   "metadata": {},
   "outputs": [
    {
     "name": "stdout",
     "output_type": "stream",
     "text": [
      "PythonPythonPythonPythonPython\n"
     ]
    }
   ],
   "source": [
    "# 문자열과 숫자의 곱셈을 동일내용을 여러번 반복한다.\n",
    "name = \"Python\"\n",
    "print(name * 5)"
   ]
  },
  {
   "cell_type": "code",
   "execution_count": 4,
   "id": "4df22340-248a-4c63-8653-354581391c92",
   "metadata": {},
   "outputs": [
    {
     "name": "stdout",
     "output_type": "stream",
     "text": [
      "200000100\n"
     ]
    }
   ],
   "source": [
    "# 따옴표로 감싸면 무조건 문장.\n",
    "# -> 숫자가 아니므로 연산결과도 문자열 연산규칙을 따른다.\n",
    "pay = \"200000\"\n",
    "bonus = \"100\"\n",
    "print(pay + bonus)"
   ]
  },
  {
   "cell_type": "markdown",
   "id": "ad7cd3a7-5a7c-4a2a-a369-b145227a56eb",
   "metadata": {},
   "source": [
    "### 이스케이프 문자열 사용하기"
   ]
  },
  {
   "cell_type": "code",
   "execution_count": 5,
   "id": "5e1053e6-ede7-4723-9266-610f07813b30",
   "metadata": {},
   "outputs": [
    {
     "name": "stdout",
     "output_type": "stream",
     "text": [
      "Life is \"too\" short\n"
     ]
    }
   ],
   "source": [
    "# 쌍따옴표 안에 쌍따옴표 넣기 \n",
    "case1 = \"Life is \\\"too\\\" short\"\n",
    "print(case1)"
   ]
  },
  {
   "cell_type": "code",
   "execution_count": 6,
   "id": "e230279f-9433-4064-9c2a-d77846b0fdbd",
   "metadata": {},
   "outputs": [
    {
     "name": "stdout",
     "output_type": "stream",
     "text": [
      "Life is 'too' short\n"
     ]
    }
   ],
   "source": [
    "# 홑따옴표 안에 홑따옴표 넣기 \n",
    "case2 = 'Life is \\'too\\' short'\n",
    "print(case2)"
   ]
  },
  {
   "cell_type": "code",
   "execution_count": 7,
   "id": "2ad6245e-0c48-4ba9-8b70-dbc39c9c9a9a",
   "metadata": {},
   "outputs": [
    {
     "name": "stdout",
     "output_type": "stream",
     "text": [
      "You 'need' Python\n"
     ]
    }
   ],
   "source": [
    "# 따옴표의 쌍을 조절하는 방법\n",
    "case3 = \"You 'need' Python\"\n",
    "print(case3)"
   ]
  },
  {
   "cell_type": "code",
   "execution_count": 8,
   "id": "e4dc1200-a216-4718-b46c-fb5f3b57cc42",
   "metadata": {},
   "outputs": [
    {
     "name": "stdout",
     "output_type": "stream",
     "text": [
      "You \"need\" Python\n"
     ]
    }
   ],
   "source": [
    "case4 = 'You \"need\" Python'\n",
    "print(case4)"
   ]
  },
  {
   "cell_type": "code",
   "execution_count": 9,
   "id": "702946ad-dc42-4e08-a78a-02d4596de0b8",
   "metadata": {},
   "outputs": [
    {
     "name": "stdout",
     "output_type": "stream",
     "text": [
      "Life is too short\n",
      "You need Python\n"
     ]
    }
   ],
   "source": [
    "# 줄바굼 => \\n\n",
    "print(\"Life is too short\\nYou need Python\")"
   ]
  },
  {
   "cell_type": "code",
   "execution_count": 10,
   "id": "d8aa449a-cb68-46c8-a2b4-92712c741108",
   "metadata": {},
   "outputs": [
    {
     "name": "stdout",
     "output_type": "stream",
     "text": [
      "Life is too short\tYou need Python\n"
     ]
    }
   ],
   "source": [
    "# 탭키 => \\t\n",
    "print(\"Life is too short\\tYou need Python\")"
   ]
  },
  {
   "cell_type": "code",
   "execution_count": 11,
   "id": "278648bf-1c34-4970-acd0-b0f0466d3e9d",
   "metadata": {},
   "outputs": [
    {
     "name": "stdout",
     "output_type": "stream",
     "text": [
      "Life is too short\\You ned Python\n"
     ]
    }
   ],
   "source": [
    "# 순수한 역슬래시 출력 => \\\\\n",
    "print(\"Life is too short\\\\You ned Python\")"
   ]
  },
  {
   "cell_type": "markdown",
   "id": "c94f768e-576e-4337-8394-6d3bf0474a8a",
   "metadata": {},
   "source": [
    "### 문자열 인덱싱"
   ]
  },
  {
   "cell_type": "code",
   "execution_count": 12,
   "id": "b8a61034-c079-45e5-a50c-2b65de3686ad",
   "metadata": {},
   "outputs": [
    {
     "name": "stdout",
     "output_type": "stream",
     "text": [
      "e\n"
     ]
    }
   ],
   "source": [
    "str = \"Life is too short, You need Python\"\n",
    "\n",
    "# 3번째 문자열 추출 -> 0부터 카운트\n",
    "print(str[3])"
   ]
  },
  {
   "cell_type": "code",
   "execution_count": 13,
   "id": "0f6a2491-31c5-4d61-a223-160829afff3e",
   "metadata": {},
   "outputs": [
    {
     "name": "stdout",
     "output_type": "stream",
     "text": [
      "h\n"
     ]
    }
   ],
   "source": [
    "# 뒤에서 3번째 글자 추출 ==> -1 부터 카운트\n",
    "# (뒤에서 0과 -0은 같은 값이기 때문)\n",
    "print(str[-3])"
   ]
  },
  {
   "cell_type": "markdown",
   "id": "112d9973-b42a-48cc-ad28-41e2699f82de",
   "metadata": {},
   "source": [
    "### 문자열 슬라이싱 "
   ]
  },
  {
   "cell_type": "code",
   "execution_count": 14,
   "id": "d11dc03a-30c1-4456-8dc1-ea79d9af96d9",
   "metadata": {},
   "outputs": [
    {
     "name": "stdout",
     "output_type": "stream",
     "text": [
      "Lif\n"
     ]
    }
   ],
   "source": [
    "# 앞에서 0번째 부터 3번째 전까지의 문자열 추출\n",
    "print(str[0:3])"
   ]
  },
  {
   "cell_type": "code",
   "execution_count": 15,
   "id": "03f8d258-e1f2-4dbc-a61f-4efc9077505a",
   "metadata": {},
   "outputs": [
    {
     "name": "stdout",
     "output_type": "stream",
     "text": [
      "is\n"
     ]
    }
   ],
   "source": [
    "# 앞에서 5번째 부터 7번째 전까지의 문자 추출\n",
    "print(str[5:7])"
   ]
  },
  {
   "cell_type": "code",
   "execution_count": 16,
   "id": "cd6eca21-baf6-4d04-9be3-92a02440cc11",
   "metadata": {},
   "outputs": [
    {
     "name": "stdout",
     "output_type": "stream",
     "text": [
      "You need Python\n"
     ]
    }
   ],
   "source": [
    "# 앞에서 19번째부터 끝까지 추출\n",
    "print(str[19:])"
   ]
  },
  {
   "cell_type": "code",
   "execution_count": 17,
   "id": "ac88c9e1-754c-45cc-bf61-bb2ead1456b1",
   "metadata": {},
   "outputs": [
    {
     "name": "stdout",
     "output_type": "stream",
     "text": [
      "Life is too short\n"
     ]
    }
   ],
   "source": [
    "# 처음부터 앞에서 17번째 까지의 문자추출\n",
    "print(str[:17])"
   ]
  },
  {
   "cell_type": "code",
   "execution_count": 18,
   "id": "f0d2b4ee-4c34-47e9-813d-d89d354d23a8",
   "metadata": {},
   "outputs": [
    {
     "name": "stdout",
     "output_type": "stream",
     "text": [
      "Life is too short, You need Python\n"
     ]
    }
   ],
   "source": [
    "# 처음부터 끝까지 추출\n",
    "print(str[:])"
   ]
  },
  {
   "cell_type": "code",
   "execution_count": 19,
   "id": "2f91da05-30d8-4b2e-8d53-b2d011b26839",
   "metadata": {},
   "outputs": [
    {
     "name": "stdout",
     "output_type": "stream",
     "text": [
      "You need\n"
     ]
    }
   ],
   "source": [
    "# 앞에서 19번째부터 뒤에서 -7번째 다음까지 추출\n",
    "print(str[19:-7])"
   ]
  },
  {
   "cell_type": "markdown",
   "id": "cb7753ba-84d5-458e-a8d8-b315cab9b4db",
   "metadata": {},
   "source": [
    "### 문자열 슬라이싱 활용 예시 "
   ]
  },
  {
   "cell_type": "code",
   "execution_count": 20,
   "id": "cf93fcdd-f53b-44d2-80df-c8ab803d92ad",
   "metadata": {},
   "outputs": [
    {
     "name": "stdout",
     "output_type": "stream",
     "text": [
      "800527\n",
      "1\n"
     ]
    }
   ],
   "source": [
    "# [응용] 글자수가 정해져 있는 경우 활요도 높음\n",
    "# ex) \"80년05월27일 남자\"의 주민번호 일부\n",
    "jumin = \"8005271\"\n",
    "birth = jumin[:6]\n",
    "gender = jumin[6:]\n",
    "print(birth)\n",
    "print(gender)"
   ]
  },
  {
   "cell_type": "code",
   "execution_count": 21,
   "id": "6640b12c-5055-4bcd-99ad-9dedf894e5a1",
   "metadata": {},
   "outputs": [
    {
     "name": "stdout",
     "output_type": "stream",
     "text": [
      "1980\n",
      "05\n",
      "27\n"
     ]
    }
   ],
   "source": [
    "# 태어난 년도, 월, 일\n",
    "year = \"19\" + birth[:2]\n",
    "month = birth[2:4]\n",
    "day = birth[4:6]\n",
    "print(year)\n",
    "print(month)\n",
    "print(day)"
   ]
  },
  {
   "cell_type": "code",
   "execution_count": null,
   "id": "d448fcf8-e3a4-43b2-b0f4-5f236a589336",
   "metadata": {},
   "outputs": [],
   "source": []
  }
 ],
 "metadata": {
  "kernelspec": {
   "display_name": "Python 3 (ipykernel)",
   "language": "python",
   "name": "python3"
  },
  "language_info": {
   "codemirror_mode": {
    "name": "ipython",
    "version": 3
   },
   "file_extension": ".py",
   "mimetype": "text/x-python",
   "name": "python",
   "nbconvert_exporter": "python",
   "pygments_lexer": "ipython3",
   "version": "3.9.5"
  }
 },
 "nbformat": 4,
 "nbformat_minor": 5
}
