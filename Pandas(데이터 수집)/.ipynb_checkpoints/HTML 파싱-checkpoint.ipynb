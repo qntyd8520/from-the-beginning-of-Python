{
 "cells": [
  {
   "cell_type": "markdown",
   "id": "8846ef08-b45d-4e2a-b504-82c99ecff14b",
   "metadata": {},
   "source": [
    "## BeautifulSoup을 활용한 HTML 파싱"
   ]
  },
  {
   "cell_type": "code",
   "execution_count": 2,
   "id": "abd15f16-7122-436e-80c8-de14ec5bbeef",
   "metadata": {},
   "outputs": [],
   "source": [
    "import requests\n",
    "from bs4 import BeautifulSoup"
   ]
  },
  {
   "cell_type": "markdown",
   "id": "ca6705c4-71d6-4f75-92b0-bb60b2b6a0a7",
   "metadata": {},
   "source": [
    "#### requests 모듈로 웹 페이지 코드 가져오기"
   ]
  },
  {
   "cell_type": "code",
   "execution_count": 3,
   "id": "f50b7f19-dd65-48f7-9440-01a1fd4258c6",
   "metadata": {},
   "outputs": [
    {
     "data": {
      "text/plain": [
       "{'User-agent': 'Mozilla/5.0 (Windows NT 10.0; Win64; x64) AppleWebKit/537.36 (KHTML, like Gecko) Chrome/77.0.3865.120 Safari/537.36',\n",
       " 'referer': None}"
      ]
     },
     "execution_count": 3,
     "metadata": {},
     "output_type": "execute_result"
    }
   ],
   "source": [
    "# requests 모듈에 추가할 HTTP 헤더정보 설정\n",
    "\n",
    "user_agent = \"Mozilla/5.0 (Windows NT 10.0; Win64; x64) AppleWebKit/537.36 (KHTML, like Gecko) Chrome/77.0.3865.120 Safari/537.36\"\n",
    "header_info = {'User-agent': user_agent, 'referer': None}\n",
    "header_info"
   ]
  },
  {
   "cell_type": "code",
   "execution_count": 4,
   "id": "7780b30d-1e2c-46c7-972c-e70e2e6e59d2",
   "metadata": {},
   "outputs": [
    {
     "data": {
      "text/plain": [
       "'<!DOCTYPE html>\\n<html lang=\"ko\">\\n\\n<head>\\n    <meta charset=\"UTF-8\">\\n    <meta name=\"viewport\" content=\"width=device-width,initial-scale=1.0,minimum-scale=1.0,maximum-scale=1.0,user-scalable=no\">\\n    <title>BeautifulSoup Sample</title>\\n    <style type=\"text/css\">\\n        * { padding: 5px; margin: 5px auto; list-style: none; }\\n        div#container { border: 3px dashed #ff00ff; }\\n        div#container > h1#title { border: 3px dashed #ff6600; }\\n        div#container div.box { border: 3px solid #ffff00; }\\n        div#container > ul { border: 3px solid #00ff00; }\\n        div#container > ul > li { border: 3px dotted #3438af; font-size: 18px; }\\n        p, pre { border: 1px solid #555; font-size: 16px; color: #f60;}\\n        i {font-size: 12px;}\\n    </style>\\n</head>\\n\\n<body>\\n    <div id=\"container\">\\n        <h1 id=\"title\">Hello World</h1>\\n        <div class=\"box\">이 웹 페이지는 CSS 선택자 실습을 위한 샘플 페이지 입니다.</div>\\n        <ul class=\"list-container\">\\n            <li class=\"list-item\">JAVA</li>\\n            <li class=\"list-item\">HTML,CSS</li>\\n            <li class=\"list-item\">Javascript,jQuery</li>\\n            <li class=\"list-item\">JSP,Spring</li>\\n            <li class=\"list-item\">Python</li>\\n        </ul>\\n        <p class=\"article hello\">안녕하세요. <i>Hello.</i></p>\\n        <p class=\"article welcome\">어서오세요. <i>Welcome</i></p>\\n        <p class=\"article say\">샘플 웹 페이지 입니다. <i>This is sample web page.</i></p>\\n        <a href=\"https://www.naver.com\" class=\"link\">네이버</a>\\n        <a href=\"https://www.daum.net\" class=\"link\">다음</a>\\n        <a href=\"https://www.google.com\" class=\"link\">구글</a>\\n        <footer><i>copyright&copy;itpaper.co.kr</i></footer>\\n    </div>\\n</body>\\n\\n</html>\\n\\n\\n'"
      ]
     },
     "execution_count": 4,
     "metadata": {},
     "output_type": "execute_result"
    }
   ],
   "source": [
    "# 웹 페이지의 HTML 소스코드 가져오기\n",
    "\n",
    "r = requests.get(\"http://itpaper.co.kr/data/selector.html\", headers=header_info)\n",
    "\n",
    "# 결과 검사\n",
    "if r.status_code != 200:\n",
    "    # 에러코드와 에러메시지를 문자열로 구성\n",
    "    err_msg = \"%d %s 에러가 발생했습니다.\" % (r.status_code, r.reason)\n",
    "    # 강제로 에러를 발생시킨다.\n",
    "    raise Exception(err_msg)\n",
    "    \n",
    "r.encoding=\"utf-8\"\n",
    "html = r.text\n",
    "html"
   ]
  },
  {
   "cell_type": "code",
   "execution_count": 5,
   "id": "25092d19-fbc8-4f77-8337-4fe043b5a3a9",
   "metadata": {},
   "outputs": [
    {
     "data": {
      "text/plain": [
       "<!DOCTYPE html>\n",
       "\n",
       "<html lang=\"ko\">\n",
       "<head>\n",
       "<meta charset=\"utf-8\"/>\n",
       "<meta content=\"width=device-width,initial-scale=1.0,minimum-scale=1.0,maximum-scale=1.0,user-scalable=no\" name=\"viewport\"/>\n",
       "<title>BeautifulSoup Sample</title>\n",
       "<style type=\"text/css\">\n",
       "        * { padding: 5px; margin: 5px auto; list-style: none; }\n",
       "        div#container { border: 3px dashed #ff00ff; }\n",
       "        div#container > h1#title { border: 3px dashed #ff6600; }\n",
       "        div#container div.box { border: 3px solid #ffff00; }\n",
       "        div#container > ul { border: 3px solid #00ff00; }\n",
       "        div#container > ul > li { border: 3px dotted #3438af; font-size: 18px; }\n",
       "        p, pre { border: 1px solid #555; font-size: 16px; color: #f60;}\n",
       "        i {font-size: 12px;}\n",
       "    </style>\n",
       "</head>\n",
       "<body>\n",
       "<div id=\"container\">\n",
       "<h1 id=\"title\">Hello World</h1>\n",
       "<div class=\"box\">이 웹 페이지는 CSS 선택자 실습을 위한 샘플 페이지 입니다.</div>\n",
       "<ul class=\"list-container\">\n",
       "<li class=\"list-item\">JAVA</li>\n",
       "<li class=\"list-item\">HTML,CSS</li>\n",
       "<li class=\"list-item\">Javascript,jQuery</li>\n",
       "<li class=\"list-item\">JSP,Spring</li>\n",
       "<li class=\"list-item\">Python</li>\n",
       "</ul>\n",
       "<p class=\"article hello\">안녕하세요. <i>Hello.</i></p>\n",
       "<p class=\"article welcome\">어서오세요. <i>Welcome</i></p>\n",
       "<p class=\"article say\">샘플 웹 페이지 입니다. <i>This is sample web page.</i></p>\n",
       "<a class=\"link\" href=\"https://www.naver.com\">네이버</a>\n",
       "<a class=\"link\" href=\"https://www.daum.net\">다음</a>\n",
       "<a class=\"link\" href=\"https://www.google.com\">구글</a>\n",
       "<footer><i>copyright©itpaper.co.kr</i></footer>\n",
       "</div>\n",
       "</body>\n",
       "</html>"
      ]
     },
     "execution_count": 5,
     "metadata": {},
     "output_type": "execute_result"
    }
   ],
   "source": [
    "# BeautifulSoup 객체 생성\n",
    "\n",
    "soup = BeautifulSoup(html, 'html.parser')\n",
    "soup"
   ]
  },
  {
   "cell_type": "markdown",
   "id": "c80fc446-850d-48df-a9aa-c0c3937cf966",
   "metadata": {},
   "source": [
    "### HTML 요소 추출하기"
   ]
  },
  {
   "cell_type": "markdown",
   "id": "0715a55b-eda6-4198-8526-563284b9e6e0",
   "metadata": {},
   "source": [
    "#### id값에 의한 접근"
   ]
  },
  {
   "cell_type": "code",
   "execution_count": 7,
   "id": "4d012049-bd36-43d2-914b-383b18b7e237",
   "metadata": {},
   "outputs": [
    {
     "data": {
      "text/plain": [
       "[<h1 id=\"title\">Hello World</h1>]"
      ]
     },
     "execution_count": 7,
     "metadata": {},
     "output_type": "execute_result"
    }
   ],
   "source": [
    "# id값을 활용하여 HTML 요소 추출하기\n",
    "\n",
    "title = soup.select(\"#title\")\n",
    "\n",
    "# 결과 검사\n",
    "if len(title) == 0:\n",
    "    # 에러코드와 에러메시지를 문자열로 구성\n",
    "    err_msg = \"지정된 선택자에 대해서 인식된 구조가 없습니다.\"\n",
    "    # 강제로 에러를 발생시킨다.\n",
    "    raise Exception(err_msg)\n",
    "    \n",
    "title"
   ]
  },
  {
   "cell_type": "code",
   "execution_count": 8,
   "id": "9865c884-5d1e-441a-8a69-80ef83537809",
   "metadata": {},
   "outputs": [
    {
     "name": "stdout",
     "output_type": "stream",
     "text": [
      "<class 'bs4.element.Tag'>\n",
      "<h1 id=\"title\">Hello World</h1>\n"
     ]
    }
   ],
   "source": [
    "# 추출결과에서 HTML 태그 얻기\n",
    "\n",
    "tag = title[0]\n",
    "print(type(tag))\n",
    "print(tag)"
   ]
  },
  {
   "cell_type": "code",
   "execution_count": 9,
   "id": "84c3e9e3-f471-4904-adfb-30c47c02fef1",
   "metadata": {},
   "outputs": [
    {
     "data": {
      "text/plain": [
       "'Hello World'"
      ]
     },
     "execution_count": 9,
     "metadata": {},
     "output_type": "execute_result"
    }
   ],
   "source": [
    "# 태그 안의 내용만 꺼내기\n",
    "\n",
    "content = tag.text.strip()\n",
    "content"
   ]
  },
  {
   "cell_type": "markdown",
   "id": "b668846b-e81a-486d-8c8e-a3d24c76b5c0",
   "metadata": {},
   "source": [
    "#### class 속성에 의한 접근"
   ]
  },
  {
   "cell_type": "code",
   "execution_count": 10,
   "id": "cdb3f2aa-3131-4eb7-977a-abcb87ea837b",
   "metadata": {},
   "outputs": [
    {
     "data": {
      "text/plain": [
       "[<div class=\"box\">이 웹 페이지는 CSS 선택자 실습을 위한 샘플 페이지 입니다.</div>]"
      ]
     },
     "execution_count": 10,
     "metadata": {},
     "output_type": "execute_result"
    }
   ],
   "source": [
    "# class 속성을 갖는 단일 원소에 접근하기\n",
    "\n",
    "box = soup.select(\".box\")\n",
    "\n",
    "# 결과 검사\n",
    "if len(box) == 0:\n",
    "    # 에러코드와 에러메시지를 문자열로 구성\n",
    "    err_msg = \"지정된 선택자에 대해서 인식된 구조가 없습니다.\"\n",
    "    # 강제로 에러를 발생시킨다.\n",
    "    raise Exception(err_msg)\n",
    "\n",
    "box"
   ]
  },
  {
   "cell_type": "code",
   "execution_count": 11,
   "id": "871e8813-4900-4a06-bf95-6cd627fddb31",
   "metadata": {},
   "outputs": [
    {
     "data": {
      "text/plain": [
       "'이 웹 페이지는 CSS 선택자 실습을 위한 샘플 페이지 입니다.'"
      ]
     },
     "execution_count": 11,
     "metadata": {},
     "output_type": "execute_result"
    }
   ],
   "source": [
    "# 접근한 원소의 텍스트 추출하기\n",
    "\n",
    "content = box[0].text.strip()\n",
    "content"
   ]
  },
  {
   "cell_type": "code",
   "execution_count": 15,
   "id": "41b2f83c-7a84-4efa-adf2-c698a284d616",
   "metadata": {},
   "outputs": [
    {
     "data": {
      "text/plain": [
       "[<li class=\"list-item\">JAVA</li>,\n",
       " <li class=\"list-item\">HTML,CSS</li>,\n",
       " <li class=\"list-item\">Javascript,jQuery</li>,\n",
       " <li class=\"list-item\">JSP,Spring</li>,\n",
       " <li class=\"list-item\">Python</li>]"
      ]
     },
     "execution_count": 15,
     "metadata": {},
     "output_type": "execute_result"
    }
   ],
   "source": [
    "# 복수 원소에 대한 class 속성\n",
    "\n",
    "item = soup.select(\".list-item\")\n",
    "\n",
    "# 결과 검사\n",
    "if len(item) == 0:\n",
    "    # 에러코드와 에러메시지를 문자열로 구성\n",
    "    err_msg = \"지정된 선택자에 대해서 인식된 구조가 없습니다.\"\n",
    "    # 강제로 에러를 발생시킨다.\n",
    "    raise Exception(err_msg)\n",
    "    \n",
    "item"
   ]
  },
  {
   "cell_type": "code",
   "execution_count": 16,
   "id": "89c7b351-a366-442b-a8c8-d2072178bf71",
   "metadata": {},
   "outputs": [
    {
     "data": {
      "text/plain": [
       "['JAVA', 'HTML,CSS', 'Javascript,jQuery', 'JSP,Spring', 'Python']"
      ]
     },
     "execution_count": 16,
     "metadata": {},
     "output_type": "execute_result"
    }
   ],
   "source": [
    "# 접근한 원소들로부터 텍스트 추출하기\n",
    "\n",
    "item_text = []\n",
    "\n",
    "for i in item:\n",
    "    k = i.text.strip()\n",
    "    item_text.append(k)\n",
    "\n",
    "item_text"
   ]
  },
  {
   "cell_type": "code",
   "execution_count": 17,
   "id": "271b226f-bb80-4137-bbb6-ac6429ebb389",
   "metadata": {},
   "outputs": [
    {
     "data": {
      "text/plain": [
       "[<p class=\"article hello\">안녕하세요. <i>Hello.</i></p>,\n",
       " <p class=\"article welcome\">어서오세요. <i>Welcome</i></p>,\n",
       " <p class=\"article say\">샘플 웹 페이지 입니다. <i>This is sample web page.</i></p>]"
      ]
     },
     "execution_count": 17,
     "metadata": {},
     "output_type": "execute_result"
    }
   ],
   "source": [
    "# 하나의 HTML 태그가 복수의 class 값을 갖는 경우\n",
    "\n",
    "article = soup.select(\".article\")\n",
    "\n",
    "# 결과 검사\n",
    "if len(article) == 0:\n",
    "    # 에러코드와 에러메시지를 문자열로 구성\n",
    "    err_msg = \"지정된 선택자에 대해서 인식된 구조가 없습니다.\"\n",
    "    # 강제로 에러를 발생시킨다.\n",
    "    raise Exception(err_msg)\n",
    "\n",
    "article"
   ]
  },
  {
   "cell_type": "code",
   "execution_count": 18,
   "id": "eb6bdaad-80cb-4c24-a135-317af6ce1eb0",
   "metadata": {},
   "outputs": [
    {
     "name": "stdout",
     "output_type": "stream",
     "text": [
      "안녕하세요. Hello.\n",
      "어서오세요. Welcome\n",
      "샘플 웹 페이지 입니다. This is sample web page.\n"
     ]
    }
   ],
   "source": [
    "# 접근한 원소로부터 텍스트 추출하기\n",
    "\n",
    "for i in article:\n",
    "    k = i.text.strip()\n",
    "    print(k)"
   ]
  },
  {
   "cell_type": "markdown",
   "id": "c31d89d6-2822-453f-b1b2-cb360c6bd84d",
   "metadata": {},
   "source": [
    "#### 태그 이름으로 접근하기"
   ]
  },
  {
   "cell_type": "code",
   "execution_count": 19,
   "id": "816eb4fb-5800-409a-9513-57e9a297a18f",
   "metadata": {},
   "outputs": [
    {
     "data": {
      "text/plain": [
       "[<i>Hello.</i>,\n",
       " <i>Welcome</i>,\n",
       " <i>This is sample web page.</i>,\n",
       " <i>copyright©itpaper.co.kr</i>]"
      ]
     },
     "execution_count": 19,
     "metadata": {},
     "output_type": "execute_result"
    }
   ],
   "source": [
    "# 모든 <i> 태그 가져오기 \n",
    "\n",
    "italic = soup.select(\"i\")\n",
    "italic"
   ]
  },
  {
   "cell_type": "code",
   "execution_count": 20,
   "id": "392ce1bf-c189-4d0e-b496-b4d577dad62d",
   "metadata": {},
   "outputs": [
    {
     "name": "stdout",
     "output_type": "stream",
     "text": [
      "Hello.\n",
      "Welcome\n",
      "This is sample web page.\n",
      "copyright©itpaper.co.kr\n"
     ]
    }
   ],
   "source": [
    "# 추출한 태그 리스트에 대한 반복처리\n",
    "\n",
    "for i in italic:\n",
    "    k = i.text.strip()\n",
    "    print(k)"
   ]
  },
  {
   "cell_type": "markdown",
   "id": "b8eec168-5cad-4e7d-b2f0-08592d62d97e",
   "metadata": {},
   "source": [
    "#### 자식 선택자"
   ]
  },
  {
   "cell_type": "code",
   "execution_count": 22,
   "id": "af394ef3-9402-4403-a96b-193f4bc93e69",
   "metadata": {},
   "outputs": [
    {
     "data": {
      "text/plain": [
       "[<i>Hello.</i>, <i>Welcome</i>, <i>This is sample web page.</i>]"
      ]
     },
     "execution_count": 22,
     "metadata": {},
     "output_type": "execute_result"
    }
   ],
   "source": [
    "# 예시 1번\n",
    "\n",
    "article_i = soup.select(\"#container > .article > i\")\n",
    "article_i"
   ]
  },
  {
   "cell_type": "code",
   "execution_count": 23,
   "id": "e760b234-688b-4dfc-95e5-25217949164b",
   "metadata": {},
   "outputs": [
    {
     "data": {
      "text/plain": [
       "[<h1 id=\"title\">Hello World</h1>]"
      ]
     },
     "execution_count": 23,
     "metadata": {},
     "output_type": "execute_result"
    }
   ],
   "source": [
    "# 예시 2번\n",
    "\n",
    "# 에러 검사는 생략하고 바로 출력\n",
    "title = soup.select(\"#container > #title\")\n",
    "title"
   ]
  },
  {
   "cell_type": "code",
   "execution_count": 24,
   "id": "dad7859b-1636-4534-b354-def14c4362b0",
   "metadata": {},
   "outputs": [
    {
     "data": {
      "text/plain": [
       "[<h1 id=\"title\">Hello World</h1>]"
      ]
     },
     "execution_count": 24,
     "metadata": {},
     "output_type": "execute_result"
    }
   ],
   "source": [
    "# 예시 3번\n",
    "\n",
    "# 에러 검사는 생략하고 바로 출력\n",
    "title = soup.select(\"#container > #title\")\n",
    "title"
   ]
  },
  {
   "cell_type": "markdown",
   "id": "82730bc5-6b2e-42d5-88f7-562425609f97",
   "metadata": {},
   "source": [
    "#### 자손 선택자"
   ]
  },
  {
   "cell_type": "code",
   "execution_count": 25,
   "id": "aedf20ea-7e15-4b57-bebe-14a725f11b75",
   "metadata": {},
   "outputs": [
    {
     "data": {
      "text/plain": [
       "[<li class=\"list-item\">JAVA</li>,\n",
       " <li class=\"list-item\">HTML,CSS</li>,\n",
       " <li class=\"list-item\">Javascript,jQuery</li>,\n",
       " <li class=\"list-item\">JSP,Spring</li>,\n",
       " <li class=\"list-item\">Python</li>]"
      ]
     },
     "execution_count": 25,
     "metadata": {},
     "output_type": "execute_result"
    }
   ],
   "source": [
    "# 자손 선택자를 활용한 목록 정의 태그 추출\n",
    "\n",
    "# 에러 검사는 생략하고 바로 출력\n",
    "list_item = soup.select(\"#container  .list-item\")\n",
    "list_item"
   ]
  },
  {
   "cell_type": "markdown",
   "id": "122213d6-0ae5-4545-8fc9-31f7cb448081",
   "metadata": {},
   "source": [
    "#### 두 개 이상의 선택자를 복수로 지정하기"
   ]
  },
  {
   "cell_type": "code",
   "execution_count": 26,
   "id": "2a70c6ed-747f-4eaa-8176-3c9181a3134a",
   "metadata": {},
   "outputs": [
    {
     "data": {
      "text/plain": [
       "[<h1 id=\"title\">Hello World</h1>,\n",
       " <div class=\"box\">이 웹 페이지는 CSS 선택자 실습을 위한 샘플 페이지 입니다.</div>]"
      ]
     },
     "execution_count": 26,
     "metadata": {},
     "output_type": "execute_result"
    }
   ],
   "source": [
    "# #title 요소와 .box 요소 복수로 지정하기\n",
    "\n",
    "# 에러 검사는 생략하고 바로 출력\n",
    "title_box = soup.select(\"#title, #container > .box\")\n",
    "title_box"
   ]
  },
  {
   "cell_type": "markdown",
   "id": "deb0bf7c-b3fc-463f-aee8-d4581dafab6b",
   "metadata": {},
   "source": [
    "#### 두 개 이상의 class가 복수로 지정된 요소"
   ]
  },
  {
   "cell_type": "code",
   "execution_count": 27,
   "id": "c00d1391-7f30-442e-a739-0a7dfe810771",
   "metadata": {},
   "outputs": [
    {
     "data": {
      "text/plain": [
       "[<p class=\"article say\">샘플 웹 페이지 입니다. <i>This is sample web page.</i></p>]"
      ]
     },
     "execution_count": 27,
     "metadata": {},
     "output_type": "execute_result"
    }
   ],
   "source": [
    "# class 속성이 .article 이면서 .say인 어떤요소\n",
    "\n",
    "# 에러 검사는 생략하고 바로 출력\n",
    "article_item = soup.select(\".article.say\")\n",
    "article_item"
   ]
  },
  {
   "cell_type": "code",
   "execution_count": 28,
   "id": "a37654b4-3157-4759-add3-78b94b3d8cf4",
   "metadata": {},
   "outputs": [
    {
     "data": {
      "text/plain": [
       "[<p class=\"article say\">샘플 웹 페이지 입니다. <i>This is sample web page.</i></p>]"
      ]
     },
     "execution_count": 28,
     "metadata": {},
     "output_type": "execute_result"
    }
   ],
   "source": [
    "# class 속성이 .say인 <p> 태그\n",
    "\n",
    "article_item = soup.select(\"p.say\")\n",
    "article_item"
   ]
  },
  {
   "cell_type": "markdown",
   "id": "916138ff-ca69-4fe4-adf6-d2e3a796fcc6",
   "metadata": {},
   "source": [
    "#### 하나의 요소를 지정하는 다양한 표현 방법"
   ]
  },
  {
   "cell_type": "code",
   "execution_count": 31,
   "id": "0512a37c-3d23-4c25-b476-e8a3aa2538dd",
   "metadata": {},
   "outputs": [
    {
     "data": {
      "text/plain": [
       "[<a class=\"link\" href=\"https://www.naver.com\">네이버</a>,\n",
       " <a class=\"link\" href=\"https://www.daum.net\">다음</a>,\n",
       " <a class=\"link\" href=\"https://www.google.com\">구글</a>]"
      ]
     },
     "execution_count": 31,
     "metadata": {},
     "output_type": "execute_result"
    }
   ],
   "source": [
    "# 태그 이름으로 접근\n",
    "\n",
    "link = soup.select(\"a\")\n",
    "link"
   ]
  },
  {
   "cell_type": "code",
   "execution_count": 32,
   "id": "39589856-e9ed-4e21-9a21-64099607949c",
   "metadata": {},
   "outputs": [
    {
     "data": {
      "text/plain": [
       "[<a class=\"link\" href=\"https://www.naver.com\">네이버</a>,\n",
       " <a class=\"link\" href=\"https://www.daum.net\">다음</a>,\n",
       " <a class=\"link\" href=\"https://www.google.com\">구글</a>]"
      ]
     },
     "execution_count": 32,
     "metadata": {},
     "output_type": "execute_result"
    }
   ],
   "source": [
    "# 클래스로 접근\n",
    "\n",
    "link = soup.select(\".link\")\n",
    "link"
   ]
  },
  {
   "cell_type": "code",
   "execution_count": 33,
   "id": "81066e4b-9a4a-4df2-ab41-75ce1b115f60",
   "metadata": {},
   "outputs": [
    {
     "data": {
      "text/plain": [
       "[<a class=\"link\" href=\"https://www.naver.com\">네이버</a>,\n",
       " <a class=\"link\" href=\"https://www.daum.net\">다음</a>,\n",
       " <a class=\"link\" href=\"https://www.google.com\">구글</a>]"
      ]
     },
     "execution_count": 33,
     "metadata": {},
     "output_type": "execute_result"
    }
   ],
   "source": [
    "# 태그 이름과 클래스 속성을 함께 적용\n",
    "\n",
    "link = soup.select(\".link\")\n",
    "link"
   ]
  },
  {
   "cell_type": "code",
   "execution_count": 34,
   "id": "f8337a68-6540-4363-b266-2eaebce627ff",
   "metadata": {},
   "outputs": [
    {
     "data": {
      "text/plain": [
       "[<a class=\"link\" href=\"https://www.naver.com\">네이버</a>,\n",
       " <a class=\"link\" href=\"https://www.daum.net\">다음</a>,\n",
       " <a class=\"link\" href=\"https://www.google.com\">구글</a>]"
      ]
     },
     "execution_count": 34,
     "metadata": {},
     "output_type": "execute_result"
    }
   ],
   "source": [
    "# 특정 속성을 갖는 요소 지정하기\n",
    "\n",
    "link = soup.select(\"a[href]\")\n",
    "link"
   ]
  },
  {
   "cell_type": "code",
   "execution_count": 35,
   "id": "21c884b8-3fb0-4ba0-9fb5-8907db2c6b74",
   "metadata": {},
   "outputs": [
    {
     "data": {
      "text/plain": [
       "[<a class=\"link\" href=\"https://www.google.com\">구글</a>]"
      ]
     },
     "execution_count": 35,
     "metadata": {},
     "output_type": "execute_result"
    }
   ],
   "source": [
    "# HTML 속성에 특정 값이 적용되어있는 경우\n",
    "\n",
    "link = soup.select(\"a[href='https://www.google.com']\")\n",
    "link"
   ]
  },
  {
   "cell_type": "markdown",
   "id": "a3ec1e78-24e4-4a16-95a5-607258982565",
   "metadata": {},
   "source": [
    "### 추출한 요소에서 속성값을 얻어오기"
   ]
  },
  {
   "cell_type": "code",
   "execution_count": 36,
   "id": "2a618f8f-4ed5-491f-b91f-cf3672f8a852",
   "metadata": {},
   "outputs": [
    {
     "name": "stdout",
     "output_type": "stream",
     "text": [
      "{'href': 'https://www.naver.com', 'class': ['link']}\n",
      "{'href': 'https://www.daum.net', 'class': ['link']}\n",
      "{'href': 'https://www.google.com', 'class': ['link']}\n"
     ]
    },
    {
     "data": {
      "text/plain": [
       "['https://www.naver.com', 'https://www.daum.net', 'https://www.google.com']"
      ]
     },
     "execution_count": 36,
     "metadata": {},
     "output_type": "execute_result"
    }
   ],
   "source": [
    "# .link라는 클래스를 갖는 <a>태그 추출하기\n",
    "\n",
    "# 추출한 속성값을 모아놓기 위한 빈 리스트\n",
    "url = []\n",
    "\n",
    "# 웹 페이지에서 .link라는 클래스를 갖는 <a>태그 추출\n",
    "link = soup.select(\"a.link\")\n",
    "\n",
    "# 추출된 원소 수 만큼 반복\n",
    "for item in link:\n",
    "    # 추출된 원소의 속성들 출력하기 -> 딕셔너리 구조\n",
    "    print(item.attrs)\n",
    "    \n",
    "    # 속성 중에 `href`라는 속성이 있다면?\n",
    "    if \"href\" in item.attrs:\n",
    "        # 그 값만 미리 준비한 빈 리스트에 모아놓는다.\n",
    "        url.append(item.attrs[\"href\"])\n",
    "\n",
    "# 결과 확인\n",
    "url"
   ]
  },
  {
   "cell_type": "markdown",
   "id": "407d3ee9-4e56-4b96-a212-3a5c051f3eb9",
   "metadata": {},
   "source": [
    "### 이미 추출한 객체의 하위 원소 추출하기"
   ]
  },
  {
   "cell_type": "code",
   "execution_count": 37,
   "id": "a1679ebe-2714-41e1-823c-2cebd9465623",
   "metadata": {},
   "outputs": [
    {
     "data": {
      "text/plain": [
       "[<ul class=\"list-container\">\n",
       " <li class=\"list-item\">JAVA</li>\n",
       " <li class=\"list-item\">HTML,CSS</li>\n",
       " <li class=\"list-item\">Javascript,jQuery</li>\n",
       " <li class=\"list-item\">JSP,Spring</li>\n",
       " <li class=\"list-item\">Python</li>\n",
       " </ul>]"
      ]
     },
     "execution_count": 37,
     "metadata": {},
     "output_type": "execute_result"
    }
   ],
   "source": [
    "# 클래스가 .list-container인 요소 얻기\n",
    "\n",
    "list_container = soup.select(\".list-container\")\n",
    "list_container"
   ]
  },
  {
   "cell_type": "code",
   "execution_count": 38,
   "id": "11ebaa16-9903-4c8a-83d9-2cc219c6a524",
   "metadata": {},
   "outputs": [
    {
     "name": "stdout",
     "output_type": "stream",
     "text": [
      "[<li class=\"list-item\">JAVA</li>, <li class=\"list-item\">HTML,CSS</li>, <li class=\"list-item\">Javascript,jQuery</li>, <li class=\"list-item\">JSP,Spring</li>, <li class=\"list-item\">Python</li>]\n",
      "--------------------\n",
      "JAVA\n",
      "HTML,CSS\n",
      "Javascript,jQuery\n",
      "JSP,Spring\n",
      "Python\n"
     ]
    }
   ],
   "source": [
    "# 원소 수 만큼 반복하면서 클래스가 .list-item인 하위 요소 추출\n",
    "\n",
    "for item in list_container:\n",
    "    li = item.select(\".list-item\")\n",
    "    print(li)\n",
    "    print(\"--\" * 10)\n",
    "    \n",
    "    for li_item in li:\n",
    "        print(li_item.text.strip())"
   ]
  },
  {
   "cell_type": "code",
   "execution_count": null,
   "id": "3bd30cf6-7d22-4bb1-9aa3-acda43f039e7",
   "metadata": {},
   "outputs": [],
   "source": []
  }
 ],
 "metadata": {
  "kernelspec": {
   "display_name": "Python 3 (ipykernel)",
   "language": "python",
   "name": "python3"
  },
  "language_info": {
   "codemirror_mode": {
    "name": "ipython",
    "version": 3
   },
   "file_extension": ".py",
   "mimetype": "text/x-python",
   "name": "python",
   "nbconvert_exporter": "python",
   "pygments_lexer": "ipython3",
   "version": "3.9.5"
  }
 },
 "nbformat": 4,
 "nbformat_minor": 5
}
