{
 "cells": [
  {
   "cell_type": "markdown",
   "id": "846c585e-a107-4f34-aac3-d1ba957789de",
   "metadata": {},
   "source": [
    "### JSON에서 데이터 추출하기"
   ]
  },
  {
   "cell_type": "markdown",
   "id": "c9e793b8-39c7-4cd2-8215-c1ee35c2ab28",
   "metadata": {},
   "source": [
    "#### 간단한 JSON 가져오기"
   ]
  },
  {
   "cell_type": "code",
   "execution_count": 1,
   "id": "d259b0d0-cedd-46f2-9af8-0454abac88e7",
   "metadata": {},
   "outputs": [],
   "source": [
    "import requests\n",
    "\n",
    "import json\n",
    "import pandas as pd\n",
    "import matplotlib.pyplot as plt"
   ]
  },
  {
   "cell_type": "code",
   "execution_count": 2,
   "id": "12d8dc38-e13e-4886-8993-a7af59a8656f",
   "metadata": {},
   "outputs": [],
   "source": [
    "# JSON 데이터의 URL지정\n",
    "\n",
    "simple_json_url = \"http://itpaper.co.kr/data/simple.json\""
   ]
  },
  {
   "cell_type": "code",
   "execution_count": 3,
   "id": "56101ce4-a65c-46a8-af7e-92c248f05b99",
   "metadata": {},
   "outputs": [],
   "source": [
    "# 접속에 필요한 header 정보 생성\n",
    "\n",
    "# 브라우저 버전 정보\n",
    "user_agent = \"Mozilla/5.0 (Windows NT 10.0; Win64; x64) AppleWebKit/537.36 (KHTML, like Gecko) Chrome/77.0.3865.120 Safari/537.36\"\n",
    "\n",
    "# http 헤더 정보 구성\n",
    "header_info = {'User-agent': user_agent, 'referer': None}\n"
   ]
  },
  {
   "cell_type": "code",
   "execution_count": 4,
   "id": "7a297e2c-85ab-4ab2-85ec-55129970faf3",
   "metadata": {},
   "outputs": [
    {
     "data": {
      "text/plain": [
       "'{\\n    \"name\": \"갤럭시 S6\",\\n    \"type\": \"삼성\",\\n    \"img\": \"http://itpaper.co.kr/demo/app/img/GalaxyS6.png\"\\n}'"
      ]
     },
     "execution_count": 4,
     "metadata": {},
     "output_type": "execute_result"
    }
   ],
   "source": [
    "# JSON 데이터 가져오기\n",
    "\n",
    "# 데이터 가져오기\n",
    "r = requests.get(simple_json_url, headers=header_info)\n",
    "\n",
    "# 결과 검사 \n",
    "# 접속 성공/실패 여부 확인\n",
    "if r.status_code != 200:\n",
    "    # 에러코드와 에러메시지 출력\n",
    "    # 에러코드와 에러메시지를 문자열로 구성\n",
    "    err_msg = \"%d %s 에러가 발생했습니다.\" % (r.status_code, r.reason)\n",
    "    raise Exception(err_msg)\n",
    "    \n",
    "# 인코딩 형식 지정\n",
    "r.encoding = \"utf8\"\n",
    "\n",
    "# 결과 출력\n",
    "r.text"
   ]
  },
  {
   "cell_type": "code",
   "execution_count": 5,
   "id": "55e50cd8-ae35-41f9-ab86-b5517633ca25",
   "metadata": {},
   "outputs": [
    {
     "data": {
      "text/plain": [
       "{'name': '갤럭시 S6',\n",
       " 'type': '삼성',\n",
       " 'img': 'http://itpaper.co.kr/demo/app/img/GalaxyS6.png'}"
      ]
     },
     "execution_count": 5,
     "metadata": {},
     "output_type": "execute_result"
    }
   ],
   "source": [
    "# JSON 형식의 문자열을 딕셔너리로 변환\n",
    "result = json.loads(r.text)\n",
    "result"
   ]
  },
  {
   "cell_type": "code",
   "execution_count": 7,
   "id": "15cf8223-8419-4e9a-a525-9cbdae658aa4",
   "metadata": {},
   "outputs": [
    {
     "data": {
      "text/html": [
       "<div>\n",
       "<style scoped>\n",
       "    .dataframe tbody tr th:only-of-type {\n",
       "        vertical-align: middle;\n",
       "    }\n",
       "\n",
       "    .dataframe tbody tr th {\n",
       "        vertical-align: top;\n",
       "    }\n",
       "\n",
       "    .dataframe thead th {\n",
       "        text-align: right;\n",
       "    }\n",
       "</style>\n",
       "<table border=\"1\" class=\"dataframe\">\n",
       "  <thead>\n",
       "    <tr style=\"text-align: right;\">\n",
       "      <th></th>\n",
       "      <th>name</th>\n",
       "      <th>type</th>\n",
       "      <th>img</th>\n",
       "    </tr>\n",
       "  </thead>\n",
       "  <tbody>\n",
       "    <tr>\n",
       "      <th>0</th>\n",
       "      <td>갤럭시 S6</td>\n",
       "      <td>삼성</td>\n",
       "      <td>http://itpaper.co.kr/demo/app/img/GalaxyS6.png</td>\n",
       "    </tr>\n",
       "  </tbody>\n",
       "</table>\n",
       "</div>"
      ],
      "text/plain": [
       "     name type                                             img\n",
       "0  갤럭시 S6   삼성  http://itpaper.co.kr/demo/app/img/GalaxyS6.png"
      ]
     },
     "execution_count": 7,
     "metadata": {},
     "output_type": "execute_result"
    }
   ],
   "source": [
    "# 딕셔너리를 데이터 프레임 형태로 변환\n",
    "\n",
    "data_list = [result]\n",
    "simple_df = pd.DataFrame(data_list)\n",
    "simple_df"
   ]
  },
  {
   "cell_type": "markdown",
   "id": "fa7165a2-1fa5-435c-97b1-3a0184279a40",
   "metadata": {},
   "source": [
    "#### 리스트 형식의 데이터를 포함하는 JSON"
   ]
  },
  {
   "cell_type": "code",
   "execution_count": 8,
   "id": "65afe98a-a01b-49b7-a3f9-b868ae69a869",
   "metadata": {},
   "outputs": [
    {
     "data": {
      "text/plain": [
       "{'grade_card': [{'이름': '철수',\n",
       "   '학년': 1,\n",
       "   '성별': '남자',\n",
       "   '국어': 98,\n",
       "   '영어': None,\n",
       "   '수학': 88,\n",
       "   '과학': 64},\n",
       "  {'이름': '영희', '학년': 2, '성별': '여자', '국어': 88, '영어': 90, '수학': 62, '과학': 72},\n",
       "  {'이름': '민수',\n",
       "   '학년': 1,\n",
       "   '성별': '남자',\n",
       "   '국어': 92,\n",
       "   '영어': 70,\n",
       "   '수학': None,\n",
       "   '과학': None},\n",
       "  {'이름': '수현', '학년': 3, '성별': '여자', '국어': 63, '영어': 60, '수학': 31, '과학': 70},\n",
       "  {'이름': '호영',\n",
       "   '학년': 4,\n",
       "   '성별': '남자',\n",
       "   '국어': 120,\n",
       "   '영어': 50,\n",
       "   '수학': None,\n",
       "   '과학': 88}]}"
      ]
     },
     "execution_count": 8,
     "metadata": {},
     "output_type": "execute_result"
    }
   ],
   "source": [
    "# 데이터 수집\n",
    "\n",
    "# JSON URL\n",
    "json_list_url = \"http://itpaper.co.kr/data/grade_card.json\"\n",
    "\n",
    "# 데이터 가져오기\n",
    "r = requests.get(json_list_url, headers=header_info)\n",
    "\n",
    "# 결과 검사 \n",
    "# 접속 성공/실패 여부 확인\n",
    "if r.status_code != 200:\n",
    "    # 에러코드와 에러메시지 출력\n",
    "    # 에러코드와 에러메시지를 문자열로 구성\n",
    "    err_msg = \"%d %s 에러가 발생했습니다.\" % (r.status_code, r.reason)\n",
    "    raise Exception(err_msg)\n",
    "    \n",
    "# 인코딩 형식 지정\n",
    "r.encoding = \"utf8\"\n",
    "\n",
    "# JSON 형식의 문자열을 딕셔너리로 변환\n",
    "result = json.loads(r.text)\n",
    "result"
   ]
  },
  {
   "cell_type": "code",
   "execution_count": 11,
   "id": "6e009e94-8fab-4357-8444-f210a50b5415",
   "metadata": {},
   "outputs": [
    {
     "data": {
      "text/html": [
       "<div>\n",
       "<style scoped>\n",
       "    .dataframe tbody tr th:only-of-type {\n",
       "        vertical-align: middle;\n",
       "    }\n",
       "\n",
       "    .dataframe tbody tr th {\n",
       "        vertical-align: top;\n",
       "    }\n",
       "\n",
       "    .dataframe thead th {\n",
       "        text-align: right;\n",
       "    }\n",
       "</style>\n",
       "<table border=\"1\" class=\"dataframe\">\n",
       "  <thead>\n",
       "    <tr style=\"text-align: right;\">\n",
       "      <th></th>\n",
       "      <th>이름</th>\n",
       "      <th>학년</th>\n",
       "      <th>성별</th>\n",
       "      <th>국어</th>\n",
       "      <th>영어</th>\n",
       "      <th>수학</th>\n",
       "      <th>과학</th>\n",
       "    </tr>\n",
       "  </thead>\n",
       "  <tbody>\n",
       "    <tr>\n",
       "      <th>0</th>\n",
       "      <td>철수</td>\n",
       "      <td>1</td>\n",
       "      <td>남자</td>\n",
       "      <td>98</td>\n",
       "      <td>NaN</td>\n",
       "      <td>88.0</td>\n",
       "      <td>64.0</td>\n",
       "    </tr>\n",
       "    <tr>\n",
       "      <th>1</th>\n",
       "      <td>영희</td>\n",
       "      <td>2</td>\n",
       "      <td>여자</td>\n",
       "      <td>88</td>\n",
       "      <td>90.0</td>\n",
       "      <td>62.0</td>\n",
       "      <td>72.0</td>\n",
       "    </tr>\n",
       "    <tr>\n",
       "      <th>2</th>\n",
       "      <td>민수</td>\n",
       "      <td>1</td>\n",
       "      <td>남자</td>\n",
       "      <td>92</td>\n",
       "      <td>70.0</td>\n",
       "      <td>NaN</td>\n",
       "      <td>NaN</td>\n",
       "    </tr>\n",
       "    <tr>\n",
       "      <th>3</th>\n",
       "      <td>수현</td>\n",
       "      <td>3</td>\n",
       "      <td>여자</td>\n",
       "      <td>63</td>\n",
       "      <td>60.0</td>\n",
       "      <td>31.0</td>\n",
       "      <td>70.0</td>\n",
       "    </tr>\n",
       "    <tr>\n",
       "      <th>4</th>\n",
       "      <td>호영</td>\n",
       "      <td>4</td>\n",
       "      <td>남자</td>\n",
       "      <td>120</td>\n",
       "      <td>50.0</td>\n",
       "      <td>NaN</td>\n",
       "      <td>88.0</td>\n",
       "    </tr>\n",
       "  </tbody>\n",
       "</table>\n",
       "</div>"
      ],
      "text/plain": [
       "   이름  학년  성별   국어    영어    수학    과학\n",
       "0  철수   1  남자   98   NaN  88.0  64.0\n",
       "1  영희   2  여자   88  90.0  62.0  72.0\n",
       "2  민수   1  남자   92  70.0   NaN   NaN\n",
       "3  수현   3  여자   63  60.0  31.0  70.0\n",
       "4  호영   4  남자  120  50.0   NaN  88.0"
      ]
     },
     "execution_count": 11,
     "metadata": {},
     "output_type": "execute_result"
    }
   ],
   "source": [
    "# 데이터 프레임으로 변환\n",
    "student_df = pd.DataFrame(result['grade_card'])\n",
    "student_df"
   ]
  },
  {
   "cell_type": "code",
   "execution_count": 13,
   "id": "859ac4c7-a56b-41af-85a0-42377e152895",
   "metadata": {},
   "outputs": [
    {
     "data": {
      "text/html": [
       "<div>\n",
       "<style scoped>\n",
       "    .dataframe tbody tr th:only-of-type {\n",
       "        vertical-align: middle;\n",
       "    }\n",
       "\n",
       "    .dataframe tbody tr th {\n",
       "        vertical-align: top;\n",
       "    }\n",
       "\n",
       "    .dataframe thead th {\n",
       "        text-align: right;\n",
       "    }\n",
       "</style>\n",
       "<table border=\"1\" class=\"dataframe\">\n",
       "  <thead>\n",
       "    <tr style=\"text-align: right;\">\n",
       "      <th></th>\n",
       "      <th>학년</th>\n",
       "      <th>성별</th>\n",
       "      <th>국어</th>\n",
       "      <th>영어</th>\n",
       "      <th>수학</th>\n",
       "      <th>과학</th>\n",
       "    </tr>\n",
       "    <tr>\n",
       "      <th>이름</th>\n",
       "      <th></th>\n",
       "      <th></th>\n",
       "      <th></th>\n",
       "      <th></th>\n",
       "      <th></th>\n",
       "      <th></th>\n",
       "    </tr>\n",
       "  </thead>\n",
       "  <tbody>\n",
       "    <tr>\n",
       "      <th>철수</th>\n",
       "      <td>1</td>\n",
       "      <td>남자</td>\n",
       "      <td>98</td>\n",
       "      <td>NaN</td>\n",
       "      <td>88.0</td>\n",
       "      <td>64.0</td>\n",
       "    </tr>\n",
       "    <tr>\n",
       "      <th>영희</th>\n",
       "      <td>2</td>\n",
       "      <td>여자</td>\n",
       "      <td>88</td>\n",
       "      <td>90.0</td>\n",
       "      <td>62.0</td>\n",
       "      <td>72.0</td>\n",
       "    </tr>\n",
       "    <tr>\n",
       "      <th>민수</th>\n",
       "      <td>1</td>\n",
       "      <td>남자</td>\n",
       "      <td>92</td>\n",
       "      <td>70.0</td>\n",
       "      <td>NaN</td>\n",
       "      <td>NaN</td>\n",
       "    </tr>\n",
       "    <tr>\n",
       "      <th>수현</th>\n",
       "      <td>3</td>\n",
       "      <td>여자</td>\n",
       "      <td>63</td>\n",
       "      <td>60.0</td>\n",
       "      <td>31.0</td>\n",
       "      <td>70.0</td>\n",
       "    </tr>\n",
       "    <tr>\n",
       "      <th>호영</th>\n",
       "      <td>4</td>\n",
       "      <td>남자</td>\n",
       "      <td>120</td>\n",
       "      <td>50.0</td>\n",
       "      <td>NaN</td>\n",
       "      <td>88.0</td>\n",
       "    </tr>\n",
       "  </tbody>\n",
       "</table>\n",
       "</div>"
      ],
      "text/plain": [
       "    학년  성별   국어    영어    수학    과학\n",
       "이름                               \n",
       "철수   1  남자   98   NaN  88.0  64.0\n",
       "영희   2  여자   88  90.0  62.0  72.0\n",
       "민수   1  남자   92  70.0   NaN   NaN\n",
       "수현   3  여자   63  60.0  31.0  70.0\n",
       "호영   4  남자  120  50.0   NaN  88.0"
      ]
     },
     "execution_count": 13,
     "metadata": {},
     "output_type": "execute_result"
    }
   ],
   "source": [
    "# 학생 이름을 인덱스로 지정\n",
    "성적표df = student_df.set_index(\"이름\")\n",
    "성적표df"
   ]
  },
  {
   "cell_type": "code",
   "execution_count": 21,
   "id": "4d0d89d6-3a96-4a80-9f9b-95203ccfda24",
   "metadata": {},
   "outputs": [
    {
     "data": {
      "text/html": [
       "<div>\n",
       "<style scoped>\n",
       "    .dataframe tbody tr th:only-of-type {\n",
       "        vertical-align: middle;\n",
       "    }\n",
       "\n",
       "    .dataframe tbody tr th {\n",
       "        vertical-align: top;\n",
       "    }\n",
       "\n",
       "    .dataframe thead th {\n",
       "        text-align: right;\n",
       "    }\n",
       "</style>\n",
       "<table border=\"1\" class=\"dataframe\">\n",
       "  <thead>\n",
       "    <tr style=\"text-align: right;\">\n",
       "      <th></th>\n",
       "      <th>학년</th>\n",
       "      <th>성별</th>\n",
       "      <th>국어</th>\n",
       "      <th>영어</th>\n",
       "      <th>수학</th>\n",
       "      <th>과학</th>\n",
       "      <th>평균</th>\n",
       "    </tr>\n",
       "    <tr>\n",
       "      <th>이름</th>\n",
       "      <th></th>\n",
       "      <th></th>\n",
       "      <th></th>\n",
       "      <th></th>\n",
       "      <th></th>\n",
       "      <th></th>\n",
       "      <th></th>\n",
       "    </tr>\n",
       "  </thead>\n",
       "  <tbody>\n",
       "    <tr>\n",
       "      <th>철수</th>\n",
       "      <td>1</td>\n",
       "      <td>남자</td>\n",
       "      <td>98</td>\n",
       "      <td>NaN</td>\n",
       "      <td>88.0</td>\n",
       "      <td>64.0</td>\n",
       "      <td>62.5</td>\n",
       "    </tr>\n",
       "    <tr>\n",
       "      <th>영희</th>\n",
       "      <td>2</td>\n",
       "      <td>여자</td>\n",
       "      <td>88</td>\n",
       "      <td>90.0</td>\n",
       "      <td>62.0</td>\n",
       "      <td>72.0</td>\n",
       "      <td>78.0</td>\n",
       "    </tr>\n",
       "    <tr>\n",
       "      <th>민수</th>\n",
       "      <td>1</td>\n",
       "      <td>남자</td>\n",
       "      <td>92</td>\n",
       "      <td>70.0</td>\n",
       "      <td>NaN</td>\n",
       "      <td>NaN</td>\n",
       "      <td>40.5</td>\n",
       "    </tr>\n",
       "    <tr>\n",
       "      <th>수현</th>\n",
       "      <td>3</td>\n",
       "      <td>여자</td>\n",
       "      <td>63</td>\n",
       "      <td>60.0</td>\n",
       "      <td>31.0</td>\n",
       "      <td>70.0</td>\n",
       "      <td>56.0</td>\n",
       "    </tr>\n",
       "    <tr>\n",
       "      <th>호영</th>\n",
       "      <td>4</td>\n",
       "      <td>남자</td>\n",
       "      <td>120</td>\n",
       "      <td>50.0</td>\n",
       "      <td>NaN</td>\n",
       "      <td>88.0</td>\n",
       "      <td>64.5</td>\n",
       "    </tr>\n",
       "  </tbody>\n",
       "</table>\n",
       "</div>"
      ],
      "text/plain": [
       "    학년  성별   국어    영어    수학    과학    평균\n",
       "이름                                     \n",
       "철수   1  남자   98   NaN  88.0  64.0  62.5\n",
       "영희   2  여자   88  90.0  62.0  72.0  78.0\n",
       "민수   1  남자   92  70.0   NaN   NaN  40.5\n",
       "수현   3  여자   63  60.0  31.0  70.0  56.0\n",
       "호영   4  남자  120  50.0   NaN  88.0  64.5"
      ]
     },
     "execution_count": 21,
     "metadata": {},
     "output_type": "execute_result"
    }
   ],
   "source": [
    "# 학생별 평균점수를 새로운 컬럼으로 추가\n",
    "\n",
    "성적표df2 = 성적표df.copy()\n",
    "\n",
    "성적표df2['평균'] = 성적표df[['국어', '영어', '수학', '과학']].fillna(0).mean(axis=1)\n",
    "성적표df2"
   ]
  },
  {
   "cell_type": "code",
   "execution_count": null,
   "id": "40ebc3a4-a752-4e63-8dd1-0d47d19cc04b",
   "metadata": {},
   "outputs": [],
   "source": []
  }
 ],
 "metadata": {
  "kernelspec": {
   "display_name": "Python 3 (ipykernel)",
   "language": "python",
   "name": "python3"
  },
  "language_info": {
   "codemirror_mode": {
    "name": "ipython",
    "version": 3
   },
   "file_extension": ".py",
   "mimetype": "text/x-python",
   "name": "python",
   "nbconvert_exporter": "python",
   "pygments_lexer": "ipython3",
   "version": "3.9.5"
  }
 },
 "nbformat": 4,
 "nbformat_minor": 5
}
