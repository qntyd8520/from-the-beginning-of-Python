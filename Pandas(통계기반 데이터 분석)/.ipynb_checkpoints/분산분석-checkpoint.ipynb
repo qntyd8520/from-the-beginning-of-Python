{
 "cells": [
  {
   "cell_type": "markdown",
   "id": "7ff2a55c-77e7-4a4c-8eb3-182720cad85c",
   "metadata": {},
   "source": [
    "### 일원분산분석\n",
    "\n",
    "- T-Test와 마찬가지로 종속변수와 독립변수가 각각 1개씩인 경우 수행한다.\n",
    "- T-Test의 경우 독립변수가 1개의 그룹이지만 분산분석은 독립변수가 명목형 값으로 여러 집단으로 구분될 수 있다. (groupby의 기준으로 사용될 수 있다는 의미)"
   ]
  },
  {
   "cell_type": "code",
   "execution_count": 5,
   "id": "30986ec1-6b49-402d-8460-e26ea2e2d8bb",
   "metadata": {},
   "outputs": [],
   "source": [
    "import pandas as pd\n",
    "from statsmodels.formula.api import ols\n",
    "from statsmodels.stats.anova import anova_lm\n",
    "\n",
    "from scipy.stats import shapiro\n",
    "from scipy.stats import levene\n",
    "from scipy.stats import bartlett\n",
    "from scipy.stats import ttest_ind\n",
    "\n",
    "from statsmodels.sandbox.stats.multicomp import MultiComparison\n",
    "from pingouin import pairwise_gameshowell\n",
    "from pingouin import welch_anova\n",
    "from pingouin import friedman"
   ]
  },
  {
   "cell_type": "code",
   "execution_count": 7,
   "id": "5aade0e5-6eff-43a3-9e5d-92fdbc24cd98",
   "metadata": {},
   "outputs": [
    {
     "data": {
      "text/html": [
       "<div>\n",
       "<style scoped>\n",
       "    .dataframe tbody tr th:only-of-type {\n",
       "        vertical-align: middle;\n",
       "    }\n",
       "\n",
       "    .dataframe tbody tr th {\n",
       "        vertical-align: top;\n",
       "    }\n",
       "\n",
       "    .dataframe thead th {\n",
       "        text-align: right;\n",
       "    }\n",
       "</style>\n",
       "<table border=\"1\" class=\"dataframe\">\n",
       "  <thead>\n",
       "    <tr style=\"text-align: right;\">\n",
       "      <th></th>\n",
       "      <th>weight</th>\n",
       "      <th>group</th>\n",
       "    </tr>\n",
       "  </thead>\n",
       "  <tbody>\n",
       "    <tr>\n",
       "      <th>0</th>\n",
       "      <td>4.17</td>\n",
       "      <td>ctrl</td>\n",
       "    </tr>\n",
       "    <tr>\n",
       "      <th>1</th>\n",
       "      <td>5.58</td>\n",
       "      <td>ctrl</td>\n",
       "    </tr>\n",
       "    <tr>\n",
       "      <th>2</th>\n",
       "      <td>5.18</td>\n",
       "      <td>ctrl</td>\n",
       "    </tr>\n",
       "    <tr>\n",
       "      <th>3</th>\n",
       "      <td>6.11</td>\n",
       "      <td>ctrl</td>\n",
       "    </tr>\n",
       "    <tr>\n",
       "      <th>4</th>\n",
       "      <td>4.50</td>\n",
       "      <td>ctrl</td>\n",
       "    </tr>\n",
       "  </tbody>\n",
       "</table>\n",
       "</div>"
      ],
      "text/plain": [
       "   weight group\n",
       "0    4.17  ctrl\n",
       "1    5.58  ctrl\n",
       "2    5.18  ctrl\n",
       "3    6.11  ctrl\n",
       "4    4.50  ctrl"
      ]
     },
     "execution_count": 7,
     "metadata": {},
     "output_type": "execute_result"
    }
   ],
   "source": [
    "df = pd.read_excel('http://itpaper.co.kr/data/group_weight.xlsx', engine='openpyxl')\n",
    "df.head()"
   ]
  },
  {
   "cell_type": "markdown",
   "id": "c0f4a989-cc37-4720-9ef7-8d0567500ebe",
   "metadata": {},
   "source": [
    "#### 데이터 전처리"
   ]
  },
  {
   "cell_type": "code",
   "execution_count": 8,
   "id": "0d14fe7a-4721-4a18-9d33-9f241f1b7b48",
   "metadata": {},
   "outputs": [
    {
     "data": {
      "text/plain": [
       "array(['ctrl', 'trt1', 'trt2'], dtype=object)"
      ]
     },
     "execution_count": 8,
     "metadata": {},
     "output_type": "execute_result"
    }
   ],
   "source": [
    "# 명목형 척도인 group 데이터의 종류 확인\n",
    "\n",
    "unique = df['group'].unique()\n",
    "unique"
   ]
  },
  {
   "cell_type": "code",
   "execution_count": 10,
   "id": "aac5bea9-56cd-48ab-ae0c-b75bffa195df",
   "metadata": {},
   "outputs": [
    {
     "data": {
      "text/plain": [
       "[1, 2, 3]\n",
       "Categories (3, int64): [1, 2, 3]"
      ]
     },
     "execution_count": 10,
     "metadata": {},
     "output_type": "execute_result"
    }
   ],
   "source": [
    "# 명목형 척도 데이터 라벨링\n",
    "\n",
    "df['group'] = df['group'].astype('category').cat.rename_categories({\n",
    "    'ctrl': 1,\n",
    "    'trt1': 2,\n",
    "    'trt2': 3\n",
    "})\n",
    "\n",
    "unique = df['group'].unique()\n",
    "unique"
   ]
  },
  {
   "cell_type": "markdown",
   "id": "9039685a-0620-48c9-ae3a-a9c2cde09af2",
   "metadata": {},
   "source": [
    "#### 분산분석의 가정 확인"
   ]
  },
  {
   "cell_type": "code",
   "execution_count": 12,
   "id": "be5887a1-dded-46c3-8bae-02edaa046c55",
   "metadata": {},
   "outputs": [
    {
     "name": "stdout",
     "output_type": "stream",
     "text": [
      "ShapiroResult(statistic=0.9566815495491028, pvalue=0.7474744915962219)\n",
      "1 수준의 검정통계량 : 0.96, p-value : 0.75\n",
      "\n",
      "ShapiroResult(statistic=0.9304108619689941, pvalue=0.451945960521698)\n",
      "2 수준의 검정통계량 : 0.93, p-value : 0.45\n",
      "\n",
      "ShapiroResult(statistic=0.9410051107406616, pvalue=0.5642509460449219)\n",
      "3 수준의 검정통계량 : 0.94, p-value : 0.56\n",
      "\n"
     ]
    }
   ],
   "source": [
    "for u in unique:\n",
    "    s = shapiro(df['weight'][df['group'] == u])\n",
    "    print(s)\n",
    "    print(\"%s 수준의 검정통계량 : %0.2f, p-value : %0.2f\\n\" % (u, s.statistic, s.pvalue))"
   ]
  },
  {
   "cell_type": "code",
   "execution_count": 13,
   "id": "6505e05b-76c5-4dc3-b745-303a67908c3b",
   "metadata": {},
   "outputs": [
    {
     "data": {
      "text/plain": [
       "LeveneResult(statistic=1.1191856948703909, pvalue=0.3412266241254737)"
      ]
     },
     "execution_count": 13,
     "metadata": {},
     "output_type": "execute_result"
    }
   ],
   "source": [
    "# 등분산성 확인(1) - 레빈검증\n",
    "\n",
    "levene(\n",
    "    df['weight'][df['group'] == 1],\n",
    "    df['weight'][df['group'] == 2],\n",
    "    df['weight'][df['group'] == 3]\n",
    ")"
   ]
  },
  {
   "cell_type": "code",
   "execution_count": 14,
   "id": "f3999303-6cca-4220-870d-dcedda422884",
   "metadata": {},
   "outputs": [
    {
     "data": {
      "text/plain": [
       "BartlettResult(statistic=2.8785737872360935, pvalue=0.23709677363455822)"
      ]
     },
     "execution_count": 14,
     "metadata": {},
     "output_type": "execute_result"
    }
   ],
   "source": [
    "# 등분산성 확인(2) - 바틀렛 검증\n",
    "\n",
    "bartlett(\n",
    "    df['weight'][df['group'] == 1],\n",
    "    df['weight'][df['group'] == 2],\n",
    "    df['weight'][df['group'] == 3]\n",
    ")"
   ]
  },
  {
   "cell_type": "markdown",
   "id": "6617e790-4f5a-457a-9bb0-20036ca68c7a",
   "metadata": {},
   "source": [
    "#### 탐색적 데이터 분석"
   ]
  },
  {
   "cell_type": "code",
   "execution_count": 15,
   "id": "0b4d024d-4f56-4566-b45b-89fef3f8d558",
   "metadata": {},
   "outputs": [
    {
     "data": {
      "text/html": [
       "<div>\n",
       "<style scoped>\n",
       "    .dataframe tbody tr th:only-of-type {\n",
       "        vertical-align: middle;\n",
       "    }\n",
       "\n",
       "    .dataframe tbody tr th {\n",
       "        vertical-align: top;\n",
       "    }\n",
       "\n",
       "    .dataframe thead th {\n",
       "        text-align: right;\n",
       "    }\n",
       "</style>\n",
       "<table border=\"1\" class=\"dataframe\">\n",
       "  <thead>\n",
       "    <tr style=\"text-align: right;\">\n",
       "      <th></th>\n",
       "      <th>weight</th>\n",
       "    </tr>\n",
       "    <tr>\n",
       "      <th>group</th>\n",
       "      <th></th>\n",
       "    </tr>\n",
       "  </thead>\n",
       "  <tbody>\n",
       "    <tr>\n",
       "      <th>1</th>\n",
       "      <td>10</td>\n",
       "    </tr>\n",
       "    <tr>\n",
       "      <th>2</th>\n",
       "      <td>10</td>\n",
       "    </tr>\n",
       "    <tr>\n",
       "      <th>3</th>\n",
       "      <td>10</td>\n",
       "    </tr>\n",
       "  </tbody>\n",
       "</table>\n",
       "</div>"
      ],
      "text/plain": [
       "       weight\n",
       "group        \n",
       "1          10\n",
       "2          10\n",
       "3          10"
      ]
     },
     "execution_count": 15,
     "metadata": {},
     "output_type": "execute_result"
    }
   ],
   "source": [
    "df.groupby('group').count()"
   ]
  },
  {
   "cell_type": "markdown",
   "id": "d3249ec4-e371-410f-9bac-2d07da553341",
   "metadata": {},
   "source": [
    "#### 일원분산분석 수행"
   ]
  },
  {
   "cell_type": "code",
   "execution_count": 17,
   "id": "af498fe4-df75-4df2-96ec-e085ea9345dd",
   "metadata": {},
   "outputs": [
    {
     "data": {
      "text/html": [
       "<div>\n",
       "<style scoped>\n",
       "    .dataframe tbody tr th:only-of-type {\n",
       "        vertical-align: middle;\n",
       "    }\n",
       "\n",
       "    .dataframe tbody tr th {\n",
       "        vertical-align: top;\n",
       "    }\n",
       "\n",
       "    .dataframe thead th {\n",
       "        text-align: right;\n",
       "    }\n",
       "</style>\n",
       "<table border=\"1\" class=\"dataframe\">\n",
       "  <thead>\n",
       "    <tr style=\"text-align: right;\">\n",
       "      <th></th>\n",
       "      <th>df</th>\n",
       "      <th>sum_sq</th>\n",
       "      <th>mean_sq</th>\n",
       "      <th>F</th>\n",
       "      <th>PR(&gt;F)</th>\n",
       "    </tr>\n",
       "  </thead>\n",
       "  <tbody>\n",
       "    <tr>\n",
       "      <th>C(group)</th>\n",
       "      <td>2.0</td>\n",
       "      <td>3.76634</td>\n",
       "      <td>1.883170</td>\n",
       "      <td>4.846088</td>\n",
       "      <td>0.01591</td>\n",
       "    </tr>\n",
       "    <tr>\n",
       "      <th>Residual</th>\n",
       "      <td>27.0</td>\n",
       "      <td>10.49209</td>\n",
       "      <td>0.388596</td>\n",
       "      <td>NaN</td>\n",
       "      <td>NaN</td>\n",
       "    </tr>\n",
       "  </tbody>\n",
       "</table>\n",
       "</div>"
      ],
      "text/plain": [
       "            df    sum_sq   mean_sq         F   PR(>F)\n",
       "C(group)   2.0   3.76634  1.883170  4.846088  0.01591\n",
       "Residual  27.0  10.49209  0.388596       NaN      NaN"
      ]
     },
     "execution_count": 17,
     "metadata": {},
     "output_type": "execute_result"
    }
   ],
   "source": [
    "model = ols('weight ~ C(group)', df)\n",
    "fit = model.fit()\n",
    "\n",
    "# 균형설계자료(집단간 표본수가 동일)인 경우\n",
    "anova_lm(fit)\n",
    "\n",
    "# 비균형설계자료(집단간 표본수가 상이)인 경우\n"
   ]
  },
  {
   "cell_type": "code",
   "execution_count": 18,
   "id": "39953300-eb00-42fa-b634-4a91ccf2471a",
   "metadata": {},
   "outputs": [
    {
     "data": {
      "text/html": [
       "<div>\n",
       "<style scoped>\n",
       "    .dataframe tbody tr th:only-of-type {\n",
       "        vertical-align: middle;\n",
       "    }\n",
       "\n",
       "    .dataframe tbody tr th {\n",
       "        vertical-align: top;\n",
       "    }\n",
       "\n",
       "    .dataframe thead th {\n",
       "        text-align: right;\n",
       "    }\n",
       "</style>\n",
       "<table border=\"1\" class=\"dataframe\">\n",
       "  <thead>\n",
       "    <tr style=\"text-align: right;\">\n",
       "      <th></th>\n",
       "      <th>Source</th>\n",
       "      <th>ddof1</th>\n",
       "      <th>ddof2</th>\n",
       "      <th>F</th>\n",
       "      <th>p-unc</th>\n",
       "      <th>np2</th>\n",
       "    </tr>\n",
       "  </thead>\n",
       "  <tbody>\n",
       "    <tr>\n",
       "      <th>0</th>\n",
       "      <td>group</td>\n",
       "      <td>2</td>\n",
       "      <td>17.128419</td>\n",
       "      <td>5.180972</td>\n",
       "      <td>0.017393</td>\n",
       "      <td>0.264148</td>\n",
       "    </tr>\n",
       "  </tbody>\n",
       "</table>\n",
       "</div>"
      ],
      "text/plain": [
       "  Source  ddof1      ddof2         F     p-unc       np2\n",
       "0  group      2  17.128419  5.180972  0.017393  0.264148"
      ]
     },
     "execution_count": 18,
     "metadata": {},
     "output_type": "execute_result"
    }
   ],
   "source": [
    "# Welch test 분석\n",
    "\n",
    "welch_anova(df, 'weight', 'group')"
   ]
  },
  {
   "cell_type": "markdown",
   "id": "02b24c2f-bf71-4588-93d9-2d3a6a9b5bdc",
   "metadata": {},
   "source": [
    "#### 사후분석"
   ]
  },
  {
   "cell_type": "code",
   "execution_count": 21,
   "id": "019a1a58-74f2-4006-ae96-5c10a93141c7",
   "metadata": {},
   "outputs": [
    {
     "name": "stdout",
     "output_type": "stream",
     "text": [
      "Multiple Comparison of Means - Tukey HSD, FWER=0.05\n",
      "===================================================\n",
      "group1 group2 meandiff p-adj   lower  upper  reject\n",
      "---------------------------------------------------\n",
      "     1      2   -0.371 0.3921 -1.0621 0.3201  False\n",
      "     1      3    0.494  0.198 -0.1971 1.1851  False\n",
      "     2      3    0.865  0.012  0.1739 1.5561   True\n",
      "---------------------------------------------------\n"
     ]
    }
   ],
   "source": [
    "# Tucky\n",
    "# 등분산을 충족하고 표본크기가 동일한 경우 사용한다.\n",
    "\n",
    "comp = MultiComparison(df['weight'], df['group'])\n",
    "print(comp.tukeyhsd().summary())"
   ]
  },
  {
   "cell_type": "code",
   "execution_count": 22,
   "id": "31fc88e8-9776-424a-9a26-a552274d6c7d",
   "metadata": {},
   "outputs": [
    {
     "name": "stdout",
     "output_type": "stream",
     "text": [
      "Test Multiple Comparison ttest_ind \n",
      "FWER=0.05 method=bonf\n",
      "alphacSidak=0.02, alphacBonf=0.017\n",
      "=============================================\n",
      "group1 group2   stat   pval  pval_corr reject\n",
      "---------------------------------------------\n",
      "     1      2  1.1913  0.249    0.7471  False\n",
      "     1      3  -2.134 0.0469    0.1406  False\n",
      "     2      3 -3.0101 0.0075    0.0226   True\n",
      "---------------------------------------------\n"
     ]
    }
   ],
   "source": [
    "# Bonferroni\n",
    "# 등분산을 충족하고 표본크기가 상이한 경우 사용한다.\n",
    "\n",
    "comp = MultiComparison(df[\"weight\"], df[\"group\"])\n",
    "print(comp.allpairtest(ttest_ind, method='bonf')[0])"
   ]
  },
  {
   "cell_type": "code",
   "execution_count": 23,
   "id": "6eaf84ca-7857-4142-aba1-98fca3f25c7a",
   "metadata": {},
   "outputs": [
    {
     "data": {
      "text/html": [
       "<div>\n",
       "<style scoped>\n",
       "    .dataframe tbody tr th:only-of-type {\n",
       "        vertical-align: middle;\n",
       "    }\n",
       "\n",
       "    .dataframe tbody tr th {\n",
       "        vertical-align: top;\n",
       "    }\n",
       "\n",
       "    .dataframe thead th {\n",
       "        text-align: right;\n",
       "    }\n",
       "</style>\n",
       "<table border=\"1\" class=\"dataframe\">\n",
       "  <thead>\n",
       "    <tr style=\"text-align: right;\">\n",
       "      <th></th>\n",
       "      <th>A</th>\n",
       "      <th>B</th>\n",
       "      <th>mean(A)</th>\n",
       "      <th>mean(B)</th>\n",
       "      <th>diff</th>\n",
       "      <th>se</th>\n",
       "      <th>T</th>\n",
       "      <th>df</th>\n",
       "      <th>pval</th>\n",
       "      <th>hedges</th>\n",
       "    </tr>\n",
       "  </thead>\n",
       "  <tbody>\n",
       "    <tr>\n",
       "      <th>0</th>\n",
       "      <td>1</td>\n",
       "      <td>2</td>\n",
       "      <td>5.032</td>\n",
       "      <td>4.661</td>\n",
       "      <td>0.371</td>\n",
       "      <td>0.311435</td>\n",
       "      <td>1.191260</td>\n",
       "      <td>16.523585</td>\n",
       "      <td>0.476052</td>\n",
       "      <td>0.510237</td>\n",
       "    </tr>\n",
       "    <tr>\n",
       "      <th>1</th>\n",
       "      <td>1</td>\n",
       "      <td>3</td>\n",
       "      <td>5.032</td>\n",
       "      <td>5.526</td>\n",
       "      <td>-0.494</td>\n",
       "      <td>0.231488</td>\n",
       "      <td>-2.134020</td>\n",
       "      <td>16.785764</td>\n",
       "      <td>0.112806</td>\n",
       "      <td>-0.914038</td>\n",
       "    </tr>\n",
       "    <tr>\n",
       "      <th>2</th>\n",
       "      <td>2</td>\n",
       "      <td>3</td>\n",
       "      <td>4.661</td>\n",
       "      <td>5.526</td>\n",
       "      <td>-0.865</td>\n",
       "      <td>0.287366</td>\n",
       "      <td>-3.010099</td>\n",
       "      <td>14.103569</td>\n",
       "      <td>0.023648</td>\n",
       "      <td>-1.289277</td>\n",
       "    </tr>\n",
       "  </tbody>\n",
       "</table>\n",
       "</div>"
      ],
      "text/plain": [
       "   A  B  mean(A)  mean(B)   diff        se         T         df      pval  \\\n",
       "0  1  2    5.032    4.661  0.371  0.311435  1.191260  16.523585  0.476052   \n",
       "1  1  3    5.032    5.526 -0.494  0.231488 -2.134020  16.785764  0.112806   \n",
       "2  2  3    4.661    5.526 -0.865  0.287366 -3.010099  14.103569  0.023648   \n",
       "\n",
       "     hedges  \n",
       "0  0.510237  \n",
       "1 -0.914038  \n",
       "2 -1.289277  "
      ]
     },
     "execution_count": 23,
     "metadata": {},
     "output_type": "execute_result"
    }
   ],
   "source": [
    "# Games Howell\n",
    "\n",
    "pairwise_gameshowell(data=df, dv='weight', between='group')"
   ]
  },
  {
   "cell_type": "markdown",
   "id": "53767079-3930-42b5-9339-81c928727eae",
   "metadata": {},
   "source": [
    "### 다원 분산분석\n",
    "\n",
    "- 집단을 구분하는 변수(즉, 요인)이 두 개일 때 이원분산분석(two-way ANOVA)라 함\n",
    "- 요인이 세 개이면, 삼원분산분석(three-way ANOVA)라 함\n",
    "- 일반적인 표현으로, 요인이 n개 일 때, 다원분산분석(n-way ANOVA)라고 함\n",
    "- 다원분산분석을 실시하는 주요 목적 중 하나는 **요인 간 상호작용**을 파악하기 위함임"
   ]
  },
  {
   "cell_type": "code",
   "execution_count": 24,
   "id": "fd626bc9-957e-446b-919a-7c03f34ec668",
   "metadata": {},
   "outputs": [
    {
     "data": {
      "text/html": [
       "<div>\n",
       "<style scoped>\n",
       "    .dataframe tbody tr th:only-of-type {\n",
       "        vertical-align: middle;\n",
       "    }\n",
       "\n",
       "    .dataframe tbody tr th {\n",
       "        vertical-align: top;\n",
       "    }\n",
       "\n",
       "    .dataframe thead th {\n",
       "        text-align: right;\n",
       "    }\n",
       "</style>\n",
       "<table border=\"1\" class=\"dataframe\">\n",
       "  <thead>\n",
       "    <tr style=\"text-align: right;\">\n",
       "      <th></th>\n",
       "      <th>score</th>\n",
       "      <th>subject</th>\n",
       "      <th>sex</th>\n",
       "    </tr>\n",
       "  </thead>\n",
       "  <tbody>\n",
       "    <tr>\n",
       "      <th>0</th>\n",
       "      <td>7.65</td>\n",
       "      <td>화학</td>\n",
       "      <td>남</td>\n",
       "    </tr>\n",
       "    <tr>\n",
       "      <th>1</th>\n",
       "      <td>8.04</td>\n",
       "      <td>화학</td>\n",
       "      <td>여</td>\n",
       "    </tr>\n",
       "    <tr>\n",
       "      <th>2</th>\n",
       "      <td>8.35</td>\n",
       "      <td>화학</td>\n",
       "      <td>남</td>\n",
       "    </tr>\n",
       "    <tr>\n",
       "      <th>3</th>\n",
       "      <td>9.36</td>\n",
       "      <td>화학</td>\n",
       "      <td>여</td>\n",
       "    </tr>\n",
       "    <tr>\n",
       "      <th>4</th>\n",
       "      <td>8.68</td>\n",
       "      <td>생물학</td>\n",
       "      <td>남</td>\n",
       "    </tr>\n",
       "    <tr>\n",
       "      <th>5</th>\n",
       "      <td>9.11</td>\n",
       "      <td>생물학</td>\n",
       "      <td>여</td>\n",
       "    </tr>\n",
       "    <tr>\n",
       "      <th>6</th>\n",
       "      <td>8.65</td>\n",
       "      <td>생물학</td>\n",
       "      <td>남</td>\n",
       "    </tr>\n",
       "    <tr>\n",
       "      <th>7</th>\n",
       "      <td>9.04</td>\n",
       "      <td>생물학</td>\n",
       "      <td>여</td>\n",
       "    </tr>\n",
       "    <tr>\n",
       "      <th>8</th>\n",
       "      <td>9.35</td>\n",
       "      <td>통계학</td>\n",
       "      <td>남</td>\n",
       "    </tr>\n",
       "    <tr>\n",
       "      <th>9</th>\n",
       "      <td>10.36</td>\n",
       "      <td>통계학</td>\n",
       "      <td>여</td>\n",
       "    </tr>\n",
       "    <tr>\n",
       "      <th>10</th>\n",
       "      <td>9.68</td>\n",
       "      <td>통계학</td>\n",
       "      <td>남</td>\n",
       "    </tr>\n",
       "    <tr>\n",
       "      <th>11</th>\n",
       "      <td>10.11</td>\n",
       "      <td>통계학</td>\n",
       "      <td>여</td>\n",
       "    </tr>\n",
       "  </tbody>\n",
       "</table>\n",
       "</div>"
      ],
      "text/plain": [
       "    score subject sex\n",
       "0    7.65      화학   남\n",
       "1    8.04      화학   여\n",
       "2    8.35      화학   남\n",
       "3    9.36      화학   여\n",
       "4    8.68     생물학   남\n",
       "5    9.11     생물학   여\n",
       "6    8.65     생물학   남\n",
       "7    9.04     생물학   여\n",
       "8    9.35     통계학   남\n",
       "9   10.36     통계학   여\n",
       "10   9.68     통계학   남\n",
       "11  10.11     통계학   여"
      ]
     },
     "execution_count": 24,
     "metadata": {},
     "output_type": "execute_result"
    }
   ],
   "source": [
    "df = pd.read_excel('http://itpaper.co.kr/data/subject_score.xlsx', engine='openpyxl')\n",
    "df"
   ]
  },
  {
   "cell_type": "markdown",
   "id": "c6106b61-1412-40bc-8d24-0c1f06464865",
   "metadata": {},
   "source": [
    "#### 명복형 변수에 대한 데이터 전처리"
   ]
  },
  {
   "cell_type": "code",
   "execution_count": 25,
   "id": "890941cf-348c-441e-9baa-196c58167877",
   "metadata": {},
   "outputs": [
    {
     "name": "stdout",
     "output_type": "stream",
     "text": [
      "['화학' '생물학' '통계학']\n",
      "['남' '여']\n"
     ]
    }
   ],
   "source": [
    "# 명목형 변수의 값 범위 확인\n",
    "\n",
    "print(df['subject'].unique())\n",
    "print(df['sex'].unique())\n"
   ]
  },
  {
   "cell_type": "code",
   "execution_count": 26,
   "id": "0f26d619-49d4-404e-a7da-e760b3812d08",
   "metadata": {},
   "outputs": [
    {
     "data": {
      "text/plain": [
       "[1, 2, 3]\n",
       "Categories (3, int64): [2, 3, 1]"
      ]
     },
     "execution_count": 26,
     "metadata": {},
     "output_type": "execute_result"
    }
   ],
   "source": [
    "# subject 변수 라벨링\n",
    "\n",
    "df['subject'] = df['subject'].astype('category').cat.rename_categories({\n",
    "    '화학':1,\n",
    "    '생물학': 2,\n",
    "    '통계학': 3\n",
    "})\n",
    "unique = df['subject'].unique()\n",
    "unique"
   ]
  },
  {
   "cell_type": "code",
   "execution_count": 28,
   "id": "03bec369-dec8-470f-abeb-e2dbd40a5a33",
   "metadata": {},
   "outputs": [
    {
     "data": {
      "text/plain": [
       "[1, 2]\n",
       "Categories (2, int64): [1, 2]"
      ]
     },
     "execution_count": 28,
     "metadata": {},
     "output_type": "execute_result"
    }
   ],
   "source": [
    "# sex 변수 라벨링\n",
    "\n",
    "df['sex'] = df['sex'].astype('category').cat.rename_categories({\n",
    "    '남': 1,\n",
    "    '여': 2\n",
    "})\n",
    "unique = df['sex'].unique()\n",
    "unique"
   ]
  },
  {
   "cell_type": "markdown",
   "id": "bb250d33-8377-4edd-bb0d-32204625a4ce",
   "metadata": {},
   "source": [
    "#### 분산분석의 가정 확인"
   ]
  },
  {
   "cell_type": "code",
   "execution_count": 30,
   "id": "611ebfe7-f67e-44e1-92a6-52786abb9bd3",
   "metadata": {},
   "outputs": [
    {
     "name": "stdout",
     "output_type": "stream",
     "text": [
      "subject:1 ShapiroResult(statistic=0.9369971752166748, pvalue=0.6361038088798523)\n",
      "===================================\n",
      "subject:1 수준의 검정통계량: 0.94, p-value: 0.64\n",
      "-----------------------------------\n",
      "[O] 정규성을 충족함\n",
      "-----------------------------------\n",
      "\n",
      "subject:2 ShapiroResult(statistic=0.8268603086471558, pvalue=0.15976187586784363)\n",
      "===================================\n",
      "subject:2 수준의 검정통계량: 0.83, p-value: 0.16\n",
      "-----------------------------------\n",
      "[O] 정규성을 충족함\n",
      "-----------------------------------\n",
      "\n",
      "subject:3 ShapiroResult(statistic=0.9704317450523376, pvalue=0.8441552519798279)\n",
      "===================================\n",
      "subject:3 수준의 검정통계량: 0.97, p-value: 0.84\n",
      "-----------------------------------\n",
      "[O] 정규성을 충족함\n",
      "-----------------------------------\n",
      "\n",
      "sex:1 ShapiroResult(statistic=0.968191385269165, pvalue=0.8800725340843201)\n",
      "===================================\n",
      "sex:1 수준의 검정통계량: 0.97, p-value: 0.88\n",
      "-----------------------------------\n",
      "[O] 정규성을 충족함\n",
      "-----------------------------------\n",
      "\n",
      "sex:2 ShapiroResult(statistic=0.9493709206581116, pvalue=0.7351844906806946)\n",
      "===================================\n",
      "sex:2 수준의 검정통계량: 0.95, p-value: 0.74\n",
      "-----------------------------------\n",
      "[O] 정규성을 충족함\n",
      "-----------------------------------\n",
      "\n"
     ]
    }
   ],
   "source": [
    "# 정규성 확인\n",
    "\n",
    "def my_shapiro(df, yname):\n",
    "    x = list(df.columns)\n",
    "    x.remove(yname)\n",
    "    \n",
    "    for i in x:\n",
    "        for u in df[i].unique():\n",
    "            s = shapiro(df[yname][df[i]==u])\n",
    "            print(\"%s:%s\" % (i, u), end=\" \")\n",
    "            print(s)\n",
    "            print(\"=\" * 35)\n",
    "            print(\"%s:%s 수준의 검정통계량: %0.2f, p-value: %0.2f\" \n",
    "                    % (i, u, s.statistic, s.pvalue))\n",
    "            print(\"-\" * 35)\n",
    "            if s.pvalue > 0.05:\n",
    "                print(\"[O] 정규성을 충족함\")\n",
    "            else:\n",
    "                print(\"[X] 정규성을 충족하지 않음\")\n",
    "            print(\"-\" * 35)\n",
    "            print()\n",
    "            \n",
    "my_shapiro(df, 'score')"
   ]
  },
  {
   "cell_type": "code",
   "execution_count": 31,
   "id": "0bb93137-a8dc-499f-81d8-252fbad4e38e",
   "metadata": {},
   "outputs": [
    {
     "name": "stdout",
     "output_type": "stream",
     "text": [
      "score:subject LeveneResult(statistic=1.048524844720501, pvalue=0.3896345000717708)\n",
      "===================================\n",
      "score:subject Levene 검증에 의한 등분산성 확인: 1.049, p-value: 0.390\n",
      "-----------------------------------\n",
      "[O] 등분산성을 충족함\n",
      "-----------------------------------\n",
      "\n",
      "score:subject BartlettResult(statistic=2.882917819786306, pvalue=0.2365823544491079)\n",
      "===================================\n",
      "score:subject Bartlett 검증에 의한 등분산성 확인: 2.883, p-value: 0.237\n",
      "-----------------------------------\n",
      "[O] 등분산성을 충족함\n",
      "-----------------------------------\n",
      "\n",
      "score:sex LeveneResult(statistic=0.6792116915291777, pvalue=0.6147981638189439)\n",
      "===================================\n",
      "score:sex Levene 검증에 의한 등분산성 확인: 0.679, p-value: 0.615\n",
      "-----------------------------------\n",
      "[O] 등분산성을 충족함\n",
      "-----------------------------------\n",
      "\n",
      "score:sex BartlettResult(statistic=4.4767071809458905, pvalue=0.3453183475458815)\n",
      "===================================\n",
      "score:sex Bartlett 검증에 의한 등분산성 확인: 4.477, p-value: 0.345\n",
      "-----------------------------------\n",
      "[O] 등분산성을 충족함\n",
      "-----------------------------------\n",
      "\n"
     ]
    }
   ],
   "source": [
    "# 등분산성 검정\n",
    "\n",
    "def my_hmvar(df, yname):\n",
    "    x = list(df.columns)\n",
    "    x.remove(yname)\n",
    "    \n",
    "    params = []\n",
    "    for i in x:\n",
    "        u = list(df[i].unique())\n",
    "        \n",
    "        for j in u:\n",
    "            params.append(df[yname][df[i] == j])\n",
    "        \n",
    "        lev = levene(*params)\n",
    "        print(\"%s:%s\" % (yname, i), end=\" \")\n",
    "        print(lev)\n",
    "        print(\"=\" * 35)\n",
    "        print(\"%s:%s Levene 검증에 의한 등분산성 확인: %0.3f, p-value: %0.3f\" \n",
    "                    % (yname, i, lev.statistic, lev.pvalue))\n",
    "        print(\"-\" * 35)\n",
    "        \n",
    "        if lev.pvalue > 0.05:\n",
    "            print(\"[O] 등분산성을 충족함\")\n",
    "        else:\n",
    "            print(\"[X] 등분산성을 충족하지 않음\")\n",
    "        print(\"-\" * 35)\n",
    "        print()\n",
    "        \n",
    "        lev = bartlett(*params)\n",
    "        print(\"%s:%s\" % (yname, i), end=\" \")\n",
    "        print(lev)\n",
    "        print(\"=\" * 35)\n",
    "        print(\"%s:%s Bartlett 검증에 의한 등분산성 확인: %0.3f, p-value: %0.3f\" \n",
    "                    % (yname, i, lev.statistic, lev.pvalue))\n",
    "        print(\"-\" * 35)\n",
    "        \n",
    "        if lev.pvalue > 0.05:\n",
    "            print(\"[O] 등분산성을 충족함\")\n",
    "        else:\n",
    "            print(\"[X] 등분산성을 충족하지 않음\")\n",
    "        print(\"-\" * 35)\n",
    "        print()\n",
    "        \n",
    "my_hmvar(df, 'score')"
   ]
  },
  {
   "cell_type": "markdown",
   "id": "3f3d185c-76bb-41cd-aa78-8790d6ebba5c",
   "metadata": {},
   "source": [
    "#### EDA"
   ]
  },
  {
   "cell_type": "code",
   "execution_count": 32,
   "id": "f6b03571-1f40-46f2-aa76-50514333b445",
   "metadata": {},
   "outputs": [
    {
     "name": "stdout",
     "output_type": "stream",
     "text": [
      "group by subject\n",
      "===================================\n",
      "         score  sex\n",
      "subject            \n",
      "2            4    4\n",
      "3            4    4\n",
      "1            4    4\n",
      "-----------------------------------\n",
      "[O] 집단별 표본수 동일\n",
      "\n",
      "group by sex\n",
      "===================================\n",
      "     score  subject\n",
      "sex                \n",
      "1        6        6\n",
      "2        6        6\n",
      "-----------------------------------\n",
      "[O] 집단별 표본수 동일\n",
      "\n",
      "group by ['subject', 'sex']\n",
      "===================================\n",
      "             score\n",
      "subject sex       \n",
      "2       1        2\n",
      "        2        2\n",
      "3       1        2\n",
      "        2        2\n",
      "1       1        2\n",
      "        2        2\n",
      "-----------------------------------\n",
      "[O] 집단별 표본수 동일\n",
      "\n"
     ]
    }
   ],
   "source": [
    "# 각각의 변수가 균형잡힌 설계 자료인지 확인\n",
    "\n",
    "def my_group_count(df, yname):\n",
    "    x = list(df.columns)\n",
    "    x.remove(yname)\n",
    "    x1 = x[:]\n",
    "    x.append(x1)\n",
    "    \n",
    "    for i in x:\n",
    "        tmp = df.groupby(i).count()\n",
    "        tmp_values = tmp[tmp.columns[-1]].unique()\n",
    "        print('group by', i)\n",
    "        print(\"=\" * 35)\n",
    "        print(tmp)\n",
    "        print(\"-\" * 35)\n",
    "        \n",
    "        if len(tmp_values) > 1:\n",
    "            print(\"[X] 집단별 표본수 상이\")\n",
    "        else:\n",
    "            print(\"[O] 집단별 표본수 동일\")\n",
    "                \n",
    "        print()\n",
    "    \n",
    "my_group_count(df, 'score')"
   ]
  },
  {
   "cell_type": "markdown",
   "id": "d8454463-486f-42fd-bfd8-6fb942bbb5c6",
   "metadata": {},
   "source": [
    "#### 이원분산분석"
   ]
  },
  {
   "cell_type": "code",
   "execution_count": 33,
   "id": "f941f643-8dd7-476b-a0b1-f52e882a97bf",
   "metadata": {},
   "outputs": [
    {
     "data": {
      "text/html": [
       "<div>\n",
       "<style scoped>\n",
       "    .dataframe tbody tr th:only-of-type {\n",
       "        vertical-align: middle;\n",
       "    }\n",
       "\n",
       "    .dataframe tbody tr th {\n",
       "        vertical-align: top;\n",
       "    }\n",
       "\n",
       "    .dataframe thead th {\n",
       "        text-align: right;\n",
       "    }\n",
       "</style>\n",
       "<table border=\"1\" class=\"dataframe\">\n",
       "  <thead>\n",
       "    <tr style=\"text-align: right;\">\n",
       "      <th></th>\n",
       "      <th>df</th>\n",
       "      <th>sum_sq</th>\n",
       "      <th>mean_sq</th>\n",
       "      <th>F</th>\n",
       "      <th>PR(&gt;F)</th>\n",
       "    </tr>\n",
       "  </thead>\n",
       "  <tbody>\n",
       "    <tr>\n",
       "      <th>C(subject)</th>\n",
       "      <td>2.0</td>\n",
       "      <td>4.808067</td>\n",
       "      <td>2.404033</td>\n",
       "      <td>11.972278</td>\n",
       "      <td>0.008045</td>\n",
       "    </tr>\n",
       "    <tr>\n",
       "      <th>C(sex)</th>\n",
       "      <td>1.0</td>\n",
       "      <td>1.116300</td>\n",
       "      <td>1.116300</td>\n",
       "      <td>5.559263</td>\n",
       "      <td>0.056453</td>\n",
       "    </tr>\n",
       "    <tr>\n",
       "      <th>C(subject):C(sex)</th>\n",
       "      <td>2.0</td>\n",
       "      <td>0.060200</td>\n",
       "      <td>0.030100</td>\n",
       "      <td>0.149900</td>\n",
       "      <td>0.863920</td>\n",
       "    </tr>\n",
       "    <tr>\n",
       "      <th>Residual</th>\n",
       "      <td>6.0</td>\n",
       "      <td>1.204800</td>\n",
       "      <td>0.200800</td>\n",
       "      <td>NaN</td>\n",
       "      <td>NaN</td>\n",
       "    </tr>\n",
       "  </tbody>\n",
       "</table>\n",
       "</div>"
      ],
      "text/plain": [
       "                    df    sum_sq   mean_sq          F    PR(>F)\n",
       "C(subject)         2.0  4.808067  2.404033  11.972278  0.008045\n",
       "C(sex)             1.0  1.116300  1.116300   5.559263  0.056453\n",
       "C(subject):C(sex)  2.0  0.060200  0.030100   0.149900  0.863920\n",
       "Residual           6.0  1.204800  0.200800        NaN       NaN"
      ]
     },
     "execution_count": 33,
     "metadata": {},
     "output_type": "execute_result"
    }
   ],
   "source": [
    "# 이원분산분석 수행\n",
    "\n",
    "model = ols('score ~ C(subject) * C(sex)', df)\n",
    "fit = model.fit()\n",
    "\n",
    "# 균형설계자료인 경우\n",
    "anova_lm(fit)\n",
    "# 비균형설계자료인 경우\n",
    "#anova_lm(fit,typ=3)"
   ]
  },
  {
   "cell_type": "code",
   "execution_count": 34,
   "id": "5ebe9cb3-460a-4771-a94b-2a62953b7ff0",
   "metadata": {},
   "outputs": [
    {
     "data": {
      "text/html": [
       "<div>\n",
       "<style scoped>\n",
       "    .dataframe tbody tr th:only-of-type {\n",
       "        vertical-align: middle;\n",
       "    }\n",
       "\n",
       "    .dataframe tbody tr th {\n",
       "        vertical-align: top;\n",
       "    }\n",
       "\n",
       "    .dataframe thead th {\n",
       "        text-align: right;\n",
       "    }\n",
       "</style>\n",
       "<table border=\"1\" class=\"dataframe\">\n",
       "  <thead>\n",
       "    <tr style=\"text-align: right;\">\n",
       "      <th></th>\n",
       "      <th>Source</th>\n",
       "      <th>W</th>\n",
       "      <th>ddof1</th>\n",
       "      <th>Q</th>\n",
       "      <th>p-unc</th>\n",
       "    </tr>\n",
       "  </thead>\n",
       "  <tbody>\n",
       "    <tr>\n",
       "      <th>Friedman</th>\n",
       "      <td>subject</td>\n",
       "      <td>1.0</td>\n",
       "      <td>2</td>\n",
       "      <td>4.0</td>\n",
       "      <td>0.135335</td>\n",
       "    </tr>\n",
       "  </tbody>\n",
       "</table>\n",
       "</div>"
      ],
      "text/plain": [
       "           Source    W  ddof1    Q     p-unc\n",
       "Friedman  subject  1.0      2  4.0  0.135335"
      ]
     },
     "execution_count": 34,
     "metadata": {},
     "output_type": "execute_result"
    }
   ],
   "source": [
    "# friedman test 수행\n",
    "\n",
    "friedman(data=df, dv='score', within='subject', subject='sex')"
   ]
  },
  {
   "cell_type": "code",
   "execution_count": null,
   "id": "fa21eff6-c381-4aa6-badf-b76781862edb",
   "metadata": {},
   "outputs": [],
   "source": []
  }
 ],
 "metadata": {
  "kernelspec": {
   "display_name": "Python 3 (ipykernel)",
   "language": "python",
   "name": "python3"
  },
  "language_info": {
   "codemirror_mode": {
    "name": "ipython",
    "version": 3
   },
   "file_extension": ".py",
   "mimetype": "text/x-python",
   "name": "python",
   "nbconvert_exporter": "python",
   "pygments_lexer": "ipython3",
   "version": "3.9.5"
  }
 },
 "nbformat": 4,
 "nbformat_minor": 5
}
