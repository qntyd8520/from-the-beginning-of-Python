{
 "cells": [
  {
   "cell_type": "code",
   "execution_count": 5,
   "id": "d79ed23e-79b9-4e49-8069-7aea8b314991",
   "metadata": {},
   "outputs": [],
   "source": [
    "import numpy as np\n",
    "from scipy import stats"
   ]
  },
  {
   "cell_type": "markdown",
   "id": "64f2b6f8-61fb-467b-a681-a66376c76e49",
   "metadata": {},
   "source": [
    "### 단일표본 T-test"
   ]
  },
  {
   "cell_type": "code",
   "execution_count": 9,
   "id": "7407e0c8-fae1-4401-954e-30e771af7ed5",
   "metadata": {},
   "outputs": [
    {
     "data": {
      "text/plain": [
       "array([167, 179, 169, 172, 180, 178, 178, 163, 169, 174, 163, 181, 167,\n",
       "       178, 175, 165, 175, 167, 178, 179])"
      ]
     },
     "execution_count": 9,
     "metadata": {},
     "output_type": "execute_result"
    }
   ],
   "source": [
    "# 학생 키에 대한 리스트 구성 ( 랜덤 배치 )\n",
    "\n",
    "height_list = np.random.randint(low=162, high=182, size=20)\n",
    "height_list"
   ]
  },
  {
   "cell_type": "code",
   "execution_count": 10,
   "id": "ea607bdd-040d-4f4b-9e81-965c18520707",
   "metadata": {},
   "outputs": [
    {
     "data": {
      "text/plain": [
       "Ttest_1sampResult(statistic=3.577130534210188, pvalue=0.002010349081274129)"
      ]
     },
     "execution_count": 10,
     "metadata": {},
     "output_type": "execute_result"
    }
   ],
   "source": [
    "# T-test 수행\n",
    "\n",
    "tTestResult = stats.ttest_1samp(height_list, 168)\n",
    "tTestResult"
   ]
  },
  {
   "cell_type": "code",
   "execution_count": 13,
   "id": "535993d5-84bb-4255-b26e-772265353c26",
   "metadata": {},
   "outputs": [
    {
     "name": "stdout",
     "output_type": "stream",
     "text": [
      "t검정 통계량 = 3.577, pvalue = 0.002\n"
     ]
    }
   ],
   "source": [
    "# 결과 확인\n",
    "\n",
    "print('t검정 통계량 = %.3f, pvalue = %.3f'%(tTestResult))\n",
    "# pvalue가 0.05보다 작다 즉 유의성이있음으로 대립가설을 채택한다"
   ]
  },
  {
   "cell_type": "markdown",
   "id": "4da0a466-c4f8-4a16-aeaf-56fef8ce0491",
   "metadata": {},
   "source": [
    "### 독립표본 T-test"
   ]
  },
  {
   "cell_type": "code",
   "execution_count": 15,
   "id": "1575ad24-5e69-476e-a55a-d373dbbe4c50",
   "metadata": {},
   "outputs": [
    {
     "data": {
      "text/plain": [
       "array([162, 168, 169, 165, 166, 168, 162, 172, 157, 173, 158, 169, 164,\n",
       "       170, 163, 175, 177, 162, 175, 177])"
      ]
     },
     "execution_count": 15,
     "metadata": {},
     "output_type": "execute_result"
    }
   ],
   "source": [
    "# 첫 번째 집단의 키 샘플링 하기\n",
    "\n",
    "np.random.seed(1)\n",
    "group1Heights = np.random.randint(low=157, high=178, size=20)\n",
    "group1Heights"
   ]
  },
  {
   "cell_type": "code",
   "execution_count": 16,
   "id": "a98f2e6d-fac7-49f9-91b6-113e000afb83",
   "metadata": {},
   "outputs": [
    {
     "data": {
      "text/plain": [
       "array([173, 172, 176, 180, 166, 171, 179, 162, 175, 171, 171, 169, 163,\n",
       "       162, 179, 170, 175, 181, 177, 172])"
      ]
     },
     "execution_count": 16,
     "metadata": {},
     "output_type": "execute_result"
    }
   ],
   "source": [
    "# 두 번째 집단의 키 샘플링 하기\n",
    "\n",
    "group2Heights = np.random.randint(low=162, high=182, size=20)\n",
    "group2Heights"
   ]
  },
  {
   "cell_type": "code",
   "execution_count": 17,
   "id": "784ddb8b-129b-491b-8684-19b8c42df468",
   "metadata": {},
   "outputs": [
    {
     "data": {
      "text/plain": [
       "Ttest_indResult(statistic=-2.466231851659976, pvalue=0.01827995629176634)"
      ]
     },
     "execution_count": 17,
     "metadata": {},
     "output_type": "execute_result"
    }
   ],
   "source": [
    "# Case1 - 두 집단의 평균 키차이가 없다\n",
    "\n",
    "tTestResult= stats.ttest_ind(group1Heights, group2Heights)\n",
    "tTestResult"
   ]
  },
  {
   "cell_type": "code",
   "execution_count": 19,
   "id": "276c2b46-8778-47fb-ae1c-5526983d21ca",
   "metadata": {},
   "outputs": [
    {
     "data": {
      "text/plain": [
       "Ttest_indResult(statistic=-2.466231851659976, pvalue=0.00913997814588317)"
      ]
     },
     "execution_count": 19,
     "metadata": {},
     "output_type": "execute_result"
    }
   ],
   "source": [
    "# Case2 - 두 집단의 평균 키차이가 있다.\n",
    "\n",
    "# 대립가설 (alternative값에 따라 group1Height와 group2Height가 어떻게 다른지에 대한 해석)\n",
    "# two-sided : 단순히 같지 않다.\n",
    "# less : group1Heights가 group2Heights보다 작다.\n",
    "# greater: group1Heights가 group2Heights보다 크다.\n",
    "tTestResult= stats.ttest_ind(group1Heights, group2Heights, alternative = \"less\")\n",
    "tTestResult"
   ]
  },
  {
   "cell_type": "markdown",
   "id": "7a0b72a1-d20d-42eb-ab37-a398f1f940f4",
   "metadata": {},
   "source": [
    "### 대응 표본 T-test"
   ]
  },
  {
   "cell_type": "code",
   "execution_count": 21,
   "id": "592906ef-45c8-4ff7-a26e-9637870943f1",
   "metadata": {},
   "outputs": [
    {
     "data": {
      "text/plain": [
       "array([85, 68, 67, 63, 66, 81, 77, 85, 63, 64, 84, 77, 71, 72, 86, 80, 76,\n",
       "       73, 79, 69])"
      ]
     },
     "execution_count": 21,
     "metadata": {},
     "output_type": "execute_result"
    }
   ],
   "source": [
    "# 보조제 복용전 몸무게 랜덤 생성\n",
    "\n",
    "# 복용전 몸무게에 대한 랜덤 값 배치\n",
    "beforeWeights = np.random.randint(low=60, high=90, size=20)\n",
    "beforeWeights"
   ]
  },
  {
   "cell_type": "code",
   "execution_count": 23,
   "id": "db40a69c-1187-44a4-b795-e4f321c12a35",
   "metadata": {},
   "outputs": [
    {
     "data": {
      "text/plain": [
       "array([82.98080726, 66.00254606, 64.98602892, 61.0445099 , 64.02536459,\n",
       "       78.97215636, 74.96152336, 82.98017817, 60.99238778, 62.01495533,\n",
       "       82.02635355, 74.9733418 , 69.0136908 , 69.97488035, 83.99006547,\n",
       "       77.99341448, 74.0000238 , 71.00614585, 77.00367074, 67.0110595 ])"
      ]
     },
     "execution_count": 23,
     "metadata": {},
     "output_type": "execute_result"
    }
   ],
   "source": [
    "# 보조제 복용 후 몸무게를 가정한 데이터 생성\n",
    "\n",
    "# 복용 후 몸무게를 가정한 데이터 변조\n",
    "tmp_list = []\n",
    "for i in beforeWeights:\n",
    "    tmp_list.append(i - np.random.normal(2, 0.02))\n",
    "    \n",
    "afterWeights = np.array(tmp_list)\n",
    "afterWeights"
   ]
  },
  {
   "cell_type": "code",
   "execution_count": 24,
   "id": "811b974d-2f07-4c2d-8450-3000413db181",
   "metadata": {},
   "outputs": [
    {
     "data": {
      "text/plain": [
       "Ttest_relResult(statistic=422.03198729685283, pvalue=3.334491000484102e-39)"
      ]
     },
     "execution_count": 24,
     "metadata": {},
     "output_type": "execute_result"
    }
   ],
   "source": [
    "# Case1 - 복용 전후의 몸무게가 같은지 다른지 확인\n",
    "\n",
    "tTestResult= stats.ttest_rel(beforeWeights, afterWeights)\n",
    "tTestResult"
   ]
  },
  {
   "cell_type": "code",
   "execution_count": 25,
   "id": "aee46ff8-a694-469e-949c-794de9007b02",
   "metadata": {},
   "outputs": [
    {
     "data": {
      "text/plain": [
       "Ttest_relResult(statistic=422.03198729685283, pvalue=1.667245500242051e-39)"
      ]
     },
     "execution_count": 25,
     "metadata": {},
     "output_type": "execute_result"
    }
   ],
   "source": [
    "# Case2 - 대립가설 : 복용전이 복용후 보다 크다\n",
    "\n",
    "tTestResult= stats.ttest_rel(beforeWeights, afterWeights, alternative='greater')\n",
    "tTestResult"
   ]
  },
  {
   "cell_type": "code",
   "execution_count": 26,
   "id": "452b44fe-16cf-4e1a-a758-0e6e35df7d04",
   "metadata": {},
   "outputs": [
    {
     "data": {
      "text/plain": [
       "Ttest_relResult(statistic=422.03198729685283, pvalue=1.0)"
      ]
     },
     "execution_count": 26,
     "metadata": {},
     "output_type": "execute_result"
    }
   ],
   "source": [
    "# Case3 - 대립가설 : 복용 전의 몸무게가 복용후 보다 작다.\n",
    "\n",
    "tTestResult= stats.ttest_rel(beforeWeights, afterWeights, alternative='less')\n",
    "tTestResult"
   ]
  },
  {
   "cell_type": "markdown",
   "id": "edc7c378-4022-49a1-a954-fe5bee134d80",
   "metadata": {},
   "source": [
    "### 독립 표본 T-test의 정규성과 등분산성"
   ]
  },
  {
   "cell_type": "code",
   "execution_count": 27,
   "id": "3f7b8ac7-7867-4d9b-a9c5-d502c80e114d",
   "metadata": {},
   "outputs": [],
   "source": [
    "# 데이터 정의하기\n",
    "\n",
    "nonsmokers = [18, 22, 21, 17, 20, 17, 23, 20, 22, 21]\n",
    "smokers = [16, 20, 14, 21, 20, 18, 13, 15, 17, 21]"
   ]
  },
  {
   "cell_type": "code",
   "execution_count": 28,
   "id": "a7beb7a4-bfc2-42e7-895e-a804926e7470",
   "metadata": {},
   "outputs": [
    {
     "name": "stdout",
     "output_type": "stream",
     "text": [
      "ShapiroResult(statistic=0.9119927883148193, pvalue=0.2949617803096771)\n",
      "ShapiroResult(statistic=0.9194088578224182, pvalue=0.35205063223838806)\n"
     ]
    }
   ],
   "source": [
    "# 정규성 검정\n",
    "# pvalue 값이 0.05보다 크면 정규성을 만족한다고 본다.\n",
    "\n",
    "# 정규성 검정 (Shapiro-Wilk normality test)\n",
    "normal1 = stats.shapiro(nonsmokers)\n",
    "normal2 = stats.shapiro(smokers)\n",
    "print(normal1)\n",
    "print(normal2)"
   ]
  },
  {
   "cell_type": "code",
   "execution_count": 29,
   "id": "2384d097-db9f-4fcd-af4b-98ce9381c330",
   "metadata": {},
   "outputs": [
    {
     "data": {
      "text/plain": [
       "LeveneResult(statistic=1.945945945945946, pvalue=0.18000074963498305)"
      ]
     },
     "execution_count": 29,
     "metadata": {},
     "output_type": "execute_result"
    }
   ],
   "source": [
    "# 두 데이터의 등분산성 검정 ( Case1 )\n",
    "# pvalue값이 0.05보다 크면 등분산성을 만족한다고 본다.\n",
    "\n",
    "levene = stats.levene(nonsmokers, smokers)\n",
    "levene"
   ]
  },
  {
   "cell_type": "code",
   "execution_count": 33,
   "id": "96c80f92-aac6-431b-8c4c-cff4ba458391",
   "metadata": {},
   "outputs": [
    {
     "data": {
      "text/plain": [
       "BartlettResult(statistic=0.8904487989220573, pvalue=0.3453557166446204)"
      ]
     },
     "execution_count": 33,
     "metadata": {},
     "output_type": "execute_result"
    }
   ],
   "source": [
    "# 두 데이터의 등분산성 검정 ( Case2 )\n",
    "# pvalue값이 0.05보다 크면 등분산성을 만족한다고 본다.\n",
    "\n",
    "bartlett = stats.bartlett(nonsmokers, smokers)\n",
    "bartlett"
   ]
  },
  {
   "cell_type": "code",
   "execution_count": 34,
   "id": "f1e5f4eb-a700-4d40-b1e5-7470bf223b1c",
   "metadata": {},
   "outputs": [
    {
     "data": {
      "text/plain": [
       "Ttest_indResult(statistic=2.2573164126756087, pvalue=0.036652255899794484)"
      ]
     },
     "execution_count": 34,
     "metadata": {},
     "output_type": "execute_result"
    }
   ],
   "source": [
    "# 독립표본 T-test 수행하기\n",
    "# pvalue값이 0.05보다 크면 등분산성을 만족한다고 본다.\n",
    "\n",
    "tTestResult = stats.ttest_ind(nonsmokers, smokers)\n",
    "tTestResult"
   ]
  },
  {
   "cell_type": "code",
   "execution_count": null,
   "id": "eb3c034a-a6db-4e43-894f-fc34becb25ed",
   "metadata": {},
   "outputs": [],
   "source": []
  }
 ],
 "metadata": {
  "kernelspec": {
   "display_name": "Python 3 (ipykernel)",
   "language": "python",
   "name": "python3"
  },
  "language_info": {
   "codemirror_mode": {
    "name": "ipython",
    "version": 3
   },
   "file_extension": ".py",
   "mimetype": "text/x-python",
   "name": "python",
   "nbconvert_exporter": "python",
   "pygments_lexer": "ipython3",
   "version": "3.9.5"
  }
 },
 "nbformat": 4,
 "nbformat_minor": 5
}
